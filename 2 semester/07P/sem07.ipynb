{
 "cells": [
  {
   "cell_type": "markdown",
   "id": "bbf560ca-07fb-4555-b3e7-441c5e4c289d",
   "metadata": {},
   "source": [
    "Зарегистрируйтесь на kaggle.com (можно просто использовать аккаунт почты). Скачайте датасет [E-Commerce Shipping Data](https://www.kaggle.com/datasets/prachi13/customer-analytics). "
   ]
  },
  {
   "cell_type": "markdown",
   "id": "a8be82cd-41ae-4a75-84c5-9f378c92ab8c",
   "metadata": {},
   "source": [
    "#### Задача 1. \n",
    "\n",
    "Изучите содержимое датасета. Проверим, что описание на каггле правильное: какие в датасете есть колонки, какие у них уникальные значения, есть ли пропуски?"
   ]
  },
  {
   "cell_type": "code",
   "execution_count": null,
   "id": "ebf56981-a2a4-45e2-8ecc-ffcbba31b01f",
   "metadata": {},
   "outputs": [],
   "source": [
    "# your code here"
   ]
  },
  {
   "cell_type": "markdown",
   "id": "bb464368-a342-4f50-8595-5a219511f5da",
   "metadata": {},
   "source": [
    "#### Задача 2.\n",
    "\n",
    "Замените значения в колонке с важностью продукта на цифровые. Примените OHE к колонке Mode_of_Shipment. Удалите колонку с ID."
   ]
  },
  {
   "cell_type": "code",
   "execution_count": null,
   "id": "9f6fd958-6143-4e9b-be15-70ccbd8b222e",
   "metadata": {},
   "outputs": [],
   "source": [
    "# your code here"
   ]
  },
  {
   "cell_type": "markdown",
   "id": "0b7eeb5d-9489-4fa8-80ae-4e689636a504",
   "metadata": {},
   "source": [
    "#### Задача 3. \n",
    "\n",
    "Сгруппируйте таблицу по важности продукта. "
   ]
  },
  {
   "cell_type": "code",
   "execution_count": null,
   "id": "67b32a85-9996-430d-aaa7-3de3595f883d",
   "metadata": {},
   "outputs": [],
   "source": [
    "# your code here"
   ]
  },
  {
   "cell_type": "markdown",
   "id": "0fa23d5e-9815-4736-8563-720588c1786c",
   "metadata": {},
   "source": [
    "#### Агрегирование\n",
    "\n",
    "Теперь поработаем с другим датасетом. "
   ]
  },
  {
   "cell_type": "code",
   "execution_count": null,
   "id": "d6c5b870-f00b-48d9-8e99-0605c27265e7",
   "metadata": {},
   "outputs": [],
   "source": [
    "df = pd.read_excel(\"https://github.com/dm-fedorov/pandas_basic/raw/master/%D0%B1%D1%8B%D1%81%D1%82%D1%80%D0%BE%D0%B5%20%D0%B2%D0%B2%D0%B5%D0%B4%D0%B5%D0%BD%D0%B8%D0%B5%20%D0%B2%20pandas/data/salesfunnel.xlsx\")\n",
    "df.head()"
   ]
  }
 ],
 "metadata": {
  "kernelspec": {
   "display_name": "Python 3 (ipykernel)",
   "language": "python",
   "name": "python3"
  },
  "language_info": {
   "codemirror_mode": {
    "name": "ipython",
    "version": 3
   },
   "file_extension": ".py",
   "mimetype": "text/x-python",
   "name": "python",
   "nbconvert_exporter": "python",
   "pygments_lexer": "ipython3",
   "version": "3.8.10"
  }
 },
 "nbformat": 4,
 "nbformat_minor": 5
}
