{
 "cells": [
  {
   "cell_type": "markdown",
   "id": "79068ba3-788a-4f3c-b256-b41238beff07",
   "metadata": {},
   "source": [
    "#### Задача 1.\n",
    "\n",
    "Возьмите достаточно большой текст на любом языке, который есть в UD. Сделайте морфоразбор этого текста и запишите в формате .conllu, как полагается. Отрисуйте с помощью любого понравившегося инструмента (арборатор, conllu-viewer) пару предложений. "
   ]
  },
  {
   "cell_type": "code",
   "execution_count": null,
   "id": "0f2f8f76-9d4d-4f3a-ae94-2934d8644bc9",
   "metadata": {},
   "outputs": [],
   "source": [
    "# your code here"
   ]
  }
 ],
 "metadata": {
  "kernelspec": {
   "display_name": "Python 3 (ipykernel)",
   "language": "python",
   "name": "python3"
  },
  "language_info": {
   "codemirror_mode": {
    "name": "ipython",
    "version": 3
   },
   "file_extension": ".py",
   "mimetype": "text/x-python",
   "name": "python",
   "nbconvert_exporter": "python",
   "pygments_lexer": "ipython3",
   "version": "3.8.10"
  }
 },
 "nbformat": 4,
 "nbformat_minor": 5
}
