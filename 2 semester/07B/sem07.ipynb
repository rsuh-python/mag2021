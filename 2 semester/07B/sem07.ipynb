{
 "cells": [
  {
   "cell_type": "markdown",
   "id": "9b921ef9-0cfb-4353-841c-8c98f183ed1f",
   "metadata": {
    "tags": []
   },
   "source": [
    "#### Задача 1.\n",
    "\n",
    "Возьмите любой понравившийся (достаточно большой) англоязычный текст и создайте из него свой объект класса Text. \n",
    "1. Посмотрите любые интересующие слова в этом тексте: их вхождения, похожие контексты, постройте графики распределения. \n",
    "2. Сгенерируйте текст в стиле вашего текста. \n",
    "3. Сравните этот текст с девятью стандартными по лексическому разнообразию и длине. "
   ]
  },
  {
   "cell_type": "code",
   "execution_count": null,
   "id": "1ed21a81-b95f-4a15-893b-0a7c5611dead",
   "metadata": {},
   "outputs": [],
   "source": [
    "# your code here"
   ]
  },
  {
   "cell_type": "markdown",
   "id": "a30f8cf7-d38a-4e70-b470-b5d76fdf339f",
   "metadata": {},
   "source": [
    "#### Задача 2.\n",
    "\n",
    "Сделайте автоматический морфоразбор вашего текста с помощью парсеров nltk. "
   ]
  },
  {
   "cell_type": "code",
   "execution_count": null,
   "id": "0dedb870-33f6-4f43-ad51-01b229d49a53",
   "metadata": {},
   "outputs": [],
   "source": [
    "# your code here"
   ]
  },
  {
   "cell_type": "markdown",
   "id": "fb00e5ac-d87d-4139-b12d-f7df89c14fbf",
   "metadata": {},
   "source": [
    "#### Задача 3. \n",
    "\n",
    "1. Загрузите модель для выбранного вами языка. \n",
    "2. Возьмите любой текст на этом языке (лучше небольшой, пару абзацев). Выведите для каждого токена в этом тексте его часть речи, синтаксическое отношение и токен-вершину.\n",
    "3. Посмотрите, есть ли в этом тексте именованные сущности и какие. "
   ]
  },
  {
   "cell_type": "code",
   "execution_count": null,
   "id": "7db0e067-9e2d-422c-acde-8c5635aa4910",
   "metadata": {},
   "outputs": [],
   "source": [
    "# your code here"
   ]
  },
  {
   "cell_type": "markdown",
   "id": "96ab9e3b-1181-4249-8e36-5cc94a1162f7",
   "metadata": {},
   "source": [
    "#### Задача 4.\n",
    "\n",
    "Обработайте ваш текст (или можно взять другой, на другом языке) с помощью corpy и посмотрите леммы, части речи и грамматическую информацию для него. "
   ]
  },
  {
   "cell_type": "code",
   "execution_count": null,
   "id": "77d38b22-6fa1-4f51-82d7-f83898ba81bd",
   "metadata": {},
   "outputs": [],
   "source": [
    "# your code here"
   ]
  }
 ],
 "metadata": {
  "kernelspec": {
   "display_name": "Python 3 (ipykernel)",
   "language": "python",
   "name": "python3"
  },
  "language_info": {
   "codemirror_mode": {
    "name": "ipython",
    "version": 3
   },
   "file_extension": ".py",
   "mimetype": "text/x-python",
   "name": "python",
   "nbconvert_exporter": "python",
   "pygments_lexer": "ipython3",
   "version": "3.8.10"
  }
 },
 "nbformat": 4,
 "nbformat_minor": 5
}
