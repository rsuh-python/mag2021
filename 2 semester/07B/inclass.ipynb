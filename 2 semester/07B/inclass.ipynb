{
 "cells": [
  {
   "cell_type": "code",
   "execution_count": 2,
   "id": "2ede7aea-3721-40c8-9448-8bcc57e667ea",
   "metadata": {},
   "outputs": [
    {
     "name": "stdout",
     "output_type": "stream",
     "text": [
      "*** Introductory Examples for the NLTK Book ***\n",
      "Loading text1, ..., text9 and sent1, ..., sent9\n",
      "Type the name of the text or sentence to view it.\n",
      "Type: 'texts()' or 'sents()' to list the materials.\n",
      "text1: Moby Dick by Herman Melville 1851\n",
      "text2: Sense and Sensibility by Jane Austen 1811\n",
      "text3: The Book of Genesis\n",
      "text4: Inaugural Address Corpus\n",
      "text5: Chat Corpus\n",
      "text6: Monty Python and the Holy Grail\n",
      "text7: Wall Street Journal\n",
      "text8: Personals Corpus\n",
      "text9: The Man Who Was Thursday by G . K . Chesterton 1908\n"
     ]
    }
   ],
   "source": [
    "import nltk\n",
    "from nltk.book import *"
   ]
  },
  {
   "cell_type": "code",
   "execution_count": 3,
   "id": "eaf87e40-8b21-43dd-8257-6a1d2f80597f",
   "metadata": {},
   "outputs": [
    {
     "name": "stdout",
     "output_type": "stream",
     "text": [
      "text1: Moby Dick by Herman Melville 1851\n",
      "text2: Sense and Sensibility by Jane Austen 1811\n",
      "text3: The Book of Genesis\n",
      "text4: Inaugural Address Corpus\n",
      "text5: Chat Corpus\n",
      "text6: Monty Python and the Holy Grail\n",
      "text7: Wall Street Journal\n",
      "text8: Personals Corpus\n",
      "text9: The Man Who Was Thursday by G . K . Chesterton 1908\n"
     ]
    }
   ],
   "source": [
    "texts()"
   ]
  },
  {
   "cell_type": "code",
   "execution_count": 4,
   "id": "8e273091-21b8-4219-8b44-c55ab6ae1780",
   "metadata": {},
   "outputs": [
    {
     "name": "stdout",
     "output_type": "stream",
     "text": [
      "sent1: Call me Ishmael .\n",
      "sent2: The family of Dashwood had long been settled in Sussex .\n",
      "sent3: In the beginning God created the heaven and the earth .\n",
      "sent4: Fellow - Citizens of the Senate and of the House of Representatives :\n",
      "sent5: I have a problem with people PMing me to lol JOIN\n",
      "sent6: SCENE 1 : [ wind ] [ clop clop clop ] KING ARTHUR : Whoa there !\n",
      "sent7: Pierre Vinken , 61 years old , will join the board as a nonexecutive director Nov. 29 .\n",
      "sent8: 25 SEXY MALE , seeks attrac older single lady , for discreet encounters .\n",
      "sent9: THE suburb of Saffron Park lay on the sunset side of London , as red and ragged as a cloud of sunset .\n"
     ]
    }
   ],
   "source": [
    "sents()"
   ]
  },
  {
   "cell_type": "code",
   "execution_count": 5,
   "id": "748b3b2e-ab9d-48c5-aa3f-3be4e71810f9",
   "metadata": {},
   "outputs": [
    {
     "data": {
      "text/plain": [
       "nltk.text.Text"
      ]
     },
     "execution_count": 5,
     "metadata": {},
     "output_type": "execute_result"
    }
   ],
   "source": [
    "# Text()\n",
    "type(text1)"
   ]
  },
  {
   "cell_type": "code",
   "execution_count": 6,
   "id": "0275da6c-f1c0-42c9-b2dd-1f5b4deb2bd9",
   "metadata": {},
   "outputs": [
    {
     "data": {
      "text/plain": [
       "'Moby'"
      ]
     },
     "execution_count": 6,
     "metadata": {},
     "output_type": "execute_result"
    }
   ],
   "source": [
    "text1[1]"
   ]
  },
  {
   "cell_type": "code",
   "execution_count": 7,
   "id": "36511497-f81a-40c7-becb-fcdbcb482dbd",
   "metadata": {},
   "outputs": [
    {
     "data": {
      "text/plain": [
       "['Moby', 'Dick', 'by', 'Herman', 'Melville', '1851', ']', 'ETYMOLOGY', '.']"
      ]
     },
     "execution_count": 7,
     "metadata": {},
     "output_type": "execute_result"
    }
   ],
   "source": [
    "text1[1:10]"
   ]
  },
  {
   "cell_type": "code",
   "execution_count": 8,
   "id": "3f1bb42e-d234-4889-9c67-6db40067effa",
   "metadata": {},
   "outputs": [
    {
     "data": {
      "text/plain": [
       "260819"
      ]
     },
     "execution_count": 8,
     "metadata": {},
     "output_type": "execute_result"
    }
   ],
   "source": [
    "len(text1)"
   ]
  },
  {
   "cell_type": "code",
   "execution_count": 9,
   "id": "e9041c58-479b-4724-93e1-67c8165ebb75",
   "metadata": {},
   "outputs": [
    {
     "data": {
      "text/plain": [
       "['Call', 'me', 'Ishmael', '.']"
      ]
     },
     "execution_count": 9,
     "metadata": {},
     "output_type": "execute_result"
    }
   ],
   "source": [
    "sent1"
   ]
  },
  {
   "cell_type": "code",
   "execution_count": 11,
   "id": "72f2d93a-88cd-467a-8abd-f7b515382457",
   "metadata": {},
   "outputs": [
    {
     "name": "stdout",
     "output_type": "stream",
     "text": [
      "Displaying 5 of 84 matches:\n",
      "[ Moby Dick by Herman Melville 1851 ] ETYMO\n",
      "hale must be the same that some call Moby Dick .\" \" Moby Dick ?\" shouted Ahab \n",
      "e same that some call Moby Dick .\" \" Moby Dick ?\" shouted Ahab . \" Do ye know \n",
      "all . Death and devils ! men , it is Moby Dick ye have seen -- Moby Dick -- Mo\n",
      "en , it is Moby Dick ye have seen -- Moby Dick -- Moby Dick !\" \" Captain Ahab \n"
     ]
    }
   ],
   "source": [
    "text1.concordance('Moby', width=79, lines=5)"
   ]
  },
  {
   "cell_type": "code",
   "execution_count": 15,
   "id": "d16275e7-03f7-4842-bf93-6c50b2886f93",
   "metadata": {},
   "outputs": [
    {
     "name": "stdout",
     "output_type": "stream",
     "text": [
      "the_' the_, the_. a_' the_; the_was the_had the_is -_, the_to\n"
     ]
    }
   ],
   "source": [
    "text1.common_contexts(['ship', 'whale'], num=10)"
   ]
  },
  {
   "cell_type": "code",
   "execution_count": 14,
   "id": "382799ae-3b59-4f18-8045-ac421620f0ef",
   "metadata": {},
   "outputs": [
    {
     "name": "stdout",
     "output_type": "stream",
     "text": [
      "ship boat sea man captain whales time water head world fish one line\n",
      "men thing other side leviathan mast boats\n"
     ]
    }
   ],
   "source": [
    "text1.similar('whale', num=20)"
   ]
  },
  {
   "cell_type": "code",
   "execution_count": 16,
   "id": "b27a7ba7-536e-48c2-8b15-62cd05ed6e0c",
   "metadata": {},
   "outputs": [
    {
     "data": {
      "text/plain": [
       "906"
      ]
     },
     "execution_count": 16,
     "metadata": {},
     "output_type": "execute_result"
    }
   ],
   "source": [
    "text1.count('whale')"
   ]
  },
  {
   "cell_type": "code",
   "execution_count": 17,
   "id": "960959b5-c98a-4ff1-b1de-d5dcc8b21a5b",
   "metadata": {},
   "outputs": [
    {
     "name": "stderr",
     "output_type": "stream",
     "text": [
      "Building ngram index...\n"
     ]
    },
    {
     "name": "stdout",
     "output_type": "stream",
     "text": [
      "long , from one to the top - mast , and no coffin and went out a sea\n",
      "captain -- this peaking of the whales . , so as to preserve all his\n",
      "might had in former years abounding with them , they toil with their\n",
      "lances , strange tales of Southern whaling . at once the bravest\n",
      "Indians he was , after in vain strove to pierce the profundity . ?\n",
      "then ?\" a levelled flame of pale , And give no chance , watch him ;\n",
      "though the line , it is to be gainsaid . have been\n"
     ]
    },
    {
     "data": {
      "text/plain": [
       "'long , from one to the top - mast , and no coffin and went out a sea\\ncaptain -- this peaking of the whales . , so as to preserve all his\\nmight had in former years abounding with them , they toil with their\\nlances , strange tales of Southern whaling . at once the bravest\\nIndians he was , after in vain strove to pierce the profundity . ?\\nthen ?\" a levelled flame of pale , And give no chance , watch him ;\\nthough the line , it is to be gainsaid . have been'"
      ]
     },
     "execution_count": 17,
     "metadata": {},
     "output_type": "execute_result"
    }
   ],
   "source": [
    "text1.generate()"
   ]
  },
  {
   "cell_type": "code",
   "execution_count": 18,
   "id": "e5d53014-5d09-47f2-8034-a9c3ac1fc4f2",
   "metadata": {},
   "outputs": [],
   "source": [
    "from nltk.util import ngrams # bigrams"
   ]
  },
  {
   "cell_type": "code",
   "execution_count": 21,
   "id": "ceaeeb4f-a59d-447c-a54d-826e3580f6d1",
   "metadata": {},
   "outputs": [
    {
     "data": {
      "text/plain": [
       "[('THE', 'suburb'),\n",
       " ('suburb', 'of'),\n",
       " ('of', 'Saffron'),\n",
       " ('Saffron', 'Park'),\n",
       " ('Park', 'lay'),\n",
       " ('lay', 'on'),\n",
       " ('on', 'the'),\n",
       " ('the', 'sunset'),\n",
       " ('sunset', 'side'),\n",
       " ('side', 'of'),\n",
       " ('of', 'London'),\n",
       " ('London', ','),\n",
       " (',', 'as'),\n",
       " ('as', 'red'),\n",
       " ('red', 'and'),\n",
       " ('and', 'ragged'),\n",
       " ('ragged', 'as'),\n",
       " ('as', 'a'),\n",
       " ('a', 'cloud'),\n",
       " ('cloud', 'of'),\n",
       " ('of', 'sunset'),\n",
       " ('sunset', '.')]"
      ]
     },
     "execution_count": 21,
     "metadata": {},
     "output_type": "execute_result"
    }
   ],
   "source": [
    "list(ngrams(sent9, 2))"
   ]
  },
  {
   "cell_type": "code",
   "execution_count": 22,
   "id": "f895fa52-eddc-4302-b62f-314eb973fc9f",
   "metadata": {},
   "outputs": [
    {
     "name": "stdout",
     "output_type": "stream",
     "text": [
      "Sperm Whale; Moby Dick; White Whale; old man; Captain Ahab; sperm\n",
      "whale; Right Whale; Captain Peleg; New Bedford; Cape Horn; cried Ahab;\n",
      "years ago; lower jaw; never mind; Father Mapple; cried Stubb; chief\n",
      "mate; white whale; ivory leg; one hand\n"
     ]
    }
   ],
   "source": [
    "text1.collocations()"
   ]
  },
  {
   "cell_type": "code",
   "execution_count": 23,
   "id": "9110025c-c929-4f82-92c7-b4e331705ecb",
   "metadata": {},
   "outputs": [],
   "source": [
    "raw = open('warpeace.txt').read()"
   ]
  },
  {
   "cell_type": "code",
   "execution_count": 24,
   "id": "1263cbc7-001c-413a-8140-92d207530197",
   "metadata": {},
   "outputs": [],
   "source": [
    "from nltk import sent_tokenize, word_tokenize"
   ]
  },
  {
   "cell_type": "code",
   "execution_count": 25,
   "id": "a6bae194-6992-424a-8287-19d4a486f216",
   "metadata": {},
   "outputs": [],
   "source": [
    "tokens = word_tokenize(raw)"
   ]
  },
  {
   "cell_type": "code",
   "execution_count": 26,
   "id": "a6df3b23-1a40-4aa8-8126-27158d6a9134",
   "metadata": {},
   "outputs": [],
   "source": [
    "text10 = Text(tokens)"
   ]
  },
  {
   "cell_type": "code",
   "execution_count": 28,
   "id": "54df5333-d71a-4287-94d9-db7227c743c1",
   "metadata": {},
   "outputs": [
    {
     "data": {
      "text/plain": [
       "625"
      ]
     },
     "execution_count": 28,
     "metadata": {},
     "output_type": "execute_result"
    }
   ],
   "source": [
    "text10.count('Пьер')"
   ]
  },
  {
   "cell_type": "code",
   "execution_count": 29,
   "id": "678e7389-2790-45de-93c0-0f063b6168a9",
   "metadata": {},
   "outputs": [
    {
     "data": {
      "text/plain": [
       "307279"
      ]
     },
     "execution_count": 29,
     "metadata": {},
     "output_type": "execute_result"
    }
   ],
   "source": [
    "len(text10)"
   ]
  },
  {
   "cell_type": "code",
   "execution_count": 30,
   "id": "f01a6cb3-2bcb-432d-a486-85817ff1962e",
   "metadata": {},
   "outputs": [
    {
     "name": "stdout",
     "output_type": "stream",
     "text": [
      "Displaying 25 of 625 matches:\n",
      "ственного месту . Хотя действительно Пьер был несколько больше других мужчин в\n",
      "- Очень мило с вашей стороны , мосье Пьер , что вы приехали навестить бедную б\n",
      "шкой , к которой она подводила его . Пьер пробурлил что-то непонятное и продол\n",
      "авловны был не напрасен , потому что Пьер , не дослушав речи тетушки о здоровь\n",
      "я к своим занятиям хозяйки дома , но Пьер сделал обратную неучтивость . Прежде\n",
      "дете такое равновесие ? – начал было Пьер ; но в это время подошла Анна Павлов\n",
      "язь Андрей зажмурился и отвернулся . Пьер , со времени входа князя Андрея в го\n",
      "– Я знал , что вы будете , – отвечал Пьер . – Я приеду к вам ужинать , – приба\n",
      " еще светлее на ее прекрасном лице . Пьер смотрел почти испуганными , восторже\n",
      "ал князь Андрей . – Очень , – сказал Пьер . Проходя мимо , князь Василий схват\n",
      "… Он пожал плечами и развел руками . Пьер хотел было сказать что-то : разговор\n",
      " краснея , опять вмешался в разговор Пьер , – почти все дворянство перешло уже\n",
      "бкой оценить этих слов виконта , как Пьер опять ворвался в разговор , и Анна П\n",
      "Казнь герцога Энгиенского , – сказал Пьер , – была государственная необходимос\n",
      " ’ & # 226 ; me ? [ 73 - Как , мосье Пьер , вы видите в убийстве величие души \n",
      "енке . Виконт только пожал плечами . Пьер торжественно посмотрел сверх очков н\n",
      "столу ? – сказала Анна Павловна . Но Пьер , не отвечая , продолжал свою речь .\n",
      "была великое дело , – продолжал мсье Пьер , выказывая этим отчаянным и вызываю\n",
      "rre , [ 76 - Но , мой любезный мосье Пьер . ] – сказала Анна Павловна , – как \n",
      "те . ] – сказал князь Ипполит . Мсье Пьер не знал , кому отвечать , оглянул вс\n",
      "– Да , да , разумеется , – подхватил Пьер , обрадованный выступавшею ему подмо\n",
      " вечер . ] гости стали расходиться . Пьер был неуклюж . Толстый , выше обыкнов\n",
      "емените свои мнения , мой милый мсье Пьер , – сказала она . Когда она сказала \n",
      "ешавшему ему пройти . – Я тебя жду , Пьер , – ласково и нежно проговорил тот ж\n",
      "французских . Надо уметь взяться . ] Пьер , приехав вперед , как домашний чело\n"
     ]
    }
   ],
   "source": [
    "text10.concordance('Пьер')"
   ]
  },
  {
   "cell_type": "code",
   "execution_count": 31,
   "id": "ae9e9ed5-f125-4567-bfe2-3d3dbe19fd4f",
   "metadata": {},
   "outputs": [
    {
     "data": {
      "image/png": "[encoded data removed]",
      "text/plain": [
       "<Figure size 432x288 with 1 Axes>"
      ]
     },
     "metadata": {
      "needs_background": "light"
     },
     "output_type": "display_data"
    }
   ],
   "source": [
    "text10.dispersion_plot(['Пьер', 'Андрей', 'Наташа'])"
   ]
  },
  {
   "cell_type": "code",
   "execution_count": null,
   "id": "83d98c7c-7949-4ee4-ae76-77f6920f0830",
   "metadata": {},
   "outputs": [],
   "source": []
  }
 ],
 "metadata": {
  "kernelspec": {
   "display_name": "Python 3 (ipykernel)",
   "language": "python",
   "name": "python3"
  },
  "language_info": {
   "codemirror_mode": {
    "name": "ipython",
    "version": 3
   },
   "file_extension": ".py",
   "mimetype": "text/x-python",
   "name": "python",
   "nbconvert_exporter": "python",
   "pygments_lexer": "ipython3",
   "version": "3.8.10"
  }
 },
 "nbformat": 4,
 "nbformat_minor": 5
}
