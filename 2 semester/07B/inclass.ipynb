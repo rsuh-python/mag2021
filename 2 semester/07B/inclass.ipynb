{
 "cells": [
  {
   "cell_type": "code",
   "execution_count": 2,
   "id": "2ede7aea-3721-40c8-9448-8bcc57e667ea",
   "metadata": {},
   "outputs": [
    {
     "name": "stdout",
     "output_type": "stream",
     "text": [
      "*** Introductory Examples for the NLTK Book ***\n",
      "Loading text1, ..., text9 and sent1, ..., sent9\n",
      "Type the name of the text or sentence to view it.\n",
      "Type: 'texts()' or 'sents()' to list the materials.\n",
      "text1: Moby Dick by Herman Melville 1851\n",
      "text2: Sense and Sensibility by Jane Austen 1811\n",
      "text3: The Book of Genesis\n",
      "text4: Inaugural Address Corpus\n",
      "text5: Chat Corpus\n",
      "text6: Monty Python and the Holy Grail\n",
      "text7: Wall Street Journal\n",
      "text8: Personals Corpus\n",
      "text9: The Man Who Was Thursday by G . K . Chesterton 1908\n"
     ]
    }
   ],
   "source": [
    "import nltk\n",
    "from nltk.book import *"
   ]
  },
  {
   "cell_type": "code",
   "execution_count": 3,
   "id": "eaf87e40-8b21-43dd-8257-6a1d2f80597f",
   "metadata": {},
   "outputs": [
    {
     "name": "stdout",
     "output_type": "stream",
     "text": [
      "text1: Moby Dick by Herman Melville 1851\n",
      "text2: Sense and Sensibility by Jane Austen 1811\n",
      "text3: The Book of Genesis\n",
      "text4: Inaugural Address Corpus\n",
      "text5: Chat Corpus\n",
      "text6: Monty Python and the Holy Grail\n",
      "text7: Wall Street Journal\n",
      "text8: Personals Corpus\n",
      "text9: The Man Who Was Thursday by G . K . Chesterton 1908\n"
     ]
    }
   ],
   "source": [
    "texts()"
   ]
  },
  {
   "cell_type": "code",
   "execution_count": 4,
   "id": "8e273091-21b8-4219-8b44-c55ab6ae1780",
   "metadata": {},
   "outputs": [
    {
     "name": "stdout",
     "output_type": "stream",
     "text": [
      "sent1: Call me Ishmael .\n",
      "sent2: The family of Dashwood had long been settled in Sussex .\n",
      "sent3: In the beginning God created the heaven and the earth .\n",
      "sent4: Fellow - Citizens of the Senate and of the House of Representatives :\n",
      "sent5: I have a problem with people PMing me to lol JOIN\n",
      "sent6: SCENE 1 : [ wind ] [ clop clop clop ] KING ARTHUR : Whoa there !\n",
      "sent7: Pierre Vinken , 61 years old , will join the board as a nonexecutive director Nov. 29 .\n",
      "sent8: 25 SEXY MALE , seeks attrac older single lady , for discreet encounters .\n",
      "sent9: THE suburb of Saffron Park lay on the sunset side of London , as red and ragged as a cloud of sunset .\n"
     ]
    }
   ],
   "source": [
    "sents()"
   ]
  },
  {
   "cell_type": "code",
   "execution_count": 5,
   "id": "748b3b2e-ab9d-48c5-aa3f-3be4e71810f9",
   "metadata": {},
   "outputs": [
    {
     "data": {
      "text/plain": [
       "nltk.text.Text"
      ]
     },
     "execution_count": 5,
     "metadata": {},
     "output_type": "execute_result"
    }
   ],
   "source": [
    "# Text()\n",
    "type(text1)"
   ]
  },
  {
   "cell_type": "code",
   "execution_count": 6,
   "id": "0275da6c-f1c0-42c9-b2dd-1f5b4deb2bd9",
   "metadata": {},
   "outputs": [
    {
     "data": {
      "text/plain": [
       "'Moby'"
      ]
     },
     "execution_count": 6,
     "metadata": {},
     "output_type": "execute_result"
    }
   ],
   "source": [
    "text1[1]"
   ]
  },
  {
   "cell_type": "code",
   "execution_count": 7,
   "id": "36511497-f81a-40c7-becb-fcdbcb482dbd",
   "metadata": {},
   "outputs": [
    {
     "data": {
      "text/plain": [
       "['Moby', 'Dick', 'by', 'Herman', 'Melville', '1851', ']', 'ETYMOLOGY', '.']"
      ]
     },
     "execution_count": 7,
     "metadata": {},
     "output_type": "execute_result"
    }
   ],
   "source": [
    "text1[1:10]"
   ]
  },
  {
   "cell_type": "code",
   "execution_count": 8,
   "id": "3f1bb42e-d234-4889-9c67-6db40067effa",
   "metadata": {},
   "outputs": [
    {
     "data": {
      "text/plain": [
       "260819"
      ]
     },
     "execution_count": 8,
     "metadata": {},
     "output_type": "execute_result"
    }
   ],
   "source": [
    "len(text1)"
   ]
  },
  {
   "cell_type": "code",
   "execution_count": 9,
   "id": "e9041c58-479b-4724-93e1-67c8165ebb75",
   "metadata": {},
   "outputs": [
    {
     "data": {
      "text/plain": [
       "['Call', 'me', 'Ishmael', '.']"
      ]
     },
     "execution_count": 9,
     "metadata": {},
     "output_type": "execute_result"
    }
   ],
   "source": [
    "sent1"
   ]
  },
  {
   "cell_type": "code",
   "execution_count": 11,
   "id": "72f2d93a-88cd-467a-8abd-f7b515382457",
   "metadata": {},
   "outputs": [
    {
     "name": "stdout",
     "output_type": "stream",
     "text": [
      "Displaying 5 of 84 matches:\n",
      "[ Moby Dick by Herman Melville 1851 ] ETYMO\n",
      "hale must be the same that some call Moby Dick .\" \" Moby Dick ?\" shouted Ahab \n",
      "e same that some call Moby Dick .\" \" Moby Dick ?\" shouted Ahab . \" Do ye know \n",
      "all . Death and devils ! men , it is Moby Dick ye have seen -- Moby Dick -- Mo\n",
      "en , it is Moby Dick ye have seen -- Moby Dick -- Moby Dick !\" \" Captain Ahab \n"
     ]
    }
   ],
   "source": [
    "text1.concordance('Moby', width=79, lines=5)"
   ]
  },
  {
   "cell_type": "code",
   "execution_count": 15,
   "id": "d16275e7-03f7-4842-bf93-6c50b2886f93",
   "metadata": {},
   "outputs": [
    {
     "name": "stdout",
     "output_type": "stream",
     "text": [
      "the_' the_, the_. a_' the_; the_was the_had the_is -_, the_to\n"
     ]
    }
   ],
   "source": [
    "text1.common_contexts(['ship', 'whale'], num=10)"
   ]
  },
  {
   "cell_type": "code",
   "execution_count": 14,
   "id": "382799ae-3b59-4f18-8045-ac421620f0ef",
   "metadata": {},
   "outputs": [
    {
     "name": "stdout",
     "output_type": "stream",
     "text": [
      "ship boat sea man captain whales time water head world fish one line\n",
      "men thing other side leviathan mast boats\n"
     ]
    }
   ],
   "source": [
    "text1.similar('whale', num=20)"
   ]
  },
  {
   "cell_type": "code",
   "execution_count": 16,
   "id": "b27a7ba7-536e-48c2-8b15-62cd05ed6e0c",
   "metadata": {},
   "outputs": [
    {
     "data": {
      "text/plain": [
       "906"
      ]
     },
     "execution_count": 16,
     "metadata": {},
     "output_type": "execute_result"
    }
   ],
   "source": [
    "text1.count('whale')"
   ]
  },
  {
   "cell_type": "code",
   "execution_count": 17,
   "id": "960959b5-c98a-4ff1-b1de-d5dcc8b21a5b",
   "metadata": {},
   "outputs": [
    {
     "name": "stderr",
     "output_type": "stream",
     "text": [
      "Building ngram index...\n"
     ]
    },
    {
     "name": "stdout",
     "output_type": "stream",
     "text": [
      "long , from one to the top - mast , and no coffin and went out a sea\n",
      "captain -- this peaking of the whales . , so as to preserve all his\n",
      "might had in former years abounding with them , they toil with their\n",
      "lances , strange tales of Southern whaling . at once the bravest\n",
      "Indians he was , after in vain strove to pierce the profundity . ?\n",
      "then ?\" a levelled flame of pale , And give no chance , watch him ;\n",
      "though the line , it is to be gainsaid . have been\n"
     ]
    },
    {
     "data": {
      "text/plain": [
       "'long , from one to the top - mast , and no coffin and went out a sea\\ncaptain -- this peaking of the whales . , so as to preserve all his\\nmight had in former years abounding with them , they toil with their\\nlances , strange tales of Southern whaling . at once the bravest\\nIndians he was , after in vain strove to pierce the profundity . ?\\nthen ?\" a levelled flame of pale , And give no chance , watch him ;\\nthough the line , it is to be gainsaid . have been'"
      ]
     },
     "execution_count": 17,
     "metadata": {},
     "output_type": "execute_result"
    }
   ],
   "source": [
    "text1.generate()"
   ]
  },
  {
   "cell_type": "code",
   "execution_count": 18,
   "id": "e5d53014-5d09-47f2-8034-a9c3ac1fc4f2",
   "metadata": {},
   "outputs": [],
   "source": [
    "from nltk.util import ngrams # bigrams"
   ]
  },
  {
   "cell_type": "code",
   "execution_count": 21,
   "id": "ceaeeb4f-a59d-447c-a54d-826e3580f6d1",
   "metadata": {},
   "outputs": [
    {
     "data": {
      "text/plain": [
       "[('THE', 'suburb'),\n",
       " ('suburb', 'of'),\n",
       " ('of', 'Saffron'),\n",
       " ('Saffron', 'Park'),\n",
       " ('Park', 'lay'),\n",
       " ('lay', 'on'),\n",
       " ('on', 'the'),\n",
       " ('the', 'sunset'),\n",
       " ('sunset', 'side'),\n",
       " ('side', 'of'),\n",
       " ('of', 'London'),\n",
       " ('London', ','),\n",
       " (',', 'as'),\n",
       " ('as', 'red'),\n",
       " ('red', 'and'),\n",
       " ('and', 'ragged'),\n",
       " ('ragged', 'as'),\n",
       " ('as', 'a'),\n",
       " ('a', 'cloud'),\n",
       " ('cloud', 'of'),\n",
       " ('of', 'sunset'),\n",
       " ('sunset', '.')]"
      ]
     },
     "execution_count": 21,
     "metadata": {},
     "output_type": "execute_result"
    }
   ],
   "source": [
    "list(ngrams(sent9, 2))"
   ]
  },
  {
   "cell_type": "code",
   "execution_count": 22,
   "id": "f895fa52-eddc-4302-b62f-314eb973fc9f",
   "metadata": {},
   "outputs": [
    {
     "name": "stdout",
     "output_type": "stream",
     "text": [
      "Sperm Whale; Moby Dick; White Whale; old man; Captain Ahab; sperm\n",
      "whale; Right Whale; Captain Peleg; New Bedford; Cape Horn; cried Ahab;\n",
      "years ago; lower jaw; never mind; Father Mapple; cried Stubb; chief\n",
      "mate; white whale; ivory leg; one hand\n"
     ]
    }
   ],
   "source": [
    "text1.collocations()"
   ]
  },
  {
   "cell_type": "code",
   "execution_count": 23,
   "id": "9110025c-c929-4f82-92c7-b4e331705ecb",
   "metadata": {},
   "outputs": [],
   "source": [
    "raw = open('warpeace.txt').read()"
   ]
  },
  {
   "cell_type": "code",
   "execution_count": 24,
   "id": "1263cbc7-001c-413a-8140-92d207530197",
   "metadata": {},
   "outputs": [],
   "source": [
    "from nltk import sent_tokenize, word_tokenize"
   ]
  },
  {
   "cell_type": "code",
   "execution_count": 25,
   "id": "a6bae194-6992-424a-8287-19d4a486f216",
   "metadata": {},
   "outputs": [],
   "source": [
    "tokens = word_tokenize(raw)"
   ]
  },
  {
   "cell_type": "code",
   "execution_count": 26,
   "id": "a6df3b23-1a40-4aa8-8126-27158d6a9134",
   "metadata": {},
   "outputs": [],
   "source": [
    "text10 = Text(tokens)"
   ]
  },
  {
   "cell_type": "code",
   "execution_count": 28,
   "id": "54df5333-d71a-4287-94d9-db7227c743c1",
   "metadata": {},
   "outputs": [
    {
     "data": {
      "text/plain": [
       "625"
      ]
     },
     "execution_count": 28,
     "metadata": {},
     "output_type": "execute_result"
    }
   ],
   "source": [
    "text10.count('Пьер')"
   ]
  },
  {
   "cell_type": "code",
   "execution_count": 29,
   "id": "678e7389-2790-45de-93c0-0f063b6168a9",
   "metadata": {},
   "outputs": [
    {
     "data": {
      "text/plain": [
       "307279"
      ]
     },
     "execution_count": 29,
     "metadata": {},
     "output_type": "execute_result"
    }
   ],
   "source": [
    "len(text10)"
   ]
  },
  {
   "cell_type": "code",
   "execution_count": 30,
   "id": "f01a6cb3-2bcb-432d-a486-85817ff1962e",
   "metadata": {},
   "outputs": [
    {
     "name": "stdout",
     "output_type": "stream",
     "text": [
      "Displaying 25 of 625 matches:\n",
      "ственного месту . Хотя действительно Пьер был несколько больше других мужчин в\n",
      "- Очень мило с вашей стороны , мосье Пьер , что вы приехали навестить бедную б\n",
      "шкой , к которой она подводила его . Пьер пробурлил что-то непонятное и продол\n",
      "авловны был не напрасен , потому что Пьер , не дослушав речи тетушки о здоровь\n",
      "я к своим занятиям хозяйки дома , но Пьер сделал обратную неучтивость . Прежде\n",
      "дете такое равновесие ? – начал было Пьер ; но в это время подошла Анна Павлов\n",
      "язь Андрей зажмурился и отвернулся . Пьер , со времени входа князя Андрея в го\n",
      "– Я знал , что вы будете , – отвечал Пьер . – Я приеду к вам ужинать , – приба\n",
      " еще светлее на ее прекрасном лице . Пьер смотрел почти испуганными , восторже\n",
      "ал князь Андрей . – Очень , – сказал Пьер . Проходя мимо , князь Василий схват\n",
      "… Он пожал плечами и развел руками . Пьер хотел было сказать что-то : разговор\n",
      " краснея , опять вмешался в разговор Пьер , – почти все дворянство перешло уже\n",
      "бкой оценить этих слов виконта , как Пьер опять ворвался в разговор , и Анна П\n",
      "Казнь герцога Энгиенского , – сказал Пьер , – была государственная необходимос\n",
      " ’ & # 226 ; me ? [ 73 - Как , мосье Пьер , вы видите в убийстве величие души \n",
      "енке . Виконт только пожал плечами . Пьер торжественно посмотрел сверх очков н\n",
      "столу ? – сказала Анна Павловна . Но Пьер , не отвечая , продолжал свою речь .\n",
      "была великое дело , – продолжал мсье Пьер , выказывая этим отчаянным и вызываю\n",
      "rre , [ 76 - Но , мой любезный мосье Пьер . ] – сказала Анна Павловна , – как \n",
      "те . ] – сказал князь Ипполит . Мсье Пьер не знал , кому отвечать , оглянул вс\n",
      "– Да , да , разумеется , – подхватил Пьер , обрадованный выступавшею ему подмо\n",
      " вечер . ] гости стали расходиться . Пьер был неуклюж . Толстый , выше обыкнов\n",
      "емените свои мнения , мой милый мсье Пьер , – сказала она . Когда она сказала \n",
      "ешавшему ему пройти . – Я тебя жду , Пьер , – ласково и нежно проговорил тот ж\n",
      "французских . Надо уметь взяться . ] Пьер , приехав вперед , как домашний чело\n"
     ]
    }
   ],
   "source": [
    "text10.concordance('Пьер')"
   ]
  },
  {
   "cell_type": "code",
   "execution_count": 31,
   "id": "ae9e9ed5-f125-4567-bfe2-3d3dbe19fd4f",
   "metadata": {},
   "outputs": [
    {
     "data": {
      "image/png": "[encoded data removed]",
      "text/plain": [
       "<Figure size 432x288 with 1 Axes>"
      ]
     },
     "metadata": {
      "needs_background": "light"
     },
     "output_type": "display_data"
    }
   ],
   "source": [
    "text10.dispersion_plot(['Пьер', 'Андрей', 'Наташа'])"
   ]
  },
  {
   "cell_type": "code",
   "execution_count": 32,
   "id": "83d98c7c-7949-4ee4-ae76-77f6920f0830",
   "metadata": {},
   "outputs": [
    {
     "data": {
      "text/plain": [
       "<Text: Moby Dick by Herman Melville 1851>"
      ]
     },
     "execution_count": 32,
     "metadata": {},
     "output_type": "execute_result"
    }
   ],
   "source": [
    "text1"
   ]
  },
  {
   "cell_type": "code",
   "execution_count": 33,
   "id": "cc255b3f-2bd0-4863-9d24-c5ec1c7bcbdb",
   "metadata": {},
   "outputs": [
    {
     "data": {
      "text/plain": [
       "'<Text: Moby Dick by Herman Melville 1851>'"
      ]
     },
     "execution_count": 33,
     "metadata": {},
     "output_type": "execute_result"
    }
   ],
   "source": [
    "repr(text1)"
   ]
  },
  {
   "cell_type": "code",
   "execution_count": 35,
   "id": "879bb18f-e007-4938-9b55-a45c24098674",
   "metadata": {},
   "outputs": [
    {
     "name": "stdout",
     "output_type": "stream",
     "text": [
      "<Text: Moby Dick by Herman Melville 1851>\n"
     ]
    }
   ],
   "source": [
    "print(text1)"
   ]
  },
  {
   "cell_type": "code",
   "execution_count": 36,
   "id": "d0b733c5-7211-4f48-a2ce-0a181a4a2d06",
   "metadata": {},
   "outputs": [
    {
     "data": {
      "text/plain": [
       "<Text: ﻿Спасибо , что скачали книгу в бесплатной электронной...>"
      ]
     },
     "execution_count": 36,
     "metadata": {},
     "output_type": "execute_result"
    }
   ],
   "source": [
    "text10"
   ]
  },
  {
   "cell_type": "code",
   "execution_count": null,
   "id": "d3133bf9-3c49-4513-a2dd-7d483ca2418c",
   "metadata": {},
   "outputs": [],
   "source": [
    "def lexdiv(text):\n",
    "    return # unique / total"
   ]
  },
  {
   "cell_type": "code",
   "execution_count": 37,
   "id": "96779c66-1ba6-499a-9f68-2927d068be76",
   "metadata": {},
   "outputs": [
    {
     "name": "stdout",
     "output_type": "stream",
     "text": [
      "<Text: Moby Dick by Herman Melville 1851>\n",
      "<Text: Sense and Sensibility by Jane Austen 1811>\n",
      "<Text: The Book of Genesis>\n",
      "<Text: Inaugural Address Corpus>\n",
      "<Text: Chat Corpus>\n",
      "<Text: Monty Python and the Holy Grail>\n",
      "<Text: Wall Street Journal>\n",
      "<Text: Personals Corpus>\n",
      "<Text: The Man Who Was Thursday by G . K . Chesterton 1908>\n"
     ]
    }
   ],
   "source": [
    "for i in range(1, 10):\n",
    "    print(eval(f'text{i}'))"
   ]
  },
  {
   "cell_type": "code",
   "execution_count": 38,
   "id": "59f7ea31-3b3a-422f-a63c-b9af718f8384",
   "metadata": {},
   "outputs": [
    {
     "data": {
      "text/plain": [
       "['THE',\n",
       " 'suburb',\n",
       " 'of',\n",
       " 'Saffron',\n",
       " 'Park',\n",
       " 'lay',\n",
       " 'on',\n",
       " 'the',\n",
       " 'sunset',\n",
       " 'side',\n",
       " 'of',\n",
       " 'London',\n",
       " ',',\n",
       " 'as',\n",
       " 'red',\n",
       " 'and',\n",
       " 'ragged',\n",
       " 'as',\n",
       " 'a',\n",
       " 'cloud',\n",
       " 'of',\n",
       " 'sunset',\n",
       " '.']"
      ]
     },
     "execution_count": 38,
     "metadata": {},
     "output_type": "execute_result"
    }
   ],
   "source": [
    "# TreeTagger\n",
    "\n",
    "sent9"
   ]
  },
  {
   "cell_type": "code",
   "execution_count": 39,
   "id": "cfe0d8ec-1001-4c3d-9ef4-1804f0670045",
   "metadata": {},
   "outputs": [
    {
     "data": {
      "text/plain": [
       "[('THE', 'DT'),\n",
       " ('suburb', 'NN'),\n",
       " ('of', 'IN'),\n",
       " ('Saffron', 'NNP'),\n",
       " ('Park', 'NNP'),\n",
       " ('lay', 'VBD'),\n",
       " ('on', 'IN'),\n",
       " ('the', 'DT'),\n",
       " ('sunset', 'JJ'),\n",
       " ('side', 'NN'),\n",
       " ('of', 'IN'),\n",
       " ('London', 'NNP'),\n",
       " (',', ','),\n",
       " ('as', 'IN'),\n",
       " ('red', 'JJ'),\n",
       " ('and', 'CC'),\n",
       " ('ragged', 'VBD'),\n",
       " ('as', 'IN'),\n",
       " ('a', 'DT'),\n",
       " ('cloud', 'NN'),\n",
       " ('of', 'IN'),\n",
       " ('sunset', 'NN'),\n",
       " ('.', '.')]"
      ]
     },
     "execution_count": 39,
     "metadata": {},
     "output_type": "execute_result"
    }
   ],
   "source": [
    "nltk.pos_tag(sent9)"
   ]
  },
  {
   "cell_type": "code",
   "execution_count": 40,
   "id": "13b93090-41fb-4629-8d39-a36ec27bc34a",
   "metadata": {},
   "outputs": [
    {
     "name": "stdout",
     "output_type": "stream",
     "text": [
      "VBD: verb, past tense\n",
      "    dipped pleaded swiped regummed soaked tidied convened halted registered\n",
      "    cushioned exacted snubbed strode aimed adopted belied figgered\n",
      "    speculated wore appreciated contemplated ...\n"
     ]
    }
   ],
   "source": [
    "# penn treebank\n",
    "\n",
    "nltk.help.upenn_tagset('VBD')"
   ]
  },
  {
   "cell_type": "code",
   "execution_count": 41,
   "id": "dc63a7c7-04cd-4836-89eb-61bbb18fa7d4",
   "metadata": {},
   "outputs": [],
   "source": [
    "from nltk.corpus import brown\n",
    "brown_tagged_sents = brown.tagged_sents(categories='news')\n",
    "unigram_tagger = nltk.UnigramTagger(brown_tagged_sents)\n"
   ]
  },
  {
   "cell_type": "code",
   "execution_count": 43,
   "id": "63c28919-c038-41c3-8281-dd171aaed4a5",
   "metadata": {},
   "outputs": [
    {
     "data": {
      "text/plain": [
       "[('THE', None),\n",
       " ('suburb', 'NN'),\n",
       " ('of', 'IN'),\n",
       " ('Saffron', None),\n",
       " ('Park', 'NN-TL'),\n",
       " ('lay', 'JJ'),\n",
       " ('on', 'IN'),\n",
       " ('the', 'AT'),\n",
       " ('sunset', None),\n",
       " ('side', 'NN'),\n",
       " ('of', 'IN'),\n",
       " ('London', 'NP'),\n",
       " (',', ','),\n",
       " ('as', 'CS'),\n",
       " ('red', 'JJ'),\n",
       " ('and', 'CC'),\n",
       " ('ragged', None),\n",
       " ('as', 'CS'),\n",
       " ('a', 'AT'),\n",
       " ('cloud', 'NN'),\n",
       " ('of', 'IN'),\n",
       " ('sunset', None),\n",
       " ('.', '.')]"
      ]
     },
     "execution_count": 43,
     "metadata": {},
     "output_type": "execute_result"
    }
   ],
   "source": [
    "unigram_tagger.tag(sent9)"
   ]
  },
  {
   "cell_type": "code",
   "execution_count": 44,
   "id": "05824c2e-c1f9-4b67-9cd0-919c8ca1e30c",
   "metadata": {},
   "outputs": [
    {
     "data": {
      "text/plain": [
       "[('THE', None),\n",
       " ('suburb', None),\n",
       " ('of', None),\n",
       " ('Saffron', None),\n",
       " ('Park', None),\n",
       " ('lay', None),\n",
       " ('on', None),\n",
       " ('the', None),\n",
       " ('sunset', None),\n",
       " ('side', None),\n",
       " ('of', None),\n",
       " ('London', None),\n",
       " (',', None),\n",
       " ('as', None),\n",
       " ('red', None),\n",
       " ('and', None),\n",
       " ('ragged', None),\n",
       " ('as', None),\n",
       " ('a', None),\n",
       " ('cloud', None),\n",
       " ('of', None),\n",
       " ('sunset', None),\n",
       " ('.', None)]"
      ]
     },
     "execution_count": 44,
     "metadata": {},
     "output_type": "execute_result"
    }
   ],
   "source": [
    "bigram_tagger = nltk.BigramTagger(brown_tagged_sents)\n",
    "bigram_tagger.tag(sent9)"
   ]
  },
  {
   "cell_type": "code",
   "execution_count": 45,
   "id": "913b04a4-9a1a-4c3d-9c27-c96638fb5d21",
   "metadata": {},
   "outputs": [
    {
     "name": "stderr",
     "output_type": "stream",
     "text": [
      "2022-04-14 13:42:54.931826: W tensorflow/stream_executor/platform/default/dso_loader.cc:64] Could not load dynamic library 'libcudart.so.11.0'; dlerror: libcudart.so.11.0: cannot open shared object file: No such file or directory\n",
      "2022-04-14 13:42:54.931908: I tensorflow/stream_executor/cuda/cudart_stub.cc:29] Ignore above cudart dlerror if you do not have a GPU set up on your machine.\n"
     ]
    }
   ],
   "source": [
    "import spacy"
   ]
  },
  {
   "cell_type": "code",
   "execution_count": 46,
   "id": "6c296279-a657-453e-908f-af8446f30283",
   "metadata": {},
   "outputs": [],
   "source": [
    "nlp = spacy.blank('en')"
   ]
  },
  {
   "cell_type": "code",
   "execution_count": 50,
   "id": "921d7d06-8143-42a9-a5da-1161faf89755",
   "metadata": {},
   "outputs": [],
   "source": [
    "doc = nlp('Ignore above cudart dlerror 1234 if you do not have a GPU set up on your machine.')"
   ]
  },
  {
   "cell_type": "code",
   "execution_count": 51,
   "id": "778ce4b2-aef5-4824-82ef-5bd7d4e14aa8",
   "metadata": {},
   "outputs": [
    {
     "name": "stdout",
     "output_type": "stream",
     "text": [
      "Ignore 0 True False False\n",
      "above 1 True False False\n",
      "cudart 2 True False False\n",
      "dlerror 3 True False False\n",
      "1234 4 False False True\n",
      "if 5 True False False\n",
      "you 6 True False False\n",
      "do 7 True False False\n",
      "not 8 True False False\n",
      "have 9 True False False\n",
      "a 10 True False False\n",
      "GPU 11 True False False\n",
      "set 12 True False False\n",
      "up 13 True False False\n",
      "on 14 True False False\n",
      "your 15 True False False\n",
      "machine 16 True False False\n",
      ". 17 False True False\n"
     ]
    }
   ],
   "source": [
    "for token in doc:\n",
    "    print(token.text, token.i, token.is_alpha, token.is_punct, token.like_num)"
   ]
  },
  {
   "cell_type": "code",
   "execution_count": 52,
   "id": "f1fa3021-5ede-4f5b-b5c2-9b9cad1f6779",
   "metadata": {},
   "outputs": [
    {
     "data": {
      "text/plain": [
       "above"
      ]
     },
     "execution_count": 52,
     "metadata": {},
     "output_type": "execute_result"
    }
   ],
   "source": [
    "doc[1]"
   ]
  },
  {
   "cell_type": "code",
   "execution_count": 53,
   "id": "bceca6ba-0bd6-40ee-b028-09518d0d14ce",
   "metadata": {},
   "outputs": [],
   "source": [
    "span = doc[1:3]"
   ]
  },
  {
   "cell_type": "code",
   "execution_count": 54,
   "id": "f9f8dbe7-1a7e-488e-8421-d1501cf460d0",
   "metadata": {},
   "outputs": [
    {
     "data": {
      "text/plain": [
       "'above cudart'"
      ]
     },
     "execution_count": 54,
     "metadata": {},
     "output_type": "execute_result"
    }
   ],
   "source": [
    "span.text"
   ]
  },
  {
   "cell_type": "code",
   "execution_count": 55,
   "id": "082266a9-661c-4baf-bcbe-8cce795186ba",
   "metadata": {},
   "outputs": [
    {
     "data": {
      "text/plain": [
       "above cudart"
      ]
     },
     "execution_count": 55,
     "metadata": {},
     "output_type": "execute_result"
    }
   ],
   "source": [
    "doc[1:3]"
   ]
  },
  {
   "cell_type": "code",
   "execution_count": 56,
   "id": "db89199f-a6b6-4568-94f7-2d7c2a90ee63",
   "metadata": {},
   "outputs": [],
   "source": [
    "nlp = spacy.load('en_core_web_lg')"
   ]
  },
  {
   "cell_type": "code",
   "execution_count": 57,
   "id": "bcb84178-73ea-48d7-a844-7fa458410dd2",
   "metadata": {},
   "outputs": [],
   "source": [
    "doc = nlp('Ignore above cudart dlerror 1234 if you do not have a GPU set up on your machine.')"
   ]
  },
  {
   "cell_type": "code",
   "execution_count": 58,
   "id": "226c9ca6-1561-4e0b-ae79-6a92926620e3",
   "metadata": {},
   "outputs": [
    {
     "name": "stdout",
     "output_type": "stream",
     "text": [
      "Ignore VERB ROOT Ignore\n",
      "above ADP prep Ignore\n",
      "cudart NOUN compound dlerror\n",
      "dlerror NOUN pobj above\n",
      "1234 NUM dobj Ignore\n",
      "if SCONJ mark have\n",
      "you PRON nsubj have\n",
      "do AUX aux have\n",
      "not PART neg have\n",
      "have VERB advcl Ignore\n",
      "a DET det set\n",
      "GPU PROPN compound set\n",
      "set NOUN dobj have\n",
      "up ADP prt set\n",
      "on ADP prep set\n",
      "your PRON poss machine\n",
      "machine NOUN pobj on\n",
      ". PUNCT punct Ignore\n"
     ]
    }
   ],
   "source": [
    "for token in doc:\n",
    "    print(token.text, token.pos_, token.dep_, token.head.text)"
   ]
  },
  {
   "cell_type": "code",
   "execution_count": 60,
   "id": "816c2c60-6d19-4b0d-b0d1-a03f2a077c05",
   "metadata": {},
   "outputs": [
    {
     "name": "stdout",
     "output_type": "stream",
     "text": [
      "1234 CARDINAL\n",
      "GPU ORG\n"
     ]
    }
   ],
   "source": [
    "for ent in doc.ents:\n",
    "    print(ent.text, ent.label_)"
   ]
  },
  {
   "cell_type": "code",
   "execution_count": 62,
   "id": "4a3cbbfa-4bcd-4a20-84d1-ea76d2b5504f",
   "metadata": {},
   "outputs": [
    {
     "data": {
      "text/plain": [
       "'nominal subject'"
      ]
     },
     "execution_count": 62,
     "metadata": {},
     "output_type": "execute_result"
    }
   ],
   "source": [
    "spacy.explain('nsubj')"
   ]
  },
  {
   "cell_type": "markdown",
   "id": "64b7c730-bc07-4245-823a-fc81ddc88805",
   "metadata": {},
   "source": [
    "pip install spacy_udpipe\n",
    "\n",
    "pip install corpy"
   ]
  },
  {
   "cell_type": "code",
   "execution_count": 63,
   "id": "071c4c14-147c-4abd-8864-cd545fc1f8ed",
   "metadata": {},
   "outputs": [],
   "source": [
    "import spacy_udpipe"
   ]
  },
  {
   "cell_type": "code",
   "execution_count": 64,
   "id": "48cb9d73-3399-46c9-8084-8072de5cc647",
   "metadata": {},
   "outputs": [
    {
     "name": "stdout",
     "output_type": "stream",
     "text": [
      "Downloaded pre-trained UDPipe model for 'en' language\n"
     ]
    }
   ],
   "source": [
    "spacy_udpipe.download('en')"
   ]
  },
  {
   "cell_type": "code",
   "execution_count": 65,
   "id": "ac1b6462-84ef-4fbc-b7eb-a90f4ed7bf8a",
   "metadata": {},
   "outputs": [],
   "source": [
    "nlp = spacy_udpipe.load('en')"
   ]
  },
  {
   "cell_type": "code",
   "execution_count": 66,
   "id": "2eabdf72-93ff-42c0-b5e5-65bb3c9081ed",
   "metadata": {},
   "outputs": [],
   "source": [
    "text = '''The history of the Nashville Sounds, a Minor League Baseball team, began in Nashville, Tennessee, in 1978, after Larry Schmittou and a group of American investors purchased the rights to operate an expansion franchise of the Double-A level Southern League. '''"
   ]
  },
  {
   "cell_type": "code",
   "execution_count": 67,
   "id": "502c5727-b3f9-4948-9537-02e4b9490a04",
   "metadata": {},
   "outputs": [
    {
     "name": "stdout",
     "output_type": "stream",
     "text": [
      "The the DET det\n",
      "history history NOUN nsubj\n",
      "of of ADP case\n",
      "the the DET det\n",
      "Nashville Nashville PROPN compound\n",
      "Sounds Sounds PROPN nmod\n",
      ", , PUNCT punct\n",
      "a a DET det\n",
      "Minor minor PROPN compound\n",
      "League League PROPN compound\n",
      "Baseball baseball PROPN compound\n",
      "team team NOUN conj\n",
      ", , PUNCT punct\n",
      "began begin VERB ROOT\n",
      "in in ADP case\n",
      "Nashville Nashville PROPN obl\n",
      ", , PUNCT punct\n",
      "Tennessee Tennessee PROPN appos\n",
      ", , PUNCT punct\n",
      "in in ADP case\n",
      "1978 1978 NUM obl\n",
      ", , PUNCT punct\n",
      "after after ADP case\n",
      "Larry Larry PROPN obl\n",
      "Schmittou Schmittou PROPN flat\n",
      "and and CCONJ cc\n",
      "a a DET det\n",
      "group group NOUN nsubj\n",
      "of of ADP case\n",
      "American american ADJ amod\n",
      "investors investor NOUN nmod\n",
      "purchased purchase VERB parataxis\n",
      "the the DET det\n",
      "rights rights NOUN obj\n",
      "to to PART mark\n",
      "operate operate VERB acl\n",
      "an a DET det\n",
      "expansion expansion NOUN compound\n",
      "franchise franchise NOUN obj\n",
      "of of ADP case\n",
      "the the DET det\n",
      "Double double PROPN compound\n",
      "- - PUNCT punct\n",
      "A a DET det\n",
      "level level NOUN compound\n",
      "Southern southern PROPN compound\n",
      "League League PROPN nmod\n",
      ". . PUNCT punct\n"
     ]
    }
   ],
   "source": [
    "doc = nlp(text)\n",
    "for token in doc:\n",
    "    print(token.text, token.lemma_, token.pos_, token.dep_)"
   ]
  },
  {
   "cell_type": "code",
   "execution_count": 69,
   "id": "72af08fa-c5f8-4e4a-8593-78ee582f64c1",
   "metadata": {},
   "outputs": [],
   "source": [
    "from corpy.udpipe import Model"
   ]
  },
  {
   "cell_type": "code",
   "execution_count": 70,
   "id": "b4397560-1001-4be0-8adc-5d46c5f4c9fa",
   "metadata": {},
   "outputs": [],
   "source": [
    "m = Model('english-partut-ud-2.5-191206.udpipe')"
   ]
  },
  {
   "cell_type": "code",
   "execution_count": 72,
   "id": "bd533f9c-d5d0-44e2-9a96-b45c3efff13d",
   "metadata": {},
   "outputs": [],
   "source": [
    "lst = list(m.process(text))"
   ]
  },
  {
   "cell_type": "code",
   "execution_count": 73,
   "id": "63d478e7-4af0-40e1-af1f-d5f6a0bdd01a",
   "metadata": {},
   "outputs": [
    {
     "data": {
      "text/plain": [
       "1"
      ]
     },
     "execution_count": 73,
     "metadata": {},
     "output_type": "execute_result"
    }
   ],
   "source": [
    "len(lst)"
   ]
  },
  {
   "cell_type": "code",
   "execution_count": null,
   "id": "b20e0416-dc00-4f1e-ba48-74e6e92b9759",
   "metadata": {},
   "outputs": [],
   "source": [
    "lst[0].words"
   ]
  },
  {
   "cell_type": "code",
   "execution_count": 80,
   "id": "9fbfd685-36aa-4e99-a680-266805702baf",
   "metadata": {},
   "outputs": [],
   "source": [
    "sents = m.process(text)"
   ]
  },
  {
   "cell_type": "code",
   "execution_count": 77,
   "id": "5b00c567-9543-462d-b8b1-01214d733358",
   "metadata": {},
   "outputs": [
    {
     "data": {
      "text/plain": [
       "generator"
      ]
     },
     "execution_count": 77,
     "metadata": {},
     "output_type": "execute_result"
    }
   ],
   "source": [
    "type(sents)"
   ]
  },
  {
   "cell_type": "code",
   "execution_count": 81,
   "id": "0fa87375-a596-4241-907f-bf388a6a9cc4",
   "metadata": {},
   "outputs": [
    {
     "name": "stdout",
     "output_type": "stream",
     "text": [
      "0\t<root>\t<root>\t<root>\t<root>\t\n",
      "1\tThe\tthe\tDET\tDefinite=Def|PronType=Art\tdet\n",
      "2\thistory\thistory\tNOUN\tNumber=Sing\tnsubj\n",
      "3\tof\tof\tADP\t\tcase\n",
      "4\tthe\tthe\tDET\tDefinite=Def|PronType=Art\tdet\n",
      "5\tNashville\tNashville\tPROPN\t\tnmod\n",
      "6\tSounds\tsound\tPROPN\t\tflat\n",
      "7\t,\t,\tPUNCT\t\tpunct\n",
      "8\ta\ta\tDET\tDefinite=Ind|Number=Sing|PronType=Art\tdet\n",
      "9\tMinor\tminor\tPROPN\t\tnmod\n",
      "10\tLeague\tLeague\tPROPN\t\tflat\n",
      "11\tBaseball\tBaseball\tPROPN\t\tflat\n",
      "12\tteam\tteam\tNOUN\tNumber=Sing\tappos\n",
      "13\t,\t,\tPUNCT\t\tpunct\n",
      "14\tbegan\tbegin\tVERB\tMood=Ind|Person=3|Tense=Past|VerbForm=Fin\troot\n",
      "15\tin\tin\tADP\t\tcase\n",
      "16\tNashville\tNashville\tPROPN\t\tobl\n",
      "17\t,\t,\tPUNCT\t\tpunct\n",
      "18\tTennessee\tTennessee\tNUM\tNumType=Card\tnummod\n",
      "19\t,\t,\tPUNCT\t\tpunct\n",
      "20\tin\tin\tADP\t\tcase\n",
      "21\t1978\t1978\tNUM\tNumType=Card\tnummod\n",
      "22\t,\t,\tPUNCT\t\tpunct\n",
      "23\tafter\tafter\tADP\t\tcase\n",
      "24\tLarry\tLarry\tPROPN\t\tnmod\n",
      "25\tSchmittou\tSchmittou\tPROPN\t\tflat\n",
      "26\tand\tand\tCCONJ\t\tcc\n",
      "27\ta\ta\tDET\tDefinite=Ind|Number=Sing|PronType=Art\tdet\n",
      "28\tgroup\tgroup\tNOUN\tNumber=Sing\tconj\n",
      "29\tof\tof\tADP\t\tcase\n",
      "30\tAmerican\tAmerican\tADJ\tDegree=Pos\tamod\n",
      "31\tinvestors\tinvestor\tNOUN\tNumber=Plur\tnmod\n",
      "32\tpurchased\tpurchase\tVERB\tMood=Ind|Person=3|Tense=Past|VerbForm=Fin\tadvcl\n",
      "33\tthe\tthe\tDET\tDefinite=Def|PronType=Art\tdet\n",
      "34\trights\tright\tNOUN\tNumber=Plur\tobj\n",
      "35\tto\tto\tPART\t\tmark\n",
      "36\toperate\toperate\tVERB\tVerbForm=Inf\tacl\n",
      "37\tan\ta\tDET\tDefinite=Ind|Number=Sing|PronType=Art\tdet\n",
      "38\texpansion\texpansion\tNOUN\tNumber=Sing\tnmod\n",
      "39\tfranchise\tfranchise\tNOUN\tNumber=Sing\tobj\n",
      "40\tof\tof\tADP\t\tcase\n",
      "41\tthe\tthe\tDET\tDefinite=Def|PronType=Art\tdet\n",
      "42\tDouble\tdouble\tADJ\tDegree=Pos\tamod\n",
      "43\t-A\t-A\tPROPN\t\tnmod\n",
      "44\tlevel\tlevel\tNOUN\tNumber=Sing\tnmod\n",
      "45\tSouthern\tsouthern\tPROPN\t\tnmod\n",
      "46\tLeague\tLeague\tPROPN\t\tflat\n",
      "47\t.\t.\tPUNCT\t\tpunct\n"
     ]
    }
   ],
   "source": [
    "for sent in sents:\n",
    "    for word in sent.words:\n",
    "        print(word.id, word.form, word.lemma, word.upostag, word.feats, word.deprel, sep='\\t')"
   ]
  },
  {
   "cell_type": "code",
   "execution_count": null,
   "id": "5bfa19de-b06d-4a03-9f97-392ba03e74b5",
   "metadata": {},
   "outputs": [],
   "source": []
  }
 ],
 "metadata": {
  "kernelspec": {
   "display_name": "Python 3 (ipykernel)",
   "language": "python",
   "name": "python3"
  },
  "language_info": {
   "codemirror_mode": {
    "name": "ipython",
    "version": 3
   },
   "file_extension": ".py",
   "mimetype": "text/x-python",
   "name": "python",
   "nbconvert_exporter": "python",
   "pygments_lexer": "ipython3",
   "version": "3.8.10"
  }
 },
 "nbformat": 4,
 "nbformat_minor": 5
}
