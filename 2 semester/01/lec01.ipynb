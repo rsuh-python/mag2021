{
 "cells": [
  {
   "cell_type": "markdown",
   "id": "81d74d60-8823-4bad-b93d-9c13b71f7dce",
   "metadata": {},
   "source": [
    "### Форматы файлов, сериализация"
   ]
  },
  {
   "cell_type": "markdown",
   "id": "20d64a08-58e1-419a-843b-182902aa02e0",
   "metadata": {},
   "source": [
    "Мы с вами поговорили о разных форматах файлов, которые используются при работе со скриптами. Файлы, которые умеет обрабатывать питон, находятся на своего рода шкале по человекочитаемости:\n",
    "1. .txt файлы - легко читаются человеком, трудно читаются скриптами (потому что не структурированы)\n",
    "2. .json, .csv файлы - могут читаться как человеком, так и машиной\n",
    "3. бинарные файлы - не предназначены для чтения человеком"
   ]
  },
  {
   "cell_type": "markdown",
   "id": "47153384-140b-4856-bde0-d5143448f782",
   "metadata": {},
   "source": [
    "Работать с обычными текстовыми файлами мы с вами уже умеем и научимся это делать еще виртуознее, когда освоим регулярки. "
   ]
  },
  {
   "cell_type": "markdown",
   "id": "8fd5bff5-7ce6-450f-b85f-e7c0f0d1750b",
   "metadata": {},
   "source": [
    "#### JSON\n",
    "\n",
    "json - Java Script Object Notation; первоначально создавался для другого ЯП, но может быть использован и для типов питона. Это такой формат, в котором объекты питона записываются в машиночитаемом виде, но при этом могут читаться и человеком. Запись данных в машиночитаемом виде называется сериализацией: когда мы считываем такие файлы снова программой, не нужно их специально парсить (явно для человека). \n",
    "\n",
    "С json-файлами работает модуль json, который является стандартным модулем из библиотек питона. "
   ]
  },
  {
   "cell_type": "code",
   "execution_count": null,
   "id": "fe3bdb3c-e950-40b4-bebe-88a30ca40bbc",
   "metadata": {},
   "outputs": [],
   "source": [
    "import json"
   ]
  },
  {
   "cell_type": "markdown",
   "id": "450ead91-dd8f-4d42-a332-1433be646df3",
   "metadata": {},
   "source": [
    "нам для работы достаточно знать четыре функции:\n",
    "\n",
    "- json.load(file)\n",
    "- json.dump(object, file, ensure_ascii=False, indent=4)\n",
    "- json.loads(string)\n",
    "- json.dumps(object)\n",
    "\n",
    "load загружает файл, dump сохраняет объект в файл, loads десереализует строку в объект питона, а dumps, наоборот, сериализует. "
   ]
  },
  {
   "cell_type": "code",
   "execution_count": null,
   "id": "c86ed62a-04c2-4d60-81bd-3a160ae22497",
   "metadata": {},
   "outputs": [],
   "source": [
    "with open('new.json') as file:  # я не указываю кодировку, потому что пользуюсь unix системой, но в Windows не забывайте об этом\n",
    "    data = json.load(file)"
   ]
  },
  {
   "cell_type": "code",
   "execution_count": null,
   "id": "c0e15b54-1068-4b02-a353-ba572d8d2eb2",
   "metadata": {},
   "outputs": [],
   "source": [
    "\"\"\"Такой способ чтения иногда бывает нужен, если в json не один объект, а много строк с объектами\"\"\"\n",
    "data = []\n",
    "\n",
    "with open('google.json') as file:\n",
    "    for line in file:\n",
    "        data.append(json.loads(line))"
   ]
  },
  {
   "cell_type": "code",
   "execution_count": null,
   "id": "0559b2ab-dd50-46cb-a8b9-dafa1697907b",
   "metadata": {},
   "outputs": [],
   "source": [
    "with open('new2.json', 'w', encoding='utf8') as file:\n",
    "    json.dump(data, file, ensure_ascii=False, indent=4)"
   ]
  },
  {
   "cell_type": "markdown",
   "id": "5d2788fb-6671-47d5-bcd8-391e6c93d113",
   "metadata": {},
   "source": [
    "Когда сохраняем файл в формате json, последние два параметра необязательны, но лучше всегда указывать ensure_ascii=False (чтобы записывать в utf8); indent - это отступы внутри файла, если не указать этот параметр, весь объект запишется в одну строчку. 4 - это количество пробелов в отступе. "
   ]
  },
  {
   "cell_type": "markdown",
   "id": "5044d2a9-d9a8-495a-895c-f844a18c59e3",
   "metadata": {
    "tags": []
   },
   "source": [
    "#### CSV, TSV\n",
    "\n",
    "csv (comma separated values) или tsv (tab separated values) - формат табличных данных. В таких файлах можно хранить таблицы. В первой строке этого файла обычно хранятся названия колонок (или нет), разделенные делимитером (запятой, знаком табуляции или др), а в следующих строках хранятся значения строчек таблицы, тоже через делимитер. \n",
    "\n",
    "У питона есть модуль, который умеет читать и писать данные в csv, но на практике гораздо чаще используются pandas (будем изучать). \n",
    "\n",
    "Какие понятия связаны с csv?\n",
    "\n",
    "1. delimiter - то, что разделяет ячейки в файле. Как правило, запятая или \\t\n",
    "2. QUOTECHAR - значок, которым обозначаются границы значений, если вдруг внутри значения попадается делимитер (например, запятая или табуляция в текстовой ячейке)\n",
    "3. Способ цитирования - каким образом мы обозначаем границы значений: всегда, в некоторых случаях, никогда. \n",
    "\n",
    "Параметры quoting:\n",
    "\n",
    "- csv.QUOTE_ALL\n",
    "\n",
    "    Будет брать в кавычки (или другой значок, если мы его укажем) все значения подряд.\n",
    "    \n",
    "- csv.QUOTE_MINIMAL\n",
    "\n",
    "    Будет брать в кавычки только такие значения, внутри которых попадается делимитер.\n",
    "    \n",
    "- csv.QUOTE_NONNUMERIC\n",
    "\n",
    "    Будет брать в кавычки только нечисловые типы данных и все числовые конвертировать в float.\n",
    "    \n",
    "- csv.QUOTE_NONE\n",
    "\n",
    "    Ничего не будет брать в кавычки; если внутри значений попадется делимитер, он его заэскейпит ( \\ )"
   ]
  },
  {
   "cell_type": "code",
   "execution_count": 1,
   "id": "bce12a4c-5979-42e7-af55-a5de0c28fba7",
   "metadata": {},
   "outputs": [],
   "source": [
    "import csv"
   ]
  },
  {
   "cell_type": "code",
   "execution_count": 4,
   "id": "d70a9528-cb4f-414f-b0dc-acb66b790b0a",
   "metadata": {},
   "outputs": [
    {
     "name": "stdout",
     "output_type": "stream",
     "text": [
      "rate_marriage, age, yrs_married, children, religious, educ, occupation, occupation_husb, affairs\n",
      "3.0, 32.0, 9.0, 3.0, 3.0, 17.0, 2.0, 5.0, 0.1111111\n",
      "3.0, 27.0, 13.0, 3.0, 1.0, 14.0, 3.0, 4.0, 3.2307692\n",
      "4.0, 22.0, 2.5, 0.0, 1.0, 16.0, 3.0, 5.0, 1.3999996000000001\n",
      "4.0, 37.0, 16.5, 4.0, 3.0, 16.0, 5.0, 5.0, 0.7272727\n"
     ]
    }
   ],
   "source": [
    "\"\"\"Хотим считать файл в csv\"\"\"\n",
    "with open('affairs.csv') as csvfile:\n",
    "    reader = csv.reader(csvfile, delimiter=',', quotechar='\"')\n",
    "    c = 0\n",
    "    for row in reader:\n",
    "        c += 1\n",
    "        print(', '.join(row))\n",
    "        if c >= 5:\n",
    "            break"
   ]
  },
  {
   "cell_type": "code",
   "execution_count": 5,
   "id": "86b51f95-a496-465d-9b1a-938c914444a9",
   "metadata": {},
   "outputs": [
    {
     "name": "stdout",
     "output_type": "stream",
     "text": [
      "[['rate_marriage', 'age', 'yrs_married', 'children', 'religious', 'educ', 'occupation', 'occupation_husb', 'affairs']]\n"
     ]
    }
   ],
   "source": [
    "data = []\n",
    "with open('affairs.csv') as csvfile:\n",
    "    reader = csv.reader(csvfile) # на самом деле обязателен здесь только файл\n",
    "    for row in reader:\n",
    "        data.append(row)\n",
    "print(data[:1])"
   ]
  },
  {
   "cell_type": "code",
   "execution_count": 7,
   "id": "488cd9cf-5043-464a-bd1d-25ebba3d597a",
   "metadata": {},
   "outputs": [],
   "source": [
    "with open('affairsnew.tsv', 'w', encoding='utf8') as csvfile:\n",
    "    writer = csv.writer(csvfile, delimiter='\\t', quoting=csv.QUOTE_ALL)\n",
    "    for row in data:\n",
    "        writer.writerow(row)"
   ]
  },
  {
   "cell_type": "markdown",
   "id": "d2723ae5-7500-4cf7-959f-c75326191d61",
   "metadata": {},
   "source": [
    "Можете посмотреть, что получилось. "
   ]
  },
  {
   "cell_type": "markdown",
   "id": "1b0c9f37-c883-40d6-857b-9b43db9b9e94",
   "metadata": {},
   "source": [
    "#### Бинарные файлы, pickle, dill\n",
    "\n",
    "Быстрее и лучше всего машина читает бинарные файлы, записывать которые умеет стандартный модуль pickle. Такие файлы не читаются человеком (практически). Также можно использовать библиотеку dill (ее надо установить pip install dill), у обоих модулей примерно одинаковый синтаксис. "
   ]
  },
  {
   "cell_type": "code",
   "execution_count": null,
   "id": "80eba13b-cc15-49ea-9fa1-550ceb531179",
   "metadata": {},
   "outputs": [],
   "source": [
    "import pickle\n",
    "\n",
    "pickle.dump(data, open('data', 'wb'))  # wb - режим записи бинарника. Не забывайте про b\n",
    "data = pickle.load(open('data', 'rb'))  # rb - режим чтения бинарника. Есть также ab"
   ]
  },
  {
   "cell_type": "code",
   "execution_count": null,
   "id": "9808a68c-2fab-4504-ba52-faa2cfad3a09",
   "metadata": {},
   "outputs": [],
   "source": [
    "import dill\n",
    "\n",
    "dill.dump(data, open('data', 'wb'))\n",
    "data = dill.load(open('data', 'rb'))"
   ]
  }
 ],
 "metadata": {
  "kernelspec": {
   "display_name": "Python 3 (ipykernel)",
   "language": "python",
   "name": "python3"
  },
  "language_info": {
   "codemirror_mode": {
    "name": "ipython",
    "version": 3
   },
   "file_extension": ".py",
   "mimetype": "text/x-python",
   "name": "python",
   "nbconvert_exporter": "python",
   "pygments_lexer": "ipython3",
   "version": "3.8.10"
  }
 },
 "nbformat": 4,
 "nbformat_minor": 5
}
