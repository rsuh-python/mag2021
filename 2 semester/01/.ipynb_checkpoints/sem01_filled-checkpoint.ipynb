{
 "cells": [
  {
   "cell_type": "markdown",
   "id": "a807ec6f-e667-41d3-be5a-db8988c7af54",
   "metadata": {},
   "source": [
    "Изучите пример кода в ячейке ниже. Попытайтесь разобраться, как он работает (и работает ли), что хочет сделать тот, кто его написал.\n",
    "\n",
    "B: проверьте, какие конвенции PEP8 нарушены. Подумайте, в каком месте может возникать ошибка. \n",
    "\n",
    "P: попробуйте переписать код оптимальным образом, соблюдая конвенции. Подумайте, нужен ли здесь список."
   ]
  },
  {
   "cell_type": "code",
   "execution_count": null,
   "id": "44ca900f-575d-4b21-8957-2f3ab94b643a",
   "metadata": {},
   "outputs": [],
   "source": [
    "a = int(input())\n",
    "b = [i for i in range(1,a+1)]\n",
    "grid = int(a**0.5)\n",
    "for j in range(0,grid):\n",
    "    z = []\n",
    "    zed = j*grid\n",
    "    zed2=j*grid-grid\n",
    "    for i in range(zed2,zed):\n",
    "        if b[i] <10:\n",
    "            z.append(str(0)+str(b[i]))\n",
    "        else:\n",
    "            z.append(str(b[i]))\n",
    "    print(z)"
   ]
  },
  {
   "cell_type": "markdown",
   "id": "c10f5df8-1310-435d-b801-614b42e60abe",
   "metadata": {},
   "source": [
    "01 02 03 04 05\n",
    "06 07 08 09 10\n",
    "11 12 13 14 15\n",
    "16 17 18 19 20\n",
    "21 22 23 24 25\n",
    "26"
   ]
  },
  {
   "cell_type": "code",
   "execution_count": null,
   "id": "50ff9e3a-ebff-4a85-a189-7df6ae935dac",
   "metadata": {},
   "outputs": [],
   "source": [
    "'123'.zfill(x)"
   ]
  },
  {
   "cell_type": "code",
   "execution_count": 1,
   "id": "f1177713-8b4c-4682-9f91-e9497dc5b532",
   "metadata": {},
   "outputs": [
    {
     "data": {
      "text/plain": [
       "'01'"
      ]
     },
     "execution_count": 1,
     "metadata": {},
     "output_type": "execute_result"
    }
   ],
   "source": [
    "n = input()\n",
    "x = len(n)\n",
    "n = int(n)\n",
    "grid = int(n ** 0.5)\n",
    "for i in range(1, n + 1):\n",
    "    "
   ]
  },
  {
   "cell_type": "markdown",
   "id": "0c91efb1-a534-4fd1-8c6e-b0f6ed4ef477",
   "metadata": {},
   "source": [
    "В базе данных ветеринарной клиники информация о пациентах-котах хранится в списке кортежей. Данные о кошках и их владельцах записаны в формате «Кличка животного, Возраст животного, Имя владельца, Фамилия владельца»:\n",
    "\n",
    "    cats = [('Мартин', 5, 'Алексей', 'Егоров'),\n",
    "            ('Фродо', 3, 'Анна', 'Самохина'),\n",
    "            ('Вася', 4, 'Андрей', 'Белов'),\n",
    "            ('Муся', 7, 'Игорь', 'Бероев'),\n",
    "            ('Изольда', 2, 'Игорь', 'Бероев'),\n",
    "            ('Снейп', 1, 'Марина', 'Апраксина'),\n",
    "            ('Лютик', 4, 'Виталий', 'Соломин'),\n",
    "            ('Снежок', 3, 'Марина', 'Апраксина'),\n",
    "            ('Марта', 5, 'Сергей', 'Колесников'),\n",
    "            ('Буся', 12, 'Алена', 'Федорова'),\n",
    "            ('Джонни', 10, 'Игорь', 'Андропов'),\n",
    "            ('Мурзик', 1,'Даниил', 'Невзоров'),\n",
    "            ('Барсик', 2, 'Виталий', 'Соломин'),\n",
    "            ('Рыжик', 7, 'Владимир', 'Медведев'),\n",
    "            ('Матильда', 8, 'Андрей', 'Белов'),\n",
    "            ('Гарфилд', 3, 'Александр', 'Березуев')]\n",
    "            \n",
    "Обнаружилось, что имена некоторых владельцев повторяются, потому что у них несколько кошек. Необходимо оптимизировать хранение данных таким образом, чтобы для каждого владельца при выводе на печать данные о всех его животных отображались в одной строке:\n",
    "\n",
    "Игорь Бероев: Муся, 7; Изольда, 2"
   ]
  },
  {
   "cell_type": "code",
   "execution_count": 2,
   "id": "8b6398b8-524f-4e8c-be33-55337716bfc9",
   "metadata": {},
   "outputs": [],
   "source": [
    "import json"
   ]
  },
  {
   "cell_type": "code",
   "execution_count": 3,
   "id": "bcd5f6c1-7230-409e-8b14-15c433bafb8f",
   "metadata": {},
   "outputs": [],
   "source": [
    "with open('13.json', encoding='utf8') as file:\n",
    "    data = json.load(file)"
   ]
  },
  {
   "cell_type": "code",
   "execution_count": 8,
   "id": "3642e9db-3386-47cb-8a2a-5b084c6562fd",
   "metadata": {},
   "outputs": [],
   "source": [
    "with open('new.json', 'w', encoding='utf8') as file:\n",
    "    json.dump(data[:4], file, ensure_ascii=False, indent=4)"
   ]
  },
  {
   "cell_type": "markdown",
   "id": "d727e018-b4ec-4326-ae7b-5546db0ac22f",
   "metadata": {},
   "source": [
    "load, dump\n",
    "\n",
    "loads dumps"
   ]
  },
  {
   "cell_type": "code",
   "execution_count": 10,
   "id": "67121f3f-a230-44a9-aa3a-ad244383ddbe",
   "metadata": {},
   "outputs": [],
   "source": [
    "data = []\n",
    "with open('google.json', encoding='utf8') as file:\n",
    "    for line in file:\n",
    "        data.append(json.loads(line))"
   ]
  },
  {
   "cell_type": "code",
   "execution_count": null,
   "id": "5c28f132-55eb-4d93-9412-65362cf8b0ba",
   "metadata": {},
   "outputs": [],
   "source": [
    "import csv\n",
    "\n",
    "with open('affairs.csv') as file:\n",
    "    name = csv.reader(file)\n",
    "    for row in name:\n",
    "        print(row)"
   ]
  },
  {
   "cell_type": "markdown",
   "id": "1c95f7e4-a723-49e2-a070-015b6792a965",
   "metadata": {},
   "source": [
    "delimiter - разделитель (, \\t - tsv)\n",
    "\n",
    "csv.writer(file, delimiter=..., quoting=...)\n",
    "quoting\n",
    "\n",
    "csv.QUOTE_MINIMAL\n",
    "\n",
    "1, 2, 3, \"4,5\"\n",
    "\n",
    "csv.QUOTE_ALL\n",
    "\n",
    "csv.QUOTE_NONNUMERIC\n",
    "\n",
    "csv.QUOTE_NONE \\,"
   ]
  },
  {
   "cell_type": "code",
   "execution_count": 12,
   "id": "d7bf7d51-1262-4d3e-986b-ac6234fcee88",
   "metadata": {},
   "outputs": [],
   "source": [
    "import pickle\n",
    "\n",
    "pickle.dump(data, open('data.bin', 'wb'))"
   ]
  },
  {
   "cell_type": "code",
   "execution_count": 13,
   "id": "6a5a8676-a635-4469-9c3a-8afcbb70c4d9",
   "metadata": {},
   "outputs": [],
   "source": [
    "data = pickle.load(open('data.bin', 'rb'))"
   ]
  },
  {
   "cell_type": "code",
   "execution_count": 14,
   "id": "61e05b90-0872-4aef-9b7e-56696d374421",
   "metadata": {},
   "outputs": [],
   "source": [
    "import dill\n",
    "\n",
    "dill.dump(data, open('data', 'wb'))"
   ]
  },
  {
   "cell_type": "code",
   "execution_count": 16,
   "id": "70163661-626a-4f8d-9d7f-c360c504d6f1",
   "metadata": {},
   "outputs": [],
   "source": [
    "data = dill.load(open('data', 'rb'))"
   ]
  },
  {
   "cell_type": "code",
   "execution_count": null,
   "id": "06e39340-5446-4f3c-955e-cf8556fb94d6",
   "metadata": {},
   "outputs": [],
   "source": [
    "#your code here"
   ]
  },
  {
   "cell_type": "markdown",
   "id": "e13d4e1d-13b6-4a6d-95c5-b1e210d7a84a",
   "metadata": {},
   "source": [
    "B: запишите в формате json получившуюся базу данных из предыдущей задачи. "
   ]
  },
  {
   "cell_type": "code",
   "execution_count": null,
   "id": "35a73b31-7949-4458-a436-4a66cfc08b58",
   "metadata": {},
   "outputs": [],
   "source": [
    "#your code here"
   ]
  },
  {
   "cell_type": "markdown",
   "id": "a3020443-18c9-4dd4-9fe3-ae37bb595e29",
   "metadata": {},
   "source": [
    "P: считайте данные из файла google.json в папке семинара. "
   ]
  },
  {
   "cell_type": "code",
   "execution_count": null,
   "id": "51764f1b-8202-4d09-b5ec-0e074a03f931",
   "metadata": {},
   "outputs": [],
   "source": [
    "#your code here"
   ]
  },
  {
   "cell_type": "markdown",
   "id": "1e9e2096-d84b-4dc6-bc8c-5bb24796f960",
   "metadata": {},
   "source": [
    "B, P: сериализуйте тот же объект с помощью pickle либо dill и запишите его в бинарник, а потом считайте назад. "
   ]
  },
  {
   "cell_type": "code",
   "execution_count": null,
   "id": "e17cceba-dc2a-4033-a461-7b629c2715eb",
   "metadata": {},
   "outputs": [],
   "source": [
    "#your code here"
   ]
  }
 ],
 "metadata": {
  "kernelspec": {
   "display_name": "Python 3 (ipykernel)",
   "language": "python",
   "name": "python3"
  },
  "language_info": {
   "codemirror_mode": {
    "name": "ipython",
    "version": 3
   },
   "file_extension": ".py",
   "mimetype": "text/x-python",
   "name": "python",
   "nbconvert_exporter": "python",
   "pygments_lexer": "ipython3",
   "version": "3.8.10"
  }
 },
 "nbformat": 4,
 "nbformat_minor": 5
}
