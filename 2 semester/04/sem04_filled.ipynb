{
 "cells": [
  {
   "cell_type": "markdown",
   "id": "4b4ae23e-5b84-4055-8c1c-b0eb728a60d6",
   "metadata": {},
   "source": [
    "- специальные последовательности \n",
    "        \\n \\t \n",
    "        \\b \\d \\w \\s \n",
    "        \n",
    "- метасимволы\n",
    "        . \n",
    "        \\*, +, ?, {}\n",
    "        ^ $\n",
    "        ()\n",
    "        []\n",
    "        |\n",
    "        \n"
   ]
  },
  {
   "cell_type": "markdown",
   "id": "2d038058-b6a7-4fbd-b871-914cf15a625b",
   "metadata": {},
   "source": [
    "? - x? 0 или 1\n",
    "\n",
    "\\+ - 1 или более\n",
    "\n",
    "\\* - 0 или более\n",
    "\n",
    "{}\n",
    "\n",
    "{3}\n",
    "\n",
    "{2,3}\n",
    "\n",
    "{2,}\n",
    "\n",
    "{,3}\n",
    "\n",
    "Ленивые квантификаторы:\n",
    "\n",
    "+?"
   ]
  },
  {
   "cell_type": "markdown",
   "id": "c7a1e145-f170-4ccd-9afa-e9b329a0e641",
   "metadata": {},
   "source": [
    "Классы символов\n",
    "\n",
    "[]\n",
    "\n",
    "[abc] = a|b|c\n",
    "\n",
    "[\\d\\s]\n",
    "\n",
    "[^abc]\n",
    "\n",
    "\\D - [^\\d]\n",
    "\n",
    "[a-z]\n",
    "\n",
    "[-a-z]\n"
   ]
  },
  {
   "cell_type": "markdown",
   "id": "edff3785-9084-43c2-907f-002233dc4b9c",
   "metadata": {},
   "source": [
    "Группы\n",
    "\n",
    "abc|def = abc, def\n",
    "\n",
    "ab(c|d)ef = abcef, abdef\n",
    "\n",
    "(abc)*\n",
    "\n",
    "(\\d{3})...\\1\n",
    "\n",
    "(\\d..(\\w))\n",
    "\n",
    "(?Pname>...) (?P=name)\n",
    "\n",
    "(?:...) - группа без захвата содержимого"
   ]
  },
  {
   "cell_type": "markdown",
   "id": "89eb2d5a-e059-40c3-8ffc-0eb65a986957",
   "metadata": {},
   "source": [
    "Проверки (assertions)\n",
    "\n",
    "- опережающая позитивная (?=...)\n",
    "- опережающая негативная (?!...)\n",
    "- ретроспективная позитивная (?<=...)\n",
    "- ретроспективная негативная (?<!...)"
   ]
  },
  {
   "cell_type": "code",
   "execution_count": 1,
   "id": "5d6e2382-e7aa-4776-81dd-abc2c70e630f",
   "metadata": {},
   "outputs": [],
   "source": [
    "import re"
   ]
  },
  {
   "cell_type": "markdown",
   "id": "f0f6ecff-4b15-4b8f-b1eb-7a3c2b35678a",
   "metadata": {},
   "source": [
    "re.Match \n",
    "\n",
    "re.Pattern"
   ]
  },
  {
   "cell_type": "markdown",
   "id": "5baf4f74-4d2e-4431-b59d-e6e478b39eb7",
   "metadata": {},
   "source": [
    "re.search(pattern, string, flags=...)"
   ]
  },
  {
   "cell_type": "code",
   "execution_count": 2,
   "id": "5e52c81e-c678-455f-89db-5a26013dfc36",
   "metadata": {},
   "outputs": [],
   "source": [
    "text = '''Фредди Крюгер\n",
    "Фредерик «Фредди» Чарльз Крюгер (англ. Frederick «Freddy» Charles Krueger) — маньяк-убийца, главный антагонист серии фильмов ужасов «Кошмар на улице Вязов». Фредди Крюгера придумал режиссёр и сценарист Уэс Крэйвен, роль маньяка исполнил актёр Роберт Инглунд, сыгравший Крюгера в восьми фильмах, одном телевизионном сериале и множестве промо-материалов и документальных картин. В ремейке 2010 года его сыграл Джеки Эрл Хейли.\n",
    "Впервые персонаж появляется в фильме «Кошмар на улице Вязов» 1984 года — в образе мужчины с обгоревшим до мышц и костей телом, в красном свитере с тёмно-зелёными горизонтальными полосами и в коричневой шляпе, на правой руке носит перчатку с острыми металлическими лезвиями на кончиках пальцев. При жизни получил прозвище «Спрингвудский потрошитель» (англ. The Springwood Slasher) — он убивал детей, проживающих на улице Вязов в вымышленном городе Спрингвуд. После того, как маньяка отпустила полиция из-за формальной ошибки при аресте, родители убитых малышей устроили самосуд и заживо сожгли Крюгера; в этот момент ему явились Демоны снов, даровавшие силу убивать людей в царстве сновидений, а иногда — и прорываться в реальный мир. В сновидениях Крюгер практически неуязвим, и всегда возрождается после предполагаемой гибели.\n",
    "Многими критиками признан культовым киноперсонажем, вместе с первым фильмом не раз включён в списки лучших за всю историю кино. Карнавальный костюм Фредди Крюгера — один из самых продаваемых в США на Хэллоуин. По всему миру было выпущено огромное количество продукции с логотипом франшизы и изображением героя — комиксы, наклейки, журналы, компьютерные игры, фигурки, предметы декора и пр.'''"
   ]
  },
  {
   "cell_type": "code",
   "execution_count": 37,
   "id": "19d26037-2295-47c6-8cd8-ed86a888270c",
   "metadata": {},
   "outputs": [],
   "source": [
    "pattern = re.compile(r'(?i)\\bкрюгер.*?\\b')"
   ]
  },
  {
   "cell_type": "code",
   "execution_count": 38,
   "id": "de4c25b6-44c5-4d08-aa8f-965a0fb8025e",
   "metadata": {},
   "outputs": [],
   "source": [
    "m = re.search(pattern, text)"
   ]
  },
  {
   "cell_type": "code",
   "execution_count": 9,
   "id": "f562b321-660d-4ea8-9c8e-90ecefb1ba81",
   "metadata": {},
   "outputs": [
    {
     "data": {
      "text/plain": [
       "<re.Match object; span=(7, 13), match='Крюгер'>"
      ]
     },
     "execution_count": 9,
     "metadata": {},
     "output_type": "execute_result"
    }
   ],
   "source": [
    "m"
   ]
  },
  {
   "cell_type": "code",
   "execution_count": 39,
   "id": "db22bae2-c84c-4a70-823d-b588dc4faed5",
   "metadata": {},
   "outputs": [
    {
     "data": {
      "text/plain": [
       "'Крюгер'"
      ]
     },
     "execution_count": 39,
     "metadata": {},
     "output_type": "execute_result"
    }
   ],
   "source": [
    "m.group()"
   ]
  },
  {
   "cell_type": "code",
   "execution_count": 16,
   "id": "b0963857-f5e7-4bda-97bb-766a835bac3e",
   "metadata": {},
   "outputs": [
    {
     "data": {
      "text/plain": [
       "(7, 13)"
      ]
     },
     "execution_count": 16,
     "metadata": {},
     "output_type": "execute_result"
    }
   ],
   "source": [
    "m.span()"
   ]
  },
  {
   "cell_type": "code",
   "execution_count": 18,
   "id": "0c99e36e-71fb-418d-8f36-9999c45101c6",
   "metadata": {},
   "outputs": [
    {
     "data": {
      "text/plain": [
       "'Крюгер'"
      ]
     },
     "execution_count": 18,
     "metadata": {},
     "output_type": "execute_result"
    }
   ],
   "source": [
    "text[7:13]"
   ]
  },
  {
   "cell_type": "code",
   "execution_count": 19,
   "id": "275432f6-3bea-40b6-9057-3a5192b7d3bf",
   "metadata": {},
   "outputs": [
    {
     "data": {
      "text/plain": [
       "7"
      ]
     },
     "execution_count": 19,
     "metadata": {},
     "output_type": "execute_result"
    }
   ],
   "source": [
    "m.start()"
   ]
  },
  {
   "cell_type": "code",
   "execution_count": 20,
   "id": "c4030f80-55a3-4c4a-b7d0-ba5d8296bc73",
   "metadata": {},
   "outputs": [
    {
     "data": {
      "text/plain": [
       "13"
      ]
     },
     "execution_count": 20,
     "metadata": {},
     "output_type": "execute_result"
    }
   ],
   "source": [
    "m.end()"
   ]
  },
  {
   "cell_type": "code",
   "execution_count": 27,
   "id": "3fef928e-4bf2-4516-9841-36b333543660",
   "metadata": {},
   "outputs": [
    {
     "data": {
      "text/plain": [
       "['Крюгер', 'Крюгер', 'Крюгер', 'Крюгер', 'Крюгер', 'Крюгер', 'Крюгер']"
      ]
     },
     "execution_count": 27,
     "metadata": {},
     "output_type": "execute_result"
    }
   ],
   "source": [
    "re.findall(pattern, text)"
   ]
  },
  {
   "cell_type": "code",
   "execution_count": 31,
   "id": "2ee60277-e6af-4f82-b436-7a1e47b83c3a",
   "metadata": {},
   "outputs": [
    {
     "data": {
      "text/plain": [
       "['англ. Frederick «Freddy» Charles Krueger', 'англ. The Springwood Slasher']"
      ]
     },
     "execution_count": 31,
     "metadata": {},
     "output_type": "execute_result"
    }
   ],
   "source": [
    "re.findall(r'\\(([^)(]*)\\)', text)"
   ]
  },
  {
   "cell_type": "code",
   "execution_count": 33,
   "id": "0bc21714-009c-49b8-9389-be769b3f4c41",
   "metadata": {},
   "outputs": [
    {
     "name": "stdout",
     "output_type": "stream",
     "text": [
      "(англ. Frederick «Freddy» Charles Krueger) англ. Frederick «Freddy» Charles Krueger\n",
      "(англ. The Springwood Slasher) англ. The Springwood Slasher\n"
     ]
    }
   ],
   "source": [
    "for m in re.finditer(r'\\(([^)(]*)\\)', text):\n",
    "    print(m.group(), m.group(1))"
   ]
  },
  {
   "cell_type": "markdown",
   "id": "f57cd31b-d29c-4146-9a83-2f45ed9065a3",
   "metadata": {},
   "source": [
    "re.match(pattern, string) \n",
    "\n",
    "re.fullmatch(pattern, string)\n",
    "\n",
    "if re.fullmatch():\n"
   ]
  },
  {
   "cell_type": "raw",
   "id": "f38a9598-c89e-42ac-97ea-52a678996729",
   "metadata": {},
   "source": [
    "re.split(pattern, text)"
   ]
  },
  {
   "cell_type": "code",
   "execution_count": 36,
   "id": "8ce21f73-53da-42ec-b32b-5bc3804ce439",
   "metadata": {},
   "outputs": [
    {
     "data": {
      "text/plain": [
       "'Фредди КРЮГЕР\\nФредерик «Фредди» Чарльз КРЮГЕР (англ. Frederick «Freddy» Charles Krueger) — маньяк-убийца, главный антагонист серии фильмов ужасов «Кошмар на улице Вязов». Фредди КРЮГЕРА придумал режиссёр и сценарист Уэс Крэйвен, роль маньяка исполнил актёр Роберт Инглунд, сыгравший КРЮГЕРА в восьми фильмах, одном телевизионном сериале и множестве промо-материалов и документальных картин. В ремейке 2010 года его сыграл Джеки Эрл Хейли.\\nВпервые персонаж появляется в фильме «Кошмар на улице Вязов» 1984 года — в образе мужчины с обгоревшим до мышц и костей телом, в красном свитере с тёмно-зелёными горизонтальными полосами и в коричневой шляпе, на правой руке носит перчатку с острыми металлическими лезвиями на кончиках пальцев. При жизни получил прозвище «Спрингвудский потрошитель» (англ. The Springwood Slasher) — он убивал детей, проживающих на улице Вязов в вымышленном городе Спрингвуд. После того, как маньяка отпустила полиция из-за формальной ошибки при аресте, родители убитых малышей устроили самосуд и заживо сожгли КРЮГЕРА; в этот момент ему явились Демоны снов, даровавшие силу убивать людей в царстве сновидений, а иногда — и прорываться в реальный мир. В сновидениях КРЮГЕР практически неуязвим, и всегда возрождается после предполагаемой гибели.\\nМногими критиками признан культовым киноперсонажем, вместе с первым фильмом не раз включён в списки лучших за всю историю кино. Карнавальный костюм Фредди КРЮГЕРА — один из самых продаваемых в США на Хэллоуин. По всему миру было выпущено огромное количество продукции с логотипом франшизы и изображением героя — комиксы, наклейки, журналы, компьютерные игры, фигурки, предметы декора и пр.'"
      ]
     },
     "execution_count": 36,
     "metadata": {},
     "output_type": "execute_result"
    }
   ],
   "source": [
    "re.sub(pattern, lambda x: x.group().upper(), text)"
   ]
  },
  {
   "cell_type": "markdown",
   "id": "f585bdc3-8be8-4f03-8a3f-004a75e6c4c7",
   "metadata": {},
   "source": [
    "[A-Za-z]\n",
    "\n",
    ". = \\n\n",
    "\n",
    "^ $"
   ]
  },
  {
   "cell_type": "markdown",
   "id": "4d442707-0f94-4358-a94a-d03f714e1b5a",
   "metadata": {},
   "source": [
    "r'(?aiLmsux)'\n",
    "\n",
    "(?i) \n",
    "\n",
    "(?m)\n",
    "\n",
    "(?s) \n",
    "\n",
    "re.search(pattern, text, flags=re.I)\n",
    "\n",
    "re.I, re.M, re.S\n",
    "\n",
    "re.IGNORECASE, re.MULTILINE, re.DOTALL\n",
    "\n",
    "'(?im)'\n",
    "\n",
    "flags=re.I | re.M"
   ]
  }
 ],
 "metadata": {
  "kernelspec": {
   "display_name": "Python 3 (ipykernel)",
   "language": "python",
   "name": "python3"
  },
  "language_info": {
   "codemirror_mode": {
    "name": "ipython",
    "version": 3
   },
   "file_extension": ".py",
   "mimetype": "text/x-python",
   "name": "python",
   "nbconvert_exporter": "python",
   "pygments_lexer": "ipython3",
   "version": "3.9.7"
  }
 },
 "nbformat": 4,
 "nbformat_minor": 5
}
