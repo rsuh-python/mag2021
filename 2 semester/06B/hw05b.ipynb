{
 "cells": [
  {
   "cell_type": "markdown",
   "id": "b1213507-b626-46f2-8b3d-68419a0d2c1d",
   "metadata": {
    "tags": []
   },
   "source": [
    "#### Задача 1. \n",
    "\n",
    "Возьмите любой достаточно длинный текстовый файл на русском языке. Сделайте его морфоразбор с помощью любого понравившегося парсера и посчитайте лексическое разнообразие (количество уникальных лемм / общее количество слов). "
   ]
  },
  {
   "cell_type": "code",
   "execution_count": null,
   "id": "08412a9b-acf0-4ead-9227-9364e8f782d6",
   "metadata": {},
   "outputs": [],
   "source": [
    "# your code here"
   ]
  },
  {
   "cell_type": "markdown",
   "id": "0354d76a-5a25-463f-a02b-b58419453526",
   "metadata": {},
   "source": [
    "#### Задача 2.\n",
    "\n",
    "Посчитайте процентное соотношение частей речи в выбранном файле. "
   ]
  },
  {
   "cell_type": "code",
   "execution_count": null,
   "id": "2bf39763-f111-427f-a649-180c6b7b1204",
   "metadata": {},
   "outputs": [],
   "source": [
    "# your code here"
   ]
  },
  {
   "cell_type": "markdown",
   "id": "9087bda7-9462-4f00-ad27-2aeb5b702272",
   "metadata": {
    "tags": []
   },
   "source": [
    "#### Задача 3. \n",
    "\n",
    "Подготовьте собственный файл в формате .conllu и разберите его с помощью парсера Анастасьева. Постройте графическое дерево зависимостей хотя бы для одного предложения. "
   ]
  },
  {
   "cell_type": "code",
   "execution_count": null,
   "id": "20b63c01-ccc2-4f1e-9471-e0508d0291d4",
   "metadata": {},
   "outputs": [],
   "source": [
    "# your code here"
   ]
  }
 ],
 "metadata": {
  "kernelspec": {
   "display_name": "Python 3 (ipykernel)",
   "language": "python",
   "name": "python3"
  },
  "language_info": {
   "codemirror_mode": {
    "name": "ipython",
    "version": 3
   },
   "file_extension": ".py",
   "mimetype": "text/x-python",
   "name": "python",
   "nbconvert_exporter": "python",
   "pygments_lexer": "ipython3",
   "version": "3.8.10"
  }
 },
 "nbformat": 4,
 "nbformat_minor": 5
}
