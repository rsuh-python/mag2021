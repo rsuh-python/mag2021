{
 "cells": [
  {
   "cell_type": "markdown",
   "id": "8c9db048-43a8-4ca7-9676-f08046fae70a",
   "metadata": {},
   "source": [
    "#### Задача 1. ####\n",
    "\n",
    "1. Возьмите любой достаточно длинный текст. \n",
    "2. Токенизируйте его несколькими токенизаторами: для каждого токенизатора должно получиться множество токенов (нас интересуют только уникальные). \n",
    "3. Попарно сравните токенизаторы: посчитайте, сколько токенов не совпало (т.е., сколько токенов токенизатор А выдал таких, каких не выдал токенизатор Б, и наоборот). \n",
    "4. Проанализируйте, что это за токены. "
   ]
  },
  {
   "cell_type": "code",
   "execution_count": null,
   "id": "8d8784ec-dee3-4d15-a0d0-4d424d837a4a",
   "metadata": {},
   "outputs": [],
   "source": [
    "# your code here"
   ]
  },
  {
   "cell_type": "markdown",
   "id": "b7287d3b-7080-4c70-8a18-1a78cb422161",
   "metadata": {},
   "source": [
    "#### Задача 2. ####\n",
    "\n",
    "[Колаб с интегральным морфопарсером](https://colab.research.google.com/drive/1nuIqJ-YUuDihSzi37A-YLy2uW7Ll-2Rr?usp=sharing)\n",
    "\n",
    "Возьмите любой не слишком длинный текст (можно статью). Токенизируйте его любым понравившимся токенизатором и подготовьте .conllu без разметки. Разметьте текст интегральным морфопарсером. Оцените качество. \n",
    "\n",
    "Бонус: можно сравнить лемматизацию этого парсера с mystem, например: посмотреть, сколько лемм не совпали и какие. "
   ]
  },
  {
   "cell_type": "code",
   "execution_count": null,
   "id": "60ae6de4-11f4-4ff9-90fa-5efeb3111e6c",
   "metadata": {},
   "outputs": [],
   "source": [
    "# your code here"
   ]
  }
 ],
 "metadata": {
  "kernelspec": {
   "display_name": "Python 3 (ipykernel)",
   "language": "python",
   "name": "python3"
  },
  "language_info": {
   "codemirror_mode": {
    "name": "ipython",
    "version": 3
   },
   "file_extension": ".py",
   "mimetype": "text/x-python",
   "name": "python",
   "nbconvert_exporter": "python",
   "pygments_lexer": "ipython3",
   "version": "3.8.10"
  }
 },
 "nbformat": 4,
 "nbformat_minor": 5
}
