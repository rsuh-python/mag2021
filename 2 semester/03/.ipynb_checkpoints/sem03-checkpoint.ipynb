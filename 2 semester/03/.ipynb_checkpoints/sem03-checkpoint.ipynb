{
 "cells": [
  {
   "cell_type": "markdown",
   "id": "ba600c89-abb4-470e-b804-5bca53bcf811",
   "metadata": {},
   "source": [
    "#### Задача 1.\n",
    "\n",
    "Подумайте, как упростить следующий код:"
   ]
  },
  {
   "cell_type": "code",
   "execution_count": null,
   "id": "3442b842-808e-4018-85a2-47c80c3144e7",
   "metadata": {},
   "outputs": [],
   "source": [
    "list_of_tokens = []\n",
    "n = int(input('Введите число слов: '))\n",
    "for i in range(n):\n",
    "    word = input('Введите токен, лемму и часть речи через пробелы: ').split(' ')\n",
    "    token = word[0]\n",
    "    lemma = word[1]\n",
    "    pos = word[2]\n",
    "    worddict = {'token': token, 'lemma': lemma, 'pos': pos}\n",
    "    list_of_tokens.append(worddict)\n",
    "\n",
    "for elem in list_of_tokens:\n",
    "    if elem['lemma'][-2:] == 'ся':\n",
    "        if elem['pos'] == 'V':\n",
    "            print(elem['token'], elem['lemma'], ': возвратный глагол') \n",
    "    elif elem['lemma'][-2] == 'ый' or elem['lemma'][-2] == 'ий':\n",
    "        if elem['pos'] == 'V':\n",
    "            print(elem['token'], elem['lemma'], ': причастие')\n",
    "        elif elem['pos'] == 'ADJ':\n",
    "            print(elem['token'], elem['lemma'], ': прилагательное')\n",
    "        else:\n",
    "            print(elem['token'], elem['lemma'], ': субстантивированное существительное')\n",
    "    elif elem['pos'] != 'N':\n",
    "        if elem['lemma'][0] == 'с' and elem['lemma'][-2] == 'ть':\n",
    "            if elem['pos'] != 'ADV':\n",
    "                print(elem['token'], elem['lemma'], ': глагол совершенного вида')\n",
    "        elif elem['lemma'][:2] == 'по' and elem['lemma'][-2] == 'ть':\n",
    "            if 'ыва' not in elem['lemma']:\n",
    "                    print(elem['token'], elem['lemma'], ': глагол совершенного вида')"
   ]
  },
  {
   "cell_type": "markdown",
   "id": "c393987a-9081-410a-aa94-f20b8a28966f",
   "metadata": {},
   "source": [
    "#### Задача 2.\n",
    "\n",
    "Напишем фрагмент некоей игры, где пользователь выбирает, хочет он создать героя-волшебника или воина. После создания (фантазия здесь не ограничена: можете приписать какие угодно атрибуты, но обязательно должны быть классические здоровье, магия и стамина) персонаж должен поприветствовать своего игрока, причем у волшебника одно приветствие, а у воина - другое. У обоих должны быть методы hit и restore_health, причем волшебник для удара тратит магию, а боец стамину, а restore_health может, например, проверять, есть ли в инвентаре у персонажа зелье магии или стамины. "
   ]
  },
  {
   "cell_type": "code",
   "execution_count": null,
   "id": "941fcdcb-7af5-47fb-805d-ce283998552c",
   "metadata": {},
   "outputs": [],
   "source": [
    "# your code here"
   ]
  },
  {
   "cell_type": "markdown",
   "id": "47f7702c-e390-4960-b7e3-0ced4d25f273",
   "metadata": {},
   "source": [
    "#### Задача 3.\n",
    "\n",
    "Напишите скрипт, в котором будет одна-две любых функции и пара глобальных переменных. Импортируйте этот скрипт в другой и вызовите свои функции. "
   ]
  },
  {
   "cell_type": "markdown",
   "id": "2bafecdd-dbce-44dd-be4d-9140cc446038",
   "metadata": {},
   "source": [
    "#### Задача 4.\n",
    "\n",
    "Расширим наш пакет: заведем второй скрипт с любым содержимым + как минимум одна переменная, сложим оба скрипта в отдельную папочку и заведем \\_\\_init\\_\\_.py, в котором будет инициализироваться какая-нибудь переменная. Импортируем в главный скрипт наш модуль с помощью import, вызовем функции подмодулей, выведем их переменные. "
   ]
  }
 ],
 "metadata": {
  "kernelspec": {
   "display_name": "Python 3 (ipykernel)",
   "language": "python",
   "name": "python3"
  },
  "language_info": {
   "codemirror_mode": {
    "name": "ipython",
    "version": 3
   },
   "file_extension": ".py",
   "mimetype": "text/x-python",
   "name": "python",
   "nbconvert_exporter": "python",
   "pygments_lexer": "ipython3",
   "version": "3.8.10"
  }
 },
 "nbformat": 4,
 "nbformat_minor": 5
}
