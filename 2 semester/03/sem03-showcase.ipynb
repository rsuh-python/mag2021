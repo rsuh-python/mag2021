{
 "cells": [
  {
   "cell_type": "markdown",
   "id": "92321782-0127-42d9-b79a-4362b5f7c544",
   "metadata": {},
   "source": [
    "if-statements"
   ]
  },
  {
   "cell_type": "code",
   "execution_count": null,
   "id": "3a7810d6-249d-413a-9a26-16ff69622d05",
   "metadata": {},
   "outputs": [],
   "source": [
    "if (...) and (...) and (...) ... :\n",
    "    pass\n",
    "\n",
    "state = (...) and (...) and (...)"
   ]
  },
  {
   "cell_type": "code",
   "execution_count": null,
   "id": "1c2178b3-7eb4-4ca5-b65b-67aa0dc32d91",
   "metadata": {},
   "outputs": [],
   "source": [
    "if (...):\n",
    "    if ....:\n",
    "        if ...:\n",
    "            ...\n",
    "if not (...):\n",
    "    continue\n",
    "if "
   ]
  },
  {
   "cell_type": "code",
   "execution_count": null,
   "id": "74ca6777-cb5f-4338-99b8-60bd466e08e4",
   "metadata": {},
   "outputs": [],
   "source": [
    "if not name.endswith('txt'):\n",
    "    continue\n",
    "file = open..."
   ]
  },
  {
   "cell_type": "code",
   "execution_count": null,
   "id": "75f8bb1a-5514-4bb1-88b6-6067f906dda4",
   "metadata": {},
   "outputs": [],
   "source": [
    "class Animal:\n",
    "    def __init__(self, name):\n",
    "        self.name = name\n",
    "        \n",
    "    def speak(self):\n",
    "        raise NotImplementedError"
   ]
  },
  {
   "cell_type": "code",
   "execution_count": null,
   "id": "174fb315-7912-45ad-b938-e834da29f7c4",
   "metadata": {},
   "outputs": [],
   "source": [
    "class Cat(Animal):\n",
    "    def speak(self):\n",
    "        return 'Meow!'\n",
    "    \n",
    "class Dog(Animal):\n",
    "    def speak(self):\n",
    "        return 'Гав!'"
   ]
  },
  {
   "cell_type": "code",
   "execution_count": null,
   "id": "ac551917-05ce-440a-b436-55f86bb8f6c2",
   "metadata": {},
   "outputs": [],
   "source": [
    "import math\n",
    "from math import sqrt\n",
    "from math import *\n",
    "import pandas as pd"
   ]
  },
  {
   "cell_type": "markdown",
   "id": "e318091f-2d07-4fae-b772-43ccffafe8ac",
   "metadata": {},
   "source": [
    "Пространства имен\n",
    "\n",
    "1. пространство имен того скрипта, который мы запустили\n",
    "2. пространство имен модуля, который мы импортировали (import) - from .... import ... - не создает отдельного пространства имен для модуля\n",
    "3. те имена, которые внутри функций или классов"
   ]
  },
  {
   "cell_type": "markdown",
   "id": "66ef9017-2ae6-4cd9-b43a-ce1b0a09ce99",
   "metadata": {},
   "source": [
    "1. Домашний каталог программы\n",
    "2. Каталоги PYTHONPATH #\n",
    "3. Каталоги стандартной библиотеки\n",
    "4. Файлы .pth #\n",
    "5. site-packages (pip install)"
   ]
  }
 ],
 "metadata": {
  "kernelspec": {
   "display_name": "Python 3 (ipykernel)",
   "language": "python",
   "name": "python3"
  },
  "language_info": {
   "codemirror_mode": {
    "name": "ipython",
    "version": 3
   },
   "file_extension": ".py",
   "mimetype": "text/x-python",
   "name": "python",
   "nbconvert_exporter": "python",
   "pygments_lexer": "ipython3",
   "version": "3.8.10"
  }
 },
 "nbformat": 4,
 "nbformat_minor": 5
}
