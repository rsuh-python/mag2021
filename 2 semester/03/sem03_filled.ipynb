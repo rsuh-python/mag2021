{
 "cells": [
  {
   "cell_type": "markdown",
   "id": "ba600c89-abb4-470e-b804-5bca53bcf811",
   "metadata": {},
   "source": [
    "#### Задача 1.\n",
    "\n",
    "Подумайте, как упростить следующий код:"
   ]
  },
  {
   "cell_type": "code",
   "execution_count": 10,
   "id": "3442b842-808e-4018-85a2-47c80c3144e7",
   "metadata": {},
   "outputs": [
    {
     "name": "stdin",
     "output_type": "stream",
     "text": [
      "Введите элемент:  5\n"
     ]
    },
    {
     "name": "stdout",
     "output_type": "stream",
     "text": [
      "пять\n"
     ]
    },
    {
     "name": "stdin",
     "output_type": "stream",
     "text": [
      "Введите элемент:  мама\n"
     ]
    },
    {
     "name": "stdout",
     "output_type": "stream",
     "text": [
      "mama\n"
     ]
    },
    {
     "name": "stdin",
     "output_type": "stream",
     "text": [
      "Введите элемент:  стоп\n"
     ]
    }
   ],
   "source": [
    "def printdigit(x):\n",
    "    if x == '1':\n",
    "        print('один')\n",
    "    elif x == '2':\n",
    "        print('два')\n",
    "    elif x == '3':\n",
    "        print('три')\n",
    "    elif x == '4':\n",
    "        print('четыре')\n",
    "    elif x == '5':\n",
    "        print('пять')\n",
    "    elif x == '6':\n",
    "        print('шесть')\n",
    "    elif x == '7':\n",
    "        print('семь')\n",
    "    elif x == '8':\n",
    "        print('восемь')\n",
    "    elif x == '9':\n",
    "        print('девять')\n",
    "    else:\n",
    "        print('ноль')\n",
    "        \n",
    "def transcription(string):\n",
    "    cyrillic = 'абвгдеёжзийклмнопрстуфхцчшщъыьэюя'\n",
    "    latin = ['a', 'b', 'v', 'g', 'd', 'je', 'jo', 'zh', 'z', 'i', 'j', 'k', 'l', 'm', 'n', 'o', 'p', 'r', 's', 't', 'u', 'f', 'h', 'ts', 'sh', 'shch', '`', 'y', '`', 'e', 'ju', 'ja' ]\n",
    "    trans = ''\n",
    "    for letter in string:\n",
    "        index = cyrillic.find(letter)\n",
    "        trans += latin[index]\n",
    "    return trans\n",
    "        \n",
    "x = input('Введите элемент: ')\n",
    "while x != 'стоп':\n",
    "    if x.isdigit() and len(x) == 1 and {int(x)}.issubset({1, 2, 3, 4, 5, 6, 7, 8, 9, 0}):\n",
    "        printdigit(x)\n",
    "    elif x.isalpha():\n",
    "        checker = 0\n",
    "        for letter in x:\n",
    "            if letter not in 'абвгдеёжзийклмнопрстуфхцчшщъыьэюя':\n",
    "                checker = 1\n",
    "        if checker == 0:\n",
    "            print(transcription(x))    \n",
    "    x = input('Введите элемент: ')"
   ]
  },
  {
   "cell_type": "code",
   "execution_count": 2,
   "id": "b558696d-c521-4673-aa35-102fe465078f",
   "metadata": {},
   "outputs": [
    {
     "data": {
      "text/plain": [
       "'два'"
      ]
     },
     "execution_count": 2,
     "metadata": {},
     "output_type": "execute_result"
    }
   ],
   "source": [
    "def printdigit(x):\n",
    "    digits = 'ноль один два три четыре пять шесть семь восемь девять'.split()\n",
    "    return digits[int(x)]\n",
    "\n",
    "# def printdigit(x):\n",
    "#     digits = dict(enumerate('ноль один два три четыре пять шесть семь восемь девять'.split()))\n",
    "#     return digits[int(x)]\n",
    "\n",
    "def transcription(string):\n",
    "    cyrlat = dict(zip('абвгдеёжзийклмнопрстуфхцчшщъыьэюя', \n",
    "                      ['a', 'b', 'v', 'g', 'd', 'je', 'jo', 'zh', 'z', 'i', 'j', 'k', 'l', 'm', \n",
    "                       'n', 'o', 'p', 'r', 's', 't', 'u', 'f', 'h', 'ts', 'sh', 'shch', \n",
    "                       '`', 'y', '`', 'e', 'ju', 'ja' ]))\n",
    "    trans = ''\n",
    "    for letter in string:\n",
    "        trans += cyrlat[letter]\n",
    "    return trans\n",
    "\n",
    "cyrillic = set('абвгдеёжзийклмнопрстуфхцчшщъыьэюя')\n",
    "while True:\n",
    "    x = input('Введите элемент: ')\n",
    "    if x.lower() == 'стоп':\n",
    "        break\n",
    "    if x.isdigit() and len(x) == 1:\n",
    "        if 0 <= int(x) <= 9:\n",
    "            printdigit(x)\n",
    "    elif cyrillic.issuperset(x):\n",
    "        print(transcription(x))    \n",
    "    "
   ]
  },
  {
   "cell_type": "markdown",
   "id": "c393987a-9081-410a-aa94-f20b8a28966f",
   "metadata": {},
   "source": [
    "#### Задача 2.\n",
    "\n",
    "Напишем фрагмент некоей игры, где пользователь выбирает, хочет он создать героя-волшебника или воина. После создания (фантазия здесь не ограничена: можете приписать какие угодно атрибуты, но обязательно должны быть классические здоровье, магия и стамина) персонаж должен поприветствовать своего игрока, причем у волшебника одно приветствие, а у воина - другое. У обоих должны быть методы hit и restore_health, причем волшебник для удара тратит магию, а боец стамину, а restore_health может, например, проверять, есть ли в инвентаре у персонажа зелье магии или стамины. "
   ]
  },
  {
   "cell_type": "code",
   "execution_count": 11,
   "id": "941fcdcb-7af5-47fb-805d-ce283998552c",
   "metadata": {},
   "outputs": [],
   "source": [
    "class Potion:\n",
    "    def __init__(self, kind, strength):\n",
    "        self.kind = kind\n",
    "        self.strength = strength\n",
    "\n",
    "class Hero:\n",
    "    def __init__(self, name, health, mana, stamina):\n",
    "        self.name = name\n",
    "        self.health = health\n",
    "        self.mana = mana\n",
    "        self.stamina = stamina\n",
    "        self.inventory = {'Potions': {'magic': None, 'stamina': None}}\n",
    "    \n",
    "    def hit(self, other):\n",
    "        pass\n",
    "    \n",
    "    def say_hello(self):\n",
    "        print('Hello')\n",
    "        \n",
    "    def restore_health(self):\n",
    "        pass\n",
    "    \n",
    "class Warrior(Hero):\n",
    "    def say_hello(self):\n",
    "        print(f'Hey I am mighty warrior named {self.name}!')\n",
    "        \n",
    "    def restore_health(self):\n",
    "        if self.inventory['Potions']['stamina']:\n",
    "            self.health += self.inventory['Potions']['stamina'].strength\n",
    "        else:\n",
    "            print('You\\'ve got no potions!')\n",
    "                    \n",
    "                    \n",
    "class Wizard(Hero):\n",
    "    def say_hello(self):\n",
    "        print(f'Greetings mylord I am a wise wizard and I am called {self.name}!')\n",
    "        \n",
    "    def restore_health(self):\n",
    "        if self.inventory['Potions']['magic']:\n",
    "            self.health += self.inventory['Potions']['magic'].strength\n",
    "        else:\n",
    "            print('You\\'ve got no potions!')\n",
    "\n",
    "c = Warrior('Konan', 100, 50, 200)"
   ]
  },
  {
   "cell_type": "code",
   "execution_count": 5,
   "id": "36fbe9b5-fd18-4377-b9c5-3687d4552d82",
   "metadata": {},
   "outputs": [],
   "source": [
    "p = Potion('magic', 5)"
   ]
  },
  {
   "cell_type": "code",
   "execution_count": 6,
   "id": "3130c63b-2f37-4bc8-aa87-89bac50a80f2",
   "metadata": {},
   "outputs": [],
   "source": [
    "c.inventory.append(p)"
   ]
  },
  {
   "cell_type": "code",
   "execution_count": 12,
   "id": "3f91db44-e88e-4173-868d-b0f42bc1db87",
   "metadata": {},
   "outputs": [
    {
     "name": "stdout",
     "output_type": "stream",
     "text": [
      "Hey I am mighty warrior named Konan!\n"
     ]
    }
   ],
   "source": [
    "c.say_hello()"
   ]
  },
  {
   "cell_type": "code",
   "execution_count": 13,
   "id": "2c374645-cdff-4cf4-a3f1-1f6da336d843",
   "metadata": {},
   "outputs": [
    {
     "name": "stdout",
     "output_type": "stream",
     "text": [
      "Greetings mylord I am a wise wizard and I am called Gandalf!\n"
     ]
    }
   ],
   "source": [
    "w = Wizard('Gandalf', 80, 300, 100)\n",
    "w.say_hello()"
   ]
  },
  {
   "cell_type": "markdown",
   "id": "47f7702c-e390-4960-b7e3-0ced4d25f273",
   "metadata": {},
   "source": [
    "#### Задача 3.\n",
    "\n",
    "Напишите скрипт, в котором будет одна-две любых функции и пара глобальных переменных. Импортируйте этот скрипт в другой и вызовите свои функции. "
   ]
  },
  {
   "cell_type": "markdown",
   "id": "2bafecdd-dbce-44dd-be4d-9140cc446038",
   "metadata": {},
   "source": [
    "#### Задача 4.\n",
    "\n",
    "Расширим наш пакет: заведем второй скрипт с любым содержимым + как минимум одна переменная, сложим оба скрипта в отдельную папочку и заведем \\_\\_init\\_\\_.py, в котором будет инициализироваться какая-нибудь переменная. Импортируем в главный скрипт наш модуль с помощью import, вызовем функции подмодулей, выведем их переменные. "
   ]
  }
 ],
 "metadata": {
  "kernelspec": {
   "display_name": "Python 3 (ipykernel)",
   "language": "python",
   "name": "python3"
  },
  "language_info": {
   "codemirror_mode": {
    "name": "ipython",
    "version": 3
   },
   "file_extension": ".py",
   "mimetype": "text/x-python",
   "name": "python",
   "nbconvert_exporter": "python",
   "pygments_lexer": "ipython3",
   "version": "3.8.10"
  }
 },
 "nbformat": 4,
 "nbformat_minor": 5
}
