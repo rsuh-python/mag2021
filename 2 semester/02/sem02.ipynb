{
 "cells": [
  {
   "cell_type": "markdown",
   "id": "c6eff2ab-82a7-4389-8506-a0fe983285cd",
   "metadata": {},
   "source": [
    "## Парадигмы"
   ]
  },
  {
   "cell_type": "markdown",
   "id": "7f44ddd4-c012-4132-863b-6ca32aad207b",
   "metadata": {},
   "source": [
    "- декларативное\n",
    "- императивное"
   ]
  },
  {
   "cell_type": "code",
   "execution_count": null,
   "id": "9336c3a6-0c22-4ae6-bd4e-5ed1d702ae35",
   "metadata": {},
   "outputs": [],
   "source": [
    "# css\n",
    "body \n",
    "{\n",
    "    position: fixed;\n",
    "    top: 0 px;\n",
    "    bottom: 10 px;\n",
    "    overflow: scoll;\n",
    "}"
   ]
  },
  {
   "cell_type": "code",
   "execution_count": null,
   "id": "e39450fe-0ba0-4793-9535-fb8fcba4cfa0",
   "metadata": {},
   "outputs": [],
   "source": [
    "# C\n",
    "int factorial(int n)\n",
    "{\n",
    "    int r = 1;\n",
    "    for (int i = 1; i <= n; i++)\n",
    "    {\n",
    "        r *= i;\n",
    "    }\n",
    "    return r;\n",
    "}"
   ]
  },
  {
   "cell_type": "markdown",
   "id": "7421f398-3081-431b-8ba4-522f3058eba3",
   "metadata": {},
   "source": [
    "Python"
   ]
  },
  {
   "cell_type": "code",
   "execution_count": null,
   "id": "b6fbaf42-9481-4e46-b465-30177aab8cf6",
   "metadata": {},
   "outputs": [],
   "source": [
    "# декларативный стиль\n",
    "def factorial(n):\n",
    "    if n == 0:\n",
    "        return 1\n",
    "    return n * factorial(n - 1)"
   ]
  },
  {
   "cell_type": "code",
   "execution_count": null,
   "id": "e62a5cea-c261-4a13-8fca-21a853406a96",
   "metadata": {},
   "outputs": [],
   "source": [
    "# императивный стиль\n",
    "# с циклом"
   ]
  },
  {
   "cell_type": "markdown",
   "id": "06f70a08-664b-4a19-9dde-3c6b6057bde3",
   "metadata": {},
   "source": [
    "Практикоориентированная классификация парадигм\n",
    "\n",
    "- структурное (цикл, ветвление, последовательность)\n",
    "- функциональное \n",
    "- ООП"
   ]
  },
  {
   "cell_type": "code",
   "execution_count": null,
   "id": "b5e25e67-1648-430e-86d0-b6e20689153f",
   "metadata": {},
   "outputs": [],
   "source": [
    "def func(x):\n",
    "    print(x)\n",
    "    \n",
    "x = 6\n",
    "func(x)"
   ]
  },
  {
   "cell_type": "markdown",
   "id": "7c46ee2f-982b-4851-8cbf-873e18fa05b9",
   "metadata": {},
   "source": [
    "Иерархия объектов\n",
    "\n",
    "Объект - атрибуты, методы"
   ]
  },
  {
   "cell_type": "markdown",
   "id": "b907ebff-6131-45ca-af98-2eea84ee0e64",
   "metadata": {},
   "source": [
    "ООП\n",
    "\n",
    "Базовые понятия\n",
    "\n",
    "- Класс (абстрактные категории объектов)\n",
    "- Экземпляр класса \n",
    "- Интерфейс - набор методов\n",
    "- Инкапсуляция - про закрытость класса \n",
    "- Полиморфизм - мы можем заменять объект более широкого класса на объект класса-наследника\n",
    "- Наследование - мы берем более широкое понятие и сужаем его, добавляя новые характеристики (атрибуты)"
   ]
  },
  {
   "cell_type": "markdown",
   "id": "5c09cbe9-803b-4061-bc5a-a177ff9a109f",
   "metadata": {},
   "source": [
    "SOLID принципы\n",
    "\n",
    "- принцип единственной ответственности\n",
    "- принцип открытости-закрытости\n",
    "- принцип подстановки Барбары Лисков\n",
    "- принцип разделения интерфейса\n",
    "- принцип инверсии зависимостей"
   ]
  },
  {
   "cell_type": "code",
   "execution_count": null,
   "id": "2408931f-5b26-4d3e-b3ce-c67eab518c9c",
   "metadata": {},
   "outputs": [],
   "source": [
    "s = '12345'\n",
    "s.isalpha() # "
   ]
  },
  {
   "cell_type": "code",
   "execution_count": 76,
   "id": "5946bd36-f8bb-48e1-a81a-9b305c301f92",
   "metadata": {},
   "outputs": [],
   "source": [
    "class Human:\n",
    "    eyes = 2\n",
    "    \n",
    "    def __init__(self, name, surname, age):\n",
    "        self.name = name\n",
    "        self.surname = surname\n",
    "        self.age = age\n",
    "        \n",
    "    def __str__(self):\n",
    "        return f'{self.name} {self.surname}, {self.age}'\n",
    "    \n",
    "    def __repr__(self):\n",
    "        return f\"Human('{self.name}', '{self.surname}', {self.age})\"\n",
    "    \n",
    "    def __bool__(self):\n",
    "        pass\n",
    "    \n",
    "    def show_age(self):\n",
    "        print(f'{self.name}: {self.age}')\n",
    "        \n",
    "    def show_off(self, other):\n",
    "        if self.age > other.age:\n",
    "            print(f'{self.name} старше, чем {other.name}!')\n",
    "        elif self.age < other.age:\n",
    "            print(f'{self.name} младше, чем {other.name}!')\n",
    "        else:\n",
    "            print('Похвастаться никому не удалось!')"
   ]
  },
  {
   "cell_type": "code",
   "execution_count": 77,
   "id": "899203ba-1717-473d-ab6c-da1c6cefe8e6",
   "metadata": {},
   "outputs": [],
   "source": [
    "vasya = Human('Вася', 'Пупкин', 19)"
   ]
  },
  {
   "cell_type": "code",
   "execution_count": 78,
   "id": "9281eb4e-5b24-47de-bc54-984cc7f58962",
   "metadata": {},
   "outputs": [],
   "source": [
    "petya = Human('Петя', 'Сидоров', 20)"
   ]
  },
  {
   "cell_type": "code",
   "execution_count": 79,
   "id": "78d6f9f3-7fa4-4a02-b213-cc6c33b785a3",
   "metadata": {},
   "outputs": [
    {
     "name": "stdout",
     "output_type": "stream",
     "text": [
      "Вася младше, чем Петя!\n"
     ]
    }
   ],
   "source": [
    "vasya.show_off(petya)"
   ]
  },
  {
   "cell_type": "markdown",
   "id": "2335901c-9188-46e3-a3a5-7eb81b686e31",
   "metadata": {},
   "source": [
    "атрибуты: статические vs динамические"
   ]
  },
  {
   "cell_type": "code",
   "execution_count": 69,
   "id": "6cb99f66-f904-4cfb-83dc-801be1fcad5e",
   "metadata": {},
   "outputs": [
    {
     "name": "stdout",
     "output_type": "stream",
     "text": [
      "Hello\n",
      "Петя Сидоров, 20\n"
     ]
    }
   ],
   "source": [
    "print(petya)  # str(args)"
   ]
  },
  {
   "cell_type": "code",
   "execution_count": 46,
   "id": "e3aec2e2-01fa-4d14-89e2-d03edffc38ce",
   "metadata": {},
   "outputs": [],
   "source": [
    "students = [petya, vasya]"
   ]
  },
  {
   "cell_type": "code",
   "execution_count": 47,
   "id": "0a1efffe-bcd3-4792-90e9-1152611c2351",
   "metadata": {},
   "outputs": [
    {
     "data": {
      "text/plain": [
       "[Human('Петя', 'Сидоров', 20), Human('Вася', 'Пупкин', 19)]"
      ]
     },
     "execution_count": 47,
     "metadata": {},
     "output_type": "execute_result"
    }
   ],
   "source": [
    "students"
   ]
  },
  {
   "cell_type": "code",
   "execution_count": 61,
   "id": "cc3fa3d6-6723-4b1d-92f1-c4a6bf7c20d9",
   "metadata": {},
   "outputs": [
    {
     "name": "stdout",
     "output_type": "stream",
     "text": [
      "Вася: 19\n"
     ]
    }
   ],
   "source": [
    "vasya.show_age()"
   ]
  },
  {
   "cell_type": "markdown",
   "id": "3c6cf52b-5b9b-44d4-b25f-366199951135",
   "metadata": {},
   "source": [
    "1. Магические методы (явно не вызываются; стандартные имена; их ограниченное число; все определены в классе object)\n",
    "2. Методы экземпляра класса (применяются к экземпляру)\n",
    "3. Методы класса (dict.fromkeys())\n",
    "4. Статические методы (@staticmethod)"
   ]
  },
  {
   "cell_type": "raw",
   "id": "9c39995d-3827-48f6-ae96-d8cc375df992",
   "metadata": {},
   "source": [
    "1. Дописать класс Human, добавив к нему __bool__. ( return False, True)\n",
    "2. Triangle, Square, Rectangle: 3 магич. метода + метод экземпляра "
   ]
  },
  {
   "cell_type": "code",
   "execution_count": 93,
   "id": "ffce4578-38e4-4fd6-be74-19a29518e728",
   "metadata": {},
   "outputs": [],
   "source": [
    "class Figure:\n",
    "    def __init__(self, a, b, c):\n",
    "        self.a = a\n",
    "        self.b = b\n",
    "        self.c = c\n",
    "    \n",
    "    def __str__(self):\n",
    "        return 'Геометрическая фигура'\n",
    "    \n",
    "    def __repr__(self):\n",
    "        pass\n",
    "    \n",
    "    def area(self):\n",
    "        return"
   ]
  },
  {
   "cell_type": "code",
   "execution_count": 96,
   "id": "d5f46a4e-b278-4b95-863d-45a33c46e318",
   "metadata": {},
   "outputs": [],
   "source": [
    "class Triangle(Figure):\n",
    "    def __init__(self, a, b, c, h):\n",
    "        super().__init__(a, b, c)\n",
    "        self.h = h"
   ]
  },
  {
   "cell_type": "code",
   "execution_count": 97,
   "id": "ddcb8ac4-d650-4117-ad2b-f5393ab3304a",
   "metadata": {},
   "outputs": [],
   "source": [
    "t = Triangle(3, 2, 4, 1)"
   ]
  },
  {
   "cell_type": "code",
   "execution_count": 100,
   "id": "ec362028-b04e-4d0f-9481-ed70aac967a4",
   "metadata": {},
   "outputs": [
    {
     "data": {
      "text/plain": [
       "1"
      ]
     },
     "execution_count": 100,
     "metadata": {},
     "output_type": "execute_result"
    }
   ],
   "source": [
    "t.h"
   ]
  },
  {
   "cell_type": "markdown",
   "id": "3482b2f0-9b49-4383-9890-541bcf30b797",
   "metadata": {},
   "source": [
    "class Fighter:\n",
    "    (health, armor, strength) # dodge\n",
    "    hit(self, other)\n",
    "    health -= (strength - armor)\n",
    "    \n",
    "2 бойца \n",
    "random (randint(0, 1)) (randrange(0, 6))\n",
    "while ()"
   ]
  }
 ],
 "metadata": {
  "kernelspec": {
   "display_name": "Python 3 (ipykernel)",
   "language": "python",
   "name": "python3"
  },
  "language_info": {
   "codemirror_mode": {
    "name": "ipython",
    "version": 3
   },
   "file_extension": ".py",
   "mimetype": "text/x-python",
   "name": "python",
   "nbconvert_exporter": "python",
   "pygments_lexer": "ipython3",
   "version": "3.8.10"
  }
 },
 "nbformat": 4,
 "nbformat_minor": 5
}
