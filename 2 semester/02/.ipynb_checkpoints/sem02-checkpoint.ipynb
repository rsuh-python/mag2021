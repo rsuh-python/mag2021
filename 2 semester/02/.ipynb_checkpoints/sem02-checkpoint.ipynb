{
 "cells": [
  {
   "cell_type": "markdown",
   "id": "c6eff2ab-82a7-4389-8506-a0fe983285cd",
   "metadata": {},
   "source": [
    "## Парадигмы"
   ]
  },
  {
   "cell_type": "code",
   "execution_count": null,
   "id": "bf77c03b-2a98-4e8b-93ea-65541c9b8e94",
   "metadata": {},
   "outputs": [],
   "source": []
  }
 ],
 "metadata": {
  "kernelspec": {
   "display_name": "Python 3 (ipykernel)",
   "language": "python",
   "name": "python3"
  },
  "language_info": {
   "codemirror_mode": {
    "name": "ipython",
    "version": 3
   },
   "file_extension": ".py",
   "mimetype": "text/x-python",
   "name": "python",
   "nbconvert_exporter": "python",
   "pygments_lexer": "ipython3",
   "version": "3.8.10"
  }
 },
 "nbformat": 4,
 "nbformat_minor": 5
}
