{
 "cells": [
  {
   "cell_type": "markdown",
   "id": "070ad503-37c4-4ff0-b9ea-2a27357f7d52",
   "metadata": {},
   "source": [
    "### NumPy"
   ]
  },
  {
   "cell_type": "code",
   "execution_count": 1,
   "id": "08ee6075-6737-44f0-9d68-a525dd175ab0",
   "metadata": {},
   "outputs": [],
   "source": [
    "import numpy as np"
   ]
  },
  {
   "cell_type": "markdown",
   "id": "f65bf55e-76cd-4354-b693-c3ef9962a834",
   "metadata": {},
   "source": [
    "NumPy - это библиотека, написанная частично в С, а частично в питоне; ее основная задача - обеспечивать математические вычисления, в том числе работу с матрицами. Дело в том, что мы можем реализовать матрицы (и тензоры более высокой мерности) стандартными средствами питона, и мы это делали, но такие вещи все равно будут работать медленнее, чем библиотеки в С, просто потому, что так реализованы списки в питоне. Список в питоне может хранить в себе меняющееся число элементов, которые могут быть разного размера: на самом деле он реализован в С как сложная структура, (structure), если кому интересен исходный код в С:\n",
    "\n",
    "(фигурными скобками обозначается тело определяемого объекта, тип которого - struct (структура). ob_item - это список адресов элементов списка, allocated - количество размещенных в памяти элементов).\n",
    "\n",
    "    typedef struct {\n",
    "        PyObject_VAR_HEAD\n",
    "        PyObject **ob_item;\n",
    "        Py_ssize_t allocated;\n",
    "    } PyListObject;\n",
    "    \n",
    "То есть, список питона - это связная структура, элементы которой могут валяться в памяти где угодно, а питон их отыскивает с помощью указателей (указатель в С - это переменная, которая содержит адрес объекта, такая переменная записывается со звездочкой: \\*var, а массив в С определяется его стартовой позицией в памяти, потому что все элементы должны лежать рядышком и быть одинакового размера, поэтому массив записывается с двумя звездочками). В компьютерном мире так устроено, что, грубо говоря, пока там питон отыщет все элементы списка в разных уголках памяти, это займет время - а вот когда все элементы лежат рядышком, то времени уходит куда меньше. Матрицы (списки) в numpy реализованы таким образом, что все их элементы одинакового размера и хранятся в памяти вместе, поэтому они и работают гораздо быстрее. "
   ]
  },
  {
   "cell_type": "markdown",
   "id": "9e97a122-f576-4bd6-8ce4-23aba45e0ae8",
   "metadata": {},
   "source": [
    "В связи с реализацией в С у Numpy есть и такая особенность, как немножко свои типы данных (они больше похожи на типы в С). Такие типы есть:\n",
    "\n",
    "    i - integer\n",
    "    b - boolean\n",
    "    u - unsigned integer\n",
    "    f - float\n",
    "    c - complex float\n",
    "    m - timedelta\n",
    "    M - datetime\n",
    "    O - object\n",
    "    S - string\n",
    "    U - unicode string\n",
    "    V - fixed chunk of memory for other type (void)\n",
    "    \n",
    "(void в С ~ NoneType в питоне, а типы чисел более дробные: есть беззнаковые инты - у которых не хранится знак - есть инт и флоат разных размеров, 32 бита или 64: чем больше битов, тем больше чиселок может храниться в переменной такого типа). \n",
    "\n",
    "Эти буковки могут использоваться для задания типа данных в основном объекте NumPy - ndarray (n-dimensional array)."
   ]
  },
  {
   "cell_type": "markdown",
   "id": "d45953ed-7285-4e46-ad5e-37effb9409ed",
   "metadata": {},
   "source": [
    "Здесь немного сложного: \n",
    "\n",
    "Центральное понятие для NumPy (а также для PyTorch, например, и вообще для МО и НС) - это тензор. Это понятие из математики, и тензор на самом деле != матрица, даже многомерная матрица. Тензор - это такой математический объект, который не изменяется при смене системы координат и представлен набором своих компонент и правилом преобразования компонент при смене базиса. Сложно? Если пытаться совсем упростить, то тензор - это всего лишь хранилище данных. Попытаться это понять можно [здесь](https://habr.com/ru/post/261563/). То есть, в тензорах мы храним что? числа, векторы, матрицы. У тензора есть ранг (rank) или измерение: это ровно то, о чем идет речь в NumPy, когда мы указываем измерение ndarray. Внутри тензора могут содержаться, например, n-мерные векторы. "
   ]
  },
  {
   "cell_type": "code",
   "execution_count": 2,
   "id": "50e0f6a3-afe7-4a1c-a3d6-6a225a4924a7",
   "metadata": {},
   "outputs": [],
   "source": [
    "arr = np.array([[1, 2, 3], [4, 5, 6]])"
   ]
  },
  {
   "cell_type": "code",
   "execution_count": 3,
   "id": "9a126112-99e4-451e-a390-05bef2f82bb2",
   "metadata": {},
   "outputs": [
    {
     "data": {
      "text/plain": [
       "2"
      ]
     },
     "execution_count": 3,
     "metadata": {},
     "output_type": "execute_result"
    }
   ],
   "source": [
    "arr.ndim"
   ]
  },
  {
   "cell_type": "markdown",
   "id": "5446cd68-08f0-49f7-b47b-add3ea30a97f",
   "metadata": {},
   "source": [
    "Вот, например, перед нами массив NumPy ранга 2, но при этом векторы, которые в нем содержатся, трехмерные. "
   ]
  },
  {
   "cell_type": "markdown",
   "id": "1c6b8ad9-fec9-41e2-be16-29a817e47a68",
   "metadata": {},
   "source": [
    "Тензор еще считается обобщенной матрицей: матрица - это же табличка чисел $n \\cdot m$, а тензор бывает разных рангов. Для маленьких рангов есть отдельные термины:\n",
    "\n",
    "- 0D - скаляр (число)\n",
    "- 1D - вектор\n",
    "- 2D - матрица\n",
    "- 3D и выше - тензор \n",
    "\n",
    "В геометрии есть похожее соотношение: квадрат - куб - симплекс (любая фигура со сторонами одинаковой длины - 1 - в n-мерном пространстве называется n-мерный симплекс)"
   ]
  },
  {
   "cell_type": "markdown",
   "id": "6ff28748-0bed-4a24-b391-b47550b3fb29",
   "metadata": {},
   "source": [
    "Итак, как задать массив в NumPy и проверить его мерность, можно понять из кода выше. Можно мерность задать при создании массива, при этом передавать ему список списков списков необязательно:"
   ]
  },
  {
   "cell_type": "code",
   "execution_count": 4,
   "id": "4de8d549-9b41-499f-ac35-36562207bf1c",
   "metadata": {},
   "outputs": [],
   "source": [
    "arr = np.array([1, 2, 3, 4, 5], ndmin=5)"
   ]
  },
  {
   "cell_type": "code",
   "execution_count": 5,
   "id": "44342200-9747-434c-93ea-97b9b1a40b8a",
   "metadata": {},
   "outputs": [
    {
     "data": {
      "text/plain": [
       "array([[[[[1, 2, 3, 4, 5]]]]])"
      ]
     },
     "execution_count": 5,
     "metadata": {},
     "output_type": "execute_result"
    }
   ],
   "source": [
    "arr"
   ]
  },
  {
   "cell_type": "markdown",
   "id": "50a97d89-2d0e-4a25-9b76-77103cd36c0c",
   "metadata": {},
   "source": [
    "В таком случае нумпай начнет вкладывать наши списки списков начиная с самого внутреннего измерения. "
   ]
  },
  {
   "cell_type": "code",
   "execution_count": 6,
   "id": "6820b5db-79e3-4246-90ab-2758137df119",
   "metadata": {},
   "outputs": [],
   "source": [
    "arr = np.array([1, 2, 3], ndmin=2)"
   ]
  },
  {
   "cell_type": "code",
   "execution_count": 7,
   "id": "bfc4c7cf-12ce-4c77-ae68-679fd8d7f13f",
   "metadata": {},
   "outputs": [
    {
     "data": {
      "text/plain": [
       "array([[1, 2, 3]])"
      ]
     },
     "execution_count": 7,
     "metadata": {},
     "output_type": "execute_result"
    }
   ],
   "source": [
    "arr"
   ]
  },
  {
   "cell_type": "markdown",
   "id": "9ef062b3-04c5-4d6e-aa11-72c07bc42ce7",
   "metadata": {},
   "source": [
    "C рангом 2 должно быть интуитивно понятнее: я всего лишь сделала матрицу из одной строчки. Для чего это может быть нужно? Для broadcasting - когда нам нужно произвести какие-то вычисления с тензорами разных рангов, если один из тензоров превращается в тензор более высокого ранга, происходит он самый, broadcasting. Еще попозже это рассмотрим. "
   ]
  },
  {
   "cell_type": "markdown",
   "id": "c72579c8-9ad8-4f6a-96a4-d99d1cb74584",
   "metadata": {},
   "source": [
    "В NumPy (как потом увидим, и в Pandas) измерения массива еще называются оси (axes). "
   ]
  },
  {
   "cell_type": "markdown",
   "id": "a78c4fec-bb91-4e67-8987-a28a01a4765f",
   "metadata": {},
   "source": [
    "#### Тип данных\n",
    "\n",
    "Возвращаясь к типу данных, можно его проверить следующим образом:"
   ]
  },
  {
   "cell_type": "code",
   "execution_count": 8,
   "id": "a0a9f61f-5513-4c40-ac6c-2c18e620d6fc",
   "metadata": {},
   "outputs": [
    {
     "data": {
      "text/plain": [
       "dtype('int64')"
      ]
     },
     "execution_count": 8,
     "metadata": {},
     "output_type": "execute_result"
    }
   ],
   "source": [
    "arr.dtype"
   ]
  },
  {
   "cell_type": "markdown",
   "id": "81f8ff8b-fa1c-44f7-97e5-0d5e46d05cbe",
   "metadata": {},
   "source": [
    "А можно и явным образом указать с помощью буковки из списка выше:"
   ]
  },
  {
   "cell_type": "code",
   "execution_count": 9,
   "id": "313cbf5c-0a09-4ac9-8322-bf14d00e0c4e",
   "metadata": {},
   "outputs": [],
   "source": [
    "arr = np.array([1, 2, 3, 4, 5], dtype='S')"
   ]
  },
  {
   "cell_type": "code",
   "execution_count": 10,
   "id": "4639ff50-2faa-46ca-8406-8836ad53f378",
   "metadata": {},
   "outputs": [
    {
     "data": {
      "text/plain": [
       "array([b'1', b'2', b'3', b'4', b'5'], dtype='|S1')"
      ]
     },
     "execution_count": 10,
     "metadata": {},
     "output_type": "execute_result"
    }
   ],
   "source": [
    "arr"
   ]
  },
  {
   "cell_type": "markdown",
   "id": "d3ea1521-e17d-4d23-985b-24a3be53c3bd",
   "metadata": {},
   "source": [
    "Строки в NumPy тоже немножечко особенные, поэтому не удивляйтесь буковке b - она означает \"байтовая строка\". \n",
    "\n",
    "Поменять тип данных в массиве можно так:"
   ]
  },
  {
   "cell_type": "code",
   "execution_count": 11,
   "id": "9125e30f-0491-44b4-b2da-5b647d7f4441",
   "metadata": {},
   "outputs": [],
   "source": [
    "newarr = arr.astype('i')"
   ]
  },
  {
   "cell_type": "code",
   "execution_count": 12,
   "id": "053ed985-7998-493f-8970-107862b8a999",
   "metadata": {},
   "outputs": [
    {
     "data": {
      "text/plain": [
       "array([1, 2, 3, 4, 5], dtype=int32)"
      ]
     },
     "execution_count": 12,
     "metadata": {},
     "output_type": "execute_result"
    }
   ],
   "source": [
    "newarr"
   ]
  },
  {
   "cell_type": "markdown",
   "id": "c593b88a-83f8-48f2-ada9-99f2e72e3120",
   "metadata": {},
   "source": [
    "#### Индексирование\n",
    "\n",
    "Как можно обращаться к элементам массива? По индексам. Только они устроены немножко похитрее, чем стандартные питоньи (где нам пришлось  бы писать [0][0][0] для первого элемента первой строки первого... эээ, даже не знаю. Ранга. :)"
   ]
  },
  {
   "cell_type": "code",
   "execution_count": 13,
   "id": "4f9a187d-eb99-45f3-9674-ab6446472508",
   "metadata": {},
   "outputs": [],
   "source": [
    "arr = np.array([[[1, 2], [3, 4]], [[5, 6], [7, 8]]])"
   ]
  },
  {
   "cell_type": "code",
   "execution_count": 14,
   "id": "e3d55d2a-4fc9-4ebf-a0ce-77552e2c6a8f",
   "metadata": {},
   "outputs": [
    {
     "data": {
      "text/plain": [
       "array([[[1, 2],\n",
       "        [3, 4]],\n",
       "\n",
       "       [[5, 6],\n",
       "        [7, 8]]])"
      ]
     },
     "execution_count": 14,
     "metadata": {},
     "output_type": "execute_result"
    }
   ],
   "source": [
    "arr"
   ]
  },
  {
   "cell_type": "markdown",
   "id": "d18003f8-a31a-413d-8ac4-1391802259be",
   "metadata": {},
   "source": [
    "Вот у нас трехмерный массив. Допустим, мы хотим обратиться к четверке. Четверка находится в первой из двух матриц, во второй строке первой матрицы, на второй позиции этой строки. "
   ]
  },
  {
   "cell_type": "code",
   "execution_count": 15,
   "id": "649ddb51-19a9-4b48-beb2-aa8d6cd01470",
   "metadata": {},
   "outputs": [
    {
     "data": {
      "text/plain": [
       "4"
      ]
     },
     "execution_count": 15,
     "metadata": {},
     "output_type": "execute_result"
    }
   ],
   "source": [
    "arr[0, 1, 1]"
   ]
  },
  {
   "cell_type": "markdown",
   "id": "b889f89b-a34d-4d72-9fcd-d702f8a57bf9",
   "metadata": {},
   "source": [
    "Супер. Также можно использовать срезы: например, можно получить всю вторую строку первой матрицы. "
   ]
  },
  {
   "cell_type": "code",
   "execution_count": 16,
   "id": "56b0c596-fa85-445e-b699-01ceb65ec618",
   "metadata": {},
   "outputs": [
    {
     "data": {
      "text/plain": [
       "array([3, 4])"
      ]
     },
     "execution_count": 16,
     "metadata": {},
     "output_type": "execute_result"
    }
   ],
   "source": [
    "arr[0, 1, :]"
   ]
  },
  {
   "cell_type": "markdown",
   "id": "ec28a1b8-e447-4ded-9799-8dd0fb4da2c3",
   "metadata": {},
   "source": [
    "И даже весь второй столбец. "
   ]
  },
  {
   "cell_type": "code",
   "execution_count": 17,
   "id": "d9a8977d-f699-426e-8ab5-27ce8c5e60b7",
   "metadata": {},
   "outputs": [
    {
     "data": {
      "text/plain": [
       "array([2, 4])"
      ]
     },
     "execution_count": 17,
     "metadata": {},
     "output_type": "execute_result"
    }
   ],
   "source": [
    "arr[0, :, 1]"
   ]
  },
  {
   "cell_type": "markdown",
   "id": "cc6b14db-a13e-4224-ad1a-6fcf51d50804",
   "metadata": {},
   "source": [
    "Можно, конечно, и только часть столбца взять, просто у меня супер-короткие столбцы. "
   ]
  },
  {
   "cell_type": "markdown",
   "id": "38804a32-9b2b-4f34-89ed-d00c717894fd",
   "metadata": {},
   "source": [
    "#### Форма\n",
    "\n",
    "Форму матрицы можно изменять с помощью метода reshape. "
   ]
  },
  {
   "cell_type": "code",
   "execution_count": 18,
   "id": "4b2ec384-d004-420b-b9e2-07eb72fc5851",
   "metadata": {},
   "outputs": [],
   "source": [
    "arr = np.array([1, 2, 3, 4, 5, 6, 7, 8, 9])"
   ]
  },
  {
   "cell_type": "code",
   "execution_count": 19,
   "id": "3fc1936e-9576-4c12-b90b-1e37c7dd5d1d",
   "metadata": {},
   "outputs": [
    {
     "data": {
      "text/plain": [
       "array([[1, 2, 3],\n",
       "       [4, 5, 6],\n",
       "       [7, 8, 9]])"
      ]
     },
     "execution_count": 19,
     "metadata": {},
     "output_type": "execute_result"
    }
   ],
   "source": [
    "arr.reshape(3, 3)"
   ]
  },
  {
   "cell_type": "markdown",
   "id": "f09c49c2-f264-47d9-8357-14ecf91c9543",
   "metadata": {},
   "source": [
    "То есть, что передается в reshape? Столько цифр, сколько хотим измерений (я передала 2 - значит, я хочу матрицу), каждая цифра говорит о том, сколько я хочу элементов в каждом из этих измерений (три строки, три столбца). Tricky part здесь в том, что общее число элементов должно делиться на эти числа: то есть, все переданные числа, перемноженные друг на друга, должны давать число всех элементов ($ 3 \\cdot 3 = 9$)."
   ]
  },
  {
   "cell_type": "markdown",
   "id": "2a3b71f7-550c-421f-b2c1-d3dc39f6c68a",
   "metadata": {},
   "source": [
    "Если мы не можем так с ходу вычислить, сколько нам нужно элементов, можно попробовать один из них передать как минус единицу, тогда питон попробует вычислить его сам:"
   ]
  },
  {
   "cell_type": "code",
   "execution_count": 20,
   "id": "687c5926-2afa-4cdf-a1f7-5bbe73b0bb39",
   "metadata": {},
   "outputs": [],
   "source": [
    "arr = np.array(range(1, 13))"
   ]
  },
  {
   "cell_type": "code",
   "execution_count": 21,
   "id": "7defde14-c417-4cbc-bf5e-715008a094b8",
   "metadata": {},
   "outputs": [
    {
     "data": {
      "text/plain": [
       "array([[[ 1,  2],\n",
       "        [ 3,  4]],\n",
       "\n",
       "       [[ 5,  6],\n",
       "        [ 7,  8]],\n",
       "\n",
       "       [[ 9, 10],\n",
       "        [11, 12]]])"
      ]
     },
     "execution_count": 21,
     "metadata": {},
     "output_type": "execute_result"
    }
   ],
   "source": [
    "arr.reshape(3, 2, -1)"
   ]
  },
  {
   "cell_type": "markdown",
   "id": "53e7509a-92f9-42d4-baf8-a38f4cba8f72",
   "metadata": {},
   "source": [
    "-1 могло бы стоять вместо любой из цифр. Увы, если у вас не хватает элементов в массиве, чтобы разложить его на нужное количество, остается только добавлять эти элементы до того, как вы будете решейпить:"
   ]
  },
  {
   "cell_type": "code",
   "execution_count": 22,
   "id": "c109dc9d-c0fe-4eb9-b92b-b81b26448018",
   "metadata": {},
   "outputs": [
    {
     "data": {
      "text/plain": [
       "array([ 1,  2,  3,  4,  5,  6,  7,  8,  9, 10, 11])"
      ]
     },
     "execution_count": 22,
     "metadata": {},
     "output_type": "execute_result"
    }
   ],
   "source": [
    "arr = np.array(range(1, 12))\n",
    "arr"
   ]
  },
  {
   "cell_type": "code",
   "execution_count": 23,
   "id": "d73d613a-175f-4abe-b080-c4a0be27823e",
   "metadata": {},
   "outputs": [],
   "source": [
    "arr = np.append(arr, 0)  # можно было бы и None добавить, но лучше уж 0, чтобы numpy не пришлось менять тип данных на object"
   ]
  },
  {
   "cell_type": "code",
   "execution_count": 24,
   "id": "a2a1f14b-df9b-4858-8adf-96249fea324d",
   "metadata": {},
   "outputs": [
    {
     "data": {
      "text/plain": [
       "array([ 1,  2,  3,  4,  5,  6,  7,  8,  9, 10, 11,  0])"
      ]
     },
     "execution_count": 24,
     "metadata": {},
     "output_type": "execute_result"
    }
   ],
   "source": [
    "arr"
   ]
  },
  {
   "cell_type": "markdown",
   "id": "b7384150-ff83-4437-bac8-57608aa29fa5",
   "metadata": {},
   "source": [
    "Превратить любой массив в одномерный можно разными способами (ravel, flatten...), но в частности, можно просто отрешейпить в -1:"
   ]
  },
  {
   "cell_type": "code",
   "execution_count": 25,
   "id": "419dd62b-4905-4166-96d0-ce6d71af6416",
   "metadata": {},
   "outputs": [
    {
     "data": {
      "text/plain": [
       "array([[1, 2, 3],\n",
       "       [4, 5, 6]])"
      ]
     },
     "execution_count": 25,
     "metadata": {},
     "output_type": "execute_result"
    }
   ],
   "source": [
    "curled = np.array([[1, 2, 3], [4, 5, 6]])\n",
    "curled"
   ]
  },
  {
   "cell_type": "code",
   "execution_count": 26,
   "id": "b4730099-c21c-42c8-8cb2-487fd862f20e",
   "metadata": {},
   "outputs": [
    {
     "data": {
      "text/plain": [
       "array([1, 2, 3, 4, 5, 6])"
      ]
     },
     "execution_count": 26,
     "metadata": {},
     "output_type": "execute_result"
    }
   ],
   "source": [
    "flat = curled.reshape(-1)\n",
    "flat"
   ]
  },
  {
   "cell_type": "markdown",
   "id": "8e80e900-7af5-464d-8263-25ef6663f197",
   "metadata": {},
   "source": [
    "#### view vs base\n",
    "\n",
    "Также еще одна важная особенность массивов NumPy, о которой следует знать - это различие между base и view object. Для чего эта сложность? Это мы с вами на учебных занятиях возимся с массивчиками, в которых по три с половиной элемента, а в реальных программах массивы могут содержать миллиарды чисел. Случайно копировать такой массив, конечно, не улыбается, поэтому все библиотеки типа NumPy стараются избегать копирования, как только могут (ванильный питон тоже это делает - вспомните особенности копирования списков и других изменяемых объектов). \n",
    "\n",
    "view-массив - это такой массив, который собственных данных не содержит, а просто берет их из какого-то base-массива, но отображает по-своему. reshape как раз всегда возвращает такие вот \"виды\". Чтобы проверить, вид перед вами или база, можно обратиться к атрибуту:"
   ]
  },
  {
   "cell_type": "code",
   "execution_count": 27,
   "id": "7f71fb02-936f-48fa-8034-111a417ed42d",
   "metadata": {},
   "outputs": [],
   "source": [
    "arr.base"
   ]
  },
  {
   "cell_type": "code",
   "execution_count": 28,
   "id": "795b41c0-db9f-4c2a-a0e3-0d1403209ac1",
   "metadata": {},
   "outputs": [],
   "source": [
    "arr_view = arr.reshape(3, 4)"
   ]
  },
  {
   "cell_type": "code",
   "execution_count": 29,
   "id": "0f2bbd85-5ab5-418b-94fa-b08d11362678",
   "metadata": {},
   "outputs": [
    {
     "data": {
      "text/plain": [
       "array([ 1,  2,  3,  4,  5,  6,  7,  8,  9, 10, 11,  0])"
      ]
     },
     "execution_count": 29,
     "metadata": {},
     "output_type": "execute_result"
    }
   ],
   "source": [
    "arr_view.base"
   ]
  },
  {
   "cell_type": "markdown",
   "id": "7da4566f-cfbe-4880-907c-b3e426d71590",
   "metadata": {},
   "source": [
    "Если массив оригинальный и владеет своими данными, то base вернет пустоту, в ином случае - хозяина данных. То есть, как легко догадаться, если мы будем изменять данные в массиве arr, данные в массиве arr_view тоже изменятся:"
   ]
  },
  {
   "cell_type": "code",
   "execution_count": 30,
   "id": "dbb70ec7-9b65-4428-8a29-7967a4cee087",
   "metadata": {},
   "outputs": [],
   "source": [
    "arr[2] = 123"
   ]
  },
  {
   "cell_type": "code",
   "execution_count": 31,
   "id": "e9bad258-5098-498d-9e3f-48434cf2cdf8",
   "metadata": {},
   "outputs": [
    {
     "data": {
      "text/plain": [
       "array([[  1,   2, 123,   4],\n",
       "       [  5,   6,   7,   8],\n",
       "       [  9,  10,  11,   0]])"
      ]
     },
     "execution_count": 31,
     "metadata": {},
     "output_type": "execute_result"
    }
   ],
   "source": [
    "arr_view"
   ]
  },
  {
   "cell_type": "markdown",
   "id": "f39f5d6e-26ce-499f-afa7-db609ec03523",
   "metadata": {},
   "source": [
    "Явным образом создать копию можно с помощью метода copy(). "
   ]
  },
  {
   "cell_type": "markdown",
   "id": "2e235fb4-7a2d-4d72-8f64-5846d7dc449a",
   "metadata": {},
   "source": [
    "#### Итерирование\n",
    "\n",
    "Как итерироваться по массивам? Можно тупо по индексам с помощью for, но для многомерных массивов это может быть сложновато, поэтому есть специальная функция:"
   ]
  },
  {
   "cell_type": "code",
   "execution_count": 32,
   "id": "8f74ca80-b931-49d1-b306-b3f6442ffa40",
   "metadata": {},
   "outputs": [
    {
     "name": "stdout",
     "output_type": "stream",
     "text": [
      "1\t2\t123\t4\t5\t6\t7\t8\t9\t10\t11\t0\t"
     ]
    }
   ],
   "source": [
    "for elem in np.nditer(arr):\n",
    "    print(elem, end='\\t')"
   ]
  },
  {
   "cell_type": "markdown",
   "id": "03e1b0b6-1fe7-4667-a5a0-b411ce05645c",
   "metadata": {},
   "source": [
    "Есть и альтернатива enumerate для массивов:"
   ]
  },
  {
   "cell_type": "code",
   "execution_count": 33,
   "id": "f75413dc-9608-41f0-8d0e-a89f80096f50",
   "metadata": {},
   "outputs": [
    {
     "name": "stdout",
     "output_type": "stream",
     "text": [
      "(0,) 1\t(1,) 2\t(2,) 123\t(3,) 4\t(4,) 5\t(5,) 6\t(6,) 7\t(7,) 8\t(8,) 9\t(9,) 10\t(10,) 11\t(11,) 0\t"
     ]
    }
   ],
   "source": [
    "for i, elem in np.ndenumerate(arr):\n",
    "    print(i, elem, end='\\t')"
   ]
  },
  {
   "cell_type": "markdown",
   "id": "dae2f668-65ba-4b15-a3b4-1eba3bf16f92",
   "metadata": {},
   "source": [
    "#### Операции с массивами\n",
    "\n",
    "Какие действия вообще возможно выполнять с массивами?"
   ]
  },
  {
   "cell_type": "code",
   "execution_count": 34,
   "id": "50672433-b77a-46a8-9aa7-71601c94006e",
   "metadata": {},
   "outputs": [],
   "source": [
    "arr = np.array([1, 2, 3, 4, 5])"
   ]
  },
  {
   "cell_type": "markdown",
   "id": "480c3480-2e60-47d0-bfb8-cf3cf06e635a",
   "metadata": {},
   "source": [
    "Все стандартные операции с числами будут произведены поэлементно:"
   ]
  },
  {
   "cell_type": "code",
   "execution_count": 35,
   "id": "cb38a582-8ac0-4e04-a1f0-3414f424b458",
   "metadata": {},
   "outputs": [
    {
     "data": {
      "text/plain": [
       "array([2, 3, 4, 5, 6])"
      ]
     },
     "execution_count": 35,
     "metadata": {},
     "output_type": "execute_result"
    }
   ],
   "source": [
    "arr + 1"
   ]
  },
  {
   "cell_type": "code",
   "execution_count": 36,
   "id": "344d0d8d-2fc5-4113-9daa-3c8c8450000d",
   "metadata": {},
   "outputs": [
    {
     "data": {
      "text/plain": [
       "array([ 5, 10, 15, 20, 25])"
      ]
     },
     "execution_count": 36,
     "metadata": {},
     "output_type": "execute_result"
    }
   ],
   "source": [
    "arr * 5"
   ]
  },
  {
   "cell_type": "code",
   "execution_count": 37,
   "id": "0faf7115-1dbe-4c40-980e-bcd8892dd177",
   "metadata": {},
   "outputs": [
    {
     "data": {
      "text/plain": [
       "array([-3, -2, -1,  0,  1])"
      ]
     },
     "execution_count": 37,
     "metadata": {},
     "output_type": "execute_result"
    }
   ],
   "source": [
    "arr - 4"
   ]
  },
  {
   "cell_type": "code",
   "execution_count": 38,
   "id": "13d4ce8d-bc1c-4dc4-a87f-15d226223566",
   "metadata": {},
   "outputs": [
    {
     "data": {
      "text/plain": [
       "array([ 1,  4,  9, 16, 25])"
      ]
     },
     "execution_count": 38,
     "metadata": {},
     "output_type": "execute_result"
    }
   ],
   "source": [
    "arr ** 2"
   ]
  },
  {
   "cell_type": "code",
   "execution_count": 39,
   "id": "95ec92f5-796d-4cd5-a982-d16c2d08c3f6",
   "metadata": {},
   "outputs": [
    {
     "data": {
      "text/plain": [
       "array([0.2, 0.4, 0.6, 0.8, 1. ])"
      ]
     },
     "execution_count": 39,
     "metadata": {},
     "output_type": "execute_result"
    }
   ],
   "source": [
    "arr / 5"
   ]
  },
  {
   "cell_type": "markdown",
   "id": "51262bfa-bd77-478b-9768-dfa26ddc584a",
   "metadata": {},
   "source": [
    "Логические операции между двумя массивами будут давать массив из булей:"
   ]
  },
  {
   "cell_type": "code",
   "execution_count": 40,
   "id": "f83a9dbc-d127-4ba4-81e2-7091765fb8c4",
   "metadata": {},
   "outputs": [
    {
     "data": {
      "text/plain": [
       "array([False,  True, False,  True])"
      ]
     },
     "execution_count": 40,
     "metadata": {},
     "output_type": "execute_result"
    }
   ],
   "source": [
    "a = np.array([1, 2, 3, 4])\n",
    "b = np.array([4, 2, 2, 4])\n",
    "a == b"
   ]
  },
  {
   "cell_type": "markdown",
   "id": "98a40dca-58cd-41d4-8bc4-db3dc40847b1",
   "metadata": {},
   "source": [
    "А если у нас два массива, и мы хотим их сложить?"
   ]
  },
  {
   "cell_type": "code",
   "execution_count": 41,
   "id": "f184878a-b475-4c35-bd2c-8455aaee88b5",
   "metadata": {},
   "outputs": [
    {
     "data": {
      "text/plain": [
       "array([5, 4, 5, 8])"
      ]
     },
     "execution_count": 41,
     "metadata": {},
     "output_type": "execute_result"
    }
   ],
   "source": [
    "a + b"
   ]
  },
  {
   "cell_type": "markdown",
   "id": "1bbd6e46-31f0-41a8-a2b9-ba0aa43c7483",
   "metadata": {},
   "source": [
    "Тут, правда, может возникнуть незадача..."
   ]
  },
  {
   "cell_type": "code",
   "execution_count": 42,
   "id": "e819efdd-2b4c-4136-bdc0-cbf8c221cbf3",
   "metadata": {},
   "outputs": [
    {
     "ename": "ValueError",
     "evalue": "operands could not be broadcast together with shapes (4,) (5,) ",
     "output_type": "error",
     "traceback": [
      "\u001b[0;31m---------------------------------------------------------------------------\u001b[0m",
      "\u001b[0;31mValueError\u001b[0m                                Traceback (most recent call last)",
      "\u001b[0;32m/tmp/ipykernel_40546/4193272565.py\u001b[0m in \u001b[0;36m<module>\u001b[0;34m\u001b[0m\n\u001b[0;32m----> 1\u001b[0;31m \u001b[0ma\u001b[0m \u001b[0;34m+\u001b[0m \u001b[0marr\u001b[0m\u001b[0;34m\u001b[0m\u001b[0;34m\u001b[0m\u001b[0m\n\u001b[0m",
      "\u001b[0;31mValueError\u001b[0m: operands could not be broadcast together with shapes (4,) (5,) "
     ]
    }
   ],
   "source": [
    "a + arr"
   ]
  },
  {
   "cell_type": "markdown",
   "id": "29e9c831-3509-4dcc-a527-3d2f25f0c81c",
   "metadata": {},
   "source": [
    "Это и есть тот самый broadcasting: чтобы произвести операции между неравными по размеру массивами, NumPy пытается превратить их в равные, но иногда у него не получается. В манах по NumPy можно найти картинку, наглядно объясняющую broadcasting: \n",
    "\n",
    "<img src=numpy_broadcasting.png>"
   ]
  },
  {
   "cell_type": "markdown",
   "id": "8eaa9c84-7168-4e98-a41e-5ea535f7a471",
   "metadata": {},
   "source": [
    "#### Конкатенация и разделение\n",
    "\n",
    "Окей, а если мы хотим объединить два массива, при этом не складывая их? Тут есть несколько вариантов:"
   ]
  },
  {
   "cell_type": "code",
   "execution_count": 43,
   "id": "040032c7-eeba-47ce-b2a6-aef36ef096cd",
   "metadata": {},
   "outputs": [],
   "source": [
    "arr1 = np.array([[1, 2, 3]])\n",
    "arr2 = np.array([[4, 5, 6]])"
   ]
  },
  {
   "cell_type": "code",
   "execution_count": 44,
   "id": "e96c78d6-cf50-40d7-86e5-b9699c4040bb",
   "metadata": {},
   "outputs": [
    {
     "data": {
      "text/plain": [
       "array([[1, 2, 3],\n",
       "       [4, 5, 6]])"
      ]
     },
     "execution_count": 44,
     "metadata": {},
     "output_type": "execute_result"
    }
   ],
   "source": [
    "arr = np.concatenate((arr1, arr2))\n",
    "arr"
   ]
  },
  {
   "cell_type": "code",
   "execution_count": 45,
   "id": "e0d5eeaa-bc0b-472d-9cc0-e873c50d0a05",
   "metadata": {},
   "outputs": [
    {
     "data": {
      "text/plain": [
       "array([[1, 2, 3, 4, 5, 6]])"
      ]
     },
     "execution_count": 45,
     "metadata": {},
     "output_type": "execute_result"
    }
   ],
   "source": [
    "arrv = np.concatenate((arr1, arr2), axis=1)\n",
    "arrv"
   ]
  },
  {
   "cell_type": "code",
   "execution_count": 46,
   "id": "c6a578ec-b64b-4c0f-b68b-5a3c8f541966",
   "metadata": {},
   "outputs": [
    {
     "data": {
      "text/plain": [
       "array([[[1, 2, 3]],\n",
       "\n",
       "       [[4, 5, 6]]])"
      ]
     },
     "execution_count": 46,
     "metadata": {},
     "output_type": "execute_result"
    }
   ],
   "source": [
    "np.stack((arr1, arr2))"
   ]
  },
  {
   "cell_type": "markdown",
   "id": "ae654244-47e9-4f42-8701-527f0294f2b8",
   "metadata": {},
   "source": [
    "Тут немного неочевидно - но stack возвращает массив большей мерности, когда склеивает, а concatenate - нет. "
   ]
  },
  {
   "cell_type": "markdown",
   "id": "c979c148-e4f1-4462-a1fe-a14d3da1a251",
   "metadata": {},
   "source": [
    "Посплитить тоже можно:"
   ]
  },
  {
   "cell_type": "code",
   "execution_count": 47,
   "id": "3e1d2832-9c28-4bfa-9dc0-c36f775b5f2b",
   "metadata": {},
   "outputs": [
    {
     "data": {
      "text/plain": [
       "[array([[1, 2, 3]]), array([[4, 5, 6]])]"
      ]
     },
     "execution_count": 47,
     "metadata": {},
     "output_type": "execute_result"
    }
   ],
   "source": [
    "np.array_split(arr, 2)"
   ]
  },
  {
   "cell_type": "markdown",
   "id": "44ee9b66-8149-462b-9e61-23e7a7b2a0ad",
   "metadata": {},
   "source": [
    "#### Поиск, сортировка, фильтрация\n",
    "\n",
    "Можно искать по массиву элемент, который чему-нибудь равен:"
   ]
  },
  {
   "cell_type": "code",
   "execution_count": 48,
   "id": "e0c2cb5d-f4e4-4118-a361-8b265d1b9b5d",
   "metadata": {},
   "outputs": [
    {
     "data": {
      "text/plain": [
       "(array([0, 1]), array([2, 1]))"
      ]
     },
     "execution_count": 48,
     "metadata": {},
     "output_type": "execute_result"
    }
   ],
   "source": [
    "arr = np.array([[1, 2, 3], [2, 3, 1]])\n",
    "np.where(arr==3)"
   ]
  },
  {
   "cell_type": "markdown",
   "id": "910ab5c6-3fdb-4dd4-9923-98638072f5bb",
   "metadata": {},
   "source": [
    "В этом случае вернутся индексы найденных элементов.\n",
    "\n",
    "where умеет еще и заменять найденное:"
   ]
  },
  {
   "cell_type": "code",
   "execution_count": 49,
   "id": "33cdee26-f5dc-42c4-8675-201a4c50c229",
   "metadata": {},
   "outputs": [
    {
     "data": {
      "text/plain": [
       "array([[  1,   2, 333],\n",
       "       [  2, 333,   1]])"
      ]
     },
     "execution_count": 49,
     "metadata": {},
     "output_type": "execute_result"
    }
   ],
   "source": [
    "np.where(arr == 3, 333, arr)"
   ]
  },
  {
   "cell_type": "markdown",
   "id": "79a1fe2d-b1e1-4ac8-9e96-358d7ce00fb3",
   "metadata": {},
   "source": [
    "Сортировать массивы можно с помощью np.sort(), которая возвращает копию массива, а оригинальный массив оставляет нетронутым. "
   ]
  },
  {
   "cell_type": "markdown",
   "id": "5f0df0b3-9c38-47a6-ae95-17d021b2b149",
   "metadata": {},
   "source": [
    "Фильтрация массива - очень мощная и крутая штуковина. Например, мы можем наложить своего рода маску на массив:"
   ]
  },
  {
   "cell_type": "code",
   "execution_count": 50,
   "id": "b61e47a1-8795-478f-90fd-f83bb321ac1c",
   "metadata": {},
   "outputs": [
    {
     "data": {
      "text/plain": [
       "array([2, 4])"
      ]
     },
     "execution_count": 50,
     "metadata": {},
     "output_type": "execute_result"
    }
   ],
   "source": [
    "arr = np.array([1, 2, 3, 4])\n",
    "filt = [False, True, False, True]\n",
    "arr[filt]"
   ]
  },
  {
   "cell_type": "markdown",
   "id": "042cfa20-0f7a-4673-984d-07bd8358c409",
   "metadata": {},
   "source": [
    "Подобная маска нам, конечно, вряд ли пригодится в реальной жизни, но можно задавать ее с помощью условия:"
   ]
  },
  {
   "cell_type": "code",
   "execution_count": 51,
   "id": "f0787ff1-352a-491d-9b6e-bb32f5b11f85",
   "metadata": {},
   "outputs": [
    {
     "data": {
      "text/plain": [
       "array([1, 3])"
      ]
     },
     "execution_count": 51,
     "metadata": {},
     "output_type": "execute_result"
    }
   ],
   "source": [
    "filt = arr % 2 == 1\n",
    "arr[filt]"
   ]
  },
  {
   "cell_type": "markdown",
   "id": "1200609f-7816-415a-95c8-ee88fa114002",
   "metadata": {},
   "source": [
    "То есть, условие поэлементно применяется к массиву, и возвращаются только те элементы, которые прошли испытание. \n",
    "\n",
    "Можно и напрямую:"
   ]
  },
  {
   "cell_type": "code",
   "execution_count": 52,
   "id": "7ef03c6d-e0f0-44e5-9951-a13f63f242ff",
   "metadata": {},
   "outputs": [
    {
     "data": {
      "text/plain": [
       "array([1, 3])"
      ]
     },
     "execution_count": 52,
     "metadata": {},
     "output_type": "execute_result"
    }
   ],
   "source": [
    "arr[arr % 2 == 1]"
   ]
  },
  {
   "cell_type": "markdown",
   "id": "92ee00c3-a789-427d-ac10-228aeb06b240",
   "metadata": {},
   "source": [
    "#### Рандомизация"
   ]
  },
  {
   "cell_type": "markdown",
   "id": "1a17c62d-066b-4d8b-ae19-c82dc9dbe74e",
   "metadata": {},
   "source": [
    "В NumPy есть свой подмодуль random, у которого есть следующие вещи:."
   ]
  },
  {
   "cell_type": "code",
   "execution_count": 53,
   "id": "3020da16-7b62-4bde-9253-d68d1290b458",
   "metadata": {},
   "outputs": [
    {
     "data": {
      "text/plain": [
       "array([[13, 79, 77, 45, 65],\n",
       "       [79, 77, 69, 16, 49],\n",
       "       [21, 15, 71, 13, 36]])"
      ]
     },
     "execution_count": 53,
     "metadata": {},
     "output_type": "execute_result"
    }
   ],
   "source": [
    "np.random.randint(100, size=(3, 5))"
   ]
  },
  {
   "cell_type": "code",
   "execution_count": 54,
   "id": "395abdda-3ac6-4305-acf7-97270d6f87e4",
   "metadata": {},
   "outputs": [
    {
     "data": {
      "text/plain": [
       "array([0.71523449, 0.2280614 , 0.602283  , 0.59748733, 0.8102286 ])"
      ]
     },
     "execution_count": 54,
     "metadata": {},
     "output_type": "execute_result"
    }
   ],
   "source": [
    "np.random.rand(5)"
   ]
  },
  {
   "cell_type": "code",
   "execution_count": 55,
   "id": "4529f9a9-5a9c-4e80-b83f-064b523b365b",
   "metadata": {},
   "outputs": [
    {
     "data": {
      "text/plain": [
       "array([[ 1.13376665, -1.21084091],\n",
       "       [ 0.65017331, -1.03202383],\n",
       "       [ 0.03266352,  2.59801228]])"
      ]
     },
     "execution_count": 55,
     "metadata": {},
     "output_type": "execute_result"
    }
   ],
   "source": [
    "np.random.randn(3,2)"
   ]
  },
  {
   "cell_type": "markdown",
   "id": "cf517119-9881-4dea-8e18-e568c10c394a",
   "metadata": {},
   "source": [
    "Первая функция генерирует массив заданного размера в диапазоне от 0 до 100, вторая - массив заданного размера, состоящий из рандомных чисел от 0 до 1, а третья - то же, что вторая, но числа могут быть отрицательными и не обязательно от 0 до 1. "
   ]
  },
  {
   "cell_type": "markdown",
   "id": "0988b08b-1d2a-496e-b702-3f938c7ba099",
   "metadata": {},
   "source": [
    "#### Диапазон"
   ]
  },
  {
   "cell_type": "markdown",
   "id": "f5b0072a-49f0-4ed9-b0f6-b9fae9a05341",
   "metadata": {},
   "source": [
    "Можно генерировать массивы, состоящие из числовых диапазонов, как я это делала выше, но обычно используется своя функция NumPy:"
   ]
  },
  {
   "cell_type": "code",
   "execution_count": 56,
   "id": "9aada90e-83da-4567-b020-4e8f8dd66916",
   "metadata": {},
   "outputs": [
    {
     "data": {
      "text/plain": [
       "array([ 1,  2,  3,  4,  5,  6,  7,  8,  9, 10, 11, 12])"
      ]
     },
     "execution_count": 56,
     "metadata": {},
     "output_type": "execute_result"
    }
   ],
   "source": [
    "np.arange(1, 13)"
   ]
  },
  {
   "cell_type": "markdown",
   "id": "7df6bfef-d66d-440c-a63e-3616cf27df8c",
   "metadata": {},
   "source": [
    "Для более упорядоченной генерации чисел есть также такая функция:"
   ]
  },
  {
   "cell_type": "code",
   "execution_count": 57,
   "id": "27611462-7d57-4b08-a911-328e67a36b30",
   "metadata": {},
   "outputs": [
    {
     "data": {
      "text/plain": [
       "array([ 1.        ,  1.78571429,  2.57142857,  3.35714286,  4.14285714,\n",
       "        4.92857143,  5.71428571,  6.5       ,  7.28571429,  8.07142857,\n",
       "        8.85714286,  9.64285714, 10.42857143, 11.21428571, 12.        ])"
      ]
     },
     "execution_count": 57,
     "metadata": {},
     "output_type": "execute_result"
    }
   ],
   "source": [
    "np.linspace(1, 12, 15)"
   ]
  },
  {
   "cell_type": "markdown",
   "id": "3629ea91-dd50-45bd-93f0-a630e9f1e783",
   "metadata": {},
   "source": [
    "В чем ее прикол? А она генерирует только такие точки, которые укладываются на прямую между точкой начала и конца (аргументы функции - старт, стоп, количество чисел). Если построить график, можно получить прямую:"
   ]
  },
  {
   "cell_type": "code",
   "execution_count": 58,
   "id": "083d3c87-a2c0-4184-90d0-643029b36b23",
   "metadata": {},
   "outputs": [],
   "source": [
    "import matplotlib.pyplot as plt"
   ]
  },
  {
   "cell_type": "code",
   "execution_count": 59,
   "id": "47374e24-6686-4cec-911a-0d7c21610140",
   "metadata": {},
   "outputs": [
    {
     "data": {
      "image/png": "[encoded data removed]",
      "text/plain": [
       "<Figure size 432x288 with 1 Axes>"
      ]
     },
     "metadata": {
      "needs_background": "light"
     },
     "output_type": "display_data"
    }
   ],
   "source": [
    "plt.plot(np.linspace(1, 12, 15))\n",
    "plt.show()"
   ]
  },
  {
   "cell_type": "markdown",
   "id": "5d2c21db-1908-48e2-adaa-c10c1b57f796",
   "metadata": {},
   "source": [
    "### SciPy"
   ]
  },
  {
   "cell_type": "markdown",
   "id": "400e8dd1-bdd5-4e46-be4f-27f2a0279c81",
   "metadata": {},
   "source": [
    "SciPy создал тот же человек, что и NumPy, и это библиотека для научных вычислений, которая базируется на NumPy. Там есть, например, подмодуль linalg, в котором вы найдете функцию нормализации вектора, скалярное произведение векторов и т.п. Некоторые из этих вещей реализованы и в NumPy тоже, но в SciPy они реализованы еще лучше (==быстрее). \n",
    "\n",
    "Нам SciPy в основном не нужен, хотя там есть с чем поиграться. Что там есть? Подмодуль с кучей всяких констант, например (неинтересное), а также оптимизаторы (для нахождения минимальных корней уравнений) и инструменты для работы с разреженными матрицами. Разреженная матрица - это такая, в которой очень много нулей. "
   ]
  },
  {
   "cell_type": "code",
   "execution_count": 60,
   "id": "55bfcfbd-9d95-4e8a-9c68-c033b293a8e7",
   "metadata": {},
   "outputs": [
    {
     "data": {
      "text/plain": [
       "array([0.27984675])"
      ]
     },
     "execution_count": 60,
     "metadata": {},
     "output_type": "execute_result"
    }
   ],
   "source": [
    "from scipy.optimize import root\n",
    "\n",
    "def func(x):\n",
    "    return x ** 2 - 11 * x + 3\n",
    "    \n",
    "myroot = root(func, 0)\n",
    "myroot.x"
   ]
  },
  {
   "cell_type": "markdown",
   "id": "f54b2940-5003-424d-a627-0c3d1ecc4b39",
   "metadata": {},
   "source": [
    "то есть, вообще говоря, корень квадратного уравнения мы можем найти с помощью numpy (знали бы мы это в пятом классе...):"
   ]
  },
  {
   "cell_type": "code",
   "execution_count": 61,
   "id": "09b025e4-9cdd-4ad3-b94e-40d64bf33b17",
   "metadata": {},
   "outputs": [
    {
     "data": {
      "text/plain": [
       "array([10.72015325,  0.27984675])"
      ]
     },
     "execution_count": 61,
     "metadata": {},
     "output_type": "execute_result"
    }
   ],
   "source": [
    "coef = [1, -11, 3]  # сохраняю коэффициенты своего квадратного уравнения\n",
    "np.roots(coef)"
   ]
  },
  {
   "cell_type": "markdown",
   "id": "43f5ed24-e982-47c7-b0df-3e448d9561ea",
   "metadata": {},
   "source": [
    "Та-дам. Видим, что оптимизатор scipy нашел самый маленький из двух корней. \n",
    "\n",
    "Можно также минимизировать функцию:"
   ]
  },
  {
   "cell_type": "code",
   "execution_count": 62,
   "id": "9dfe086e-b719-459a-bba1-8db0713ab79b",
   "metadata": {},
   "outputs": [
    {
     "name": "stdout",
     "output_type": "stream",
     "text": [
      "[5.50000009] -27.249999999999993\n"
     ]
    }
   ],
   "source": [
    "from scipy.optimize import minimize\n",
    "\n",
    "mn = minimize(func, 0)\n",
    "print(mn.x, mn.fun)"
   ]
  },
  {
   "cell_type": "markdown",
   "id": "07b14719-fd0b-47b2-82aa-1f856feb8ed4",
   "metadata": {},
   "source": [
    "Икс - это найденный корень, который дает минимальное значение функции, а само значение - fun.\n",
    "\n",
    "Но это нам все, конечно, только баловства ради. Может пригодиться умение работать с разреженными матрицами; в scipy.sparse есть два класса - CSC (Comressed Sparce Column) и CSR (Compressed Sparce Row). В них можно в сжатом виде хранить разреженные матрицы:"
   ]
  },
  {
   "cell_type": "code",
   "execution_count": 63,
   "id": "bc4cada7-c7a9-4463-ad2c-32f312dc809b",
   "metadata": {},
   "outputs": [
    {
     "name": "stdout",
     "output_type": "stream",
     "text": [
      "  (0, 4)\t1\n",
      "  (0, 9)\t3\n",
      "  (0, 12)\t2\n",
      "[1 3 2]\n",
      "3\n"
     ]
    }
   ],
   "source": [
    "from scipy.sparse import csr_matrix\n",
    "\n",
    "arr = np.array([0, 0, 0, 0, 1, 0, 0, 0, 0, 3, 0, 0, 2])\n",
    "sp = csr_matrix(arr)\n",
    "print(sp, sp.data, sp.count_nonzero(), sep='\\n')"
   ]
  },
  {
   "cell_type": "markdown",
   "id": "01d3a3a8-de74-4374-8a5f-1da42f951848",
   "metadata": {},
   "source": [
    "Ну и в качестве бонуса - как можно построить гладкий график с помощью linspace и интерполяции scipy. На занятии мы с грехом пополам запилили подобный график для случайного набора чисел, а здесь привожу фрагмент рабочего кода для одного там проекта:"
   ]
  },
  {
   "cell_type": "code",
   "execution_count": null,
   "id": "e31f5cce-aacb-4fa9-8273-4f036be47050",
   "metadata": {},
   "outputs": [],
   "source": [
    "from scipy.interpolate import make_interp_spline, BSpline\n",
    "\n",
    "def drawplot(dct): \n",
    "    '''функция принимает словарь словарей, в котором для слова содержатся частоты по годам, т.е. \n",
    "    что-то вида {'word': {2001: 123, 2002: 345...}}\n",
    "    '''\n",
    "    plt.figure(figsize=(30, 20))\n",
    "    plt.tick_params(axis='both', which='major', labelsize=20)\n",
    "    colors = ['maroon', 'tomato', 'sandybrown', 'gold', 'darkkhaki', \n",
    "    'greenyellow', 'palegreen', 'seagreen', 'darkslategray', 'steelblue', \n",
    "    'midnightblue', 'slateblue', 'blueviolet', 'plum', 'palevioletred']\n",
    "    for item, color in zip(dct.items(), colors):  # зип позволяет каждому слову приписать свой цвет\n",
    "        lst = sorted(item[1].items())  # item[1] - это значение словаря; сортируем его по годам\n",
    "        x = [e[0] for e in lst] # получаем годы\n",
    "        y = [e[1] for e in lst] # получаем частоты для годов\n",
    "        xnew = np.linspace(min(x), max(x), 300)  # создаем новые значения для х\n",
    "        spl = make_interp_spline(x, y, k=3)  # интерполируем\n",
    "        power_smooth = spl(xnew)  # сглаживаем\n",
    "        plt.plot(xnew, power_smooth, color=color, label=item[0])\n",
    "    plt.legend(prop={'size': 16})\n",
    "    plt.show()"
   ]
  },
  {
   "cell_type": "markdown",
   "id": "f864f121-962a-43c6-b281-40eae7aff74d",
   "metadata": {},
   "source": [
    "Получается что-то вроде этого:\n",
    "\n",
    "<img src=graph.png>"
   ]
  },
  {
   "cell_type": "markdown",
   "id": "60fc3ace-b697-499e-89c7-50ba6036d803",
   "metadata": {},
   "source": [
    "Как можно видеть, сглаживание иногда создает артефакты на графике (странно задранные части или проседания ниже нуля - частота слова явно не могла быть отрицательной), зато красивенько!!! :D"
   ]
  }
 ],
 "metadata": {
  "kernelspec": {
   "display_name": "Python 3 (ipykernel)",
   "language": "python",
   "name": "python3"
  },
  "language_info": {
   "codemirror_mode": {
    "name": "ipython",
    "version": 3
   },
   "file_extension": ".py",
   "mimetype": "text/x-python",
   "name": "python",
   "nbconvert_exporter": "python",
   "pygments_lexer": "ipython3",
   "version": "3.8.10"
  }
 },
 "nbformat": 4,
 "nbformat_minor": 5
}
