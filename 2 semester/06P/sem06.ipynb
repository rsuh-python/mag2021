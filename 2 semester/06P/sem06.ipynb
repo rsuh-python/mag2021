{
 "cells": [
  {
   "cell_type": "markdown",
   "id": "d8580683-cd6b-46a2-a36a-74da6df9f75a",
   "metadata": {
    "tags": []
   },
   "source": [
    "#### Задача 1.\n",
    "\n",
    "Создайте массив размера 8х8 и заполните его нулями и единицами так, чтобы получилась шахматная доска:\n",
    "\n",
    "    0 1 0 1 0 1 0 1\n",
    "    1 0 1 0 1 0 1 0\n",
    "    ...\n",
    "    \n",
    "Подсказка: можно использовать срезы с шагом. Также можно посмотреть функцию tile()."
   ]
  },
  {
   "cell_type": "code",
   "execution_count": null,
   "id": "b4eb7a28-4fa4-4873-921e-893e65140426",
   "metadata": {},
   "outputs": [],
   "source": [
    "# your code here np.zeros((x, y))"
   ]
  },
  {
   "cell_type": "markdown",
   "id": "b184526c-86fd-4c47-b90f-6a835294ba36",
   "metadata": {},
   "source": [
    "#### Задача 2.\n",
    "\n",
    "Создайте два массива одинакового размера со случайными числами. Упорядочьте эти числа по возрастанию. Постройте график с этими массивами (один из них будет x, другой y)"
   ]
  },
  {
   "cell_type": "code",
   "execution_count": null,
   "id": "a49322ba-b85a-4f69-99fa-75dcc0c8d772",
   "metadata": {},
   "outputs": [],
   "source": [
    "# your code here"
   ]
  }
 ],
 "metadata": {
  "kernelspec": {
   "display_name": "Python 3 (ipykernel)",
   "language": "python",
   "name": "python3"
  },
  "language_info": {
   "codemirror_mode": {
    "name": "ipython",
    "version": 3
   },
   "file_extension": ".py",
   "mimetype": "text/x-python",
   "name": "python",
   "nbconvert_exporter": "python",
   "pygments_lexer": "ipython3",
   "version": "3.8.10"
  }
 },
 "nbformat": 4,
 "nbformat_minor": 5
}
