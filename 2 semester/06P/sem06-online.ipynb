{
 "cells": [
  {
   "cell_type": "code",
   "execution_count": 1,
   "id": "fdda6779-ba78-43d0-83e6-b0c93fcaad8f",
   "metadata": {},
   "outputs": [],
   "source": [
    "import numpy as np"
   ]
  },
  {
   "cell_type": "markdown",
   "id": "a4efa4ca-ea0b-426b-af59-9e28003f72b6",
   "metadata": {},
   "source": [
    "0-D array: scalar\n",
    "\n",
    "1-D array: vector\n",
    "\n",
    "2-D array: matrix\n",
    "\n",
    "3-D ... : tensor "
   ]
  },
  {
   "cell_type": "code",
   "execution_count": 2,
   "id": "87363584-983e-43bd-8162-7ce220f85b30",
   "metadata": {},
   "outputs": [],
   "source": [
    "arr = np.array(42)"
   ]
  },
  {
   "cell_type": "code",
   "execution_count": 3,
   "id": "423472a7-19c5-4f62-b85c-d388d52bc903",
   "metadata": {},
   "outputs": [
    {
     "data": {
      "text/plain": [
       "array(42)"
      ]
     },
     "execution_count": 3,
     "metadata": {},
     "output_type": "execute_result"
    }
   ],
   "source": [
    "arr"
   ]
  },
  {
   "cell_type": "code",
   "execution_count": 4,
   "id": "a33fcc72-85c3-4783-8a55-0ee7c73bc373",
   "metadata": {},
   "outputs": [],
   "source": [
    "arr1 = np.array([1, 2, 3, 4, 5])"
   ]
  },
  {
   "cell_type": "code",
   "execution_count": 5,
   "id": "1126d52c-c221-462b-9c7b-4cf2b781339a",
   "metadata": {},
   "outputs": [
    {
     "data": {
      "text/plain": [
       "array([1, 2, 3, 4, 5])"
      ]
     },
     "execution_count": 5,
     "metadata": {},
     "output_type": "execute_result"
    }
   ],
   "source": [
    "arr1"
   ]
  },
  {
   "cell_type": "code",
   "execution_count": 6,
   "id": "225d1698-db6b-40dc-b758-1305206d1c8f",
   "metadata": {},
   "outputs": [],
   "source": [
    "arr2 = np.array([[1, 2], [3, 4]])"
   ]
  },
  {
   "cell_type": "code",
   "execution_count": 7,
   "id": "34ddb5fd-1326-4ba2-8fd8-a8a0dfdd9c4a",
   "metadata": {},
   "outputs": [
    {
     "data": {
      "text/plain": [
       "array([[1, 2],\n",
       "       [3, 4]])"
      ]
     },
     "execution_count": 7,
     "metadata": {},
     "output_type": "execute_result"
    }
   ],
   "source": [
    "arr2"
   ]
  },
  {
   "cell_type": "code",
   "execution_count": 88,
   "id": "8413edc7-2b96-4187-a03c-1c82bef0ec0c",
   "metadata": {},
   "outputs": [],
   "source": [
    "arr3 = np.array([[[1, 2, 3], [4, 5, 6]], [[6, 7, 8], [1, 2, 3]]])"
   ]
  },
  {
   "cell_type": "code",
   "execution_count": 11,
   "id": "1dc49d30-d980-4d8e-a3d4-b3a601682de2",
   "metadata": {},
   "outputs": [
    {
     "data": {
      "text/plain": [
       "array([[[1, 2, 3],\n",
       "        [4, 5, 6]],\n",
       "\n",
       "       [[6, 7, 8],\n",
       "        [1, 2, 3]]])"
      ]
     },
     "execution_count": 11,
     "metadata": {},
     "output_type": "execute_result"
    }
   ],
   "source": [
    "arr3"
   ]
  },
  {
   "cell_type": "code",
   "execution_count": 12,
   "id": "0f1d7d96-60f5-4549-b617-7bc42c5e0c5d",
   "metadata": {},
   "outputs": [
    {
     "data": {
      "text/plain": [
       "dtype('int64')"
      ]
     },
     "execution_count": 12,
     "metadata": {},
     "output_type": "execute_result"
    }
   ],
   "source": [
    "arr3.dtype"
   ]
  },
  {
   "cell_type": "markdown",
   "id": "e4900925-bc06-437c-80c1-3e8d7b5055e9",
   "metadata": {},
   "source": [
    "i - integer\n",
    "f - float\n",
    "b - boolean\n",
    "c - complex\n",
    "M - datetime\n",
    "O - object\n",
    "S - string\n",
    "U - string utf\n",
    "V - void (nonetype)"
   ]
  },
  {
   "cell_type": "code",
   "execution_count": 15,
   "id": "8137d7fe-421e-48ea-bde7-8cadb12084a8",
   "metadata": {},
   "outputs": [],
   "source": [
    "arr1 = np.array([1, 2, 3, 4, 5], dtype='U')"
   ]
  },
  {
   "cell_type": "code",
   "execution_count": 16,
   "id": "2c551225-07cd-4ca3-91ce-196690cedb26",
   "metadata": {},
   "outputs": [
    {
     "data": {
      "text/plain": [
       "array(['1', '2', '3', '4', '5'], dtype='<U1')"
      ]
     },
     "execution_count": 16,
     "metadata": {},
     "output_type": "execute_result"
    }
   ],
   "source": [
    "arr1"
   ]
  },
  {
   "cell_type": "code",
   "execution_count": 17,
   "id": "b56e05fc-70f8-41b2-a83e-b5e0127b3d2b",
   "metadata": {},
   "outputs": [],
   "source": [
    "newarr = arr1.astype('i')"
   ]
  },
  {
   "cell_type": "code",
   "execution_count": 18,
   "id": "7aed897e-ec0b-4680-bb84-8f8eef78e0f8",
   "metadata": {},
   "outputs": [
    {
     "data": {
      "text/plain": [
       "array([1, 2, 3, 4, 5], dtype=int32)"
      ]
     },
     "execution_count": 18,
     "metadata": {},
     "output_type": "execute_result"
    }
   ],
   "source": [
    "newarr"
   ]
  },
  {
   "cell_type": "code",
   "execution_count": 19,
   "id": "89fd05eb-411f-405b-9313-bb3513f809cf",
   "metadata": {},
   "outputs": [
    {
     "data": {
      "text/plain": [
       "3"
      ]
     },
     "execution_count": 19,
     "metadata": {},
     "output_type": "execute_result"
    }
   ],
   "source": [
    "arr3.ndim"
   ]
  },
  {
   "cell_type": "code",
   "execution_count": 21,
   "id": "924ad7d7-38e6-47b1-8cda-0da4dc7867f5",
   "metadata": {},
   "outputs": [],
   "source": [
    "arr = np.array([1, 2, 3, 4, 5, 6], ndmin=2)"
   ]
  },
  {
   "cell_type": "code",
   "execution_count": 22,
   "id": "da7f6a66-af0e-40e4-94cb-1061a4a788f5",
   "metadata": {},
   "outputs": [
    {
     "data": {
      "text/plain": [
       "array([[1, 2, 3, 4, 5, 6]])"
      ]
     },
     "execution_count": 22,
     "metadata": {},
     "output_type": "execute_result"
    }
   ],
   "source": [
    "arr"
   ]
  },
  {
   "cell_type": "code",
   "execution_count": 23,
   "id": "2804d447-e0bb-4075-9fe9-3c8b087299ee",
   "metadata": {},
   "outputs": [
    {
     "data": {
      "text/plain": [
       "array([[[1, 2, 3],\n",
       "        [4, 5, 6]],\n",
       "\n",
       "       [[6, 7, 8],\n",
       "        [1, 2, 3]]])"
      ]
     },
     "execution_count": 23,
     "metadata": {},
     "output_type": "execute_result"
    }
   ],
   "source": [
    "arr3"
   ]
  },
  {
   "cell_type": "code",
   "execution_count": 27,
   "id": "bea8cb33-ee71-406b-9dfe-9ad07509b1a8",
   "metadata": {},
   "outputs": [
    {
     "data": {
      "text/plain": [
       "1"
      ]
     },
     "execution_count": 27,
     "metadata": {},
     "output_type": "execute_result"
    }
   ],
   "source": [
    "arr3[1, 1, 0]"
   ]
  },
  {
   "cell_type": "code",
   "execution_count": 29,
   "id": "8f8cfab8-83d7-4169-b936-67129600cf66",
   "metadata": {},
   "outputs": [
    {
     "data": {
      "text/plain": [
       "array([[4, 5, 6],\n",
       "       [1, 2, 3]])"
      ]
     },
     "execution_count": 29,
     "metadata": {},
     "output_type": "execute_result"
    }
   ],
   "source": [
    "arr3[:, 1, :]"
   ]
  },
  {
   "cell_type": "code",
   "execution_count": 30,
   "id": "5ec594c6-b3c4-4139-8aa7-d2191c76f8ad",
   "metadata": {},
   "outputs": [
    {
     "data": {
      "text/plain": [
       "array([[[1, 2, 3],\n",
       "        [4, 5, 6]],\n",
       "\n",
       "       [[6, 7, 8],\n",
       "        [1, 2, 3]]])"
      ]
     },
     "execution_count": 30,
     "metadata": {},
     "output_type": "execute_result"
    }
   ],
   "source": [
    "arr3[:, :, :]"
   ]
  },
  {
   "cell_type": "code",
   "execution_count": 31,
   "id": "2ddf5eef-bdce-4d1f-a07b-ca6aca784fa9",
   "metadata": {},
   "outputs": [
    {
     "data": {
      "text/plain": [
       "array([[[2, 3],\n",
       "        [5, 6]],\n",
       "\n",
       "       [[7, 8],\n",
       "        [2, 3]]])"
      ]
     },
     "execution_count": 31,
     "metadata": {},
     "output_type": "execute_result"
    }
   ],
   "source": [
    "arr3[:, :, 1:4]"
   ]
  },
  {
   "cell_type": "code",
   "execution_count": 32,
   "id": "0dd08db9-a662-4c08-95b8-cac1628ce5a9",
   "metadata": {},
   "outputs": [],
   "source": [
    "arr4 = arr3"
   ]
  },
  {
   "cell_type": "code",
   "execution_count": 33,
   "id": "a7b82589-0779-4c33-a132-4d7f3ab4e1ea",
   "metadata": {},
   "outputs": [],
   "source": [
    "arr3[0, 0, 0] = 10"
   ]
  },
  {
   "cell_type": "code",
   "execution_count": 34,
   "id": "65fb22b9-9370-461b-8831-e2bd6d7241c1",
   "metadata": {},
   "outputs": [
    {
     "data": {
      "text/plain": [
       "array([[[10,  2,  3],\n",
       "        [ 4,  5,  6]],\n",
       "\n",
       "       [[ 6,  7,  8],\n",
       "        [ 1,  2,  3]]])"
      ]
     },
     "execution_count": 34,
     "metadata": {},
     "output_type": "execute_result"
    }
   ],
   "source": [
    "arr4"
   ]
  },
  {
   "cell_type": "code",
   "execution_count": null,
   "id": "0d8682a2-f916-47bb-bf41-2924a77395f1",
   "metadata": {},
   "outputs": [],
   "source": [
    "arr.copy()"
   ]
  },
  {
   "cell_type": "code",
   "execution_count": 35,
   "id": "8fbcabda-611c-423a-ab47-1eedab2aa822",
   "metadata": {},
   "outputs": [],
   "source": [
    "arr4.base"
   ]
  },
  {
   "cell_type": "code",
   "execution_count": 36,
   "id": "722b4fba-1861-4082-8f98-d8c29118c84e",
   "metadata": {},
   "outputs": [],
   "source": [
    "arr3.base"
   ]
  },
  {
   "cell_type": "code",
   "execution_count": 37,
   "id": "151d17df-f4f8-45b9-8de1-5a7b2e91e9db",
   "metadata": {},
   "outputs": [],
   "source": [
    "arr4 = arr3.view()"
   ]
  },
  {
   "cell_type": "code",
   "execution_count": 38,
   "id": "473e1b11-3b89-493c-a7a8-f5f719b803bd",
   "metadata": {},
   "outputs": [
    {
     "data": {
      "text/plain": [
       "array([[[10,  2,  3],\n",
       "        [ 4,  5,  6]],\n",
       "\n",
       "       [[ 6,  7,  8],\n",
       "        [ 1,  2,  3]]])"
      ]
     },
     "execution_count": 38,
     "metadata": {},
     "output_type": "execute_result"
    }
   ],
   "source": [
    "arr4.base"
   ]
  },
  {
   "cell_type": "code",
   "execution_count": 39,
   "id": "7df056d9-fcdf-4aa2-981a-c23822dbce10",
   "metadata": {},
   "outputs": [
    {
     "data": {
      "text/plain": [
       "(2, 2, 3)"
      ]
     },
     "execution_count": 39,
     "metadata": {},
     "output_type": "execute_result"
    }
   ],
   "source": [
    "arr3.shape"
   ]
  },
  {
   "cell_type": "code",
   "execution_count": 40,
   "id": "81a0dcd1-e217-4f0e-a79b-2ee14a5f717f",
   "metadata": {},
   "outputs": [],
   "source": [
    "arr1 = np.arange(1, 13)  # == np.array(range(1, 13))"
   ]
  },
  {
   "cell_type": "code",
   "execution_count": 41,
   "id": "ef80648c-607c-486d-8a37-a482ee9e3d3c",
   "metadata": {},
   "outputs": [
    {
     "data": {
      "text/plain": [
       "array([ 1,  2,  3,  4,  5,  6,  7,  8,  9, 10, 11, 12])"
      ]
     },
     "execution_count": 41,
     "metadata": {},
     "output_type": "execute_result"
    }
   ],
   "source": [
    "arr1"
   ]
  },
  {
   "cell_type": "code",
   "execution_count": 42,
   "id": "f97a5656-8ed4-4fc2-b10f-8da7d389345f",
   "metadata": {},
   "outputs": [
    {
     "data": {
      "text/plain": [
       "array([[ 1,  2,  3],\n",
       "       [ 4,  5,  6],\n",
       "       [ 7,  8,  9],\n",
       "       [10, 11, 12]])"
      ]
     },
     "execution_count": 42,
     "metadata": {},
     "output_type": "execute_result"
    }
   ],
   "source": [
    "arr1.reshape(4, 3)"
   ]
  },
  {
   "cell_type": "code",
   "execution_count": 43,
   "id": "dbeb0253-c6da-4865-aa6f-9e10ff1d3934",
   "metadata": {},
   "outputs": [
    {
     "data": {
      "text/plain": [
       "array([[ 1,  2,  3,  4],\n",
       "       [ 5,  6,  7,  8],\n",
       "       [ 9, 10, 11, 12]])"
      ]
     },
     "execution_count": 43,
     "metadata": {},
     "output_type": "execute_result"
    }
   ],
   "source": [
    "arr1.reshape(3, 4)"
   ]
  },
  {
   "cell_type": "code",
   "execution_count": 44,
   "id": "399ad3c8-25cc-45ae-821d-5686b4b9cb28",
   "metadata": {},
   "outputs": [],
   "source": [
    "arr = arr1.reshape(3, 2, 2)"
   ]
  },
  {
   "cell_type": "code",
   "execution_count": 46,
   "id": "10c7d369-8426-452f-a95f-05166068da63",
   "metadata": {},
   "outputs": [
    {
     "data": {
      "text/plain": [
       "array([ 1,  2,  3,  4,  5,  6,  7,  8,  9, 10, 11, 12])"
      ]
     },
     "execution_count": 46,
     "metadata": {},
     "output_type": "execute_result"
    }
   ],
   "source": [
    "arr.base"
   ]
  },
  {
   "cell_type": "code",
   "execution_count": 47,
   "id": "625a9a31-eb28-4ce5-a649-f18ce0943461",
   "metadata": {},
   "outputs": [],
   "source": [
    "arr1[0] = 10"
   ]
  },
  {
   "cell_type": "code",
   "execution_count": 48,
   "id": "56c43fba-3221-4251-91ac-21e41493b854",
   "metadata": {},
   "outputs": [
    {
     "data": {
      "text/plain": [
       "array([[[10,  2],\n",
       "        [ 3,  4]],\n",
       "\n",
       "       [[ 5,  6],\n",
       "        [ 7,  8]],\n",
       "\n",
       "       [[ 9, 10],\n",
       "        [11, 12]]])"
      ]
     },
     "execution_count": 48,
     "metadata": {},
     "output_type": "execute_result"
    }
   ],
   "source": [
    "arr"
   ]
  },
  {
   "cell_type": "code",
   "execution_count": 49,
   "id": "54db1181-82ad-4b35-b7c5-a6eb156bbef6",
   "metadata": {},
   "outputs": [],
   "source": [
    "arr1 = np.arange(1, 13).reshape(4, 3)"
   ]
  },
  {
   "cell_type": "code",
   "execution_count": 50,
   "id": "ddf7a992-ef3c-47d9-b746-fee3bd830ac1",
   "metadata": {},
   "outputs": [
    {
     "data": {
      "text/plain": [
       "array([ 1,  2,  3,  4,  5,  6,  7,  8,  9, 10, 11, 12])"
      ]
     },
     "execution_count": 50,
     "metadata": {},
     "output_type": "execute_result"
    }
   ],
   "source": [
    "arr1.base"
   ]
  },
  {
   "cell_type": "code",
   "execution_count": 53,
   "id": "1615a27b-9487-4f7d-8e3a-ee9ba9e6ac62",
   "metadata": {},
   "outputs": [],
   "source": [
    "arr1 = np.arange(1, 13)"
   ]
  },
  {
   "cell_type": "code",
   "execution_count": 54,
   "id": "4a00d2ad-0573-4f90-aa74-7ae472c23cb8",
   "metadata": {},
   "outputs": [],
   "source": [
    "arr = arr1.reshape(3, 2, -1)"
   ]
  },
  {
   "cell_type": "code",
   "execution_count": 55,
   "id": "58413080-599d-4b45-be32-6e86c6602ee4",
   "metadata": {},
   "outputs": [
    {
     "data": {
      "text/plain": [
       "array([[[ 1,  2],\n",
       "        [ 3,  4]],\n",
       "\n",
       "       [[ 5,  6],\n",
       "        [ 7,  8]],\n",
       "\n",
       "       [[ 9, 10],\n",
       "        [11, 12]]])"
      ]
     },
     "execution_count": 55,
     "metadata": {},
     "output_type": "execute_result"
    }
   ],
   "source": [
    "arr"
   ]
  },
  {
   "cell_type": "code",
   "execution_count": 56,
   "id": "e87f78a2-f34d-4a84-83a2-bf39a5198e4d",
   "metadata": {},
   "outputs": [],
   "source": [
    "arr = arr1.reshape(-1, 2, 2)"
   ]
  },
  {
   "cell_type": "code",
   "execution_count": 57,
   "id": "f324f580-55ef-44a4-8dc0-46b70de942d3",
   "metadata": {},
   "outputs": [
    {
     "data": {
      "text/plain": [
       "array([[[ 1,  2],\n",
       "        [ 3,  4]],\n",
       "\n",
       "       [[ 5,  6],\n",
       "        [ 7,  8]],\n",
       "\n",
       "       [[ 9, 10],\n",
       "        [11, 12]]])"
      ]
     },
     "execution_count": 57,
     "metadata": {},
     "output_type": "execute_result"
    }
   ],
   "source": [
    "arr"
   ]
  },
  {
   "cell_type": "code",
   "execution_count": 58,
   "id": "418f4600-0d2e-4b95-8db2-22b423b1c0f8",
   "metadata": {},
   "outputs": [
    {
     "data": {
      "text/plain": [
       "array([[[10,  2,  3],\n",
       "        [ 4,  5,  6]],\n",
       "\n",
       "       [[ 6,  7,  8],\n",
       "        [ 1,  2,  3]]])"
      ]
     },
     "execution_count": 58,
     "metadata": {},
     "output_type": "execute_result"
    }
   ],
   "source": [
    "arr3"
   ]
  },
  {
   "cell_type": "code",
   "execution_count": 60,
   "id": "4ca62cad-3e5e-4200-a204-54ae582d8ea2",
   "metadata": {},
   "outputs": [],
   "source": [
    "arr3.base"
   ]
  },
  {
   "cell_type": "code",
   "execution_count": 61,
   "id": "c378a9ef-6aa9-43b2-a959-d064b9f009d9",
   "metadata": {},
   "outputs": [
    {
     "data": {
      "text/plain": [
       "3"
      ]
     },
     "execution_count": 61,
     "metadata": {},
     "output_type": "execute_result"
    }
   ],
   "source": [
    "arr3.ndim"
   ]
  },
  {
   "cell_type": "code",
   "execution_count": 62,
   "id": "ee2745b3-55a5-40f1-a6a2-33796014b219",
   "metadata": {},
   "outputs": [
    {
     "data": {
      "text/plain": [
       "array([10,  2,  3,  4,  5,  6,  6,  7,  8,  1,  2,  3])"
      ]
     },
     "execution_count": 62,
     "metadata": {},
     "output_type": "execute_result"
    }
   ],
   "source": [
    "arr3.reshape(-1)"
   ]
  },
  {
   "cell_type": "code",
   "execution_count": 63,
   "id": "a667c3fa-232a-4463-a67b-ce30319b5ad1",
   "metadata": {},
   "outputs": [],
   "source": [
    "arr = np.arange(1, 14)"
   ]
  },
  {
   "cell_type": "code",
   "execution_count": null,
   "id": "90eca5a3-243c-4f9b-95b7-7d9e00c1a176",
   "metadata": {},
   "outputs": [],
   "source": [
    "arr.reshape(4, -1)"
   ]
  },
  {
   "cell_type": "code",
   "execution_count": 65,
   "id": "bc6113e3-b74f-4a67-b413-ddf3a9874812",
   "metadata": {},
   "outputs": [
    {
     "name": "stdout",
     "output_type": "stream",
     "text": [
      "10\n",
      "2\n",
      "3\n",
      "4\n",
      "5\n",
      "6\n",
      "6\n",
      "7\n",
      "8\n",
      "1\n",
      "2\n",
      "3\n"
     ]
    }
   ],
   "source": [
    "for x in np.nditer(arr3):\n",
    "    print(x)"
   ]
  },
  {
   "cell_type": "code",
   "execution_count": 66,
   "id": "bbfb467d-29e9-4ab6-8031-8900804d3214",
   "metadata": {},
   "outputs": [
    {
     "name": "stdout",
     "output_type": "stream",
     "text": [
      "(0, 0, 0) 10\n",
      "(0, 0, 1) 2\n",
      "(0, 0, 2) 3\n",
      "(0, 1, 0) 4\n",
      "(0, 1, 1) 5\n",
      "(0, 1, 2) 6\n",
      "(1, 0, 0) 6\n",
      "(1, 0, 1) 7\n",
      "(1, 0, 2) 8\n",
      "(1, 1, 0) 1\n",
      "(1, 1, 1) 2\n",
      "(1, 1, 2) 3\n"
     ]
    }
   ],
   "source": [
    "for ind, x in np.ndenumerate(arr3):\n",
    "    print(ind, x)"
   ]
  },
  {
   "cell_type": "markdown",
   "id": "6d181b68-3f39-4ea1-b354-aad1694d5b7d",
   "metadata": {},
   "source": [
    "1. Конкатенация\n",
    "2. Stacking"
   ]
  },
  {
   "cell_type": "code",
   "execution_count": 80,
   "id": "35f38465-f25a-4cfd-9689-c762f22d6bf2",
   "metadata": {},
   "outputs": [],
   "source": [
    "arr1 = np.arange(1, 6)\n",
    "arr2 = np.arange(6, 11)"
   ]
  },
  {
   "cell_type": "code",
   "execution_count": 68,
   "id": "1c4d8664-ba7b-4ee5-823b-462f082d0069",
   "metadata": {},
   "outputs": [
    {
     "data": {
      "text/plain": [
       "array([1, 2, 3, 4, 5])"
      ]
     },
     "execution_count": 68,
     "metadata": {},
     "output_type": "execute_result"
    }
   ],
   "source": [
    "arr1"
   ]
  },
  {
   "cell_type": "code",
   "execution_count": 70,
   "id": "10afd19e-e9df-4d37-a42d-0190b8adb8cf",
   "metadata": {},
   "outputs": [
    {
     "data": {
      "text/plain": [
       "array([ 6,  7,  8,  9, 10])"
      ]
     },
     "execution_count": 70,
     "metadata": {},
     "output_type": "execute_result"
    }
   ],
   "source": [
    "arr2"
   ]
  },
  {
   "cell_type": "code",
   "execution_count": 72,
   "id": "3c0e5ded-e0a5-4d6a-ac8f-2fdd26b71edd",
   "metadata": {},
   "outputs": [],
   "source": [
    "arr = np.concatenate((arr1, arr2))"
   ]
  },
  {
   "cell_type": "code",
   "execution_count": 73,
   "id": "2ad72978-ff22-4e46-9936-2fe7f41cb1ce",
   "metadata": {},
   "outputs": [
    {
     "data": {
      "text/plain": [
       "array([ 1,  2,  3,  4,  5,  6,  7,  8,  9, 10])"
      ]
     },
     "execution_count": 73,
     "metadata": {},
     "output_type": "execute_result"
    }
   ],
   "source": [
    "arr"
   ]
  },
  {
   "cell_type": "code",
   "execution_count": 74,
   "id": "b3db5600-dc09-4cbb-b749-b3111621ae92",
   "metadata": {},
   "outputs": [],
   "source": [
    "arr_m = np.stack((arr1, arr2))"
   ]
  },
  {
   "cell_type": "code",
   "execution_count": 75,
   "id": "83b055c9-0db1-4788-9107-90ea914eba48",
   "metadata": {},
   "outputs": [
    {
     "data": {
      "text/plain": [
       "array([[ 1,  2,  3,  4,  5],\n",
       "       [ 6,  7,  8,  9, 10]])"
      ]
     },
     "execution_count": 75,
     "metadata": {},
     "output_type": "execute_result"
    }
   ],
   "source": [
    "arr_m"
   ]
  },
  {
   "cell_type": "code",
   "execution_count": 76,
   "id": "e20502e8-8ac8-4b71-b178-5f48e2fd9ee1",
   "metadata": {},
   "outputs": [],
   "source": [
    "arr1 = np.arange(1, 10)"
   ]
  },
  {
   "cell_type": "code",
   "execution_count": 81,
   "id": "ef89eb4e-7f74-441a-b7fc-0989231b191b",
   "metadata": {},
   "outputs": [
    {
     "data": {
      "text/plain": [
       "array([[ 1,  6],\n",
       "       [ 2,  7],\n",
       "       [ 3,  8],\n",
       "       [ 4,  9],\n",
       "       [ 5, 10]])"
      ]
     },
     "execution_count": 81,
     "metadata": {},
     "output_type": "execute_result"
    }
   ],
   "source": [
    "np.stack((arr1, arr2), axis=1)"
   ]
  },
  {
   "cell_type": "code",
   "execution_count": 78,
   "id": "27591f8f-341b-41cf-8af0-8942848be1b2",
   "metadata": {},
   "outputs": [
    {
     "data": {
      "text/plain": [
       "array([[ 1,  2,  3,  4,  5],\n",
       "       [ 6,  7,  8,  9, 10]])"
      ]
     },
     "execution_count": 78,
     "metadata": {},
     "output_type": "execute_result"
    }
   ],
   "source": [
    "arr_m"
   ]
  },
  {
   "cell_type": "code",
   "execution_count": 83,
   "id": "01a31fbc-b47c-4e16-8107-d049451e6dbb",
   "metadata": {},
   "outputs": [],
   "source": [
    "a = np.array_split(arr_m, 2, axis=1)"
   ]
  },
  {
   "cell_type": "code",
   "execution_count": 84,
   "id": "1a28dfe0-6762-4186-8af4-7d8d4c6164c2",
   "metadata": {},
   "outputs": [
    {
     "data": {
      "text/plain": [
       "array([[1, 2, 3],\n",
       "       [6, 7, 8]])"
      ]
     },
     "execution_count": 84,
     "metadata": {},
     "output_type": "execute_result"
    }
   ],
   "source": [
    "a[0]"
   ]
  },
  {
   "cell_type": "code",
   "execution_count": 85,
   "id": "1810498e-e08b-4ca1-9486-12d25b4338e5",
   "metadata": {},
   "outputs": [
    {
     "data": {
      "text/plain": [
       "array([[ 4,  5],\n",
       "       [ 9, 10]])"
      ]
     },
     "execution_count": 85,
     "metadata": {},
     "output_type": "execute_result"
    }
   ],
   "source": [
    "a[1]"
   ]
  },
  {
   "cell_type": "code",
   "execution_count": 86,
   "id": "9935d54c-1b41-4f27-b4bf-4da637fd45be",
   "metadata": {},
   "outputs": [],
   "source": [
    "arr = np.array([1, 2, 3, 4, 6, 8, 5, 4, 3, 1])"
   ]
  },
  {
   "cell_type": "code",
   "execution_count": 87,
   "id": "c7e0b77a-becc-489d-b5b9-2ec1498b9b9c",
   "metadata": {},
   "outputs": [
    {
     "data": {
      "text/plain": [
       "(array([3, 7]),)"
      ]
     },
     "execution_count": 87,
     "metadata": {},
     "output_type": "execute_result"
    }
   ],
   "source": [
    "np.where(arr == 4)"
   ]
  },
  {
   "cell_type": "code",
   "execution_count": 89,
   "id": "0696bbdd-5446-4c19-9a81-2918b88deca4",
   "metadata": {},
   "outputs": [
    {
     "data": {
      "text/plain": [
       "array([[[1, 2, 3],\n",
       "        [4, 5, 6]],\n",
       "\n",
       "       [[6, 7, 8],\n",
       "        [1, 2, 3]]])"
      ]
     },
     "execution_count": 89,
     "metadata": {},
     "output_type": "execute_result"
    }
   ],
   "source": [
    "arr3"
   ]
  },
  {
   "cell_type": "code",
   "execution_count": 90,
   "id": "21fb5725-866d-471b-861a-0ca61b009c0d",
   "metadata": {},
   "outputs": [
    {
     "data": {
      "text/plain": [
       "(array([0, 1]), array([0, 1]), array([0, 0]))"
      ]
     },
     "execution_count": 90,
     "metadata": {},
     "output_type": "execute_result"
    }
   ],
   "source": [
    "np.where(arr3 == 1)"
   ]
  },
  {
   "cell_type": "code",
   "execution_count": 91,
   "id": "6cdd1c7a-6042-4087-bca5-6531ead4f302",
   "metadata": {},
   "outputs": [],
   "source": [
    "out = np.where(arr3 == 1, -1, arr3)"
   ]
  },
  {
   "cell_type": "code",
   "execution_count": 92,
   "id": "63419c00-3ee6-4502-bfe6-660eae317d5b",
   "metadata": {},
   "outputs": [
    {
     "data": {
      "text/plain": [
       "array([[[-1,  2,  3],\n",
       "        [ 4,  5,  6]],\n",
       "\n",
       "       [[ 6,  7,  8],\n",
       "        [-1,  2,  3]]])"
      ]
     },
     "execution_count": 92,
     "metadata": {},
     "output_type": "execute_result"
    }
   ],
   "source": [
    "out"
   ]
  },
  {
   "cell_type": "code",
   "execution_count": 93,
   "id": "958632d3-38bc-4f68-83ec-968371a7426e",
   "metadata": {},
   "outputs": [],
   "source": [
    "f = arr3 > 3"
   ]
  },
  {
   "cell_type": "code",
   "execution_count": 94,
   "id": "89ca7cae-3899-4edb-9be8-3208a4a36227",
   "metadata": {},
   "outputs": [
    {
     "data": {
      "text/plain": [
       "array([4, 5, 6, 6, 7, 8])"
      ]
     },
     "execution_count": 94,
     "metadata": {},
     "output_type": "execute_result"
    }
   ],
   "source": [
    "arr3[f]"
   ]
  },
  {
   "cell_type": "code",
   "execution_count": 95,
   "id": "f3fb015e-718e-49c9-bd6d-5e541e3c9bda",
   "metadata": {},
   "outputs": [
    {
     "data": {
      "text/plain": [
       "array([4, 5, 6, 6, 7, 8])"
      ]
     },
     "execution_count": 95,
     "metadata": {},
     "output_type": "execute_result"
    }
   ],
   "source": [
    "arr3[arr3 > 3]"
   ]
  },
  {
   "cell_type": "code",
   "execution_count": 96,
   "id": "c859f44d-df8c-43df-bca1-4b23900ee775",
   "metadata": {},
   "outputs": [
    {
     "data": {
      "text/plain": [
       "array([3, 4, 5, 6, 6, 3])"
      ]
     },
     "execution_count": 96,
     "metadata": {},
     "output_type": "execute_result"
    }
   ],
   "source": [
    "arr3[(arr3 > 2) & (arr3 < 7)]"
   ]
  },
  {
   "cell_type": "code",
   "execution_count": 97,
   "id": "3e7abf0c-9a25-499e-a494-52364009e026",
   "metadata": {},
   "outputs": [],
   "source": [
    "arr = np.arange(1, 6)"
   ]
  },
  {
   "cell_type": "code",
   "execution_count": 98,
   "id": "6a000cd6-7ac4-4a25-8d57-f6838a6ee8da",
   "metadata": {},
   "outputs": [
    {
     "data": {
      "text/plain": [
       "array([1, 2, 3, 4, 5])"
      ]
     },
     "execution_count": 98,
     "metadata": {},
     "output_type": "execute_result"
    }
   ],
   "source": [
    "arr"
   ]
  },
  {
   "cell_type": "code",
   "execution_count": 99,
   "id": "59053540-c1c9-43a0-a0aa-d9cc86a9d396",
   "metadata": {},
   "outputs": [],
   "source": [
    "mask = [True, False, True, False, True]"
   ]
  },
  {
   "cell_type": "code",
   "execution_count": 101,
   "id": "894805b4-5665-48da-8d30-9a17a211d6dd",
   "metadata": {},
   "outputs": [
    {
     "data": {
      "text/plain": [
       "array([1, 3, 5])"
      ]
     },
     "execution_count": 101,
     "metadata": {},
     "output_type": "execute_result"
    }
   ],
   "source": [
    "arr[mask]"
   ]
  },
  {
   "cell_type": "code",
   "execution_count": 102,
   "id": "2c6b2f27-30e1-47be-ae57-cca014f74cf7",
   "metadata": {},
   "outputs": [],
   "source": [
    "arr3.base"
   ]
  },
  {
   "cell_type": "code",
   "execution_count": 103,
   "id": "d9d03339-bec4-495b-b2aa-4a130bea73e3",
   "metadata": {},
   "outputs": [
    {
     "data": {
      "text/plain": [
       "array([0, 1, 2, 3, 4])"
      ]
     },
     "execution_count": 103,
     "metadata": {},
     "output_type": "execute_result"
    }
   ],
   "source": [
    "np.arange(5)"
   ]
  },
  {
   "cell_type": "code",
   "execution_count": 104,
   "id": "1b97b56f-fae9-4a63-9522-f8630b563e52",
   "metadata": {},
   "outputs": [
    {
     "data": {
      "text/plain": [
       "array([1, 3, 5, 7, 9])"
      ]
     },
     "execution_count": 104,
     "metadata": {},
     "output_type": "execute_result"
    }
   ],
   "source": [
    "np.arange(1, 10, 2)"
   ]
  },
  {
   "cell_type": "code",
   "execution_count": 105,
   "id": "b3d35d27-a885-40c0-937f-efdab5464cee",
   "metadata": {},
   "outputs": [
    {
     "data": {
      "text/plain": [
       "array([[25, 84, 14, 42, 50],\n",
       "       [36, 38, 93,  5, 91],\n",
       "       [40,  4, 34, 17, 83]])"
      ]
     },
     "execution_count": 105,
     "metadata": {},
     "output_type": "execute_result"
    }
   ],
   "source": [
    "np.random.randint(100, size=(3, 5))"
   ]
  },
  {
   "cell_type": "code",
   "execution_count": 106,
   "id": "c9c9c879-d2fe-4238-b708-a0b85a65cded",
   "metadata": {},
   "outputs": [
    {
     "data": {
      "text/plain": [
       "array([0.71321111, 0.81968864, 0.46938551, 0.3743456 , 0.20866173])"
      ]
     },
     "execution_count": 106,
     "metadata": {},
     "output_type": "execute_result"
    }
   ],
   "source": [
    "np.random.rand(5) # [0, 1)"
   ]
  },
  {
   "cell_type": "code",
   "execution_count": 107,
   "id": "dc52af03-a366-4137-8544-5529f63e1f00",
   "metadata": {},
   "outputs": [
    {
     "data": {
      "text/plain": [
       "array([ 0.12733945,  1.65114718,  1.0407189 , -1.2432522 ,  1.1762471 ])"
      ]
     },
     "execution_count": 107,
     "metadata": {},
     "output_type": "execute_result"
    }
   ],
   "source": [
    "np.random.randn(5)"
   ]
  },
  {
   "cell_type": "markdown",
   "id": "f2be2ba5-e0ae-404f-9417-bd74dd5ce52c",
   "metadata": {},
   "source": [
    "broadcasting"
   ]
  },
  {
   "cell_type": "code",
   "execution_count": 113,
   "id": "b5431104-b62c-42cb-a55e-086bac20b965",
   "metadata": {},
   "outputs": [],
   "source": [
    "arr1 = np.arange(1, 17).reshape(4, -1)"
   ]
  },
  {
   "cell_type": "code",
   "execution_count": 114,
   "id": "8b2e2723-2784-4c6a-8977-5133cb608b47",
   "metadata": {},
   "outputs": [
    {
     "data": {
      "text/plain": [
       "array([[ 1,  2,  3,  4],\n",
       "       [ 5,  6,  7,  8],\n",
       "       [ 9, 10, 11, 12],\n",
       "       [13, 14, 15, 16]])"
      ]
     },
     "execution_count": 114,
     "metadata": {},
     "output_type": "execute_result"
    }
   ],
   "source": [
    "arr1"
   ]
  },
  {
   "cell_type": "code",
   "execution_count": 115,
   "id": "4cbabe4b-af08-43d6-ab12-704df51b4f8c",
   "metadata": {},
   "outputs": [],
   "source": [
    "arr2 = np.random.randint(100, size=(4, 4))"
   ]
  },
  {
   "cell_type": "code",
   "execution_count": 116,
   "id": "db8307b1-64eb-430b-882d-067f313dc285",
   "metadata": {},
   "outputs": [
    {
     "data": {
      "text/plain": [
       "array([[63, 86,  8,  9],\n",
       "       [26, 59, 56,  5],\n",
       "       [ 8, 40, 74, 56],\n",
       "       [60, 55, 45, 86]])"
      ]
     },
     "execution_count": 116,
     "metadata": {},
     "output_type": "execute_result"
    }
   ],
   "source": [
    "arr2"
   ]
  },
  {
   "cell_type": "code",
   "execution_count": 117,
   "id": "fcaa3110-f4d4-44a7-a5c6-633d51e48732",
   "metadata": {},
   "outputs": [
    {
     "data": {
      "text/plain": [
       "array([[  63,  172,   24,   36],\n",
       "       [ 130,  354,  392,   40],\n",
       "       [  72,  400,  814,  672],\n",
       "       [ 780,  770,  675, 1376]])"
      ]
     },
     "execution_count": 117,
     "metadata": {},
     "output_type": "execute_result"
    }
   ],
   "source": [
    "arr1 * arr2"
   ]
  },
  {
   "cell_type": "code",
   "execution_count": 118,
   "id": "2781d056-6bd4-4bb4-9a68-81114dcb776d",
   "metadata": {},
   "outputs": [
    {
     "data": {
      "text/plain": [
       "array([[ 379,  544,  522,  531],\n",
       "       [1007, 1504, 1254, 1155],\n",
       "       [1635, 2464, 1986, 1779],\n",
       "       [2263, 3424, 2718, 2403]])"
      ]
     },
     "execution_count": 118,
     "metadata": {},
     "output_type": "execute_result"
    }
   ],
   "source": [
    "arr1 @ arr2"
   ]
  },
  {
   "cell_type": "code",
   "execution_count": 120,
   "id": "ad3b0f60-4bd6-4e4e-bbe9-6f30c3df8ba9",
   "metadata": {},
   "outputs": [
    {
     "data": {
      "text/plain": [
       "2"
      ]
     },
     "execution_count": 120,
     "metadata": {},
     "output_type": "execute_result"
    }
   ],
   "source": [
    "arr1.ndim"
   ]
  },
  {
   "cell_type": "code",
   "execution_count": 124,
   "id": "9893b8f1-34f7-423f-b73d-085e1956c845",
   "metadata": {},
   "outputs": [],
   "source": [
    "arr3 = np.arange(1, 5)"
   ]
  },
  {
   "cell_type": "code",
   "execution_count": 125,
   "id": "3ed58b83-5a9f-4507-9696-7638e5e3c1ff",
   "metadata": {},
   "outputs": [
    {
     "data": {
      "text/plain": [
       "1"
      ]
     },
     "execution_count": 125,
     "metadata": {},
     "output_type": "execute_result"
    }
   ],
   "source": [
    "arr3.ndim"
   ]
  },
  {
   "cell_type": "code",
   "execution_count": 128,
   "id": "6f66057e-b202-4cf1-ace3-661562832a87",
   "metadata": {},
   "outputs": [
    {
     "data": {
      "text/plain": [
       "array([[ 1,  4,  9, 16],\n",
       "       [ 5, 12, 21, 32],\n",
       "       [ 9, 20, 33, 48],\n",
       "       [13, 28, 45, 64]])"
      ]
     },
     "execution_count": 128,
     "metadata": {},
     "output_type": "execute_result"
    }
   ],
   "source": [
    "arr1 * arr3"
   ]
  },
  {
   "cell_type": "code",
   "execution_count": 129,
   "id": "66824d5b-e3e5-41fe-b8ba-543c85e7514c",
   "metadata": {},
   "outputs": [
    {
     "data": {
      "text/plain": [
       "array([1, 2, 3, 4])"
      ]
     },
     "execution_count": 129,
     "metadata": {},
     "output_type": "execute_result"
    }
   ],
   "source": [
    "arr3"
   ]
  },
  {
   "cell_type": "code",
   "execution_count": 130,
   "id": "4530883f-99ff-48ab-b00c-d1b966d93ecd",
   "metadata": {},
   "outputs": [
    {
     "data": {
      "text/plain": [
       "array([1, 2, 3, 4])"
      ]
     },
     "execution_count": 130,
     "metadata": {},
     "output_type": "execute_result"
    }
   ],
   "source": [
    "np.sort(arr3)"
   ]
  },
  {
   "cell_type": "code",
   "execution_count": 131,
   "id": "465ccc10-6e1d-49ab-bfad-31dfe5754581",
   "metadata": {},
   "outputs": [
    {
     "data": {
      "text/plain": [
       "array([[ 1,  2,  3,  4],\n",
       "       [ 5,  6,  7,  8],\n",
       "       [ 9, 10, 11, 12],\n",
       "       [13, 14, 15, 16]])"
      ]
     },
     "execution_count": 131,
     "metadata": {},
     "output_type": "execute_result"
    }
   ],
   "source": [
    "arr1"
   ]
  },
  {
   "cell_type": "code",
   "execution_count": 132,
   "id": "31bc677b-2177-4990-8ec1-338d606b1c0f",
   "metadata": {},
   "outputs": [
    {
     "data": {
      "text/plain": [
       "array([[63, 86,  8,  9],\n",
       "       [26, 59, 56,  5],\n",
       "       [ 8, 40, 74, 56],\n",
       "       [60, 55, 45, 86]])"
      ]
     },
     "execution_count": 132,
     "metadata": {},
     "output_type": "execute_result"
    }
   ],
   "source": [
    "arr2"
   ]
  },
  {
   "cell_type": "code",
   "execution_count": 133,
   "id": "3089e64e-f700-40de-a12d-a7b4df0076a4",
   "metadata": {},
   "outputs": [
    {
     "data": {
      "text/plain": [
       "array([[ 8,  9, 63, 86],\n",
       "       [ 5, 26, 56, 59],\n",
       "       [ 8, 40, 56, 74],\n",
       "       [45, 55, 60, 86]])"
      ]
     },
     "execution_count": 133,
     "metadata": {},
     "output_type": "execute_result"
    }
   ],
   "source": [
    "np.sort(arr2)"
   ]
  },
  {
   "cell_type": "markdown",
   "id": "896d8a3f-173a-4ffb-aea2-d1a047186c87",
   "metadata": {},
   "source": [
    "pip install scipy"
   ]
  },
  {
   "cell_type": "code",
   "execution_count": 134,
   "id": "d3bdf53f-3349-48fd-8223-b207ca2fcfb6",
   "metadata": {},
   "outputs": [
    {
     "name": "stdout",
     "output_type": "stream",
     "text": [
      "[-0.73908513]\n"
     ]
    }
   ],
   "source": [
    "from scipy.optimize import root\n",
    "from math import cos\n",
    "\n",
    "def eqn(x):\n",
    "    return x + cos(x)\n",
    "\n",
    "myroot = root(eqn, 0)\n",
    "\n",
    "print(myroot.x)"
   ]
  },
  {
   "cell_type": "code",
   "execution_count": 139,
   "id": "6710bb96-37d9-4844-81d2-3d8fffd68248",
   "metadata": {},
   "outputs": [],
   "source": [
    "from scipy.sparse import csr_matrix\n",
    "\n",
    "arr = np.array([0, 0, 0, 1, 2, 0, 0, 0, 0])\n",
    "x = csr_matrix(arr)\n",
    "\n",
    "x.eliminate_zeros()"
   ]
  },
  {
   "cell_type": "code",
   "execution_count": 140,
   "id": "36e0b5c9-47f2-4abd-981f-a00b517b5094",
   "metadata": {},
   "outputs": [
    {
     "data": {
      "text/plain": [
       "<1x9 sparse matrix of type '<class 'numpy.int64'>'\n",
       "\twith 2 stored elements in Compressed Sparse Row format>"
      ]
     },
     "execution_count": 140,
     "metadata": {},
     "output_type": "execute_result"
    }
   ],
   "source": [
    "x"
   ]
  },
  {
   "cell_type": "code",
   "execution_count": 174,
   "id": "045eff3f-394c-4ccc-a028-1adb5196e333",
   "metadata": {},
   "outputs": [],
   "source": [
    "import matplotlib.pyplot as plt\n",
    "\n",
    "x = np.sort(np.random.randint(100, size=(20)))"
   ]
  },
  {
   "cell_type": "code",
   "execution_count": 180,
   "id": "0d10e2c5-2a30-46ab-b399-e19cfddc2dcd",
   "metadata": {},
   "outputs": [
    {
     "data": {
      "image/png": "[encoded data removed]",
      "text/plain": [
       "<Figure size 432x288 with 1 Axes>"
      ]
     },
     "metadata": {
      "needs_background": "light"
     },
     "output_type": "display_data"
    }
   ],
   "source": [
    "plt.plot(x)\n",
    "plt.show()"
   ]
  },
  {
   "cell_type": "code",
   "execution_count": 177,
   "id": "725ce359-6a30-4f95-b7e6-919953d7046a",
   "metadata": {},
   "outputs": [],
   "source": [
    "from scipy.interpolate import make_interp_spline, BSpline\n",
    "\n",
    "xnew = np.linspace(min(x), max(x), 300)\n",
    "spl = make_interp_spline(x, np.arange(1, len(x)+1), k=3)\n",
    "y_smooth = spl(xnew)"
   ]
  },
  {
   "cell_type": "code",
   "execution_count": 179,
   "id": "2075e7ad-365e-448e-9351-5e3aab8d632f",
   "metadata": {},
   "outputs": [
    {
     "data": {
      "text/plain": [
       "[<matplotlib.lines.Line2D at 0x7f506bc12c40>]"
      ]
     },
     "execution_count": 179,
     "metadata": {},
     "output_type": "execute_result"
    },
    {
     "data": {
      "image/png": "[encoded data removed]",
      "text/plain": [
       "<Figure size 432x288 with 1 Axes>"
      ]
     },
     "metadata": {
      "needs_background": "light"
     },
     "output_type": "display_data"
    }
   ],
   "source": [
    "plt.plot(xnew, y_smooth)"
   ]
  },
  {
   "cell_type": "code",
   "execution_count": 146,
   "id": "45d84dae-45e0-472a-a164-636be8546887",
   "metadata": {},
   "outputs": [],
   "source": [
    "s = np.linspace(1, 4)"
   ]
  },
  {
   "cell_type": "code",
   "execution_count": 147,
   "id": "69d174db-6bbb-45f2-b929-86ee8c6b8b44",
   "metadata": {},
   "outputs": [
    {
     "data": {
      "image/png": "[encoded data removed]",
      "text/plain": [
       "<Figure size 432x288 with 1 Axes>"
      ]
     },
     "metadata": {
      "needs_background": "light"
     },
     "output_type": "display_data"
    }
   ],
   "source": [
    "plt.plot(s)\n",
    "plt.show()"
   ]
  },
  {
   "cell_type": "code",
   "execution_count": null,
   "id": "9763305c-0b65-4055-9c72-17d9e1d8eacf",
   "metadata": {},
   "outputs": [],
   "source": []
  }
 ],
 "metadata": {
  "kernelspec": {
   "display_name": "Python 3 (ipykernel)",
   "language": "python",
   "name": "python3"
  },
  "language_info": {
   "codemirror_mode": {
    "name": "ipython",
    "version": 3
   },
   "file_extension": ".py",
   "mimetype": "text/x-python",
   "name": "python",
   "nbconvert_exporter": "python",
   "pygments_lexer": "ipython3",
   "version": "3.8.10"
  }
 },
 "nbformat": 4,
 "nbformat_minor": 5
}
