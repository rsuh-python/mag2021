{
 "cells": [
  {
   "cell_type": "markdown",
   "id": "e8efec10-e5dd-4c75-96e4-d49d8036841c",
   "metadata": {},
   "source": [
    "## Задание 1.\n",
    "\n",
    "Пользователь вводит набор целых чисел через пробелы. Посчитайте сумму из получившегося набора, выведите минимальное и максимальное число. "
   ]
  },
  {
   "cell_type": "code",
   "execution_count": null,
   "id": "24efb952-2ce6-41aa-b888-ea8f58c4003f",
   "metadata": {
    "tags": []
   },
   "outputs": [],
   "source": [
    "numbers = [int(x) for x in input().split()]\n",
    "print(f'Сумма: {sum(numbers)}, минимум: {min(numbers)}, максимум: {max(numbers)}')"
   ]
  },
  {
   "cell_type": "markdown",
   "id": "1a7e5ff1-63a6-418f-ab38-a077b48fbcff",
   "metadata": {},
   "source": [
    "## Задание 2. \n",
    "\n",
    "Создайте список из чисел от 1 до 10. Вставьте после тройки число 30. Сделайте это двумя способами. "
   ]
  },
  {
   "cell_type": "code",
   "execution_count": null,
   "id": "d40c6e77-e559-46db-8d69-65432dc66dd3",
   "metadata": {},
   "outputs": [],
   "source": [
    "lst = list(range(1, 11))\n",
    "choice = input('1 for first method, 2 for second method: ')\n",
    "if choice == '1':\n",
    "    lst[3:3] = [30]\n",
    "else:\n",
    "    lst.insert(3, 30)\n",
    "print(*lst)"
   ]
  },
  {
   "cell_type": "markdown",
   "id": "4d3fe3c6-b02e-4eec-8289-6eb4f7b2b53c",
   "metadata": {},
   "source": [
    "## Задание 3. \n",
    "\n",
    "Дан список, в котором есть повторяющиеся элементы, в т.ч. элемент Х (н-р, какое-то число). Нужно удалить из списка все вхождения элемента Х. "
   ]
  },
  {
   "cell_type": "code",
   "execution_count": null,
   "id": "4a2b3f66-a70f-46a0-8a77-5da8901ee952",
   "metadata": {},
   "outputs": [],
   "source": [
    "x = int(input())\n",
    "lst = list(range(10)) * 10\n",
    "index = 0\n",
    "while index < len(lst):\n",
    "    if lst[index] == x:\n",
    "        del lst[index]\n",
    "    index += 1\n",
    "print(*lst)"
   ]
  },
  {
   "cell_type": "markdown",
   "id": "8d0973f3-96cf-4582-a9c6-3c6f495b5c70",
   "metadata": {},
   "source": [
    "## Задание 4.\n",
    "\n",
    "Пользователь вводит строчку из слов, разделенных пробелами. Отсортируйте слова в алфавитном порядке задом наперед (т.е., яблоко будет первее юлы) и выведите их столбиком (каждое слово на новой строчке)."
   ]
  },
  {
   "cell_type": "code",
   "execution_count": null,
   "id": "0412ba87-28db-4275-8eee-a3e90a29e62a",
   "metadata": {},
   "outputs": [],
   "source": [
    "string = input().split()\n",
    "string.sort(reverse=True)\n",
    "print(string)\n",
    "\n",
    "# второй вариант\n",
    "print(sorted(input().split(), reverse=True))"
   ]
  },
  {
   "cell_type": "markdown",
   "id": "2252925a-a8ce-4be3-ba90-adaf4834b750",
   "metadata": {},
   "source": [
    "## Задание 5.\n",
    "\n",
    "Напишите функцию, которая вычисляет степень числа (аналогичную оператору \\*\\*, только сам оператор, разумеется, использовать нельзя). "
   ]
  },
  {
   "cell_type": "code",
   "execution_count": null,
   "id": "01d42a91-2366-4812-af3e-99f40148eb64",
   "metadata": {},
   "outputs": [],
   "source": [
    "def power(x, y=2):\n",
    "    res = 1\n",
    "    for i in range(y):\n",
    "        res *= x\n",
    "    return res\n",
    "\n",
    "print(power(4, 3))"
   ]
  },
  {
   "cell_type": "markdown",
   "id": "566dd5ed-e2a6-4423-9ed6-df0de8b8be88",
   "metadata": {},
   "source": [
    "## Задание 6.\n",
    "\n",
    "Напишите функцию, которая принимает неограниченное количество аргументов-чисел и выводит их квадраты. "
   ]
  },
  {
   "cell_type": "code",
   "execution_count": null,
   "id": "343d2d53-8d13-4e41-8326-66cd98744dc9",
   "metadata": {},
   "outputs": [],
   "source": [
    "# your code here"
   ]
  },
  {
   "cell_type": "markdown",
   "id": "db09e33c-c571-4d38-bcb0-a52a933f8b15",
   "metadata": {},
   "source": [
    "## Задание 7.\n",
    "\n",
    "Напишите функцию, которая принимает неограниченное количество аргументов-строк и параметр = метод строки, который затем последовательно применяется к каждой строчке. Результаты можно вернуть списком. Оформите функцию грамотно, напишите docstring. "
   ]
  },
  {
   "cell_type": "code",
   "execution_count": null,
   "id": "554da712-fcf2-4f9c-a98e-11185773d133",
   "metadata": {},
   "outputs": [],
   "source": [
    "# your code here"
   ]
  },
  {
   "cell_type": "markdown",
   "id": "57f0385c-6142-4a32-bfbf-c4608a4701dd",
   "metadata": {},
   "source": [
    "## Задание 8. \n",
    "\n",
    "Отсортируйте список строчек в зависимости от того, сколько в каждой строке содержится букв а. (н-р, строчки \"мама\", \"арбуз\" и \"абракадабра\" должны выстроиться в \"арбуз\", \"мама\", \"абракадабра\")."
   ]
  },
  {
   "cell_type": "code",
   "execution_count": null,
   "id": "101a4b3b-a50c-4f18-b8e8-879fa7df05a1",
   "metadata": {},
   "outputs": [],
   "source": [
    "# your code here"
   ]
  },
  {
   "cell_type": "markdown",
   "id": "dbb2cc71-e72d-4527-990d-f6d1a62327af",
   "metadata": {},
   "source": [
    "## Задание 9. \n",
    "\n",
    "Напишите функцию-генератор, которая будет возвращать новые функции, возводящие в степень N. Т.е., функция-генератор принимает в качестве аргумента число N, а возвращает функцию, которая будет принимать число и возвращать его же в степени N. "
   ]
  },
  {
   "cell_type": "code",
   "execution_count": null,
   "id": "255dfdef-9556-4de9-8170-4749f804f9dd",
   "metadata": {
    "tags": []
   },
   "outputs": [],
   "source": [
    "# your code here"
   ]
  },
  {
   "cell_type": "markdown",
   "id": "68ceedf8-93c8-4b03-9201-dc88d0e1989e",
   "metadata": {},
   "source": [
    "## Задание 10. \n",
    "\n",
    "Напишите рекурсивную функцию, которая будет возвращать, является ли строка палиндромом. На вход функция получает строки типа \"абба, \"абсба\" и подобные (пробелов внутри этих строк нет). "
   ]
  },
  {
   "cell_type": "code",
   "execution_count": null,
   "id": "4a66d124-e8aa-4c8b-bedb-cdaf348bd7f7",
   "metadata": {
    "tags": []
   },
   "outputs": [],
   "source": [
    "# your code here"
   ]
  }
 ],
 "metadata": {
  "kernelspec": {
   "display_name": "Python 3 (ipykernel)",
   "language": "python",
   "name": "python3"
  },
  "language_info": {
   "codemirror_mode": {
    "name": "ipython",
    "version": 3
   },
   "file_extension": ".py",
   "mimetype": "text/x-python",
   "name": "python",
   "nbconvert_exporter": "python",
   "pygments_lexer": "ipython3",
   "version": "3.8.10"
  }
 },
 "nbformat": 4,
 "nbformat_minor": 5
}
