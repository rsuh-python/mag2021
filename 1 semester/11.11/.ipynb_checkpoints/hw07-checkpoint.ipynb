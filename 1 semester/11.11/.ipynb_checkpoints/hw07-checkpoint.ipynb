{
 "cells": [
  {
   "cell_type": "markdown",
   "id": "4bc2631e-3e7b-4431-a800-ce99b614fa90",
   "metadata": {},
   "source": [
    "## Задание 1.\n",
    "\n",
    "Решите задание 5 из домашней работы 4 с помощью множеств (можно использовать дополнительную память). Не забудьте, что порядок элементов должен сохраниться. "
   ]
  },
  {
   "cell_type": "code",
   "execution_count": null,
   "id": "28f14ee3-8aa9-4ffd-bedc-9e78d2951b9e",
   "metadata": {},
   "outputs": [],
   "source": [
    "# your code here"
   ]
  },
  {
   "cell_type": "markdown",
   "id": "855be919-e0bb-4e8a-88ea-e7586cb8e8f6",
   "metadata": {},
   "source": [
    "## Задание 2.\n",
    "\n",
    "Ученики одной школы все знают хотя бы по одному языку. Программа получает число школьников, а потом в цикле for собирает сведения о их языках, н-р:\n",
    "\n",
    "    2\n",
    "    English Bulgarian\n",
    "    English Romanian\n",
    "    \n",
    "Нужно узнать, какие языки знает хотя бы один школьник и какие языки знают все школьники. "
   ]
  },
  {
   "cell_type": "code",
   "execution_count": null,
   "id": "62a34b33-eb9b-4509-b28c-9f421af249a8",
   "metadata": {},
   "outputs": [],
   "source": [
    "# your code here"
   ]
  },
  {
   "cell_type": "markdown",
   "id": "78a9688a-b083-4c79-a3b0-37823450ece3",
   "metadata": {},
   "source": [
    "## \\* Задание 3.\n",
    "\n",
    "Напишите функцию для сложения матриц. "
   ]
  },
  {
   "cell_type": "code",
   "execution_count": null,
   "id": "7ba7b805-454c-467d-a1e5-7da6094a3a48",
   "metadata": {},
   "outputs": [],
   "source": [
    "# your code here"
   ]
  },
  {
   "cell_type": "markdown",
   "id": "03a1339c-69ce-458a-962a-4fac5c9bcf4f",
   "metadata": {},
   "source": [
    "## \\* Задание 4.\n",
    "\n",
    "Напишите функцию для умножения матриц."
   ]
  },
  {
   "cell_type": "code",
   "execution_count": null,
   "id": "5cc45740-de5c-4ad2-8d15-366bd3500d5c",
   "metadata": {},
   "outputs": [],
   "source": [
    "# your code here"
   ]
  },
  {
   "cell_type": "markdown",
   "id": "833e620a-6960-4788-987c-8e61aa27fc5a",
   "metadata": {},
   "source": [
    "## \\* Задание 5. \n",
    "\n",
    "Напишите функцию, которая генерирует матрицу сдвига (https://ru.wikipedia.org/wiki/%D0%9C%D0%B0%D1%82%D1%80%D0%B8%D1%86%D0%B0_%D1%81%D0%B4%D0%B2%D0%B8%D0%B3%D0%B0). У функции должно быть два параметра: n (размер матрицы) и bias (на сколько столбцов сдвигать)"
   ]
  },
  {
   "cell_type": "code",
   "execution_count": null,
   "id": "5d603ced-6828-4d62-9073-99a6a2fd2cf9",
   "metadata": {},
   "outputs": [],
   "source": [
    "# your code here"
   ]
  },
  {
   "cell_type": "markdown",
   "id": "2a4afd50-c006-4fd7-b84a-c7be030414af",
   "metadata": {},
   "source": [
    "## \\* Задание 6.\n",
    "\n",
    "Напишите функцию transpose(m), которая будет транспонировать матрицу. "
   ]
  },
  {
   "cell_type": "code",
   "execution_count": null,
   "id": "2b3e16bd-eb66-4a2d-b2a1-62e2f25f5390",
   "metadata": {},
   "outputs": [],
   "source": [
    "# your code here"
   ]
  }
 ],
 "metadata": {
  "kernelspec": {
   "display_name": "Python 3 (ipykernel)",
   "language": "python",
   "name": "python3"
  },
  "language_info": {
   "codemirror_mode": {
    "name": "ipython",
    "version": 3
   },
   "file_extension": ".py",
   "mimetype": "text/x-python",
   "name": "python",
   "nbconvert_exporter": "python",
   "pygments_lexer": "ipython3",
   "version": "3.8.10"
  }
 },
 "nbformat": 4,
 "nbformat_minor": 5
}
