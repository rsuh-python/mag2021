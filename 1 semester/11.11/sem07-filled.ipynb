{
 "cells": [
  {
   "cell_type": "markdown",
   "id": "499045b1-40eb-443e-b79f-fa4d3ee878e4",
   "metadata": {},
   "source": [
    "## Задание 1.\n",
    "\n",
    "Пользователь вводит список (слов, цифр) с повторениями. Считайте любым способом этот список (можно через input().split()) и верните количество уникальных элементов в нем. "
   ]
  },
  {
   "cell_type": "code",
   "execution_count": 2,
   "id": "8d8e7fde-df43-4748-85eb-edd20f1b4f6c",
   "metadata": {},
   "outputs": [
    {
     "name": "stdin",
     "output_type": "stream",
     "text": [
      " 1 2 2 2 3 4 4 4 5 6 6 6\n"
     ]
    },
    {
     "name": "stdout",
     "output_type": "stream",
     "text": [
      "{'2', '5', '4', '6', '1', '3'}\n",
      "6\n"
     ]
    }
   ],
   "source": [
    "lst = input().split()\n",
    "s = set(lst)\n",
    "print(s)\n",
    "print(len(s))"
   ]
  },
  {
   "cell_type": "markdown",
   "id": "1fdcfbf2-2c3f-4f29-9651-7bf0fe48596a",
   "metadata": {
    "tags": []
   },
   "source": [
    "## Задание 2.\n",
    "\n",
    "Соберите множество всех кириллических букв любым способом (либо с использованием функций ord() и chr(), либо с использованием строк)"
   ]
  },
  {
   "cell_type": "code",
   "execution_count": 6,
   "id": "31aa0319-2af6-4077-88e9-913f01ad9d1b",
   "metadata": {},
   "outputs": [
    {
     "data": {
      "text/plain": [
       "{'Ё',\n",
       " 'А',\n",
       " 'Б',\n",
       " 'В',\n",
       " 'Г',\n",
       " 'Д',\n",
       " 'Е',\n",
       " 'Ж',\n",
       " 'З',\n",
       " 'И',\n",
       " 'Й',\n",
       " 'К',\n",
       " 'Л',\n",
       " 'М',\n",
       " 'Н',\n",
       " 'О',\n",
       " 'П',\n",
       " 'Р',\n",
       " 'С',\n",
       " 'Т',\n",
       " 'У',\n",
       " 'Ф',\n",
       " 'Х',\n",
       " 'Ц',\n",
       " 'Ч',\n",
       " 'Ш',\n",
       " 'Щ',\n",
       " 'Ъ',\n",
       " 'Ы',\n",
       " 'Ь',\n",
       " 'Э',\n",
       " 'Ю',\n",
       " 'Я',\n",
       " 'а',\n",
       " 'б',\n",
       " 'в',\n",
       " 'г',\n",
       " 'д',\n",
       " 'е',\n",
       " 'ж',\n",
       " 'з',\n",
       " 'и',\n",
       " 'й',\n",
       " 'к',\n",
       " 'л',\n",
       " 'м',\n",
       " 'н',\n",
       " 'о',\n",
       " 'п',\n",
       " 'р',\n",
       " 'с',\n",
       " 'т',\n",
       " 'у',\n",
       " 'ф',\n",
       " 'х',\n",
       " 'ц',\n",
       " 'ч',\n",
       " 'ш',\n",
       " 'щ',\n",
       " 'ъ',\n",
       " 'ы',\n",
       " 'ь',\n",
       " 'э',\n",
       " 'ю',\n",
       " 'я',\n",
       " 'ё'}"
      ]
     },
     "execution_count": 6,
     "metadata": {},
     "output_type": "execute_result"
    }
   ],
   "source": [
    "cyrillic = {chr(x) for x in range(ord('А'), ord('я') + 1)}\n",
    "cyrillic.add('Ё')\n",
    "cyrillic.add('ё')\n",
    "cyrillic\n",
    "\n",
    "# cyrs = set('йцукенгшщзхъфывапролджэячсмитьбюё')\n",
    "# cyrs"
   ]
  },
  {
   "cell_type": "markdown",
   "id": "2696bd35-98f3-437c-9ca9-5c531a0291cb",
   "metadata": {},
   "source": [
    "## Задание 3.\n",
    "\n",
    "Пользователь в цикле по одному вводит какие-то слова, пока не введет \"стоп\". Программа должна сообщать, если слово уже вводилось. "
   ]
  },
  {
   "cell_type": "code",
   "execution_count": null,
   "id": "2e84ff0b-5c7e-4edc-9e32-13bf8d89032c",
   "metadata": {},
   "outputs": [],
   "source": [
    "# word in uniques\n",
    "uniques = set()\n",
    "while True:\n",
    "    word = input().lower()\n",
    "    if word == 'стоп':\n",
    "        break\n",
    "    if word in uniques:\n",
    "        print('уже было')\n",
    "    else:\n",
    "        uniques.add(word)"
   ]
  },
  {
   "cell_type": "markdown",
   "id": "bf060d3a-b601-44ef-ad7d-e342ed996188",
   "metadata": {},
   "source": [
    "## Задание 4.\n",
    "\n",
    "Воспользуйтесь собранным множеством букв из задачи 2 и напишите функцию, которая будет проверять строку на то, является ли она кириллическим словом. "
   ]
  },
  {
   "cell_type": "code",
   "execution_count": 9,
   "id": "0b82e828-d1fc-4af3-9f97-d75162f90675",
   "metadata": {},
   "outputs": [
    {
     "name": "stdin",
     "output_type": "stream",
     "text": [
      " мама\n"
     ]
    },
    {
     "data": {
      "text/plain": [
       "True"
      ]
     },
     "execution_count": 9,
     "metadata": {},
     "output_type": "execute_result"
    }
   ],
   "source": [
    "# issubset(), issuperset(), isdisjoint()\n",
    "def iscyrillic(word: str):\n",
    "    cyrillic = {chr(x) for x in range(ord('а'), ord('я') + 1)} | {'ё'}\n",
    "    return set(word.lower()).issubset(cyrillic)\n",
    "                                      \n",
    "iscyrillic(input())"
   ]
  },
  {
   "cell_type": "markdown",
   "id": "64eab267-66ee-444e-b3eb-2bd796ecf9bb",
   "metadata": {},
   "source": [
    "## Задание 5.\n",
    "\n",
    "Даны два списка чисел. Найдите все числа, которые входят как в первый, так и во второй список, и выведите их в порядке возрастания."
   ]
  },
  {
   "cell_type": "code",
   "execution_count": 11,
   "id": "8054d684-82cb-43e8-809b-f9e352b3fc4e",
   "metadata": {},
   "outputs": [
    {
     "name": "stdout",
     "output_type": "stream",
     "text": [
      "[4, 15]\n"
     ]
    }
   ],
   "source": [
    "A = [1, 2, 3, 4, 15]\n",
    "B = [4, 15, 5, 6, 7]\n",
    "print(sorted(set(A) & set(B)))"
   ]
  },
  {
   "cell_type": "markdown",
   "id": "59bbd7de-6376-4fbb-8aef-bd32ce292146",
   "metadata": {},
   "source": [
    "## Задание 6.\n",
    "\n",
    "Напишите функцию lexdiv(), которая считает лексическое разнообразие в тексте. Лексическое разноообразие - это количество уникальных слов, поделенное на количество всех слов в тексте. Посчитайте лексическое разнообразие для любого англоязычного и русскоязычного текста примерно одинаковой длины. "
   ]
  },
  {
   "cell_type": "code",
   "execution_count": 19,
   "id": "8ded5898-6d3b-47ee-bada-08f247703fac",
   "metadata": {},
   "outputs": [
    {
     "name": "stdout",
     "output_type": "stream",
     "text": [
      "0.98\n"
     ]
    }
   ],
   "source": [
    "# line.split()\n",
    "# 'мама,'\n",
    "# word.strip('.,!\"?:;*()')\n",
    "\n",
    "from string import punctuation  # string - модуль для работы со строками; punctuation - просто строка, в которой перечислены базовые знаки препинания\n",
    "\n",
    "def cleaner(line):\n",
    "    return [word.lower().strip(punctuation) for word in line.split()]\n",
    "\n",
    "def lexdiv(text):\n",
    "    return len(set(text)) / len(text)\n",
    "\n",
    "text = []\n",
    "with open('01-2.txt', 'r', encoding='utf8') as file:\n",
    "    for line in file:\n",
    "        text.extend(cleaner(line))\n",
    "\n",
    "print(lexdiv(text))"
   ]
  },
  {
   "cell_type": "markdown",
   "id": "6a315816-964d-4360-bf5e-467a40a394a9",
   "metadata": {},
   "source": [
    "## Задание 7. \n",
    "\n",
    "Напишите функцию printmatrix(), которая будет красиво выводить матрицу в печать. "
   ]
  },
  {
   "cell_type": "code",
   "execution_count": 13,
   "id": "9430eb1f-029d-46ed-9328-62278bec7adf",
   "metadata": {},
   "outputs": [
    {
     "name": "stdout",
     "output_type": "stream",
     "text": [
      "  74  52  10  60\n",
      "  33  35  94   3\n",
      "  50  70   5  36\n",
      "  64   7   9  52\n",
      "  42   8  35   3\n"
     ]
    }
   ],
   "source": [
    "from random import randrange\n",
    "\n",
    "def printmatrix(m):\n",
    "    for line in m:\n",
    "        for elem in line:\n",
    "            print(f'{elem:>4}', end='')\n",
    "        print()\n",
    "\n",
    "M = [[randrange(1, 101) for i in range(4)] for j in range(5)]\n",
    "printmatrix(M)"
   ]
  },
  {
   "cell_type": "markdown",
   "id": "400fa0b0-52ff-4f33-b575-450913be211e",
   "metadata": {},
   "source": [
    "## Задание 8. \n",
    "\n",
    "Напишите функцию generate_unitary(), которая будет генерировать единичную матрицу размера n. Единичная матрица - такая, у которой по диагонали стоят единички, а все остальные числа - нолики, например:\n",
    "\n",
    "    1 0 0 0\n",
    "    0 1 0 0\n",
    "    0 0 1 0\n",
    "    0 0 0 1"
   ]
  },
  {
   "cell_type": "code",
   "execution_count": 20,
   "id": "a7cce0ef-6128-47b5-95bc-b9c81bd14a8c",
   "metadata": {},
   "outputs": [
    {
     "name": "stdout",
     "output_type": "stream",
     "text": [
      "   1   0   0   0   0\n",
      "   0   1   0   0   0\n",
      "   0   0   1   0   0\n",
      "   0   0   0   1   0\n",
      "   0   0   0   0   1\n"
     ]
    }
   ],
   "source": [
    "generate_unitary = lambda n: [[1 * (i == j) for j in range(n)] for i in range(n)]\n",
    "printmatrix(generate_unitary(5))"
   ]
  },
  {
   "cell_type": "code",
   "execution_count": null,
   "id": "0e4c6c8b-aea6-4857-9c46-45ba3f1d3d39",
   "metadata": {},
   "outputs": [],
   "source": []
  }
 ],
 "metadata": {
  "kernelspec": {
   "display_name": "Python 3 (ipykernel)",
   "language": "python",
   "name": "python3"
  },
  "language_info": {
   "codemirror_mode": {
    "name": "ipython",
    "version": 3
   },
   "file_extension": ".py",
   "mimetype": "text/x-python",
   "name": "python",
   "nbconvert_exporter": "python",
   "pygments_lexer": "ipython3",
   "version": "3.8.10"
  }
 },
 "nbformat": 4,
 "nbformat_minor": 5
}
