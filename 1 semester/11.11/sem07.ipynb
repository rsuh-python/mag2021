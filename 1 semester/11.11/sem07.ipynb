{
 "cells": [
  {
   "cell_type": "markdown",
   "id": "499045b1-40eb-443e-b79f-fa4d3ee878e4",
   "metadata": {},
   "source": [
    "## Задание 1.\n",
    "\n",
    "Пользователь вводит список (слов, цифр) с повторениями. Считайте любым способом этот список (можно через input().split()) и верните количество уникальных элементов в нем. "
   ]
  },
  {
   "cell_type": "code",
   "execution_count": null,
   "id": "8d8e7fde-df43-4748-85eb-edd20f1b4f6c",
   "metadata": {},
   "outputs": [],
   "source": [
    "# your code here"
   ]
  },
  {
   "cell_type": "markdown",
   "id": "1fdcfbf2-2c3f-4f29-9651-7bf0fe48596a",
   "metadata": {},
   "source": [
    "## Задание 2.\n",
    "\n",
    "Соберите множество всех кириллических букв любым способом (либо с использованием функций ord() и char(), либо с использованием строк)"
   ]
  },
  {
   "cell_type": "code",
   "execution_count": null,
   "id": "31aa0319-2af6-4077-88e9-913f01ad9d1b",
   "metadata": {},
   "outputs": [],
   "source": [
    "# your code here"
   ]
  },
  {
   "cell_type": "markdown",
   "id": "2696bd35-98f3-437c-9ca9-5c531a0291cb",
   "metadata": {},
   "source": [
    "## Задание 3.\n",
    "\n",
    "Пользователь в цикле по одному вводит какие-то слова, пока не введет \"стоп\". Программа должна сообщать, если слово уже вводилось. "
   ]
  },
  {
   "cell_type": "code",
   "execution_count": null,
   "id": "2e84ff0b-5c7e-4edc-9e32-13bf8d89032c",
   "metadata": {},
   "outputs": [],
   "source": [
    "# your code here"
   ]
  },
  {
   "cell_type": "markdown",
   "id": "bf060d3a-b601-44ef-ad7d-e342ed996188",
   "metadata": {},
   "source": [
    "## Задание 4.\n",
    "\n",
    "Воспользуйтесь собранным множеством букв из задачи 2 и напишите функцию, которая будет проверять строку на то, является ли она кириллическим словом. "
   ]
  },
  {
   "cell_type": "code",
   "execution_count": null,
   "id": "0b82e828-d1fc-4af3-9f97-d75162f90675",
   "metadata": {},
   "outputs": [],
   "source": [
    "# your code here"
   ]
  },
  {
   "cell_type": "markdown",
   "id": "64eab267-66ee-444e-b3eb-2bd796ecf9bb",
   "metadata": {},
   "source": [
    "## Задание 5.\n",
    "\n",
    "Даны два списка чисел. Найдите все числа, которые входят как в первый, так и во второй список, и выведите их в порядке возрастания."
   ]
  },
  {
   "cell_type": "code",
   "execution_count": null,
   "id": "8054d684-82cb-43e8-809b-f9e352b3fc4e",
   "metadata": {},
   "outputs": [],
   "source": [
    "# your code here"
   ]
  },
  {
   "cell_type": "markdown",
   "id": "59bbd7de-6376-4fbb-8aef-bd32ce292146",
   "metadata": {},
   "source": [
    "## Задание 6.\n",
    "\n",
    "Напишите функцию lexdiv(), которая считает лексическое разнообразие в тексте. Лексическое разноообразие - это количество уникальных слов, поделенное на количество всех слов в тексте. Посчитайте лексическое разнообразие для любого англоязычного и русскоязычного текста примерно одинаковой длины. "
   ]
  },
  {
   "cell_type": "code",
   "execution_count": null,
   "id": "8ded5898-6d3b-47ee-bada-08f247703fac",
   "metadata": {},
   "outputs": [],
   "source": [
    "# your code here"
   ]
  },
  {
   "cell_type": "markdown",
   "id": "6a315816-964d-4360-bf5e-467a40a394a9",
   "metadata": {},
   "source": [
    "## Задание 7. \n",
    "\n",
    "Напишите функцию printmatrix(), которая будет красиво выводить матрицу в печать. "
   ]
  },
  {
   "cell_type": "code",
   "execution_count": null,
   "id": "9430eb1f-029d-46ed-9328-62278bec7adf",
   "metadata": {},
   "outputs": [],
   "source": [
    "# your code here"
   ]
  },
  {
   "cell_type": "markdown",
   "id": "400fa0b0-52ff-4f33-b575-450913be211e",
   "metadata": {},
   "source": [
    "## Задание 8. \n",
    "\n",
    "Напишите функцию generate_unitary(), которая будет генерировать единичную матрицу размера n. Единичная матрица - такая, у которой по диагонали стоят единички, а все остальные числа - нолики, например:\n",
    "\n",
    "    1 0 0 0\n",
    "    0 1 0 0\n",
    "    0 0 1 0\n",
    "    0 0 0 1"
   ]
  },
  {
   "cell_type": "code",
   "execution_count": null,
   "id": "a7cce0ef-6128-47b5-95bc-b9c81bd14a8c",
   "metadata": {},
   "outputs": [],
   "source": [
    "# your code here"
   ]
  }
 ],
 "metadata": {
  "kernelspec": {
   "display_name": "Python 3 (ipykernel)",
   "language": "python",
   "name": "python3"
  },
  "language_info": {
   "codemirror_mode": {
    "name": "ipython",
    "version": 3
   },
   "file_extension": ".py",
   "mimetype": "text/x-python",
   "name": "python",
   "nbconvert_exporter": "python",
   "pygments_lexer": "ipython3",
   "version": "3.8.10"
  }
 },
 "nbformat": 4,
 "nbformat_minor": 5
}
