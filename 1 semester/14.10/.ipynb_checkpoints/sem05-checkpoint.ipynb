{
 "cells": [
  {
   "cell_type": "markdown",
   "id": "883f6dc5-f3ce-4a54-adf0-a673a3d24de0",
   "metadata": {},
   "source": [
    "## Задание 1.\n",
    "\n",
    "Напишите функцию, которая принимает неограниченное количество аргументов-строк и параметр = метод строки, который затем последовательно применяется к каждой строчке. Результаты можно вернуть списком. Оформите функцию грамотно, напишите docstring. "
   ]
  },
  {
   "cell_type": "code",
   "execution_count": 7,
   "id": "456cfafc-c682-46fe-b338-0f9f2a654de9",
   "metadata": {},
   "outputs": [
    {
     "name": "stdin",
     "output_type": "stream",
     "text": [
      " Таким способом можно применять методы строк для смены или проверки регистра\n"
     ]
    },
    {
     "name": "stdout",
     "output_type": "stream",
     "text": [
      "ТАКИМ СПОСОБОМ МОЖНО ПРИМЕНЯТЬ МЕТОДЫ СТРОК ДЛЯ СМЕНЫ ИЛИ ПРОВЕРКИ РЕГИСТРА\n"
     ]
    }
   ],
   "source": [
    "def applier(*strings, method) -> list:\n",
    "    \"\"\"This function applies method to any string and returns a list of results)\"\"\"\n",
    "    return [method(s) for s in strings]\n",
    "\n",
    "lst = input().split()\n",
    "res = applier(*lst, method=str.upper)\n",
    "print(*res)"
   ]
  },
  {
   "cell_type": "markdown",
   "id": "276dd8e3-4332-4751-9f1f-b536b92c2ac7",
   "metadata": {},
   "source": [
    "Но ладно, с методами я погорячилась, поэтому давайте просто функции, как мы на занятии в итоге сделали:"
   ]
  },
  {
   "cell_type": "code",
   "execution_count": 8,
   "id": "ec4ca542-b7d9-4287-afdd-74a7a7e46db8",
   "metadata": {},
   "outputs": [
    {
     "name": "stdout",
     "output_type": "stream",
     "text": [
      "['Т', 'а', 'и', 'к', 'м'] ['б', 'м', 'о', 'о', 'о', 'п', 'с', 'с'] ['ж', 'м', 'н', 'о', 'о'] ['е', 'и', 'м', 'н', 'п', 'р', 'т', 'ь', 'я'] ['д', 'е', 'м', 'о', 'т', 'ы'] ['к', 'о', 'р', 'с', 'т'] ['д', 'л', 'я'] ['е', 'м', 'н', 'с', 'ы'] ['и', 'и', 'л'] ['в', 'е', 'и', 'к', 'о', 'п', 'р', 'р'] ['а', 'г', 'е', 'и', 'р', 'р', 'с', 'т']\n"
     ]
    }
   ],
   "source": [
    "def func_applier(*strings, function) -> list:\n",
    "    \"\"\"Applies a function to any string and returns a list of results\"\"\"\n",
    "    return [function(s) for s in strings]\n",
    "\n",
    "res = func_applier(*lst, function=sorted)\n",
    "print(*res)"
   ]
  },
  {
   "cell_type": "markdown",
   "id": "be518e19-c58c-428b-9c6a-4b8a7b793da1",
   "metadata": {},
   "source": [
    "## Задание 2. \n",
    "\n",
    "Отсортируйте список строчек в зависимости от того, сколько в каждой строке содержится букв а. (н-р, строчки \"мама\", \"арбуз\" и \"абракадабра\" должны выстроиться в \"арбуз\", \"мама\", \"абракадабра\")."
   ]
  },
  {
   "cell_type": "code",
   "execution_count": 10,
   "id": "f7080803-db3d-4ecf-a918-b0aaf741306c",
   "metadata": {},
   "outputs": [
    {
     "name": "stdin",
     "output_type": "stream",
     "text": [
      " мама абракадабра арбуз\n"
     ]
    },
    {
     "name": "stdout",
     "output_type": "stream",
     "text": [
      "['арбуз', 'мама', 'абракадабра']\n"
     ]
    }
   ],
   "source": [
    "print(sorted(input().split(), key=lambda word: word.count('а')))"
   ]
  },
  {
   "cell_type": "markdown",
   "id": "97178e43-fda4-4f66-a9ef-be674c878d2d",
   "metadata": {},
   "source": [
    "## Задание 3. \n",
    "\n",
    "Напишите функцию-генератор, которая будет возвращать новые функции, возводящие в степень N. Т.е., функция-генератор принимает в качестве аргумента число N, а возвращает функцию, которая будет принимать число и возвращать его же в степени N. "
   ]
  },
  {
   "cell_type": "code",
   "execution_count": 12,
   "id": "3535d2ba-099c-4a3a-8269-be33e3d29c28",
   "metadata": {
    "tags": []
   },
   "outputs": [
    {
     "name": "stdout",
     "output_type": "stream",
     "text": [
      "16 27\n"
     ]
    }
   ],
   "source": [
    "def generate(n: int):\n",
    "    return lambda x: x ** n\n",
    "\n",
    "square = generate(2)  # мы создаем объект типа \"функция\"\n",
    "cube = generate(3)  # и теперь можем вызывать наши переменные square и cube, как функции, со скобочками\n",
    "print(square(4), cube(3))"
   ]
  },
  {
   "cell_type": "markdown",
   "id": "10948388-9df0-45ee-83f4-685d2dafc7d9",
   "metadata": {},
   "source": [
    "## Задание 4. \n",
    "\n",
    "Напишите рекурсивную функцию, которая будет возвращать, является ли строка палиндромом. На вход функция получает строки типа \"абба, \"абсба\" и подобные (пробелов внутри этих строк нет). "
   ]
  },
  {
   "cell_type": "code",
   "execution_count": 14,
   "id": "21660891-c6fe-477d-927b-3bc46f8e8e81",
   "metadata": {
    "tags": []
   },
   "outputs": [
    {
     "name": "stdin",
     "output_type": "stream",
     "text": [
      " abba\n"
     ]
    },
    {
     "name": "stdout",
     "output_type": "stream",
     "text": [
      "abba True\n"
     ]
    },
    {
     "name": "stdin",
     "output_type": "stream",
     "text": [
      " abcba\n"
     ]
    },
    {
     "name": "stdout",
     "output_type": "stream",
     "text": [
      "abcba True\n"
     ]
    },
    {
     "name": "stdin",
     "output_type": "stream",
     "text": [
      " аргентинаманитнегра\n"
     ]
    },
    {
     "name": "stdout",
     "output_type": "stream",
     "text": [
      "аргентинаманитнегра True\n"
     ]
    },
    {
     "name": "stdin",
     "output_type": "stream",
     "text": [
      " asdfgh\n"
     ]
    },
    {
     "name": "stdout",
     "output_type": "stream",
     "text": [
      "asdfgh False\n"
     ]
    },
    {
     "name": "stdin",
     "output_type": "stream",
     "text": [
      " \n"
     ]
    }
   ],
   "source": [
    "def palindrome(string):\n",
    "    if not string:\n",
    "        return True\n",
    "    return string[0] == string[-1] and palindrome(string[1:-1])\n",
    "\n",
    "while True:\n",
    "    string = input()\n",
    "    if not string:\n",
    "        break\n",
    "    print(string, palindrome(string))"
   ]
  },
  {
   "cell_type": "markdown",
   "id": "76d0e990-5b5c-4da6-b0e1-8c278fa123fc",
   "metadata": {},
   "source": [
    "## Задание 5. \n",
    "\n",
    "Напишите функцию, которая принимает r - радиус круга и возвращает его площадь ($\\pi \\cdot r^2$). В библиотеке math есть переменная pi."
   ]
  },
  {
   "cell_type": "code",
   "execution_count": 15,
   "id": "5051747b-ade8-4f85-8e33-6c35498227ba",
   "metadata": {
    "tags": []
   },
   "outputs": [
    {
     "name": "stdout",
     "output_type": "stream",
     "text": [
      "28.274333882308138\n"
     ]
    }
   ],
   "source": [
    "import math\n",
    "\n",
    "def area(r):\n",
    "    return math.pi * r ** 2\n",
    "\n",
    "print(area(3))"
   ]
  },
  {
   "cell_type": "markdown",
   "id": "d3d8a858-370e-4497-9031-02c92b83e0fd",
   "metadata": {},
   "source": [
    "## Задание 6.\n",
    "\n",
    "Проверьте, какая кодировка является дефолтной в вашей системе:"
   ]
  },
  {
   "cell_type": "code",
   "execution_count": 16,
   "id": "b2d1cc73-399e-426e-84e9-9bb4f1d74e11",
   "metadata": {
    "tags": []
   },
   "outputs": [
    {
     "data": {
      "text/plain": [
       "'UTF-8'"
      ]
     },
     "execution_count": 16,
     "metadata": {},
     "output_type": "execute_result"
    }
   ],
   "source": [
    "import locale\n",
    "\n",
    "locale.getpreferredencoding()"
   ]
  },
  {
   "cell_type": "markdown",
   "id": "d2359f64-6494-4445-bbf8-8c66fec32e54",
   "metadata": {},
   "source": [
    "## Задание 7. \n",
    "\n",
    "Создайте файл в кодировке utf8. Запишите него несколько любых строчек текста, введенных с клавиатуры (input() можно сразу отправить в write или в print, как известно). Не забудьте сохранить. "
   ]
  },
  {
   "cell_type": "code",
   "execution_count": null,
   "id": "3343f7af-569b-4cb1-8b03-87e5806d6656",
   "metadata": {
    "tags": []
   },
   "outputs": [],
   "source": [
    "# your code here"
   ]
  },
  {
   "cell_type": "markdown",
   "id": "b1f86a39-c492-4ad8-8288-6001afca274d",
   "metadata": {},
   "source": [
    "## Задание 8. \n",
    "\n",
    "Считайте содержимое вашего файла в список строк. Отрежьте '\\n' от каждой строки. "
   ]
  },
  {
   "cell_type": "code",
   "execution_count": null,
   "id": "a1b3ac13-ef10-4ac8-8147-1f79b8de2344",
   "metadata": {
    "tags": []
   },
   "outputs": [],
   "source": [
    "# your code here"
   ]
  }
 ],
 "metadata": {
  "kernelspec": {
   "display_name": "Python 3 (ipykernel)",
   "language": "python",
   "name": "python3"
  },
  "language_info": {
   "codemirror_mode": {
    "name": "ipython",
    "version": 3
   },
   "file_extension": ".py",
   "mimetype": "text/x-python",
   "name": "python",
   "nbconvert_exporter": "python",
   "pygments_lexer": "ipython3",
   "version": "3.8.10"
  }
 },
 "nbformat": 4,
 "nbformat_minor": 5
}
