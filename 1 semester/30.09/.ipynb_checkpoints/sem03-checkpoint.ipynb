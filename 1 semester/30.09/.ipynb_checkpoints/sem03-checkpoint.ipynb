{
 "cells": [
  {
   "cell_type": "markdown",
   "id": "6291b202-2a3d-4b84-ad94-cf1ed6822586",
   "metadata": {},
   "source": [
    "## Задание 1. \n",
    "\n",
    "Пользователь вводит несколько слов через пробелы, пробелов может быть больше одного подряд. Уберите лишние пробелы с помощью методов split() и join(). "
   ]
  },
  {
   "cell_type": "code",
   "execution_count": null,
   "id": "cc128493-4196-4a03-9945-d77413a6c05b",
   "metadata": {},
   "outputs": [],
   "source": [
    "text = input('Введите слова\\n')\n",
    "print(' '.join(text.split()))"
   ]
  },
  {
   "cell_type": "markdown",
   "id": "445cc311-b993-4576-9672-0cb5736b659e",
   "metadata": {},
   "source": [
    "## Задание 2. \n",
    "\n",
    "Вводится число секунд, программа должна вывести это число в часах, минутах и секундах (как в дз), но с помощью f-строки или format(). "
   ]
  },
  {
   "cell_type": "code",
   "execution_count": null,
   "id": "45afa44f-42f3-4d45-b5fa-1a4299892f59",
   "metadata": {},
   "outputs": [],
   "source": [
    "s = int(input())\n",
    "m = int(input())\n",
    "h = int(input())\n",
    "# я просто ввожу цифры, чтобы не делать за вас дз :)\n",
    "print(f'{h}:{m}:{s}'"
   ]
  },
  {
   "cell_type": "markdown",
   "id": "7ca0315c-02be-48f5-bf3f-3c2f9e248177",
   "metadata": {},
   "source": [
    "## Задание 3.\n",
    "\n",
    "Даны два нецелых числа x и y. Вывести результаты их умножения и деления в виде:\n",
    "\n",
    "       2.1 * 4.3 = 9.03\n",
    "       2.1 / 4.3 = 0.49\n",
    "  \n",
    "(То есть, необходимо округлить до 2 знаков после запятой). Используйте f-strings!"
   ]
  },
  {
   "cell_type": "code",
   "execution_count": null,
   "id": "f8dbaecd-cd78-43e5-8741-9750e9d514be",
   "metadata": {},
   "outputs": [],
   "source": [
    "x = float(input())\n",
    "y = float(input())\n",
    "print(f'{x} * {y} = {x * y:.2f}\\n{x} / {y} = {x/y:.2f}')"
   ]
  },
  {
   "cell_type": "markdown",
   "id": "2497ef14-27be-43f8-9dd1-972372e2e110",
   "metadata": {},
   "source": [
    "## Задание 4.\n",
    "\n",
    "Пользователь вводит имя и фамилию через строку. Догадайтесь, как сразу присвоить имя и фамилию в разные переменные (в идеале в программе может быть одна строка)."
   ]
  },
  {
   "cell_type": "code",
   "execution_count": null,
   "id": "e8bd6d8d-8955-4c83-90db-68895dce24a8",
   "metadata": {},
   "outputs": [],
   "source": [
    "name, surname = input('Введите имя и фамилию').split()"
   ]
  },
  {
   "cell_type": "markdown",
   "id": "1e311471-33bc-46ad-a79a-9ee34eb231bb",
   "metadata": {},
   "source": [
    "## Задание 5.\n",
    "\n",
    "Пользователь вводит строчку. Функция ord(char) возвращает номер символа в юникоде, н-р, ord('a') = 97. Выведите все номера введенных символов и по завершении слово \"конец!\""
   ]
  },
  {
   "cell_type": "code",
   "execution_count": null,
   "id": "ab05aa15-efb1-47d4-8077-d111f0ff0d2f",
   "metadata": {},
   "outputs": [],
   "source": [
    "string = input()\n",
    "for char in string:\n",
    "    print(ord(char), end='\\t')\n",
    "else:\n",
    "    print('Конец!')"
   ]
  },
  {
   "cell_type": "markdown",
   "id": "ef90dcb1-ab82-4f8e-83f3-010a9530d3ac",
   "metadata": {},
   "source": [
    "## Задание 6. \n",
    "\n",
    "В программе загадано некое число от 1 до 10 (можно в константе для начала, можно попробовать использовать randint() для тех, кто знает, что это). Пользователь угадывает это число; программа должна ругаться, если вводится что-то кроме числа, и завершает работу, только когда введено правильное число. "
   ]
  },
  {
   "cell_type": "code",
   "execution_count": null,
   "id": "d45a0631-da0c-4e5b-b15f-10919622ac68",
   "metadata": {},
   "outputs": [],
   "source": [
    "from random import randint  # мы это будем разбирать, если успеем\n",
    "\n",
    "x = randint(1, 10)\n",
    "while True:\n",
    "    if x == int(input('Введите число: ')):\n",
    "        print('Вы угадали!')\n",
    "        break\n",
    "    print('Не угадали!')"
   ]
  },
  {
   "cell_type": "markdown",
   "id": "0f7d2793-64a4-49d1-9844-0145ee3009f2",
   "metadata": {},
   "source": [
    "## Задание 7.\n",
    "\n",
    "Напишите программу, которая принимает от пользователя целое число и выводит таблицу умножения от 1 до этого числа. Подумайте, за какое время будет работать такая программа."
   ]
  },
  {
   "cell_type": "code",
   "execution_count": null,
   "id": "e467c775-7214-4837-8059-11766adc6bfd",
   "metadata": {},
   "outputs": [],
   "source": [
    "n = int(input())\n",
    "for i in range(1, n + 1):\n",
    "    for j in range(1, n + 1):\n",
    "        print(i * j, end = '\\t')\n",
    "    print()"
   ]
  },
  {
   "cell_type": "markdown",
   "id": "cab4f784-616e-43e6-ae69-9b598160e5d7",
   "metadata": {},
   "source": [
    "Оценим скорость работы генератора и цикла. "
   ]
  },
  {
   "cell_type": "code",
   "execution_count": null,
   "id": "31c039f0-e2ff-4609-a75b-0fcadaf2a0fb",
   "metadata": {},
   "outputs": [],
   "source": [
    "string = 'abc' * 1000\n",
    "%timeit [char for char in string if char != 'a']"
   ]
  },
  {
   "cell_type": "code",
   "execution_count": null,
   "id": "c9ab2fbd-5804-46f3-a692-c260b4b65efb",
   "metadata": {},
   "outputs": [],
   "source": [
    "%%timeit\n",
    "L = []\n",
    "for char in string:\n",
    "    if char != 'a':\n",
    "        L.append(char)"
   ]
  },
  {
   "cell_type": "markdown",
   "id": "98513b3a-6387-4bbe-9920-6598813b3b36",
   "metadata": {},
   "source": [
    "## Задание 8.\n",
    "\n",
    "Пользователь вводит набор целых чисел через пробелы. Посчитайте сумму из получившегося набора, выведите минимальное и максимальное число. "
   ]
  },
  {
   "cell_type": "code",
   "execution_count": null,
   "id": "3e10527e-f99e-4b75-b9d2-15e91e0e1df7",
   "metadata": {
    "tags": []
   },
   "outputs": [],
   "source": [
    "# your code here"
   ]
  },
  {
   "cell_type": "markdown",
   "id": "1b674772-6afc-4168-be44-be84264dba64",
   "metadata": {},
   "source": [
    "## Задание 9. \n",
    "\n",
    "Создайте список из чисел от 1 до 10. Вставьте после тройки число 30. Сделайте это двумя способами. "
   ]
  },
  {
   "cell_type": "code",
   "execution_count": null,
   "id": "95721154-717e-4e10-ba30-61ef83c6b27d",
   "metadata": {},
   "outputs": [],
   "source": [
    "# your code here"
   ]
  },
  {
   "cell_type": "markdown",
   "id": "f12b82b0-6f83-4e8e-bdb8-4138a0fde415",
   "metadata": {},
   "source": [
    "## Задание 10.\n",
    "\n",
    "Пользователь вводит строчку из слов, разделенных пробелами. Отсортируйте слова в алфавитном порядке задом наперед (т.е., яблоко будет первее юлы) и выведите их столбиком (каждое слово на новой строчке)."
   ]
  },
  {
   "cell_type": "code",
   "execution_count": null,
   "id": "3d92f5fe-39d7-4fa0-9025-c0fb68417342",
   "metadata": {},
   "outputs": [],
   "source": [
    "# your code here"
   ]
  }
 ],
 "metadata": {
  "kernelspec": {
   "display_name": "Python 3 (ipykernel)",
   "language": "python",
   "name": "python3"
  },
  "language_info": {
   "codemirror_mode": {
    "name": "ipython",
    "version": 3
   },
   "file_extension": ".py",
   "mimetype": "text/x-python",
   "name": "python",
   "nbconvert_exporter": "python",
   "pygments_lexer": "ipython3",
   "version": "3.8.10"
  }
 },
 "nbformat": 4,
 "nbformat_minor": 5
}
