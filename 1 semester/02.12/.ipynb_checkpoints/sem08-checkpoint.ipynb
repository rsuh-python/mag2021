{
 "cells": [
  {
   "cell_type": "markdown",
   "id": "27e625f7-5578-4b88-a15a-6676a22bcf43",
   "metadata": {},
   "source": [
    "## Задание 1.\n",
    "\n",
    "Заведем словарь, ключами которого будут названия месяцев, а значения выставим по умолчанию 30. "
   ]
  },
  {
   "cell_type": "code",
   "execution_count": null,
   "id": "87d4ca7d-bd09-462f-8a87-2dd5e71e5007",
   "metadata": {},
   "outputs": [],
   "source": [
    "# your code here"
   ]
  },
  {
   "cell_type": "markdown",
   "id": "b07fd109-a900-42f3-b263-e877bde09f37",
   "metadata": {},
   "source": [
    "## Задание 2.\n",
    "\n",
    "Заставим пользователя ввести реальное количество дней вместо 30 для нашего словаря. "
   ]
  },
  {
   "cell_type": "code",
   "execution_count": null,
   "id": "3b53ccca-276d-47d2-984d-fc1c5c62ea2d",
   "metadata": {},
   "outputs": [],
   "source": [
    "# your code here"
   ]
  },
  {
   "cell_type": "markdown",
   "id": "01122b7a-7edd-4229-9efa-1474eec775f1",
   "metadata": {},
   "source": [
    "## Задание 3. \n",
    "\n",
    "У нас есть некий список (любой). Превратим его в словарь, ключами которого будут индексы, только не с 0, а с 1."
   ]
  },
  {
   "cell_type": "code",
   "execution_count": null,
   "id": "eb1f43ca-abec-466e-970f-3125ac5055d7",
   "metadata": {},
   "outputs": [],
   "source": [
    "# your code here"
   ]
  },
  {
   "cell_type": "markdown",
   "id": "61aea344-63e6-4607-848a-f0ebe1a2a435",
   "metadata": {},
   "source": [
    "## Задание 4. \n",
    "\n",
    "Потестируем zip_longest: представим себе, что у нас преподаватель вводит сперва фамилии учеников, а потом оценки (и то, и другое - в одну строку через пробел). Ученики, которые не сдали экзамен, идут в списке в конце и автоматически получают двойку."
   ]
  },
  {
   "cell_type": "code",
   "execution_count": null,
   "id": "e60e33ce-3055-4428-b72b-eeadce63b543",
   "metadata": {},
   "outputs": [],
   "source": [
    "# your code here"
   ]
  },
  {
   "cell_type": "markdown",
   "id": "b11bf121-3df5-410c-b4b6-493dbd74a55d",
   "metadata": {},
   "source": [
    "## Задание 5.\n",
    "\n",
    "Напишем функцию для красивого вывода словаря. Функция должна выводить ключи и значения в виде:\n",
    "\n",
    "key :: value\n",
    "\n",
    "Для продвинутых: попробуйте выравнивать ключи и значения по самому широкому полю (соответственно ключа и значения). "
   ]
  },
  {
   "cell_type": "code",
   "execution_count": null,
   "id": "90a3365c-4bcf-4b0f-98e8-3b864f045cb5",
   "metadata": {},
   "outputs": [],
   "source": [
    "# your code here"
   ]
  },
  {
   "cell_type": "markdown",
   "id": "4befa3c1-3763-46d1-afdc-30f81799c885",
   "metadata": {},
   "source": [
    "## Задание 6. \n",
    "\n",
    "Создайте новый словарь days, в котором ключи и значения словаря с месяцами должны поменяться местами. При этом в значениях у нас теперь должны быть списки, чтобы в этих списках сохранились все месяцы с таким количеством дней. "
   ]
  },
  {
   "cell_type": "code",
   "execution_count": null,
   "id": "9bd1b458-561a-4963-8f5b-72ed84d39803",
   "metadata": {},
   "outputs": [],
   "source": [
    "# your code here"
   ]
  },
  {
   "cell_type": "markdown",
   "id": "5f7586cb-ce24-4cb0-8713-c4580848f257",
   "metadata": {},
   "source": [
    "## Задание 7.\n",
    "\n",
    "Посчитайте количество слов в тексте из файла (файл можно взять любой). В итоге должен получиться словарик frequency, в котором ключами будут слова, а значениями - их частоты."
   ]
  },
  {
   "cell_type": "code",
   "execution_count": null,
   "id": "81331b03-11d3-49c3-88d0-4f1deda5ab37",
   "metadata": {},
   "outputs": [],
   "source": [
    "# your code here"
   ]
  },
  {
   "cell_type": "markdown",
   "id": "27fa1f0a-c691-4ed7-8b20-8b665beb98e8",
   "metadata": {},
   "source": [
    "## Задание 8. \n",
    "\n",
    "Сделайте то же самое с помощью Counter."
   ]
  }
 ],
 "metadata": {
  "kernelspec": {
   "display_name": "Python 3 (ipykernel)",
   "language": "python",
   "name": "python3"
  },
  "language_info": {
   "codemirror_mode": {
    "name": "ipython",
    "version": 3
   },
   "file_extension": ".py",
   "mimetype": "text/x-python",
   "name": "python",
   "nbconvert_exporter": "python",
   "pygments_lexer": "ipython3",
   "version": "3.8.10"
  }
 },
 "nbformat": 4,
 "nbformat_minor": 5
}
