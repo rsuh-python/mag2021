{
 "cells": [
  {
   "cell_type": "markdown",
   "id": "847c9d75-c113-4cb5-ab0e-99e619f33086",
   "metadata": {},
   "source": [
    "**Все первые 5 задач решаются в одно условие**\n",
    "\n",
    "Задача 1. (pythontutor)\n",
    "\n",
    "Шахматная ладья ходит по горизонтали или вертикали. Даны две различные клетки шахматной доски, определите, может ли ладья попасть с первой клетки на вторую одним ходом. Программа получает на вход четыре числа от 1 до 8 каждое, задающие номер столбца и номер строки сначала для первой клетки, потом для второй клетки. Программа должна вывести YES, если из первой клетки ходом ладьи можно попасть во вторую или NO в противном случае."
   ]
  },
  {
   "cell_type": "code",
   "execution_count": null,
   "id": "7b60f5ad-5fb5-4b88-bd3f-1f3ff8f669b6",
   "metadata": {},
   "outputs": [],
   "source": [
    "#your code here"
   ]
  },
  {
   "cell_type": "markdown",
   "id": "07893f16-698d-4921-9bb2-4502a457a172",
   "metadata": {},
   "source": [
    "Задача 2. (pythontutor)\n",
    "\n",
    "Шахматный король ходит по горизонтали, вертикали и диагонали, но только на 1 клетку. Даны две различные клетки шахматной доски, определите, может ли король попасть с первой клетки на вторую одним ходом. Программа получает на вход четыре числа от 1 до 8 каждое, задающие номер столбца и номер строки сначала для первой клетки, потом для второй клетки. Программа должна вывести YES, если из первой клетки ходом короля можно попасть во вторую или NO в противном случае."
   ]
  },
  {
   "cell_type": "code",
   "execution_count": null,
   "id": "82275e1b-ce35-488d-b4ea-2185f78558b6",
   "metadata": {},
   "outputs": [],
   "source": [
    "#your code here"
   ]
  },
  {
   "cell_type": "markdown",
   "id": "f24e421e-b20c-4560-a1fd-9444ab52a4a0",
   "metadata": {},
   "source": [
    "Задача 3. (pythontutor)\n",
    "\n",
    "Шахматный слон ходит по диагонали. Даны две различные клетки шахматной доски, определите, может ли слон попасть с первой клетки на вторую одним ходом."
   ]
  },
  {
   "cell_type": "code",
   "execution_count": null,
   "id": "752e14bb-0ed8-43b9-9ba3-822641ae957e",
   "metadata": {},
   "outputs": [],
   "source": [
    "#your code here"
   ]
  },
  {
   "cell_type": "markdown",
   "id": "7d44229b-8aa8-400b-9dd5-7c556e04cffc",
   "metadata": {},
   "source": [
    "Задача 4. (pythontutor)\n",
    "\n",
    "Шахматный ферзь ходит по диагонали, горизонтали или вертикали. Даны две различные клетки шахматной доски, определите, может ли ферзь попасть с первой клетки на вторую одним ходом."
   ]
  },
  {
   "cell_type": "code",
   "execution_count": null,
   "id": "1b29bcff-c357-4737-a5d5-f2416abfb573",
   "metadata": {},
   "outputs": [],
   "source": [
    "#your code here"
   ]
  },
  {
   "cell_type": "markdown",
   "id": "d725d03f-316e-4ad1-ac73-e4616f9b816e",
   "metadata": {},
   "source": [
    "Задача 5. (pythontutor)\n",
    "\n",
    "Шахматный конь ходит буквой “Г” — на две клетки по вертикали в любом направлении и на одну клетку по горизонтали, или наоборот. Даны две различные клетки шахматной доски, определите, может ли конь попасть с первой клетки на вторую одним ходом."
   ]
  },
  {
   "cell_type": "code",
   "execution_count": null,
   "id": "9edeb3a0-b049-44da-8e00-b6914b958607",
   "metadata": {},
   "outputs": [],
   "source": [
    "#your code here"
   ]
  },
  {
   "cell_type": "markdown",
   "id": "6b77edb6-5985-4c42-9421-cf403d72ac1e",
   "metadata": {},
   "source": [
    "Задача 6. (С первого семинара)\n",
    "\n",
    "Пользователь вводит строчку. Наша задача - вернуть ее задом наперед (н-р, \"йцукен\" должно превратиться в \"некуцй\"). Используйте срезы. "
   ]
  },
  {
   "cell_type": "code",
   "execution_count": null,
   "id": "e3bcebc3-4ad8-4e9e-b3e1-eef49a48d2dc",
   "metadata": {},
   "outputs": [],
   "source": [
    "#your code here"
   ]
  },
  {
   "cell_type": "markdown",
   "id": "e577dc3c-0f05-41aa-81f8-588d52320134",
   "metadata": {},
   "source": [
    "Задача 7. (Pythontutor)\n",
    "\n",
    "Шоколадка имеет вид прямоугольника, разделенного на $n \\times m$ долек. Шоколадку можно один раз разломить по прямой на две части. Определите, можно ли таким образом отломить от шоколадки часть, состоящую ровно из k долек. Программа получает на вход три числа: n, m, k и должна вывести YES или NO."
   ]
  },
  {
   "cell_type": "code",
   "execution_count": null,
   "id": "bb0f71ce-2c2a-4700-9741-02f9f32ba478",
   "metadata": {},
   "outputs": [],
   "source": [
    "#your code here"
   ]
  },
  {
   "cell_type": "markdown",
   "id": "d5e1265a-839d-4235-a164-a830f5a8a0f7",
   "metadata": {},
   "source": [
    "Задача 8. \n",
    "\n",
    "Пользователь вводит строчку, в которой попадаются символы \"@\". Нужно удалить все такие символы. "
   ]
  },
  {
   "cell_type": "code",
   "execution_count": null,
   "id": "d480ec68-a065-4e22-9c52-a4a6f59bb260",
   "metadata": {},
   "outputs": [],
   "source": [
    "#your code here"
   ]
  },
  {
   "cell_type": "markdown",
   "id": "3d9bae76-0db8-41ae-9a17-ec1c96416fcf",
   "metadata": {},
   "source": [
    "Задача 9. \n",
    "\n",
    "Пользователь ввел несколько слов, разделенных пробелами. Посчитайте количество слов в строке (если знаете несколько способов - сделайте это несколькими способами)."
   ]
  },
  {
   "cell_type": "code",
   "execution_count": null,
   "id": "172a878d-fdef-4239-9b75-ff9dd791d076",
   "metadata": {},
   "outputs": [],
   "source": [
    "#your code here"
   ]
  },
  {
   "cell_type": "markdown",
   "id": "8a67c111-1a7a-48d1-8915-ed06b63791de",
   "metadata": {},
   "source": [
    "Задача 10. \n",
    "\n",
    "Пользователь ввел три слова, разделенных пробелами. Разделите эту строчку из слов на отдельные слова, используя срезы."
   ]
  },
  {
   "cell_type": "code",
   "execution_count": null,
   "id": "ce237905-9f5e-4cc7-935d-b5fe027bb335",
   "metadata": {},
   "outputs": [],
   "source": [
    "#your code here"
   ]
  },
  {
   "cell_type": "markdown",
   "id": "9ffe4629-6a72-42df-87fc-053d9e616e67",
   "metadata": {},
   "source": [
    "Задача 11. \n",
    "\n",
    "Пользователь вводит имя и фамилию в одну строчку через пробел. Разделите их на две строки с помощью срезов и проверьте, что имя и фамилия состоят из букв."
   ]
  },
  {
   "cell_type": "code",
   "execution_count": null,
   "id": "cb4185bd-fc04-400e-8218-53dfdf689117",
   "metadata": {},
   "outputs": [],
   "source": [
    "#your code here"
   ]
  },
  {
   "cell_type": "markdown",
   "id": "986c9fe6-26af-43fc-b2c0-8a0252a2c4b3",
   "metadata": {},
   "source": [
    "Задача 12.\n",
    "\n",
    "Пользователь вводит некий инфинитив глагола. Программа должна проверить, заканчивается ли глагол на -ся и содержит ли он приставку \"пере\" (т.е., начинается с нее). Можно использовать методы, а можно срезы. "
   ]
  },
  {
   "cell_type": "code",
   "execution_count": null,
   "id": "5436bf46-4203-4271-8433-89ecde7f8845",
   "metadata": {},
   "outputs": [],
   "source": [
    "#your code here"
   ]
  }
 ],
 "metadata": {
  "kernelspec": {
   "display_name": "Python 3 (ipykernel)",
   "language": "python",
   "name": "python3"
  },
  "language_info": {
   "codemirror_mode": {
    "name": "ipython",
    "version": 3
   },
   "file_extension": ".py",
   "mimetype": "text/x-python",
   "name": "python",
   "nbconvert_exporter": "python",
   "pygments_lexer": "ipython3",
   "version": "3.8.10"
  }
 },
 "nbformat": 4,
 "nbformat_minor": 5
}
