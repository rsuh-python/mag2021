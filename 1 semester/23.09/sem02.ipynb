{
 "cells": [
  {
   "cell_type": "markdown",
   "id": "524b8584-3f26-4a04-bcf9-3f3f6ff0f43f",
   "metadata": {},
   "source": [
    "# 23.09.2021"
   ]
  },
  {
   "cell_type": "markdown",
   "id": "ea3e39a7-9c6c-4c2a-b6eb-a8e25e61c063",
   "metadata": {},
   "source": [
    "## Задание 0.\n",
    "\n",
    "Дано положительное действительное число X. Выведите его первую цифру после десятичной точки."
   ]
  },
  {
   "cell_type": "code",
   "execution_count": null,
   "id": "2e4b041a-87d7-452a-ac28-808fdbed2338",
   "metadata": {
    "id": "A50Flq7AUZ8W"
   },
   "outputs": [],
   "source": [
    "num = float(input('Введите действительное число: '))\n",
    "num *= 10\n",
    "num = int(num)\n",
    "print(num % 10)"
   ]
  },
  {
   "cell_type": "code",
   "execution_count": null,
   "id": "4280e411-58d0-4842-a548-301f390135f9",
   "metadata": {},
   "outputs": [],
   "source": [
    "num = float(input('Введите действительное число: '))\n",
    "print(int(num * 10) % 10)"
   ]
  },
  {
   "cell_type": "markdown",
   "id": "274b8bff-569f-4844-848f-021259001a3e",
   "metadata": {},
   "source": [
    "## Задание 1.\n",
    "\n",
    "Положим константу limit = 5. Наш следующий скрипт должен попросить пользователя ввести любое число; если введенное число больше 5, то пишем 'Greater than 5!', если меньше, то пишем 'Lesser than 5!', если равно, то пишем 'Equals 5'."
   ]
  },
  {
   "cell_type": "code",
   "execution_count": null,
   "id": "7c1d978a-a803-41f9-857c-e00629ee71cb",
   "metadata": {
    "id": "A50Flq7AUZ8W"
   },
   "outputs": [],
   "source": [
    "limit = 5\n",
    "a = int(input('Введите целое число: '))\n",
    "if a > 5:\n",
    "    print('Greater than 5!')\n",
    "elif a < 5:\n",
    "    print('Lesser than 5!')\n",
    "else:\n",
    "    print('Equals 5')"
   ]
  },
  {
   "cell_type": "markdown",
   "id": "7201d31b-319a-4e52-bbcc-6950eb588632",
   "metadata": {},
   "source": [
    "## Задание 2.\n",
    "\n",
    "Заданы две клетки шахматной доски. Если они покрашены в один цвет, то выведите слово YES, а если в разные цвета — то NO. Программа получает на вход четыре числа от 1 до 8 каждое, задающие номер столбца и номер строки сначала для первой клетки, потом для второй клетки."
   ]
  },
  {
   "cell_type": "code",
   "execution_count": null,
   "id": "206bb957-d96c-4b27-8217-05a78d8a295e",
   "metadata": {
    "id": "A50Flq7AUZ8W"
   },
   "outputs": [],
   "source": [
    "x1 = int(input())\n",
    "y1 = int(input())\n",
    "x2 = int(input())\n",
    "y2 = int(input())\n",
    "if (x1 + y1) % 2 == (x2 + y2) % 2:\n",
    "    print('YES')\n",
    "else:\n",
    "    print('NO')"
   ]
  },
  {
   "cell_type": "markdown",
   "id": "a1c2df00-7c94-4bda-ae46-2859e59a1bc4",
   "metadata": {},
   "source": [
    "## Задание 3.\n",
    "\n",
    "Пишем скрипт, который проверит, есть ли символ а в введенной пользователем строке, подсчитает, сколько в строке символов а, и выведет индексы первого и последнего их вхождения."
   ]
  },
  {
   "cell_type": "code",
   "execution_count": null,
   "id": "e1196fa6-a015-4cdf-8079-f9da75efb977",
   "metadata": {
    "id": "A50Flq7AUZ8W"
   },
   "outputs": [],
   "source": [
    "string = input()\n",
    "print('a' in string)\n",
    "print(string.count('a'))\n",
    "print(string.find('a'))\n",
    "print(string.rfind('a'))"
   ]
  },
  {
   "cell_type": "markdown",
   "id": "14234b12-b49f-49be-abdf-6f18f4c5e725",
   "metadata": {},
   "source": [
    "## Задание 4.\n",
    "\n",
    "Доработаем наш самый первый скрипт: добавим проверку на правильность имени (подумайте, какую проверку использовать), и если человек ввел что-то нехорошее, скажем ему \"давай до свидания\"."
   ]
  },
  {
   "cell_type": "code",
   "execution_count": null,
   "id": "986b8c2f-2f9a-4781-8350-fed48f95dbc4",
   "metadata": {
    "id": "A50Flq7AUZ8W"
   },
   "outputs": [],
   "source": [
    "# your code here"
   ]
  },
  {
   "cell_type": "markdown",
   "id": "5a8bcf65-f274-4bf5-82d8-95eb1ccbacaf",
   "metadata": {},
   "source": [
    "## Задание 5.\n",
    "\n",
    "А теперь наш пользователь вводит не только имя, но и фамилию (по отдельности). Выведем это все в красивом формате одним-единственным принтом:\n",
    "Имя: Вася\n",
    "Фамилия: Пупкин\n",
    "\n",
    "(если хотите, можете еще поукрашать)"
   ]
  },
  {
   "cell_type": "code",
   "execution_count": null,
   "id": "06935d42-770f-4740-b2ea-00f0a9d0fce8",
   "metadata": {
    "id": "A50Flq7AUZ8W"
   },
   "outputs": [],
   "source": [
    "# your code here"
   ]
  },
  {
   "cell_type": "markdown",
   "id": "e03d6cf1-0b64-4ba4-9e6a-1b59f676ea58",
   "metadata": {},
   "source": [
    "## Задание 6.\n",
    "\n",
    "Пользователь вводит строчку, а наша задача - вывести ее задом наперед. Это можно сделать при помощи срезов, подумайте, как."
   ]
  },
  {
   "cell_type": "code",
   "execution_count": null,
   "id": "46e52c06-a408-4b01-b858-e97c37819bab",
   "metadata": {
    "id": "A50Flq7AUZ8W"
   },
   "outputs": [],
   "source": [
    "# your code here"
   ]
  },
  {
   "cell_type": "markdown",
   "id": "244e7294-6308-4ff3-ba25-14277769cf3a",
   "metadata": {},
   "source": [
    "## Задание 7.\n",
    "\n",
    "Дана строка, состоящая ровно из двух слов, разделенных пробелом. Переставьте эти слова местами. Результат запишите в строку и выведите получившуюся строку. Пользоваться циклами, условными инструкциями и списками не надо."
   ]
  },
  {
   "cell_type": "code",
   "execution_count": null,
   "id": "f42f2d7c-26a9-46ad-b7b4-61b9d5248de9",
   "metadata": {
    "id": "A50Flq7AUZ8W"
   },
   "outputs": [],
   "source": [
    "# your code here"
   ]
  },
  {
   "cell_type": "markdown",
   "id": "18fffe3a-f105-44c1-8d60-d325e98d0192",
   "metadata": {},
   "source": [
    "## Задание 8.\n",
    "\n",
    "Вводится целое число n. Программа должна вывести \"n коров\", при этом согласовать слово \"корова\" с числительным. Число может быть сколь угодно большим. "
   ]
  },
  {
   "cell_type": "code",
   "execution_count": null,
   "id": "3cd9bb87-3a20-4c40-b23e-0391ffb0fd44",
   "metadata": {
    "id": "A50Flq7AUZ8W"
   },
   "outputs": [],
   "source": [
    "# your code here"
   ]
  }
 ],
 "metadata": {
  "kernelspec": {
   "display_name": "Python 3 (ipykernel)",
   "language": "python",
   "name": "python3"
  },
  "language_info": {
   "codemirror_mode": {
    "name": "ipython",
    "version": 3
   },
   "file_extension": ".py",
   "mimetype": "text/x-python",
   "name": "python",
   "nbconvert_exporter": "python",
   "pygments_lexer": "ipython3",
   "version": "3.8.10"
  }
 },
 "nbformat": 4,
 "nbformat_minor": 5
}
