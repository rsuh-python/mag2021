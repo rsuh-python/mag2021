{
 "cells": [
  {
   "cell_type": "markdown",
   "id": "a730c4c6-83e5-4a6c-826a-98feeac5294b",
   "metadata": {},
   "source": [
    "1. Напишите программу, которая принимает на вход число секунд и возвращает ответ в часах, минутах и секундах в виде 12:13:14. Подсказка: нужно использовать остаток от деления и целочисленное деление, а также параметр sep функции print(). Также можно воспользоваться функцией divmod(), если кто-то захочет поковыряться. "
   ]
  },
  {
   "cell_type": "code",
   "execution_count": null,
   "id": "2b91c317-e804-4eaa-a2c8-deb799d62544",
   "metadata": {},
   "outputs": [],
   "source": [
    "# your code here"
   ]
  },
  {
   "cell_type": "markdown",
   "id": "193f44f7-1b1d-4eea-855b-4bff8ad7aa7e",
   "metadata": {},
   "source": [
    "2. Пользователь вводит два числа с плавающей запятой в формате х.ххх (х - цифра). Считайте эти числа с помощью функции input(), переведите в подходящий тип данных, перемножьте. Выведите результат в виде:\n",
    "\n",
    "\"Сумма равна ххх\".\n",
    "\n",
    "Округлите результат до целого числа (можно просто отбросить дробную часть). \n",
    "\n",
    "Бонусом можно округлить результат по правилам математики. Попробуйте найти, какая функция для этого подойдет. "
   ]
  },
  {
   "cell_type": "code",
   "execution_count": null,
   "id": "a38e8caf-bb13-43f7-a580-828a1588fb75",
   "metadata": {},
   "outputs": [],
   "source": [
    "# your code here"
   ]
  },
  {
   "cell_type": "markdown",
   "id": "8dfe77b6-6394-4ba7-90a5-a98f4d4f0cbd",
   "metadata": {},
   "source": [
    "3. Напишите программу, которая будет вычислять длину гипотенузы и площадь прямоугольного треугольника. Пользователь вводит два числа: a и b. "
   ]
  },
  {
   "cell_type": "code",
   "execution_count": null,
   "id": "56ab697f-3bd3-4a3a-b2fc-e4898728ace5",
   "metadata": {},
   "outputs": [],
   "source": [
    "# your code here"
   ]
  },
  {
   "cell_type": "markdown",
   "id": "a9cac6e5-6dde-46ab-9afb-8caf47797594",
   "metadata": {},
   "source": [
    "4. Напишите программу, которая переводит вес из килограммов в фунты. (Вес вводится пользователем)"
   ]
  },
  {
   "cell_type": "code",
   "execution_count": null,
   "id": "39fc64b6-9cfc-4960-a861-83a9fe98401c",
   "metadata": {},
   "outputs": [],
   "source": [
    "# your code here"
   ]
  },
  {
   "cell_type": "markdown",
   "id": "0e3d931d-9390-4d5f-80c6-e9962567fcc2",
   "metadata": {},
   "source": [
    "5а. Напишите программу, которая рассчитывает процент от целого: пользователь вводит объем целого и объем части. Программа должна вывести \"хх%\""
   ]
  },
  {
   "cell_type": "code",
   "execution_count": null,
   "id": "c78561e3-8d01-4516-a17a-c928b93764ba",
   "metadata": {},
   "outputs": [],
   "source": [
    "# your code here"
   ]
  },
  {
   "cell_type": "markdown",
   "id": "94028bda-e61a-41e6-9566-137ee910ba21",
   "metadata": {},
   "source": [
    "5b. А теперь пользователь вводит объем целого и процент, нужно рассчитать объем части, соответствующий такому проценту."
   ]
  },
  {
   "cell_type": "code",
   "execution_count": null,
   "id": "86ff0767-7284-40ad-a649-b4c0f87ece8a",
   "metadata": {},
   "outputs": [],
   "source": [
    "# your code here"
   ]
  },
  {
   "cell_type": "markdown",
   "id": "27e03662-dab8-4d92-8530-97a1dbaa76ce",
   "metadata": {},
   "source": [
    "6. Пользователь вводит имя. Программа должна вывести \"Надо, name, надо!\""
   ]
  },
  {
   "cell_type": "code",
   "execution_count": null,
   "id": "195e00c4-85d8-41f4-b20d-0ae4c9928cfa",
   "metadata": {},
   "outputs": [],
   "source": [
    "# your code here"
   ]
  },
  {
   "cell_type": "markdown",
   "id": "a2c71156-8de3-460c-8b27-7d4da63778b4",
   "metadata": {},
   "source": [
    "7. Самое простое задание! Запустите эту ячейку."
   ]
  },
  {
   "cell_type": "code",
   "execution_count": null,
   "id": "542b0485-2002-425a-ab4a-affb3b12bc4a",
   "metadata": {},
   "outputs": [],
   "source": [
    "import this"
   ]
  }
 ],
 "metadata": {
  "kernelspec": {
   "display_name": "Python 3 (ipykernel)",
   "language": "python",
   "name": "python3"
  },
  "language_info": {
   "codemirror_mode": {
    "name": "ipython",
    "version": 3
   },
   "file_extension": ".py",
   "mimetype": "text/x-python",
   "name": "python",
   "nbconvert_exporter": "python",
   "pygments_lexer": "ipython3",
   "version": "3.8.10"
  }
 },
 "nbformat": 4,
 "nbformat_minor": 5
}
