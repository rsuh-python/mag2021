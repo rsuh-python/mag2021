{
 "cells": [
  {
   "cell_type": "markdown",
   "metadata": {
    "id": "n_9eiZzCUVJc"
   },
   "source": [
    "# 13.09.2021"
   ]
  },
  {
   "cell_type": "markdown",
   "metadata": {},
   "source": [
    "Добро пожаловать в Jupyter Lab! Здесь мы с вами будем решать задачки на занятии. \n",
    "# Задание 1.\n",
    "Потестируем питон и jupyter сразу: давайте напишем простенький скрипт, который спрашивает у пользователя его имя и затем выводит \"Привет, <имя>\"!"
   ]
  },
  {
   "cell_type": "code",
   "execution_count": null,
   "metadata": {
    "id": "A50Flq7AUZ8W"
   },
   "outputs": [],
   "source": [
    "# your code here"
   ]
  },
  {
   "cell_type": "markdown",
   "metadata": {},
   "source": [
    "# Задание 2. \n",
    "Напишем скрипт, который принимает от пользователя два числа и выводит результаты их сложения, умножения, вычитания и деления. А также возводит в квадрат и куб. Можно заодно потренироваться использовать аргументы функции print()."
   ]
  },
  {
   "cell_type": "code",
   "execution_count": null,
   "metadata": {},
   "outputs": [],
   "source": [
    "# your code here"
   ]
  },
  {
   "cell_type": "markdown",
   "metadata": {},
   "source": [
    "# Задание 3.\n",
    "Положим константу limit = 5. Наш следующий скрипт должен попросить пользователя ввести любое число; если введенное число больше 5, то пишем 'Greater than 5!', если меньше, то пишем 'Lesser than 5!', если равно, то пишем 'Equals 5'."
   ]
  },
  {
   "cell_type": "code",
   "execution_count": null,
   "metadata": {
    "id": "A50Flq7AUZ8W"
   },
   "outputs": [],
   "source": [
    "# your code here"
   ]
  },
  {
   "cell_type": "markdown",
   "metadata": {},
   "source": [
    "# Задание 4.\n",
    "Пишем скрипт, который проверит, есть ли символ а в введенной пользователем строке, подсчитает, сколько в строке символов а, и выведет индексы первого и последнего их вхождения."
   ]
  },
  {
   "cell_type": "code",
   "execution_count": null,
   "metadata": {
    "id": "A50Flq7AUZ8W"
   },
   "outputs": [],
   "source": [
    "# your code here"
   ]
  },
  {
   "cell_type": "markdown",
   "metadata": {},
   "source": [
    "# Задание 5.\n",
    "Доработаем наш самый первый скрипт: добавим проверку на правильность имени (подумайте, какую проверку использовать), и если человек ввел что-то нехорошее, скажем ему \"давай до свидания\"."
   ]
  },
  {
   "cell_type": "code",
   "execution_count": null,
   "metadata": {
    "id": "A50Flq7AUZ8W"
   },
   "outputs": [],
   "source": [
    "# your code here"
   ]
  },
  {
   "cell_type": "markdown",
   "metadata": {},
   "source": [
    "# Задание 6.\n",
    "А теперь наш пользователь вводит не только имя, но и фамилию (по отдельности). Выведем это все в красивом формате одним-единственным принтом:\n",
    "Имя: Вася\n",
    "Фамилия: Пупкин\n",
    "\n",
    "(если хотите, можете еще поукрашать)"
   ]
  },
  {
   "cell_type": "code",
   "execution_count": null,
   "metadata": {
    "id": "A50Flq7AUZ8W"
   },
   "outputs": [],
   "source": [
    "# your code here"
   ]
  },
  {
   "cell_type": "markdown",
   "metadata": {},
   "source": [
    "# Задание 7.\n",
    "Пользователь вводит строчку, а наша задача - вывести ее задом наперед. Это можно сделать при помощи срезов, подумайте, как."
   ]
  },
  {
   "cell_type": "code",
   "execution_count": null,
   "metadata": {
    "id": "A50Flq7AUZ8W"
   },
   "outputs": [],
   "source": [
    "# your code here"
   ]
  }
 ],
 "metadata": {
  "colab": {
   "authorship_tag": "ABX9TyPS4W5Zg1TNav+3BL2xg/Du",
   "collapsed_sections": [],
   "name": "Untitled2.ipynb",
   "provenance": []
  },
  "kernelspec": {
   "display_name": "Python 3 (ipykernel)",
   "language": "python",
   "name": "python3"
  },
  "language_info": {
   "codemirror_mode": {
    "name": "ipython",
    "version": 3
   },
   "file_extension": ".py",
   "mimetype": "text/x-python",
   "name": "python",
   "nbconvert_exporter": "python",
   "pygments_lexer": "ipython3",
   "version": "3.8.10"
  }
 },
 "nbformat": 4,
 "nbformat_minor": 4
}
