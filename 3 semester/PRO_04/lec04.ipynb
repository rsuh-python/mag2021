{
 "cells": [
  {
   "cell_type": "markdown",
   "id": "9af9127b-15b3-4c83-91a6-117b6b56db46",
   "metadata": {},
   "source": [
    "## Дескрипторы. super(). Исключения. "
   ]
  },
  {
   "cell_type": "markdown",
   "id": "2dc83d98-e731-4657-ae28-4fc94082a232",
   "metadata": {},
   "source": [
    "Итак, напоминаю: дескриптор - это отдельный класс, экземпляр которого пристегивается к нашему классу в качестве статического атрибута. Что делает дескриптор:\n",
    "\n",
    "- имплементирует протокол дескриптора (Descriptor Protocol) \n",
    "- приписывается атрибуту\n",
    "\n",
    "То есть, дескриптор может переопределять следующие методы:\n",
    "\n",
    "    __get__(self, instance, owner)\n",
    "    __set__(self, instance, value)\n",
    "    __delete__(self, instance)\n",
    "    __set_name__(self, owner, name)\n",
    "    \n",
    "Что эти методы делают и когда они вызываются:"
   ]
  },
  {
   "cell_type": "code",
   "execution_count": 37,
   "id": "bb77098f-1ccc-4501-92bf-fab4acda1faf",
   "metadata": {
    "colab": {
     "base_uri": "https://localhost:8080/"
    },
    "executionInfo": {
     "elapsed": 5,
     "status": "ok",
     "timestamp": 1665062126609,
     "user": {
      "displayName": "Alexandra Ivoylova",
      "userId": "06069991353189522669"
     },
     "user_tz": -180
    },
    "id": "wnYZGEdTQtXG",
    "outputId": "9f050b91-2adb-42bd-97eb-34bda118bdcf"
   },
   "outputs": [
    {
     "name": "stdout",
     "output_type": "stream",
     "text": [
      "__init__\n",
      "__init__\n",
      "__set_name__(owner=<class '__main__.A'>, name=a)\n",
      "__set_name__(owner=<class '__main__.A'>, name=b)\n"
     ]
    }
   ],
   "source": [
    "class Descriptors:\n",
    "  def __init__(self):\n",
    "    print('__init__')\n",
    "    self.name = 42\n",
    "  def __set_name__(self, owner, name):\n",
    "    \"\"\"Вызывается при создании экземпляра класса, когда мы впервые узнаем, \n",
    "    что у нас есть атрибут с именем name, и приписываем его нашему классу\"\"\"\n",
    "    print(f'__set_name__(owner={owner}, name={name})')\n",
    "    self.name = name  # тут можно сразу его и задать\n",
    "  def __get__(self, instance, owner=None):\n",
    "    \"\"\"При запрашивании атрибута у экземпляра класса\"\"\"\n",
    "    print(f'__get__(instance={instance}, owner={owner})')\n",
    "    return instance.__dict__.get(self.name)\n",
    "  def __set__(self, instance, value):\n",
    "        \"\"\"При устанавливании атрибута в виде instance.name = value\"\"\"\n",
    "    if self.name == 'a':\n",
    "      print('a')\n",
    "    instance.__dict__[self.name] = value\n",
    "  def __delete__(self, instance):\n",
    "    \"\"\"При удалении атрибута\"\"\"\n",
    "    print(f'__delete__(instance={instance})')\n",
    "    del instance.__dict__[self.name]\n",
    "\n",
    "class A:\n",
    "  a = Descriptors()\n",
    "  b = Descriptors()\n",
    "  def __repr__(self):\n",
    "    return 'A()'\n",
    "\n",
    "class B(A):\n",
    "  def __repr__(self):\n",
    "    return 'B()'"
   ]
  },
  {
   "cell_type": "markdown",
   "id": "959ea5a7-fc8a-4ef6-8dfe-f68650fb83a7",
   "metadata": {},
   "source": [
    "Для чего можно использовать дескрипторы? Например, для создания атрибутов, которые нельзя перезаписывать:"
   ]
  },
  {
   "cell_type": "code",
   "execution_count": 40,
   "id": "98ef6393-4254-48bc-aa4a-f1747e34ba29",
   "metadata": {
    "executionInfo": {
     "elapsed": 416,
     "status": "ok",
     "timestamp": 1665062920096,
     "user": {
      "displayName": "Alexandra Ivoylova",
      "userId": "06069991353189522669"
     },
     "user_tz": -180
    },
    "id": "Rp6rg-GEeYqq"
   },
   "outputs": [],
   "source": [
    "class ReadOnlyAttribute:\n",
    "  def __init__(self, value):\n",
    "    self.value = value\n",
    "  def __set_name__(self, owner, name):\n",
    "    self.name = name\n",
    "  def __get__(self, instance, owner=None):\n",
    "    return self.value\n",
    "  def __set__(self, instance, value):\n",
    "    raise AttributeError(f'{self.name} is read-only')\n",
    "\n",
    "class A:\n",
    "  a = ReadOnlyAttribute(42)"
   ]
  },
  {
   "cell_type": "code",
   "execution_count": 41,
   "id": "0466e3f7-367a-4149-b60a-9662f4862403",
   "metadata": {
    "executionInfo": {
     "elapsed": 3,
     "status": "ok",
     "timestamp": 1665062927420,
     "user": {
      "displayName": "Alexandra Ivoylova",
      "userId": "06069991353189522669"
     },
     "user_tz": -180
    },
    "id": "5v379K59e-Wf"
   },
   "outputs": [],
   "source": [
    "ins = A()"
   ]
  },
  {
   "cell_type": "code",
   "execution_count": 42,
   "id": "54d5b0a9-acaf-47d2-9a87-f772a1748f83",
   "metadata": {
    "colab": {
     "base_uri": "https://localhost:8080/"
    },
    "executionInfo": {
     "elapsed": 7,
     "status": "ok",
     "timestamp": 1665062931689,
     "user": {
      "displayName": "Alexandra Ivoylova",
      "userId": "06069991353189522669"
     },
     "user_tz": -180
    },
    "id": "junzvfYQe_pf",
    "outputId": "9c32591b-9116-4b75-f015-5c412d9270b4"
   },
   "outputs": [
    {
     "data": {
      "text/plain": [
       "42"
      ]
     },
     "execution_count": 42,
     "metadata": {},
     "output_type": "execute_result"
    }
   ],
   "source": [
    "ins.a"
   ]
  },
  {
   "cell_type": "code",
   "execution_count": 43,
   "id": "30325fa7-0c19-4f19-b7be-24f720e88e72",
   "metadata": {
    "colab": {
     "base_uri": "https://localhost:8080/",
     "height": 288
    },
    "executionInfo": {
     "elapsed": 7,
     "status": "error",
     "timestamp": 1665062936870,
     "user": {
      "displayName": "Alexandra Ivoylova",
      "userId": "06069991353189522669"
     },
     "user_tz": -180
    },
    "id": "GkW9ko1mfAb_",
    "outputId": "4ecf1725-9a82-48c7-e588-dc65689b534c"
   },
   "outputs": [
    {
     "ename": "AttributeError",
     "evalue": "ignored",
     "output_type": "error",
     "traceback": [
      "\u001b[0;31m---------------------------------------------------------------------------\u001b[0m",
      "\u001b[0;31mAttributeError\u001b[0m                            Traceback (most recent call last)",
      "\u001b[0;32m<ipython-input-43-c47a4723339b>\u001b[0m in \u001b[0;36m<module>\u001b[0;34m\u001b[0m\n\u001b[0;32m----> 1\u001b[0;31m \u001b[0mins\u001b[0m\u001b[0;34m.\u001b[0m\u001b[0ma\u001b[0m \u001b[0;34m=\u001b[0m \u001b[0;36m2\u001b[0m\u001b[0;34m\u001b[0m\u001b[0;34m\u001b[0m\u001b[0m\n\u001b[0m",
      "\u001b[0;32m<ipython-input-40-70cc7fb21431>\u001b[0m in \u001b[0;36m__set__\u001b[0;34m(self, instance, value)\u001b[0m\n\u001b[1;32m      7\u001b[0m     \u001b[0;32mreturn\u001b[0m \u001b[0mself\u001b[0m\u001b[0;34m.\u001b[0m\u001b[0mvalue\u001b[0m\u001b[0;34m\u001b[0m\u001b[0;34m\u001b[0m\u001b[0m\n\u001b[1;32m      8\u001b[0m   \u001b[0;32mdef\u001b[0m \u001b[0m__set__\u001b[0m\u001b[0;34m(\u001b[0m\u001b[0mself\u001b[0m\u001b[0;34m,\u001b[0m \u001b[0minstance\u001b[0m\u001b[0;34m,\u001b[0m \u001b[0mvalue\u001b[0m\u001b[0;34m)\u001b[0m\u001b[0;34m:\u001b[0m\u001b[0;34m\u001b[0m\u001b[0;34m\u001b[0m\u001b[0m\n\u001b[0;32m----> 9\u001b[0;31m     \u001b[0;32mraise\u001b[0m \u001b[0mAttributeError\u001b[0m\u001b[0;34m(\u001b[0m\u001b[0;34mf'{self.name} is read-only'\u001b[0m\u001b[0;34m)\u001b[0m\u001b[0;34m\u001b[0m\u001b[0;34m\u001b[0m\u001b[0m\n\u001b[0m\u001b[1;32m     10\u001b[0m \u001b[0;34m\u001b[0m\u001b[0m\n\u001b[1;32m     11\u001b[0m \u001b[0;32mclass\u001b[0m \u001b[0mA\u001b[0m\u001b[0;34m:\u001b[0m\u001b[0;34m\u001b[0m\u001b[0;34m\u001b[0m\u001b[0m\n",
      "\u001b[0;31mAttributeError\u001b[0m: a is read-only"
     ]
    }
   ],
   "source": [
    "ins.a = 2"
   ]
  },
  {
   "cell_type": "markdown",
   "id": "ed479262-1dfe-4069-93bc-f0ad3c592942",
   "metadata": {},
   "source": [
    "Также дескрипторы бывают двух видов:\n",
    "\n",
    "- Data Descriptor (переопределяет set)\n",
    "- Non Data Descriptor (переопределяет только get)\n",
    "\n",
    "В чем разница:"
   ]
  },
  {
   "cell_type": "code",
   "execution_count": 50,
   "id": "dc387e8d-c3e1-464a-bd8b-1659abc04a38",
   "metadata": {
    "executionInfo": {
     "elapsed": 302,
     "status": "ok",
     "timestamp": 1665063146525,
     "user": {
      "displayName": "Alexandra Ivoylova",
      "userId": "06069991353189522669"
     },
     "user_tz": -180
    },
    "id": "c7vzybR-fB6o"
   },
   "outputs": [],
   "source": [
    "class DataDesc:\n",
    "  def __set_name__(self, owner, name):\n",
    "    self.name = name\n",
    "  def __get__(self, instance, owner=None):\n",
    "    print('get method')\n",
    "    return instance.__dict__.get(self.name)\n",
    "  def __set__(self, instance, value):\n",
    "    print('Set method')\n",
    "    instance.__dict__[self.name] = value\n",
    "\n",
    "class NonDataDesc:\n",
    "  def __set_name__(self, owner, name):\n",
    "    self.name = name\n",
    "  def __get__(self, instance, owner=None):\n",
    "    print('get method')\n",
    "    return instance.__dict__.get(self.name)"
   ]
  },
  {
   "cell_type": "code",
   "execution_count": 51,
   "id": "ba6054a8-237a-4687-a73d-d94fcdf7f560",
   "metadata": {
    "executionInfo": {
     "elapsed": 252,
     "status": "ok",
     "timestamp": 1665063148702,
     "user": {
      "displayName": "Alexandra Ivoylova",
      "userId": "06069991353189522669"
     },
     "user_tz": -180
    },
    "id": "Fg4hrIMRfgsj"
   },
   "outputs": [],
   "source": [
    "class Example:\n",
    "  a = DataDesc()\n",
    "  b = NonDataDesc()"
   ]
  },
  {
   "cell_type": "code",
   "execution_count": 57,
   "id": "b8047c12-7980-4e66-90a8-df8fa803fa0e",
   "metadata": {
    "executionInfo": {
     "elapsed": 281,
     "status": "ok",
     "timestamp": 1665063229578,
     "user": {
      "displayName": "Alexandra Ivoylova",
      "userId": "06069991353189522669"
     },
     "user_tz": -180
    },
    "id": "8-0vq0nXfnZC"
   },
   "outputs": [],
   "source": [
    "e = Example()"
   ]
  },
  {
   "cell_type": "code",
   "execution_count": 61,
   "id": "2566a6e0-b1d8-4344-be2a-500f568b4335",
   "metadata": {
    "colab": {
     "base_uri": "https://localhost:8080/"
    },
    "executionInfo": {
     "elapsed": 257,
     "status": "ok",
     "timestamp": 1665063264622,
     "user": {
      "displayName": "Alexandra Ivoylova",
      "userId": "06069991353189522669"
     },
     "user_tz": -180
    },
    "id": "J0YIYaKrfpb4",
    "outputId": "8ca71bd5-96e1-4b8e-bc2e-6c43fbd6b803"
   },
   "outputs": [
    {
     "name": "stdout",
     "output_type": "stream",
     "text": [
      "get method\n"
     ]
    },
    {
     "data": {
      "text/plain": [
       "1"
      ]
     },
     "execution_count": 61,
     "metadata": {},
     "output_type": "execute_result"
    }
   ],
   "source": [
    "e.a"
   ]
  },
  {
   "cell_type": "code",
   "execution_count": 64,
   "id": "ba20422f-bf53-4b6a-a4a4-4d64e324708d",
   "metadata": {
    "colab": {
     "base_uri": "https://localhost:8080/"
    },
    "executionInfo": {
     "elapsed": 280,
     "status": "ok",
     "timestamp": 1665063316616,
     "user": {
      "displayName": "Alexandra Ivoylova",
      "userId": "06069991353189522669"
     },
     "user_tz": -180
    },
    "id": "hjsUGXXDfqMB",
    "outputId": "58f51628-4413-4c0c-db38-0eda7811302a"
   },
   "outputs": [
    {
     "data": {
      "text/plain": [
       "{'a': 1, 'b': 1}"
      ]
     },
     "execution_count": 64,
     "metadata": {},
     "output_type": "execute_result"
    }
   ],
   "source": [
    "e.__dict__"
   ]
  },
  {
   "cell_type": "code",
   "execution_count": 62,
   "id": "88d4c11e-ad31-4998-965d-a3d150d6d0e1",
   "metadata": {
    "executionInfo": {
     "elapsed": 7,
     "status": "ok",
     "timestamp": 1665063280101,
     "user": {
      "displayName": "Alexandra Ivoylova",
      "userId": "06069991353189522669"
     },
     "user_tz": -180
    },
    "id": "sxaFbxVCfq94"
   },
   "outputs": [],
   "source": [
    "e.b = 1"
   ]
  },
  {
   "cell_type": "markdown",
   "id": "e036dfd3-9647-4ab3-88c7-8085753c73bc",
   "metadata": {},
   "source": [
    "В момент, когда мы впервые обращаемся к атрибуту наших двух экземпляров, вызываются методы дескрипторов, потому что у обоих есть get. Но если мы попытаемся записать атрибут, то Data Descriptor вызовет свой метод, потому что у него он есть, а Non Data Descriptor потеряется и уступит место обычному протоколу, так что в дальнейшем его get перестанет работать для существующего атрибута. То есть, что будет делать питон:\n",
    "\n",
    "Мы обратились к атрибуту по синтаксису object.attr. Питон:\n",
    "\n",
    "- посмотрит, есть ли data дескриптор для этого атрибута;\n",
    "- если нет, то будет просто проверять object.\\_\\_dict\\_\\_ на наличие такого ключа;\n",
    "- если ключа там нет, только тогда проверит, а вдруг есть non data дескриптор. "
   ]
  },
  {
   "cell_type": "markdown",
   "id": "7cab9b68-33b6-42c9-8424-67e36905a80e",
   "metadata": {},
   "source": [
    "Использование дескрипторов выгодно, если у нас есть несколько атрибутов, которыми мы хотим одинаково управлять. "
   ]
  },
  {
   "cell_type": "markdown",
   "id": "917f9d13-ce39-4e73-9beb-89e6e3e584c2",
   "metadata": {},
   "source": [
    "Функция super() - неоднозначная; М. Лутц, например, считает, что она вообще вредная и лучше без нее. В общем и целом у нас три способа добраться до атрибутов и методов класса-родителя:\n",
    "\n",
    "1. Напрямую через его имя: Parent.method(self, \\*attrs)\n",
    "2. С помощью super без аргументов: super().method(\\*attrs)\n",
    "3. C помощь. super с аргументами: super(Child, self).method(\\*attrs)\n",
    "\n",
    "Обратите внимание, последний вариант будет искать метод method сразу в классе Parent!\n",
    "\n",
    "Так вот, в общем и целом использовать super() хорошо и полезно и все это делают, но когда у нас множественное наследование, мы с помощью super() иногда не можем добраться до методов того класса-родителя, который стоит в списке родителей не первым. \n",
    "\n",
    "Подробно про это можно почитать [здесь](https://realpython.com/python-super/). В этой статье как раз все ужасные примеры с квадратами и прочими пирамидами. "
   ]
  },
  {
   "cell_type": "markdown",
   "id": "a7c43571-7079-4437-a2be-a8572a0767ea",
   "metadata": {},
   "source": [
    "### Исключения\n",
    "\n",
    "Во-первых, есть такая конструкция, как try-except:"
   ]
  },
  {
   "cell_type": "code",
   "execution_count": null,
   "id": "e9d49932-234d-4d23-bcf2-4d883b986772",
   "metadata": {
    "id": "zNd0KhRakifX"
   },
   "outputs": [],
   "source": [
    "a = int(input())\n",
    "try:\n",
    "  a += 2\n",
    "except Exception:  # except (IndexError, TypeError, ValueError):\n",
    "  print('String too short')\n",
    "else:\n",
    "  print('String long enough')\n",
    "finally:\n",
    "  print(a)\n",
    "  print('Script ended')\n"
   ]
  },
  {
   "cell_type": "markdown",
   "id": "2b169726-df55-4e5f-85bf-3456ce699835",
   "metadata": {},
   "source": [
    "Обязательные ее части - только try и except. Как она устроена:\n",
    "\n",
    "1. try ставит маркер в том месте программы, где его вызвали, и запоминает ее состояние, а потом пытается выполнить те команды, которые написаны в его теле. \n",
    "2. Если команды внутри try вызвали ошибку, он откатывает на свой маркер и вызывает except. \n",
    "3. except смотрит, какое исключение вызвалось внутри try, и если оно указано в его аргументах, то выполняет то, что у него в теле. \n",
    "4. если ошибка не должна перехватываться except, питон ищет оператор try верхнего уровня (они бывают вложенные), а если не находит, то за работу беретс стандартный перехватчик исключений, с которым мы все постоянно имеем дело. \n",
    "5. если except внутри себя вызвал новую ошибку, происходит то же, что в пункте 4. \n",
    "6. Если ошибки в try не было, вызовется else, если он есть. \n",
    "7. Когда вся эта хитрая конструкция завершилась, вне зависимости от того, что произошло, выполнится finally. "
   ]
  },
  {
   "cell_type": "markdown",
   "id": "4755db13-540a-478e-9087-cfaa9650a712",
   "metadata": {},
   "source": [
    "except может быть больше одного, а еще ему можно передавать исключения разными способами:\n",
    "\n",
    "    except: # без всего - будет перехватывать абсолютно все исключения, включая такие, как KeyboardInterrupt, и вы не сможете остановить свою программу. \n",
    "    except Exception: # будет перехватывать исключение Exception и все исключения, которые наследуют от него\n",
    "    except (TypeError, IndexError): # будет перехватывать исключения из списочка (и их детей)"
   ]
  },
  {
   "cell_type": "markdown",
   "id": "73060616-099f-4208-b9a5-fbbf0508556b",
   "metadata": {},
   "source": [
    "Для того, чтобы искусственным образом вызвать исключение, используется оператор raise. Его тоже можно использовать несколькими способами:\n",
    "\n",
    "    raise IndexError  # неявным образом создаст экземпляр класса IndexError и вызовет его\n",
    "    raise IndexError() # сделает то же самое, но экземпляр создаем явно. В скобочках можем передать аргумент-строку. \n",
    "    exc = IndexError()\n",
    "    raise exc # совсем явно создаем экземпляр класса IndexError и кладем его сперва в переменную\n",
    "    raise # без всего вызывает исключение, которое возникало раньше в работе программы"
   ]
  },
  {
   "cell_type": "markdown",
   "id": "03fb15ed-e150-4a67-9398-caf0cd7bfc25",
   "metadata": {},
   "source": [
    "Для чего может использоваться последняя форма:"
   ]
  },
  {
   "cell_type": "code",
   "execution_count": null,
   "id": "a18fb227-a52b-4068-973b-7701ee1a520a",
   "metadata": {
    "id": "pEoCTODdsiKT"
   },
   "outputs": [],
   "source": [
    "try:\n",
    "    try:\n",
    "      'ac' + 2\n",
    "    except TypeError: # перехватит ошибку\n",
    "      print('Type Error')\n",
    "      raise # выполнит принт и все равно ее опять вызовет\n",
    "except TypeError:\n",
    "  print('Haha') # но мы ее снова перехватили..."
   ]
  },
  {
   "cell_type": "markdown",
   "id": "745c6655-2fc2-45db-a3fa-383ed37b3ccb",
   "metadata": {},
   "source": [
    "Исключения можно связывать друг с другом:"
   ]
  },
  {
   "cell_type": "code",
   "execution_count": 1,
   "id": "9834e749-95fd-4c51-8144-627f9ac33ab6",
   "metadata": {},
   "outputs": [
    {
     "ename": "TypeError",
     "evalue": "Bad",
     "output_type": "error",
     "traceback": [
      "\u001b[0;31m---------------------------------------------------------------------------\u001b[0m",
      "\u001b[0;31mZeroDivisionError\u001b[0m                         Traceback (most recent call last)",
      "Input \u001b[0;32mIn [1]\u001b[0m, in \u001b[0;36m<cell line: 1>\u001b[0;34m()\u001b[0m\n\u001b[1;32m      1\u001b[0m \u001b[38;5;28;01mtry\u001b[39;00m:\n\u001b[0;32m----> 2\u001b[0m     \u001b[38;5;241;43m1\u001b[39;49m\u001b[43m \u001b[49m\u001b[38;5;241;43m/\u001b[39;49m\u001b[43m \u001b[49m\u001b[38;5;241;43m0\u001b[39;49m\n\u001b[1;32m      3\u001b[0m \u001b[38;5;28;01mexcept\u001b[39;00m \u001b[38;5;167;01mException\u001b[39;00m \u001b[38;5;28;01mas\u001b[39;00m E:\n",
      "\u001b[0;31mZeroDivisionError\u001b[0m: division by zero",
      "\nThe above exception was the direct cause of the following exception:\n",
      "\u001b[0;31mTypeError\u001b[0m                                 Traceback (most recent call last)",
      "Input \u001b[0;32mIn [1]\u001b[0m, in \u001b[0;36m<cell line: 1>\u001b[0;34m()\u001b[0m\n\u001b[1;32m      2\u001b[0m     \u001b[38;5;241m1\u001b[39m \u001b[38;5;241m/\u001b[39m \u001b[38;5;241m0\u001b[39m\n\u001b[1;32m      3\u001b[0m \u001b[38;5;28;01mexcept\u001b[39;00m \u001b[38;5;167;01mException\u001b[39;00m \u001b[38;5;28;01mas\u001b[39;00m E:\n\u001b[0;32m----> 4\u001b[0m     \u001b[38;5;28;01mraise\u001b[39;00m \u001b[38;5;167;01mTypeError\u001b[39;00m(\u001b[38;5;124m'\u001b[39m\u001b[38;5;124mBad\u001b[39m\u001b[38;5;124m'\u001b[39m) \u001b[38;5;28;01mfrom\u001b[39;00m \u001b[38;5;21;01mE\u001b[39;00m\n",
      "\u001b[0;31mTypeError\u001b[0m: Bad"
     ]
    }
   ],
   "source": [
    "try:\n",
    "    1 / 0\n",
    "except Exception as E:\n",
    "    raise TypeError('Bad') from E"
   ]
  },
  {
   "cell_type": "markdown",
   "id": "1b4b50d4-8b64-4e50-8388-de3dc5d045c7",
   "metadata": {},
   "source": [
    "Также пару слов нужно сказать про оператор assert, который обычно используется для отладки. Как он работает:\n",
    "\n",
    "    assert <condition>[, 'message']\n",
    "    \n",
    "(То есть, строка-месседж не обязательная). \n",
    "\n",
    "Если условие в assert вернет True, то он промолчит, а если вывалится ошибка, то возникнет исключение AssertionError с тем текстом, который вы передали как 'message':"
   ]
  },
  {
   "cell_type": "code",
   "execution_count": 2,
   "id": "eb88231c-c5d0-4978-ac01-c0119c616cbe",
   "metadata": {
    "id": "pEoCTODdsiKT"
   },
   "outputs": [
    {
     "ename": "AssertionError",
     "evalue": "Two is less than three you idiot!",
     "output_type": "error",
     "traceback": [
      "\u001b[0;31m---------------------------------------------------------------------------\u001b[0m",
      "\u001b[0;31mAssertionError\u001b[0m                            Traceback (most recent call last)",
      "Input \u001b[0;32mIn [2]\u001b[0m, in \u001b[0;36m<cell line: 1>\u001b[0;34m()\u001b[0m\n\u001b[0;32m----> 1\u001b[0m \u001b[38;5;28;01massert\u001b[39;00m \u001b[38;5;241m2\u001b[39m \u001b[38;5;241m>\u001b[39m \u001b[38;5;241m3\u001b[39m, \u001b[38;5;124m'\u001b[39m\u001b[38;5;124mTwo is less than three you idiot!\u001b[39m\u001b[38;5;124m'\u001b[39m\n",
      "\u001b[0;31mAssertionError\u001b[0m: Two is less than three you idiot!"
     ]
    }
   ],
   "source": [
    "assert 2 > 3, 'Two is less than three you idiot!'"
   ]
  },
  {
   "cell_type": "markdown",
   "id": "a62a147d-be5f-490d-9df9-31d3d2c7fea8",
   "metadata": {},
   "source": [
    "#### Кастомные исключения\n",
    "\n",
    "Исключение в питоне - это тоже объект какого-то класса. У исключений есть своя иерархия, которая выглядит в стандартном случае как-то так:\n",
    "\n",
    "    BaseException\n",
    "    Exception\n",
    "    ArithmeticError, LookupError...\n",
    "    (LookupError = IndexError, KeyError...)\n",
    "    \n",
    "Иерархия образуется, конечно, через наследование. \n",
    "\n",
    "Чтобы определить собственное исключение, достаточно написать:"
   ]
  },
  {
   "cell_type": "code",
   "execution_count": 3,
   "id": "9b2ce0d7-bacb-47cd-a549-d35bd4d4dbe3",
   "metadata": {},
   "outputs": [
    {
     "ename": "MyExc",
     "evalue": "This is my exception",
     "output_type": "error",
     "traceback": [
      "\u001b[0;31m---------------------------------------------------------------------------\u001b[0m",
      "\u001b[0;31mMyExc\u001b[0m                                     Traceback (most recent call last)",
      "Input \u001b[0;32mIn [3]\u001b[0m, in \u001b[0;36m<cell line: 3>\u001b[0;34m()\u001b[0m\n\u001b[1;32m      1\u001b[0m \u001b[38;5;28;01mclass\u001b[39;00m \u001b[38;5;21;01mMyExc\u001b[39;00m(\u001b[38;5;167;01mException\u001b[39;00m): \u001b[38;5;28;01mpass\u001b[39;00m\n\u001b[0;32m----> 3\u001b[0m \u001b[38;5;28;01mraise\u001b[39;00m MyExc(\u001b[38;5;124m'\u001b[39m\u001b[38;5;124mThis is my exception\u001b[39m\u001b[38;5;124m'\u001b[39m)\n",
      "\u001b[0;31mMyExc\u001b[0m: This is my exception"
     ]
    }
   ],
   "source": [
    "class MyExc(Exception): pass\n",
    "\n",
    "raise MyExc('This is my exception')"
   ]
  },
  {
   "cell_type": "markdown",
   "id": "d0828131-0934-48fa-b731-188e19d60540",
   "metadata": {},
   "source": [
    "Можно строчку по умолчанию сразу переопределить:"
   ]
  },
  {
   "cell_type": "code",
   "execution_count": 4,
   "id": "89c43e37-d03d-4165-8503-d62a5d24fe92",
   "metadata": {},
   "outputs": [
    {
     "ename": "Career",
     "evalue": "So I became a linguist...",
     "output_type": "error",
     "traceback": [
      "\u001b[0;31m---------------------------------------------------------------------------\u001b[0m",
      "\u001b[0;31mCareer\u001b[0m                                    Traceback (most recent call last)",
      "Input \u001b[0;32mIn [4]\u001b[0m, in \u001b[0;36m<cell line: 5>\u001b[0;34m()\u001b[0m\n\u001b[1;32m      2\u001b[0m     \u001b[38;5;28;01mdef\u001b[39;00m \u001b[38;5;21m__str__\u001b[39m(\u001b[38;5;28mself\u001b[39m):\n\u001b[1;32m      3\u001b[0m         \u001b[38;5;28;01mreturn\u001b[39;00m \u001b[38;5;124m'\u001b[39m\u001b[38;5;124mSo I became a linguist...\u001b[39m\u001b[38;5;124m'\u001b[39m\n\u001b[0;32m----> 5\u001b[0m \u001b[38;5;28;01mraise\u001b[39;00m Career\n",
      "\u001b[0;31mCareer\u001b[0m: So I became a linguist..."
     ]
    }
   ],
   "source": [
    "class Career(Exception):\n",
    "    def __str__(self):\n",
    "        return 'So I became a linguist...'\n",
    "    \n",
    "raise Career"
   ]
  },
  {
   "cell_type": "markdown",
   "id": "011ae4db-73ef-4873-94df-5a298ff4994a",
   "metadata": {},
   "source": [
    "Также бывает полезно хранить в экземпляре класса своего исключения какие-то добавочные данные. "
   ]
  },
  {
   "cell_type": "code",
   "execution_count": 5,
   "id": "7c6793f1-89a7-41f0-8483-925f9eb2447c",
   "metadata": {
    "id": "pEoCTODdsiKT"
   },
   "outputs": [],
   "source": [
    "class FileReadError(Exception):\n",
    "    def __init__(self, line, file):\n",
    "        self.line = line\n",
    "        self.file = file\n",
    "    def __str__(self):\n",
    "        return f'Error at line {self.line}, file {self.file}'"
   ]
  },
  {
   "cell_type": "code",
   "execution_count": 6,
   "id": "1b8445bf-c208-4575-90c3-3ef264a6edb4",
   "metadata": {},
   "outputs": [
    {
     "name": "stdout",
     "output_type": "stream",
     "text": [
      "Error at line 42, file myfile.txt\n"
     ]
    }
   ],
   "source": [
    "try:\n",
    "    raise FileReadError(42, 'myfile.txt')\n",
    "except FileReadError as X:\n",
    "    print(f'Error at line {X.line}, file {X.file}')"
   ]
  },
  {
   "cell_type": "markdown",
   "id": "ff20b382-0dfb-4963-80cf-353bef2fbd15",
   "metadata": {},
   "source": [
    "Последнее, о чем мы с вами вскользь поговорили - это менеджер контекстов with. \n",
    "\n",
    "На самом деле поддержка диспетчер контекстов пишется самими программистами-разработчиками, и вы можете в своем приложении тоже ее реализовать для какого-то класса, но как это делать - мы рассматривать не будем, нам достаточно знать, что это такое. По духу диспетчер контекстов очень близок try-except: он точно так же запоминает состояние программы в момент своего запуска, выполняет то, что находится в его теле, и возвращается к исходному состоянию. Так, диспетчер контекстов реализован для функции open у файлов:"
   ]
  },
  {
   "cell_type": "code",
   "execution_count": null,
   "id": "71c2daf4-33b9-48da-a6ec-0c31f6ca4ae3",
   "metadata": {},
   "outputs": [],
   "source": [
    "with open(path) as file:\n",
    "    file.read()"
   ]
  },
  {
   "cell_type": "markdown",
   "id": "8fe37a3b-dea4-478f-adcf-9afd7456baa5",
   "metadata": {},
   "source": [
    "Как мы с вами прекрасно знаем, в таком случае нет необходимости явным образом закрывать файл. Закрытие файла реализовано в диспетчере контекстов. \n",
    "\n",
    "В дальнейшем мы с вами будем иметь дело с другими диспетчерами контекстов. Самые распространенные - это, например, диспетчер контекстов, который используется при распараллеливании процессов (если захотите, очень рекомендую поизучать библиотеку multithreading), а мы столкнемся с конструкцией\n",
    "\n",
    "    with torch.nograd():\n",
    "    \n",
    "Для торча. "
   ]
  }
 ],
 "metadata": {
  "kernelspec": {
   "display_name": "Python 3 (ipykernel)",
   "language": "python",
   "name": "python3"
  },
  "language_info": {
   "codemirror_mode": {
    "name": "ipython",
    "version": 3
   },
   "file_extension": ".py",
   "mimetype": "text/x-python",
   "name": "python",
   "nbconvert_exporter": "python",
   "pygments_lexer": "ipython3",
   "version": "3.9.12"
  }
 },
 "nbformat": 4,
 "nbformat_minor": 5
}
