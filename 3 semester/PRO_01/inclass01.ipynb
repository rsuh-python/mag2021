{
 "cells": [
  {
   "cell_type": "code",
   "execution_count": null,
   "metadata": {
    "id": "oX_yhaUXMrFQ"
   },
   "outputs": [],
   "source": [
    "from time import sleep\n",
    "\n",
    "sleep(2)\n",
    "\n",
    "class Human:\n",
    "  eyes = 2\n",
    "  def __init__(self, name):\n",
    "    self.name = name\n",
    "\n",
    "  def work(self):\n",
    "    raise NotImplementedError\n",
    "\n",
    "  def eat(self):\n",
    "    print('I eat')\n",
    "\n",
    "  def sleep(self, n):\n",
    "    sleep(n)\n"
   ]
  },
  {
   "cell_type": "code",
   "execution_count": null,
   "metadata": {
    "id": "O3cIaPS9ZjHz"
   },
   "outputs": [],
   "source": [
    "(x for x in ...)"
   ]
  },
  {
   "cell_type": "code",
   "execution_count": null,
   "metadata": {
    "id": "wBHWGZXvNkMi"
   },
   "outputs": [],
   "source": [
    "class Linguist(Human):\n",
    "  def __init__(self, name, publications):\n",
    "    super().__init__(name)\n",
    "    self.publications = publications\n",
    "\n",
    "  def __getitem__(self, index):\n",
    "    if isinstance(index, int):\n",
    "      return self.publications[index]\n",
    "    else:\n",
    "      return self.publications[index.start:index.stop:index.step]\n",
    "\n",
    "  def __contains__(self, x):\n",
    "    return x in self.publications\n",
    "  \n",
    "  def work(self, new_publ):\n",
    "    self.publications.append(new_publ)\n"
   ]
  },
  {
   "cell_type": "code",
   "execution_count": null,
   "metadata": {
    "id": "jL_5IARoSgBa"
   },
   "outputs": [],
   "source": [
    "testelets = Linguist('Yakov', [1, 2, 3, 4])"
   ]
  },
  {
   "cell_type": "code",
   "execution_count": null,
   "metadata": {
    "id": "9iO8YrBuazUc"
   },
   "outputs": [],
   "source": [
    "gen = tuple(x for x in testelets)"
   ]
  },
  {
   "cell_type": "code",
   "execution_count": null,
   "metadata": {
    "colab": {
     "base_uri": "https://localhost:8080/"
    },
    "executionInfo": {
     "elapsed": 455,
     "status": "ok",
     "timestamp": 1662648527289,
     "user": {
      "displayName": "Alexandra Ivoylova",
      "userId": "06069991353189522669"
     },
     "user_tz": -180
    },
    "id": "qJ9LC9F3bSdD",
    "outputId": "17be0ab7-e5a4-4ae7-8f7b-90a6163822c5"
   },
   "outputs": [
    {
     "data": {
      "text/plain": [
       "(1, 2, 3, 4)"
      ]
     },
     "execution_count": 76,
     "metadata": {},
     "output_type": "execute_result"
    }
   ],
   "source": [
    "gen"
   ]
  },
  {
   "cell_type": "code",
   "execution_count": null,
   "metadata": {
    "id": "g6XPp9pidnm3"
   },
   "outputs": [],
   "source": [
    "lst = [1, 2, 3, 4, 5]"
   ]
  },
  {
   "cell_type": "code",
   "execution_count": null,
   "metadata": {
    "id": "gNykhbW2dujn"
   },
   "outputs": [],
   "source": [
    "class Squares:\n",
    "  def __init__(self, start, stop):\n",
    "    self.start = start\n",
    "    self.stop = stop\n",
    "\n",
    "  def __iter__(self):\n",
    "    return SquaresIterator(self.start, self.stop)\n",
    "\n",
    "class SquaresIterator:\n",
    "  def __init__(self, start, stop):\n",
    "    self.value = start - 1\n",
    "    self.stop = stop - 1\n",
    " \n",
    "  def __next__(self):\n",
    "    if self.value == self.stop:\n",
    "      raise StopIteration\n",
    "    self.value += 1\n",
    "    return self.value ** 2 "
   ]
  },
  {
   "cell_type": "code",
   "execution_count": null,
   "metadata": {
    "id": "kV6CNbk0fMpc"
   },
   "outputs": [],
   "source": [
    "r = Squares(1, 5)"
   ]
  },
  {
   "cell_type": "code",
   "execution_count": null,
   "metadata": {
    "colab": {
     "base_uri": "https://localhost:8080/"
    },
    "executionInfo": {
     "elapsed": 251,
     "status": "ok",
     "timestamp": 1662648086714,
     "user": {
      "displayName": "Alexandra Ivoylova",
      "userId": "06069991353189522669"
     },
     "user_tz": -180
    },
    "id": "vIxtsM-afQTR",
    "outputId": "8366905e-eb3b-48b0-c219-43a1c0318681"
   },
   "outputs": [
    {
     "data": {
      "text/plain": [
       "[1, 4, 9, 16]"
      ]
     },
     "execution_count": 66,
     "metadata": {},
     "output_type": "execute_result"
    }
   ],
   "source": [
    "[x for x in r]"
   ]
  },
  {
   "cell_type": "code",
   "execution_count": null,
   "metadata": {
    "colab": {
     "base_uri": "https://localhost:8080/"
    },
    "executionInfo": {
     "elapsed": 6,
     "status": "ok",
     "timestamp": 1662647136229,
     "user": {
      "displayName": "Alexandra Ivoylova",
      "userId": "06069991353189522669"
     },
     "user_tz": -180
    },
    "id": "T36t55AQfR84",
    "outputId": "e6bf7f7a-c11f-4be5-f333-00cab58bd49e"
   },
   "outputs": [
    {
     "data": {
      "text/plain": [
       "5"
      ]
     },
     "execution_count": 53,
     "metadata": {},
     "output_type": "execute_result"
    }
   ],
   "source": [
    "r.value"
   ]
  },
  {
   "cell_type": "code",
   "execution_count": null,
   "metadata": {
    "id": "Gj7x-ppufXXJ"
   },
   "outputs": [],
   "source": [
    "r = range(1, 5)"
   ]
  },
  {
   "cell_type": "code",
   "execution_count": null,
   "metadata": {
    "colab": {
     "base_uri": "https://localhost:8080/"
    },
    "executionInfo": {
     "elapsed": 6,
     "status": "ok",
     "timestamp": 1662647276671,
     "user": {
      "displayName": "Alexandra Ivoylova",
      "userId": "06069991353189522669"
     },
     "user_tz": -180
    },
    "id": "xC7WTOxhf_Gj",
    "outputId": "9c0e2bb9-b3a6-40b2-b140-24d1650f9c7d"
   },
   "outputs": [
    {
     "data": {
      "text/plain": [
       "[1, 2, 3, 4]"
      ]
     },
     "execution_count": 55,
     "metadata": {},
     "output_type": "execute_result"
    }
   ],
   "source": [
    "[x for x in r]"
   ]
  },
  {
   "cell_type": "code",
   "execution_count": null,
   "metadata": {
    "id": "ONG5zEocgA_K"
   },
   "outputs": [],
   "source": [
    "'abcdef'"
   ]
  },
  {
   "cell_type": "code",
   "execution_count": null,
   "metadata": {
    "id": "0GiW6ujIhWUI"
   },
   "outputs": [],
   "source": [
    "class SkipObject:\n",
    "  def __init__(self, wrapped):\n",
    "    self.wrapped = wrapped\n",
    "  def __iter__(self):\n",
    "    return SkipIterator(self.wrapped)\n",
    "\n",
    "class SkipIterator:\n",
    "  def __init__(self, wrapped):\n",
    "    self.wrapped = wrapped\n",
    "    self.offset = 0\n",
    "\n",
    "  def __next__(self):\n",
    "    if self.offset >= len(self.wrapped):\n",
    "      raise StopIteration \n",
    "    else:\n",
    "      item = self.wrapped[self.offset]\n",
    "      self.offset += 2\n",
    "      return item"
   ]
  },
  {
   "cell_type": "code",
   "execution_count": null,
   "metadata": {
    "colab": {
     "base_uri": "https://localhost:8080/"
    },
    "executionInfo": {
     "elapsed": 7,
     "status": "ok",
     "timestamp": 1662647894707,
     "user": {
      "displayName": "Alexandra Ivoylova",
      "userId": "06069991353189522669"
     },
     "user_tz": -180
    },
    "id": "Kqq59HgGiEBQ",
    "outputId": "9a26d60e-7174-421d-bd90-05b45c331094"
   },
   "outputs": [
    {
     "name": "stdout",
     "output_type": "stream",
     "text": [
      "aa ac ae ca cc ce ea ec ee "
     ]
    }
   ],
   "source": [
    "a = 'abcdef'\n",
    "skipper = SkipObject(a)\n",
    "for x in skipper:\n",
    "  for y in skipper:\n",
    "    print(x + y, end=' ')\n"
   ]
  },
  {
   "cell_type": "code",
   "execution_count": null,
   "metadata": {
    "id": "KXnivefilCeM"
   },
   "outputs": [],
   "source": [
    "def gsquares(start, stop):\n",
    "  for i in range(start, stop):\n",
    "    yield i ** 2"
   ]
  },
  {
   "cell_type": "code",
   "execution_count": null,
   "metadata": {
    "id": "bs3huPXplJHy"
   },
   "outputs": [],
   "source": [
    "x = gsquares(1, 5)"
   ]
  },
  {
   "cell_type": "code",
   "execution_count": null,
   "metadata": {
    "id": "yRzcyA4ClLmC"
   },
   "outputs": [],
   "source": [
    "next(x)"
   ]
  },
  {
   "cell_type": "code",
   "execution_count": null,
   "metadata": {
    "id": "eMoKuB1elMDS"
   },
   "outputs": [],
   "source": [
    "class Squares:\n",
    "  def __init__(self, start, stop):\n",
    "    self.start = start\n",
    "    self.stop = stop\n",
    "\n",
    "  def __iter__(self):\n",
    "    for item in range(self.start, self.stop):\n",
    "      yield item ** 2"
   ]
  },
  {
   "cell_type": "code",
   "execution_count": null,
   "metadata": {
    "id": "fE9zhNkfmJ0O"
   },
   "outputs": [],
   "source": [
    "r = Squares(1, 5)"
   ]
  },
  {
   "cell_type": "code",
   "execution_count": null,
   "metadata": {
    "colab": {
     "base_uri": "https://localhost:8080/"
    },
    "executionInfo": {
     "elapsed": 7,
     "status": "ok",
     "timestamp": 1662648913962,
     "user": {
      "displayName": "Alexandra Ivoylova",
      "userId": "06069991353189522669"
     },
     "user_tz": -180
    },
    "id": "JSboy_3LmMQz",
    "outputId": "a672118e-d994-457f-dfcc-0cbfb41a0e06"
   },
   "outputs": [
    {
     "data": {
      "text/plain": [
       "[1, 4, 9, 16]"
      ]
     },
     "execution_count": 88,
     "metadata": {},
     "output_type": "execute_result"
    }
   ],
   "source": [
    "[x for x in r]"
   ]
  },
  {
   "cell_type": "code",
   "execution_count": null,
   "metadata": {
    "id": "yyoVJ67lmNRU"
   },
   "outputs": [],
   "source": [
    "class Numm:\n",
    "  def __init__(self, num):\n",
    "    self.num = num\n",
    "  def __add__(self, other):\n",
    "    print(self.num + other.num)"
   ]
  },
  {
   "cell_type": "code",
   "execution_count": null,
   "metadata": {
    "colab": {
     "base_uri": "https://localhost:8080/"
    },
    "executionInfo": {
     "elapsed": 6,
     "status": "ok",
     "timestamp": 1662650650317,
     "user": {
      "displayName": "Alexandra Ivoylova",
      "userId": "06069991353189522669"
     },
     "user_tz": -180
    },
    "id": "MaqrSM2asejn",
    "outputId": "70761f06-657e-449b-a396-e3e5741fcbad"
   },
   "outputs": [
    {
     "name": "stdout",
     "output_type": "stream",
     "text": [
      "5\n"
     ]
    }
   ],
   "source": [
    "a = Numm(2)\n",
    "b = Numm(3)\n",
    "a + b"
   ]
  },
  {
   "cell_type": "code",
   "execution_count": null,
   "metadata": {
    "id": "eqa8cFrFs40F"
   },
   "outputs": [],
   "source": [
    "class Callee:\n",
    "  def __call__(self):\n",
    "    print('Called')"
   ]
  },
  {
   "cell_type": "code",
   "execution_count": null,
   "metadata": {
    "id": "2m327f35tPCd"
   },
   "outputs": [],
   "source": [
    "c = Callee()"
   ]
  },
  {
   "cell_type": "code",
   "execution_count": null,
   "metadata": {
    "colab": {
     "base_uri": "https://localhost:8080/"
    },
    "executionInfo": {
     "elapsed": 6,
     "status": "ok",
     "timestamp": 1662650751000,
     "user": {
      "displayName": "Alexandra Ivoylova",
      "userId": "06069991353189522669"
     },
     "user_tz": -180
    },
    "id": "6q9aHTz1tQYV",
    "outputId": "9334fae6-5f92-4cbb-cfe6-9ee9e8b8ccad"
   },
   "outputs": [
    {
     "name": "stdout",
     "output_type": "stream",
     "text": [
      "Called\n"
     ]
    }
   ],
   "source": [
    "c()"
   ]
  },
  {
   "cell_type": "code",
   "execution_count": null,
   "metadata": {
    "colab": {
     "base_uri": "https://localhost:8080/"
    },
    "executionInfo": {
     "elapsed": 5,
     "status": "ok",
     "timestamp": 1662650765710,
     "user": {
      "displayName": "Alexandra Ivoylova",
      "userId": "06069991353189522669"
     },
     "user_tz": -180
    },
    "id": "KuN4zevFtRUF",
    "outputId": "34d3242c-c864-45b5-ee24-377f0618b653"
   },
   "outputs": [
    {
     "name": "stdout",
     "output_type": "stream",
     "text": [
      "Called\n"
     ]
    }
   ],
   "source": [
    "Callee()()"
   ]
  },
  {
   "cell_type": "code",
   "execution_count": null,
   "metadata": {
    "id": "CSodizxWtU-9"
   },
   "outputs": [],
   "source": []
  }
 ],
 "metadata": {
  "colab": {
   "authorship_tag": "ABX9TyP+jFijrQ+L3z5sZ5ML6Obm",
   "collapsed_sections": [],
   "provenance": []
  },
  "kernelspec": {
   "display_name": "Python 3 (ipykernel)",
   "language": "python",
   "name": "python3"
  },
  "language_info": {
   "codemirror_mode": {
    "name": "ipython",
    "version": 3
   },
   "file_extension": ".py",
   "mimetype": "text/x-python",
   "name": "python",
   "nbconvert_exporter": "python",
   "pygments_lexer": "ipython3",
   "version": "3.9.12"
  }
 },
 "nbformat": 4,
 "nbformat_minor": 4
}
