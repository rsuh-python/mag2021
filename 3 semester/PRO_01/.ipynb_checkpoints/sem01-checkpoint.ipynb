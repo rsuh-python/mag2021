{
 "cells": [
  {
   "cell_type": "markdown",
   "id": "e49ff2f4-1633-4ceb-b088-4e4c46e38f35",
   "metadata": {},
   "source": [
    "### Повторение"
   ]
  },
  {
   "cell_type": "markdown",
   "id": "fd55e7a4-d4fb-4b57-874c-8f35f13f838f",
   "metadata": {},
   "source": [
    "Задачка на повторение:\n",
    "\n",
    "Напишите общий класс Human() с базовыми методами типа work(), eat(), sleep(), и два подкласса Linguist и Programmer, у которых должны быть различные методы work(). Что там будет в этих методах - на ваше усмотрение, я вообще очень приветствую работу фантазии. У всех классов должны быть статические и динамические атрибуты, причем у лингвиста и программиста должны быть какие-то уникальные. Предлагаю приписать первому список публикаций, а второму список проектов, они нам дальше понадобятся. "
   ]
  },
  {
   "cell_type": "code",
   "execution_count": null,
   "id": "ef522f25-3667-4d65-8641-7854302b5bfe",
   "metadata": {},
   "outputs": [],
   "source": [
    "# your code here"
   ]
  },
  {
   "cell_type": "markdown",
   "id": "bd75d4f6-c723-45ab-a048-7fa309c6957b",
   "metadata": {},
   "source": [
    "### Магические методы (методы перегрузки)"
   ]
  },
  {
   "cell_type": "markdown",
   "id": "e6ddd9d8-360f-4b1c-9e7a-72927618b534",
   "metadata": {},
   "source": [
    "В ячейке ниже табличка с **полным** списком этих методов. "
   ]
  },
  {
   "cell_type": "markdown",
   "id": "3ec8bcf1-3990-482b-8583-be537c24a1ea",
   "metadata": {
    "tags": []
   },
   "source": [
    "|Метод|Описание|\n",
    "|---|---|\n",
    "|\\_\\_abs\\_\\_|Absolute value of a given argument|\n",
    "|\\_\\_add\\_\\_|Addition x + y for x and y arguments|\n",
    "|\\_\\_aenter\\_\\_|Like \\_\\_enter\\_\\_() but must return an awaitable|\n",
    "|\\_\\_aexit\\_\\_|Like \\_\\_exit\\_\\_() but must return an awaitable|\n",
    "|\\_\\_aiter\\_\\_|Returns an asynchronous iterator|\n",
    "|\\_\\_and\\_\\_|Bitwise “AND” of a and b|\n",
    "|\\_\\_anext\\_\\_|Return an awaitable as the next value of the iterator argument|\n",
    "|\\_\\_annotations\\_\\_|A dict containing annotations (values) associated to parameter names (keys)|\n",
    "|\\_\\_await\\_\\_|Return an iterator to implement awaitable objects|\n",
    "|\\_\\_bool\\_\\_|Truth value testing for built-in bool() returning False or True. If undefined, call \\_\\_len\\_\\_()|\n",
    "|\\_\\_bytes\\_\\_|Called by bytes() to compute a byte-string representation of an object. Must return a bytes object.|\n",
    "|\\_\\_call\\_\\_|Called when a given instance is called as a function|\n",
    "|\\_\\_ceil\\_\\_|Implement math function ceil()|\n",
    "|\\_\\_complex\\_\\_|Implement the built-in functions complex() to create a new complex number|\n",
    "|\\_\\_contains\\_\\_|Implements the Python in operator to check membership.|\n",
    "|\\_\\_del\\_\\_|Called when the instance is about to be destroyed|\n",
    "|\\_\\_delattr\\_\\_|Delete an attribute|\n",
    "|\\_\\_delete\\_\\_|Delete the attribute on an instance of the owner class.|\n",
    "|\\_\\_delitem\\_\\_|Remove the value of the first argument at index as defined in second argument.|\n",
    "|\\_\\_dir\\_\\_|Called when dir(x) is called on object x.|\n",
    "|\\_\\_div\\_\\_|The division operator (/) in Python 2 is implemented by this dunder method. For Python 3, the \\_\\_truediv\\_\\_() method is used instead.|\n",
    "|\\_\\_divmod\\_\\_|Implements the divmod() built-in method. Python’s built-in divmod(a, b) function takes two integer or float numbers a and b as input arguments and returns a tuple (a // b, a % b).|\n",
    "|\\_\\_enter\\_\\_|Enter the runtime context related to this object.|\n",
    "|\\_\\_eq\\_\\_|Rich comparison: x==y calls x.\\_\\_eq\\_\\_(y)|\n",
    "|\\_\\_exit\\_\\_|Exit the runtime context related to this object.|\n",
    "|\\_\\_float\\_\\_|Called to implement the built-in function float().|\n",
    "|\\_\\_floor\\_\\_|Implements behavior for math.floor(), i.e., rounding down to the nearest integer.|\n",
    "|\\_\\_floordiv\\_\\_|Implements a//b|\n",
    "|\\_\\_format\\_\\_|The Python \\_\\_format\\_\\_() method implements the built-in format() function as well as the string.format() method. So, when you call format(x, spec) or string.format(spec), Python attempts to call x.\\_\\_format\\_\\_(spec). The return value is a string.|\n",
    "|\\_\\_ge\\_\\_|Return whether x is greater than or equal y|\n",
    "|\\_\\_get\\_\\_|Called on the attribute type to get a class attribute or instance attribute of the owner class.|\n",
    "|\\_\\_getattr\\_\\_|Called when the default attribute access fails with an AttributeError|\n",
    "|\\_\\_getattribute\\_\\_|Called unconditionally to implement attribute accesses for instances of the class. If the class also defines \\_\\_getattr\\_\\_(), this method won’t be called unless \\_\\_getattribute\\_\\_() either calls it explicitly or raises an AttributeError.|\n",
    "|\\_\\_getitem\\_\\_|Return the value of a at index b.|\n",
    "|\\_\\_gt\\_\\_|Returns the result of the greater than operation x > y|\n",
    "|\\_\\_hash\\_\\_|Called by built-in function hash(), should return an integer.|\n",
    "|\\_\\_hex\\_\\_|Does not work for Python 3. Use \\_\\_index\\_\\_() instead.|\n",
    "|\\_\\_iadd\\_\\_|a = iadd(a, b) is equivalent to a += b.|\n",
    "|\\_\\_iand\\_\\_|a = iand(a, b) is equivalent to a &= b.|\n",
    "|\\_\\_idiv\\_\\_|a = idiv(a, b) is equivalent to a /= b in Python 2. In Python 3, this is replaced by \\_\\_itruediv\\_\\_.|\n",
    "|\\_\\_ifloordiv\\_\\_|a = ifloordiv(a, b) is equivalent to a //= b.|\n",
    "|\\_\\_ilshift\\_\\_|a = ilshift(a, b) is equivalent to a <<= b.|\n",
    "|\\_\\_imatmul\\_\\_|a = imatmul(a, b) is equivalent to a @= b.|\n",
    "|\\_\\_imod\\_\\_|a = imod(a, b) is equivalent to a %= b.|\n",
    "|\\_\\_import\\_\\_|Import a library by name. For example, to import the NumPy library dynamically, you could run \\_\\_import\\_\\_('numpy').|\n",
    "|\\_\\_imul\\_\\_|a = imul(a, b) is equivalent to a *= b.|\n",
    "|\\_\\_index\\_\\_|Returns the object converted to an integer. This is used for many built-in functions such as oct(), hex(), or bin().|\n",
    "|\\_\\_init\\_\\_|Called after the instance has been created (by \\_\\_new\\_\\_()), but before it is returned to the caller.|\n",
    "|\\_\\_init_subclass\\_\\_|This method is called whenever the class defining it is subclassed.|\n",
    "|\\_\\_instancecheck\\_\\_|Return True if instance should be considered a direct or indirect instance of class. If defined, called to implement isinstance(instance, class).|\n",
    "|\\_\\_int\\_\\_|Called to implement the built-in function int().|\n",
    "|\\_\\_invert\\_\\_(x)|Return the bitwise inverse ~x of the number x.|\n",
    "|\\_\\_ior\\_\\_|a = ior(a, b) is equivalent to a |= b.|\n",
    "|\\_\\_ipow\\_\\_|a = ipow(a, b) is equivalent to a \\*\\*= b.|\n",
    "|\\_\\_irshift\\_\\_|a = irshift(a, b) is equivalent to a >>= b.|\n",
    "|\\_\\_isub\\_\\_|a = isub(a, b) is equivalent to a -= b.|\n",
    "|\\_\\_iter\\_\\_|This method is called when an iterator is required for a container. It returns a new iterator object that can iterate over all the objects in the container.|\n",
    "|\\_\\_itruediv\\_\\_|a = itruediv(a, b) is equivalent to a /= b.|\n",
    "|\\_\\_ixor\\_\\_|a = ixor(a, b) is equivalent to a ^= b.|\n",
    "|\\_\\_le\\_\\_|Returns True if the former is less than or equal to the latter argument, i.e., x <= y|\n",
    "|\\_\\_len\\_\\_|Called to implement the built-in function len(). Returns the length of the object >= 0. An object that doesn’t define \\_\\_bool\\_\\_() is considered False if its \\_\\_len\\_\\_() method returns zero.|\n",
    "|\\_\\_lshift\\_\\_|Return x shifted left by y.|\n",
    "|\\_\\_lt\\_\\_|Returns the result of the less than operation x < y|\n",
    "|\\_\\_matmul\\_\\_|Return a @ b.|\n",
    "|\\_\\_missing\\_\\_|Called by dict.\\_\\_getitem\\_\\_() to implement self[key] for dict subclasses when key is not in the dictionary.|\n",
    "|\\_\\_mod\\_\\_|Return x % y.|\n",
    "|\\_\\_mul\\_\\_|Return a * b, for a and b numbers.|\n",
    "|\\_\\_ne\\_\\_|Rich comparison: x!=y and x<>y call x.\\_\\_ne\\_\\_(y)|\n",
    "|\\_\\_neg\\_\\_|Return x negated (-x).|\n",
    "|\\_\\_new\\_\\_|Called to create a new instance of a given class cls.|\n",
    "|\\_\\_next\\_\\_|Return the next item from the container.|\n",
    "|\\_\\_oct\\_\\_|Does not work for Python 3. Use \\_\\_index\\_\\_() instead.|\n",
    "|\\_\\_or\\_\\_|Return the bitwise or of a and b.|\n",
    "|\\_\\_pow\\_\\_|Return a ** b, for a and b numbers.|\n",
    "|\\_\\_radd\\_\\_|Called to implement the binary arithmetic operation + with reflected (swapped) operands. Only called if the left operand does not support the corresponding operation and the operands are of different types.|\n",
    "|\\_\\_rand\\_\\_|Called to implement the binary arithmetic operation & (\\_\\_and\\_\\_) with reflected (swapped) operands. Only called if the left operand does not support the corresponding operation and the operands are of different types.|\n",
    "|\\_\\_rdiv\\_\\_|Called to implement the binary arithmetic operation / (\\_\\_div\\_\\_) with reflected (swapped) operands. Only called if the left operand does not support the corresponding operation and the operands are of different types.|\n",
    "|\\_\\_rdivmod\\_\\_|Called to implement the binary arithmetic operation divmod() with reflected (swapped) operands. Only called if the left operand does not support the corresponding operation and the operands are of different types.|\n",
    "|\\_\\_repr\\_\\_|Called by the repr() built-in function to compute the “official” string representation of an object.|\n",
    "|\\_\\_reversed\\_\\_|Called (if present) by the reversed() built-in to implement reverse iteration. It should return a new iterator object that iterates over all the objects in the container in reverse order.|\n",
    "|\\_\\_rfloordiv\\_\\_|Called to implement the binary arithmetic operation // (\\_\\_floordiv\\_\\_) with reflected (swapped) operands. Only called if the left operand does not support the corresponding operation and the operands are of different types.|\n",
    "|\\_\\_rlshift\\_\\_|Called to implement the binary arithmetic operation << (\\_\\_lshift\\_\\_) with reflected (swapped) operands. Only called if the left operand does not support the corresponding operation and the operands are of different types.|\n",
    "|\\_\\_rmatmul\\_\\_|Called to implement the matmul operation @ (\\_\\_matmul\\_\\_) with reflected (swapped) operands. Only called if the left operand does not support the corresponding operation and the operands are of different types.|\n",
    "|\\_\\_rmod\\_\\_|Called to implement the binary arithmetic operation % (\\_\\_mod\\_\\_) with reflected (swapped) operands. Only called if the left operand does not support the corresponding operation and the operands are of different types.|\n",
    "|\\_\\_rmul\\_\\_|Called to implement the binary arithmetic operation * (\\_\\_mul\\_\\_) with reflected (swapped) operands. Only called if the left operand does not support the corresponding operation and the operands are of different types.|\n",
    "|\\_\\_ror\\_\\_|Called to implement the binary arithmetic operation \\| (\\_\\_or\\_\\_) with reflected (swapped) operands. Only called if the left operand does not support the corresponding operation and the operands are of different types.|\n",
    "|\\_\\_round\\_\\_|Called to implement the built-in function round() and math functions trunc(), floor() and ceil().|\n",
    "|\\_\\_rpow\\_\\_|Called to implement the arithmetic multiplication operation ** (\\_\\_pow\\_\\_) with reflected (swapped) operands. Only called if the left operand does not support the corresponding operation and the operands are of different types.|\n",
    "|\\_\\_rrshift\\_\\_|Called to implement the binary arithmetic operation >> (\\_\\_rshift\\_\\_) with reflected (swapped) operands. Only called if the left operand does not support the corresponding operation and the operands are of different types.|\n",
    "|\\_\\_rshift\\_\\_|Return a shifted right by b, i.e., a >> b.|\n",
    "|\\_\\_rsub\\_\\_|Called to implement the binary arithmetic operation – (\\_\\_sub\\_\\_) with reflected (swapped) operands. Only called if the left operand does not support the corresponding operation and the operands are of different types.|\n",
    "|\\_\\_rtruediv\\_\\_|Called to implement the binary arithmetic operation / (\\_\\_truediv\\_\\_) with reflected (swapped) operands. Only called if the left operand does not support the corresponding operation and the operands are of different types.|\n",
    "|\\_\\_rxor\\_\\_|Called to implement the binary arithmetic operation ^ (\\_\\_xor\\_\\_) with reflected (swapped) operands. Only called if the left operand does not support the corresponding operation and the operands are of different types.|\n",
    "|\\_\\_set\\_\\_|Called to set the attribute on an instance of the owner class to a new value.|\n",
    "|\\_\\_set_name\\_\\_|Called at the time the owning class owner is created. The descriptor has been assigned to name.|\n",
    "|\\_\\_setattr\\_\\_|Called when you assign an attribute via setattr() instead of the normal mechanism of storing the value in the instance dictionary.|\n",
    "|\\_\\_setitem\\_\\_|Set a given element at a given index to a new value.|\n",
    "|\\_\\_sizeof\\_\\_|Returns the internal size in bytes for the given object|\n",
    "|\\_\\_str\\_\\_|Called by str(object) and the built-in functions format() and print() to compute the “informal” or printable string representation of an object.|\n",
    "|\\_\\_sub\\_\\_|Return a - b.|\n",
    "|\\_\\_subclasscheck\\_\\_|Return true if subclass should be considered a (direct or indirect) subclass of class. If defined, called to implement issubclass(subclass, class).|\n",
    "|\\_\\_subclasses\\_\\_|Finds all subclasses of a given class.|\n",
    "|\\_\\_truediv\\_\\_|Return a / b where 2/3 is .66 rather than 0. This is also known as “true” division.|\n",
    "|\\_\\_trunc\\_\\_|Called to implement the math.trunc() function.|\n",
    "|\\_\\_xor\\_\\_|Return the bitwise exclusive or of a and b."
   ]
  },
  {
   "cell_type": "markdown",
   "id": "05a2c140-15a9-4f75-91f7-eafd7b6b8275",
   "metadata": {},
   "source": [
    "Переопределите несколько магических методов. Давайте переопределим у уже написанного нами класса Linguist метод сложения (придумайте сами, к чему приведет сложение двух лингвистов:)), метод для операции |, который, наверное, должен вернуть лингвистическое сообщество (множество объектов класса), метод len, который возвестит, сколько у лингвиста публикаций, и метод del, который выведет какую-нибудь прощальную строку (покойся с миром). "
   ]
  },
  {
   "cell_type": "code",
   "execution_count": null,
   "id": "a7b6493e-f033-439e-bf07-359dad20d992",
   "metadata": {},
   "outputs": [],
   "source": [
    "# your code here"
   ]
  },
  {
   "cell_type": "markdown",
   "id": "f53eafe9-8db3-46d5-8be7-3466d765861e",
   "metadata": {},
   "source": [
    "Напишите класс \"рюкзак героя\", в котором есть атрибуты \"вес\", \"габариты\" и \"содержимое\" (видимо, какой-то список или словарь-счетчик), и перегрузите метод \\_\\_iter\\_\\_, чтобы рюкзак можно было перебрать. Можно по желанию добавить методы \"сложить в рюкзак\" и \"убрать из рюкзака\". "
   ]
  },
  {
   "cell_type": "code",
   "execution_count": null,
   "id": "5e9d1e8e-6823-4d13-8640-7039bfc9b209",
   "metadata": {},
   "outputs": [],
   "source": [
    "# your code here"
   ]
  }
 ],
 "metadata": {
  "kernelspec": {
   "display_name": "Python 3 (ipykernel)",
   "language": "python",
   "name": "python3"
  },
  "language_info": {
   "codemirror_mode": {
    "name": "ipython",
    "version": 3
   },
   "file_extension": ".py",
   "mimetype": "text/x-python",
   "name": "python",
   "nbconvert_exporter": "python",
   "pygments_lexer": "ipython3",
   "version": "3.9.12"
  }
 },
 "nbformat": 4,
 "nbformat_minor": 5
}
