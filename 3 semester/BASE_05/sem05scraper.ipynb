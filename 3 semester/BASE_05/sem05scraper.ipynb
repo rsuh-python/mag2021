{
 "cells": [
  {
   "cell_type": "markdown",
   "metadata": {},
   "source": [
    "## Создание собственного скрейпера\n",
    "\n",
    "Библиотеки, которые нам понадобятся:"
   ]
  },
  {
   "cell_type": "code",
   "execution_count": 43,
   "metadata": {},
   "outputs": [],
   "source": [
    "# стандартные\n",
    "import re\n",
    "import urllib.request\n",
    "from time import sleep\n",
    "# нужно установить: pip install bs4\n",
    "from bs4 import BeautifulSoup as bs"
   ]
  },
  {
   "cell_type": "markdown",
   "metadata": {},
   "source": [
    "Посмотрим, как выглядит заглавная страница ресурса:"
   ]
  },
  {
   "cell_type": "code",
   "execution_count": null,
   "metadata": {},
   "outputs": [],
   "source": [
    "fid = urllib.request.urlopen('https://proza.ru/')  # откроем ее с помощью библиотеки urllib\n",
    "\n",
    "webpage = fid.read().decode('cp1251')  # как узнать, какая нам нужна кодировка: нужно открыть в браузере эту страницу, нажать f12 (для chrome) и в терминале (console) набрать document.characterSet\n",
    "\n",
    "print(webpage)  # посмотрим, как оно выглядит"
   ]
  },
  {
   "cell_type": "markdown",
   "metadata": {},
   "source": [
    "![Image](console.PNG)"
   ]
  },
  {
   "cell_type": "code",
   "execution_count": 3,
   "metadata": {},
   "outputs": [],
   "source": [
    "soup = bs(webpage, 'html.parser')  # передадим нашу страницу в парсер bs4"
   ]
  },
  {
   "cell_type": "code",
   "execution_count": 10,
   "metadata": {},
   "outputs": [
    {
     "name": "stdout",
     "output_type": "stream",
     "text": [
      "/\n",
      "/authors/\n",
      "/poems/\n",
      "/board/\n",
      "/search.html\n",
      "https://shop.proza.ru/\n",
      "https://o.proza.ru/\n",
      "/login/\n",
      "https://o.proza.ru/\n",
      "/poems/\n",
      "/editor/2021/06/25/869\n",
      "/avtor/shevnin\n",
      "/editor/2018/08/04/512\n",
      "/avtor/chornogor\n",
      "/editor/2021/06/28/1022\n",
      "/avtor/molgast\n",
      "/editor/2021/06/25/931\n",
      "/avtor/mudamailru\n",
      "/editor/2021/06/25/954\n",
      "/avtor/redin1970\n",
      "/editor/2021/02/02/638\n",
      "/avtor/ifynfkm1971\n",
      "/editor/2021/11/10/995\n",
      "/avtor/peresvetm\n",
      "/editor/2021/06/26/893\n",
      "/avtor/olgaatp\n",
      "/editor/2021/06/26/969\n",
      "/avtor/medvegonok\n",
      "/editor/2021/06/26/1176\n",
      "/avtor/helga35\n",
      "/editor/2021/12/23/1360\n",
      "/avtor/franziri\n",
      "/editor/2020/07/25/221\n",
      "/avtor/miliku\n",
      "/editor/2020/07/15/280\n",
      "/avtor/iolnta\n",
      "/editor/2020/08/23/761\n",
      "/avtor/vlad43\n",
      "/editor/2018/03/01/1782\n",
      "/avtor/daryona67\n",
      "/editor/2021/06/26/1341\n",
      "/avtor/tchsemsha\n",
      "/editor/2021/06/27/212\n",
      "/avtor/vedrov8\n",
      "/editor/2021/06/27/351\n",
      "/avtor/sckolot\n",
      "/editor/2021/06/27/961\n",
      "/avtor/klassik1\n",
      "/editor/2021/06/27/1564\n",
      "/avtor/gorizont\n",
      "/editor/2020/01/17/1277\n",
      "/avtor/marivanna\n",
      "/editor/\n",
      "/authors/\n",
      "/authors/online.html\n",
      "/avtor/yurcher\n",
      "/avtor/krotovalv\n",
      "/avtor/20055\n",
      "/avtor/iolnta\n",
      "/avtor/tlev66\n",
      "/avtor/lotos4\n",
      "/avtor/akochevnik\n",
      "/authors/editor.html\n",
      "/login/promo.html?invite\n",
      "/avtor/ramuleya\n",
      "/avtor/evgeny1951mai\n",
      "/avtor/christoforoff\n",
      "/avtor/gurkovskiy107\n",
      "/avtor/lynofob\n",
      "/authors/invitations.html\n",
      "/login/page.html?rating\n",
      "/2022/10/09/258\n",
      "/avtor/igor1943\n",
      "/2014/01/03/237\n",
      "/avtor/prostoabramov\n",
      "/2022/10/08/972\n",
      "/avtor/aleksandra34\n",
      "/2022/09/24/239\n",
      "/avtor/alex4639\n",
      "/2022/10/09/150\n",
      "/avtor/alexoven\n",
      "/2022/10/05/1371\n",
      "/avtor/kulaginavera\n",
      "/2020/05/06/1685\n",
      "/avtor/91919191\n",
      "/2022/10/08/1093\n",
      "/avtor/radabereginja\n",
      "/2022/10/09/640\n",
      "/avtor/milasm\n",
      "/2022/10/08/1519\n",
      "/avtor/gavrosch1\n",
      "/rating.html\n",
      "https://sovlit.ru\n",
      "https://sovlit.ru/tpost/1285y7u0a1-v-rossii-mogut-ostanovitsya-tipografii\n",
      "https://sovlit.ru/tpost/1285y7u0a1-v-rossii-mogut-ostanovitsya-tipografii\n",
      "https://sovlit.ru/tpost/4hlp9ydlm1-nazvan-laureat-nobelevskoi-premii-po-lit\n",
      "https://sovlit.ru/tpost/4hlp9ydlm1-nazvan-laureat-nobelevskoi-premii-po-lit\n",
      "https://sovlit.ru/tpost/uvurna9n61-otkrivaetsya-festival-knizhnii-mayak-pet\n",
      "https://sovlit.ru/tpost/uvurna9n61-otkrivaetsya-festival-knizhnii-mayak-pet\n",
      "https://sovlit.ru/tpost/23ois9u2c1-obyavleni-laureati-premii-rus-moya-za-20\n",
      "https://sovlit.ru/tpost/23ois9u2c1-obyavleni-laureati-premii-rus-moya-za-20\n",
      "https://sovlit.ru\n",
      "https://ant.proza.ru/\n",
      "https://ant.proza.ru/\n",
      "https://pisatelgoda.ru/\n",
      "https://pisatelgoda.ru/\n",
      "https://premianasledie.ru/\n",
      "https://premianasledie.ru/\n",
      "https://eseninpremia.ru/\n",
      "https://eseninpremia.ru/\n",
      "https://georglenta.ru/\n",
      "https://georglenta.ru/\n",
      "/authors/\n",
      "/poems/\n",
      "/board/\n",
      "/search.html\n",
      "https://shop.proza.ru/\n",
      "/login/\n",
      "https://o.proza.ru/\n",
      "https://stihi.ru/\n",
      "https://proza.ru/\n",
      "https://o.proza.ru/dogovor\n",
      "https://o.proza.ru/pravo\n",
      "https://o.proza.ru/pravila\n",
      "https://o.proza.ru/pravo\n",
      "https://o.proza.ru/policy\n",
      "https://o.proza.ru/\n",
      "/help/\n",
      "https://rossp.ru/\n"
     ]
    }
   ],
   "source": [
    "for link in soup.find_all('a'):\n",
    "    # посмотрим, какие у нас есть ссылки\n",
    "    print(link.get('href'))  "
   ]
  },
  {
   "cell_type": "markdown",
   "metadata": {},
   "source": [
    "Нас интересуют только внутренние, а они, очевидно, не начинаются с https. Отсеем их:"
   ]
  },
  {
   "cell_type": "code",
   "execution_count": 11,
   "metadata": {},
   "outputs": [],
   "source": [
    "links = []\n",
    "for link in soup.find_all('a', attrs={'href': re.compile(r'^/.+')}):\n",
    "    links.append('https://proza.ru' + link.get('href'))"
   ]
  },
  {
   "cell_type": "code",
   "execution_count": 12,
   "metadata": {},
   "outputs": [
    {
     "data": {
      "text/plain": [
       "['https://proza.ru/authors/',\n",
       " 'https://proza.ru/poems/',\n",
       " 'https://proza.ru/board/',\n",
       " 'https://proza.ru/search.html',\n",
       " 'https://proza.ru/login/',\n",
       " 'https://proza.ru/poems/',\n",
       " 'https://proza.ru/editor/2021/06/25/869',\n",
       " 'https://proza.ru/avtor/shevnin',\n",
       " 'https://proza.ru/editor/2018/08/04/512',\n",
       " 'https://proza.ru/avtor/chornogor']"
      ]
     },
     "execution_count": 12,
     "metadata": {},
     "output_type": "execute_result"
    }
   ],
   "source": [
    "links[:10] # посмотрим, что вышло"
   ]
  },
  {
   "cell_type": "markdown",
   "metadata": {},
   "source": [
    "Вроде похоже на правду. Давайте собирать уже просмотренные ссылки в множество, чтобы не попадать в них по нескольку раз:"
   ]
  },
  {
   "cell_type": "code",
   "execution_count": 14,
   "metadata": {},
   "outputs": [],
   "source": [
    "viewedlinks = set('https://proza.ru/') # главную мы типа уже посмотрели"
   ]
  },
  {
   "cell_type": "markdown",
   "metadata": {},
   "source": [
    "Давайте попробуем в тестовом режиме пройтись по ссылкам до упора один раз. Давайте оформим наше извлечение страницы в какую-нибудь функцию:"
   ]
  },
  {
   "cell_type": "code",
   "execution_count": 17,
   "metadata": {},
   "outputs": [],
   "source": [
    "def looklinks(page, viewed):\n",
    "    \"\"\"Тестовая функция для просмотра всех ссылок на странице\"\"\"\n",
    "    fid = urllib.request.urlopen(page) \n",
    "    webpage = fid.read().decode('cp1251')\n",
    "    viewed.add(page)\n",
    "    soup = bs(webpage, 'html.parser') \n",
    "    links = []\n",
    "    for link in soup.find_all('a', attrs={'href': re.compile(r'^/.+')}):\n",
    "        l = 'https://proza.ru' + link.get('href')\n",
    "        if l not in viewed:\n",
    "            links.append(l)\n",
    "    return links"
   ]
  },
  {
   "cell_type": "code",
   "execution_count": 27,
   "metadata": {},
   "outputs": [],
   "source": [
    "step = looklinks(links[0], viewedlinks)"
   ]
  },
  {
   "cell_type": "code",
   "execution_count": 28,
   "metadata": {},
   "outputs": [
    {
     "data": {
      "text/plain": [
       "['https://proza.ru/avtor/yurcher',\n",
       " 'https://proza.ru/avtor/krotovalv',\n",
       " 'https://proza.ru/avtor/20055',\n",
       " 'https://proza.ru/avtor/iolnta',\n",
       " 'https://proza.ru/avtor/tlev66',\n",
       " 'https://proza.ru/avtor/lotos4',\n",
       " 'https://proza.ru/avtor/akochevnik',\n",
       " 'https://proza.ru/avtor/ramuleya',\n",
       " 'https://proza.ru/avtor/evgeny1951mai',\n",
       " 'https://proza.ru/avtor/christoforoff',\n",
       " 'https://proza.ru/avtor/gurkovskiy107',\n",
       " 'https://proza.ru/avtor/lynofob',\n",
       " 'https://proza.ru/login/promo.html?invite']"
      ]
     },
     "execution_count": 28,
     "metadata": {},
     "output_type": "execute_result"
    }
   ],
   "source": [
    "step"
   ]
  },
  {
   "cell_type": "code",
   "execution_count": 26,
   "metadata": {},
   "outputs": [
    {
     "data": {
      "text/plain": [
       "[]"
      ]
     },
     "execution_count": 26,
     "metadata": {},
     "output_type": "execute_result"
    }
   ],
   "source": [
    "step = looklinks(step[0], viewedlinks)\n",
    "step"
   ]
  },
  {
   "cell_type": "markdown",
   "metadata": {},
   "source": [
    "Если прощелкать несколько раз, рано или поздно дойдем до пустого списка: значит, ссылки на странице закончились. Давайте для проверки, что находится на страницах с авторами, прощелкаем более избирательно:"
   ]
  },
  {
   "cell_type": "code",
   "execution_count": 33,
   "metadata": {},
   "outputs": [
    {
     "data": {
      "text/plain": [
       "['https://proza.ru/about/pravo/gk70.html#1274',\n",
       " 'https://proza.ru/about/pravo/',\n",
       " 'https://proza.ru/about/feedback.html?app']"
      ]
     },
     "execution_count": 33,
     "metadata": {},
     "output_type": "execute_result"
    }
   ],
   "source": [
    "# 'https://proza.ru/avtor/akochevnik'\n",
    "# 'https://proza.ru/avtor/akochevnik&book=9#9'\n",
    "# 'https://proza.ru/2012/11/30/1362'\n",
    "# 'https://proza.ru/complain.html?text_2012/11/30/1362'\n",
    "# 'https://proza.ru/about/pravila.html'\n",
    "\n",
    "step = looklinks('https://proza.ru/about/pravila.html', viewedlinks)\n",
    "step"
   ]
  },
  {
   "cell_type": "markdown",
   "metadata": {},
   "source": [
    "Ну вроде как понятно: все должно работать. Нам теперь осталось понять, на страницах какого вида лежит хороший текст. Предположу, что на страницах с датами. Проверим, напринтив такую страницу:"
   ]
  },
  {
   "cell_type": "code",
   "execution_count": 36,
   "metadata": {},
   "outputs": [
    {
     "name": "stdout",
     "output_type": "stream",
     "text": [
      "<head>\n",
      "<meta http-equiv=\"Content-Type\" content=\"text/html\" />\n",
      "<meta name=\"viewport\" content=\"width=device-width, initial-scale=1.0\" />\n",
      "<meta http-equiv=\"X-Frame-Options\" content=\"deny\" />\n",
      "<meta name=\"DESCRIPTION\" content=\"Сервер предоставляет авторам возможность свободной публикации и обсуждения произведений современной прозы.\" />\n",
      "<meta name=\"Keywords\" content=\"проза произведение роман новелла миниатюра автор литература творчество лирика журнал конкурс\" />\n",
      "<meta name=\"title\" content=\"Моё деревенское счастье. Предисловие (Александр Алексеевич Кочевник) / Проза.ру\" />\n",
      "<title>Моё деревенское счастье. Предисловие (Александр Алексеевич Кочевник) / Проза.ру</title>\n",
      "<link rel=\"stylesheet\" href=\"/styles/s_main_11.css\">\n",
      "<script language=\"JavaScript\" src=\"/styles/p_main_1.js\"></script>\n",
      "</head>\n",
      "\n",
      "<body bgcolor=\"#FFFFFF\" text=\"#000000\" link=\"#000080\" vlink=\"#505050\" alink=\"#FF0000\" marginheight=\"0\" marginwidth=\"0\" topmargin=\"0\" leftmargin=\"0\">\n",
      "\n",
      "\n",
      "\n",
      "<div id=\"container\">\n",
      "\n",
      "  <div id=\"header\">\n",
      "    <div class=\"line1\">\n",
      "      <div class=\"headlogo\"><a href=\"/\"><img src=\"/images/proza.svg\" alt=\"Стихи.ру\" title=\"Стихи.ру\"></a></div>\n",
      "      <ul class=\"headmenu\">\n",
      "        <li><a href=\"/authors/\">Авторы</a></li>\n",
      "        <li><a href=\"/poems/\">Произведения</a></li>\n",
      "        <li><a href=\"/board/\">Рецензии</a></li>\n",
      "        <li><a href=\"/search.html\">Поиск</a></li>\n",
      "        <li><a href=\"https://shop.proza.ru/\">Магазин</a></li>\n",
      "        <li><a href=\"https://o.proza.ru/\"><nobr>О портале</nobr></a></li>\n",
      "        <li><a href=\"/login/\">Вход для авторов</a></li>      </ul>\n",
      "    </div>\n",
      "  </div>\n",
      "  <div class=\"maintext\">\n",
      "  <index>\n",
      "<h1>Моё деревенское счастье. Предисловие</h1>\n",
      "<div class=\"titleauthor\"><em><a href=\"/avtor/akochevnik\">Александр Алексеевич Кочевник</a></em></div>\n",
      "<div class=\"text\">\n",
      "&nbsp; &nbsp;&nbsp; &nbsp;&nbsp; &nbsp;&nbsp; &nbsp;&nbsp; &nbsp; Предисловие.<br>\n",
      "Судьба подарила мне бабушку с дедушкой живших в деревне, куда каждый год родители отправляли нас с братишкой на все каникулы. Там я познавал деревенскую жизнь. Любил наблюдать деревенские мужицкие занятия плотников, кровельщиков, печников, землекопов, скотников, трактористов, кузнеца, конюха, лесника… <br>\n",
      "Понял одну важную Истину – в любой мужской артели не терпят советчиков со стороны&nbsp; и праздно-любопытствующие вопросы. А любят и одобряют помощников на подхвате, с одним условием - если мужики эту помощь разрешат. Охотно и бескорыстно делятся с ребятишками секретами любого ремесла, подробно объясняя особенности. И обязательно угощают, если подошла пора обеда или вечернего перекуса. И поверьте – вкуснее всяких пирожных румяная до черноты горбушка, густо посоленная каменной солью, с зелёным луком или зубком чеснока, полученная из рук мастерового Человека. А на запивку свежая, только что из родника вода!<br>\n",
      "<br>\n",
      "По ходу научился понимать, кому из мужиков можно задавать вопросы, а от кого лучше держаться подальше, чтобы не получить оплеуху или дозу брани. Смекнул, что весёлый мужичок необязательно добрый. А хмурый и занудный бывает – Душа-Человек!<br>\n",
      "Познал мудрость, как и, главное, когда обращаться с вопросами к бабам, чтобы получить желаемое, а не бестолковые крики. Если только не ставить целью позабавиться.<br>\n",
      "<br>\n",
      "Познавая русское народное мировоззрение, пришёл к выводу, что наиболее бестолковые качества людей – зависть, жадность, капризы и обидчивость.<br>\n",
      "Наиболее ценятся народом – честность, трудолюбие, смелость, справедливость и приветливость.<br>\n",
      "Нетерпимы – воровство, подлость, трусость, предательство, обман, злорадство и зловредность.<br>\n",
      "Презираемые – мелочность, торгашество, меркантильность, хитрость.<br>\n",
      "Раздражают – высокомерная спесь, лицемерная лесть, зазнайство и подхалимаж.<br>\n",
      "Самые главные черты русского Народа – хлебосольство, гостеприимство, добродушие, деликатность, бескорыстие и долготерпение.<br>\n",
      "<br>\n",
      "Исподволь перенимал опыт грибников, ягодников. Учился ориентироваться в лесу и распознавать съедобные и вредные растения. Ночевать в одиночку в лесу или в поле. С малым ущербом переживать вечерний и утренний «комариный час». Спасаться от дождя, купаться в незнакомых водоёмах. Утолять жажду в местах где, казалось бы, безводная местность. Разжигать и поддерживать костры. Выжигать прошлогоднюю траву. Разделать и приготовить на костре дичь, рыбу и прочую живность, или иные продукты.<br>\n",
      "<br>\n",
      "По годам и занятиям деревенская жизнь распределилась так:<br>\n",
      "«Лето 1956 и 57годов – Свободный полет, – где хотел, бегал, включая соседние деревни, поля и окружной лес. Сколько хотел, купался. С кем хотел, водился. Сколько и когда угодно досыта, ел и спал.»<br>\n",
      "«1958 – Недельный опыт пионерского лагеря в Любытино, затем всё лето в деревне.»<br>\n",
      "«1958 и 59 годы – подпасок у деда в первую упряжку до обеда. С обеда и до темноты - Свобода!»<br>\n",
      "«1959 – перед деревенской вольницей около недели пионерского лагеря в Едрове. В дополнение к летним каникулам, пять месяцев деревенской малокомплектной школы в Медвёдкове зимой»<br>\n",
      "«1960 год – чабан колхозной отары»<br>\n",
      "«1961,62 и 63 – возница на закреплённой лошади»<br>\n",
      "«1964 – разнорабочий.»<br>\n",
      "<br>\n",
      "Именно в деревне с детского возраста я чувствовал себя уважаемым Человеком, не смотря на то, что иногда меня поругивали, а то и подзатыльники давали, если упорно делал что-то непотребное.<br>\n",
      "Очень гордился, что меня, городского мальчишку, принимали за своего. Доверяли работать на полном серьёзе, не спрашивая никаких справок и разрешений. Достаточно было рекомендации моего деда. Не было всяких там омбудсменов уполномоченных по «правам ребёнков». Мы росли нормальными ребятами, уважали взрослых в соответствии с их поведением, и не думали о каких-то там особых наших правах. Мы ими реально пользовались. Стремились выполнить главную ОБЯЗАННОСТЬ – стать хорошим Человеком! Чтобы родителям и родным не было за нас стыдно!<br>\n",
      "<br>\n",
      "Деревня научила меня рано вставать и поздно ложиться. И день получался огромный. Столько интересного и полезного можно было успеть! А сколько красоты увидеть!<br>\n",
      "Смешно было наблюдать, как ленинградские и московские дачницы и дачники в двенадцатом часу дня с мятыми недовольными «мордами» со сна, еле шевелясь на крыльце и ёжась от холодной воды из висящих там рукомойников, двумя пальцами мыли, как они считали, лица. И медленно пробуждались ото сна.<br>\n",
      "Их деревенские сверстники уже встретили каждый день разный рассвет. Полюбовались россыпями радужной росы. Наносили воды, обиходили и выгнали скотину. Напекли пирожков или блинов. Сходили по грибы, ягоды или на рыбалку и уже отработали первую упряжку*.<br>\n",
      "И всё это весело с шутками прибаутками иногда и с песнями.<br>\n",
      "Нет, не все дачники были нерадивыми. Многие, если не работали в колхозе, то помогали своим бабушкам по домашнему хозяйству в полную силу. Но поспать любили почти все!<br>\n",
      "<br>\n",
      "Как все деревенские ребята, я зарабатывал трудодни**, которые учитывались по итогам года в бригаде. Начислялась зарплата, и дед присылал мне к новому году мои кровно заработанные деньги. В буквальном смысле он мне не присылал. Просто в письме*** сообщал папе, сколько я заработал по результатам итогового колхозного собрания. А отец беспрекословно выдавал означенную сумму, как бы он уже получил по почте деньги. Суммы были, конечно, смешные по 30 – 50рублей за три месяца. Это в то время, когда билет на детский киносеанс в городе стоил 1 рубль.<br>\n",
      "Что делать? Это была всё же, не самая маленькая колхозная зарплата в то время. Но зато молоко всё лето я получал на собственные трудодни. У бабушки не было коровы.<br>\n",
      "Так же выделялись горох для каши и на корм скоту и птице. Зерно, которое можно было потом на колхозной лошади бесплатно отвезти на мельницу и там смолоть на муку, а остатки на фураж.<br>\n",
      "А когда за работу целое лето чабаном мне начислили 330 рублей, я почувствовал себя миллионером и даже пошёл перед новым годом в парикмахерскую, чтобы постричься «под-канадку», которая стоила целых три рубля!<br>\n",
      "Это ли не Счастье?!<br>\n",
      "На воспоминаниях о каникулах у меня получилась подборка деревенских рассказов.<br>\n",
      "<br>\n",
      "* – упряжка – рабочая смена. Первая упряжка с утра до 12 часов дня. Вторая упряжка с 15 часов и до вечера. Фактическая длительность зависит от длины светового дня, погоды и напряжённости страды.<br>\n",
      "<br>\n",
      "** – трудодень&nbsp; – малопонятная единица труда колхозника с плавающим коэффициентом, однако очень важная при подсчёте годового денежного заработка и распределения натурной части урожая. В просторечии – «палочка»! Контроль за бригадиркой во время этого таинства народ возложил на занудного мужичка по имени Адольф. Он был страшным педантом с обострённым чувством справедливости и феноменальной памятью. Поэтому пользовался у односельчан полным доверием!<br>\n",
      "<br>\n",
      "*** – письма до середины шестидесятых годов из нашей деревни в соседней области в наш город приходили через день – почта работала как часы и письма приносили на дом два раза в день - утренней или вечерней почтой. Из любого города СССР письма приходили на следующий день, потому что даже и простые письма перевозились Аэрофлотом. Из сельской местности иногда через день. Из&nbsp; Забайкалья, с Камчатки и самого захолустья с полным бездорожьем письма могли прийти на третий день. И главное – всегда в полной сохранности! В Советском Союзе «Почта СССР» уважала своих граждан и почтовые услуги обеспечивала полностью, без навязывания всяких конфеток, шоколадок, печенек, колготок и прочей ерунды к почте отношения не имеющей.<br>\n",
      "В сельской местности Почтальонка была всегда желанным человеком, как член семьи.\n",
      "</div>\n",
      "<br><br>\n",
      "\n",
      "<div class=\"copyright\">&copy; Copyright: <a href=\"/avtor/akochevnik\">Александр Алексеевич Кочевник</a>, 2012<br>\n",
      "Свидетельство о публикации №212113001362\n",
      "<script type=\"text/javascript\" src=\"//yandex.st/share/share.js\" charset=\"utf-8\"></script>\n",
      "<span class=\"yashare-auto-init\" style=\"font-family:Times,Times New Roman; font-size:80%; margin-left:20px\" data-yashareL10n=\"ru\" data-yashareType=\"none\" data-yashareQuickServices=\"vkontakte,facebook,twitter,odnoklassniki,moimir,lj,gplus\"></span>\n",
      "</div>\n",
      "<div class=\"copyright\">\n",
      "<a href=\"/readers.html?2012/11/30/1362\">Список читателей</a>\n",
      "/ <a href=\"/2012/11/30/1362\" target=\"_blank\">Версия для печати</a>\n",
      "/ <a href=\"/login/promo.html?anons&link=2012/11/30/1362\">Разместить анонс</a>\n",
      "/ <a href=\"/complain.html?text_2012/11/30/1362\">Заявить о нарушении</a>\n",
      "</div>\n",
      "<div class=\"copyright\"><a href=\"/avtor/akochevnik\">Другие произведения автора Александр Алексеевич Кочевник</a></div>\n",
      "<div class=\"titlerec\">Рецензии</div>\n",
      "<div class=\"notesline\"><a href=\"/addrec.html?2012/11/30/1362\">Написать рецензию</a></div>\n",
      "<div class=\"recproza\">\n",
      "День добрый Александр Алексеевич! С удовольствием и интересом прочла о Вашем деревенском счастье…<br>\n",
      "Ваше предисловие вызывает свои воспоминания у каждого читателя, который его прочтёт , если и его детство проходило в деревне !!<br>\n",
      "Это, незабываемые воспоминания.<br>\n",
      " Мне  даже довелось учится и закончить первый класс в деревенской школе. И тогда было время, что на полноценный класс детей не набиралось и учились первый с третьим , а второй с четвёртым. И уроки вела одна учительница..было интересно, параллельно получали  дополнительные знания<br>\n",
      " И конечно жизнь в деревне и для взрослых и для детей- это в первую очередь конечно труд! Все что под силу детям , всю работу выполняли….<br>\n",
      "Вы описали все очень интересно и подробно,, читала и всё так живо представлялось..<br>\n",
      "***<br>\n",
      "С уважением! <br>\n",
      "С дружескими пожеланиями!!<br>\n",
      "<br>\n",
      "<small><a href=\"/avtor/vasilek24\">Валентина Счастливая</a> &nbsp; 28.12.2021 16:07 &nbsp; <span class=\"bigdot\"><a href=\"/rec.html?2021/12/28/917\">&#0149;</a></span></small>\n",
      "&nbsp; <small><a href=\"/complain.html?rec_2021/12/28/917\">Заявить о нарушении</a></small>\n",
      "</div>\n",
      "\n",
      "<div class=\"notesline\">+ <a href=\"/addnotes.html?2021/12/28/917\">добавить замечания</a></div>\n",
      "<div class=\"notes\">\n",
      "<a name=\"0\"></a>Уважаемая Валентина, благодарю за добрые слова!<br>\n",
      "Мне довелось учится в малокомплектной школе в 4-м классе в группе 40 человек. Почему-то материалы четвероклассников первоклашки усваивали успешнее.До школы было метров двести, но случилось несчастье - сложная и неудачная операция нашей учительницы вынудила третью четверть ходить в соседний район в восьмилетку. Пришлось ходить вместе со старшими школьниками за 7-8 километров (точно не знаю)<br>\n",
      "Однажды в январе, пришли в школу, а там никого - в их районе по радио объявили:&quot;Мороз! В школу не ходить!&quot;<br>\n",
      "Мы:&quot;Ура!&quot; Все на лыжах, на горки в лес и устроили замечательную вылазку.<br>\n",
      "Вечером старшеклассники предупредили:&quot;Завтра в школу не идём! Скажем, что у нас объявили мороз!&quot;<br>\n",
      "Прокатило! Мы обнаглели - на улице март, а у нас всё морозы!<br>\n",
      "Приходим однажды &quot;после школы&quot; домой. Румяные! Весёлые!<br>\n",
      "А нас учительница и завуч дожидаются...<br>\n",
      "Мы маленькие! Нам что? А зачинщикам отцы устроили публичную порку!<br>\n",
      "Сразу пришла Весна!<br>\n",
      "Милое сердцу детство!<br>\n",
      "<br>\n",
      "<small><a href=\"/avtor/akochevnik\">Александр Алексеевич Кочевник</a> &nbsp; 28.12.2021 20:40</small>\n",
      "&nbsp; <small><a href=\"/complain.html?notes_2021/12/28/917_akochevnik\">Заявить о нарушении</a></small>\n",
      "</div>\n",
      "\n",
      "<div class=\"notes\">\n",
      "<a name=\"1\"></a>Александр,вот и я побывала в Вашей деревне.Мне всю жизнь пришлось жить и работать в деревне.Так что я понимаю,что такое трудодни,и счастливое утреннее пробуждение,и ходьба босиком по росистому луг<br>\n",
      "у.Буду читать дальше.Спасибо,что пригласили.<br>\n",
      "<br>\n",
      "<small><a href=\"/avtor/yalinka\">Аля Хатько</a> &nbsp; 30.07.2022 10:31</small>\n",
      "&nbsp; <small><a href=\"/complain.html?notes_2021/12/28/917_yalinka\">Заявить о нарушении</a></small>\n",
      "</div>\n",
      "\n",
      "<div class=\"notes\">\n",
      "<a name=\"2\"></a>Очень рад, если пришлось по душе!<br>\n",
      "Золотые были времена!<br>\n",
      "<br>\n",
      "<small><a href=\"/avtor/akochevnik\">Александр Алексеевич Кочевник</a> &nbsp; 30.07.2022 11:10</small>\n",
      "&nbsp; <small><a href=\"/complain.html?notes_2021/12/28/917_akochevnik\">Заявить о нарушении</a></small>\n",
      "</div>\n",
      "\n",
      "<div class=\"notesline\">+ <a href=\"/addnotes.html?2021/12/28/917\">добавить замечания</a></div>\n",
      "<div style=\"margin: 0 10px 0 15px; border-top: 1px solid #CCCCCC\"></div>\n",
      "\n",
      "<div class=\"notesline\">На это произведение написано <a href=\"/comments.html?2012/11/30/1362\"><b>35 рецензий</b></a>, здесь отображается последняя, остальные - <a href=\"/comments.html?2012/11/30/1362\"><b>в полном списке</b></a>.</div>\n",
      "<div class=\"notesline\"><a href=\"/addrec.html?2012/11/30/1362\">Написать рецензию</a> &nbsp; &nbsp; <a href=\"/login/messages.html?akochevnik\">Написать личное сообщение</a> &nbsp; &nbsp; <a href=\"/avtor/akochevnik\">Другие произведения автора Александр Алексеевич Кочевник</a></div>\n",
      "  </index>\n",
      "  </div>\n",
      "  <div id=\"footer\">\n",
      "    <div class=\"footmenu\">\n",
      "      <a href=\"/authors/\">Авторы</a>&nbsp;&nbsp; \n",
      "      <a href=\"/poems/\">Произведения</a>&nbsp;&nbsp; \n",
      "      <a href=\"/board/\">Рецензии</a>&nbsp;&nbsp; \n",
      "      <a href=\"/search.html\">Поиск</a>&nbsp;&nbsp; \n",
      "      <a href=\"https://shop.proza.ru/\">Магазин</a>&nbsp;&nbsp; \n",
      "      <a href=\"/login/\"><nobr>Вход для авторов</nobr></a>&nbsp;&nbsp; \n",
      "      <a href=\"https://o.proza.ru/\"><nobr>О портале</nobr></a>&nbsp;&nbsp;&nbsp;\n",
      "      <a href=\"https://stihi.ru/\">Стихи.ру</a>&nbsp;&nbsp; \n",
      "      <a href=\"https://proza.ru/\">Проза.ру</a>\n",
      "    </div>\n",
      "\n",
      "    <table border=\"0\" cellpadding=\"5\" cellspacing=\"0\" wspace=\"3\" hspace=\"3\" align=\"right\">\n",
      "      <tr>\n",
      "       <td valign=\"top\"><!--LiveInternet counter--><script type=\"text/javascript\"><!--\n",
      "document.write(\"<a href='http://www.liveinternet.ru/rating/ru/literature/' \"+\n",
      "\"target=_blank><img src='//counter.yadro.ru/hit?t27.2;r\"+\n",
      "escape(document.referrer)+((typeof(screen)==\"undefined\")?\"\":\n",
      "\";s\"+screen.width+\"*\"+screen.height+\"*\"+(screen.colorDepth?\n",
      "screen.colorDepth:screen.pixelDepth))+\";u\"+escape(document.URL)+\n",
      "\";\"+Math.random()+\n",
      "\"' alt='' title='LiveInternet: показано количество просмотров и\"+\n",
      "\" посетителей' \"+\n",
      "\"border='0' width='88' height='120'></a>\")\n",
      "//--></script><!--/LiveInternet-->\n",
      "</td>\n",
      "      </tr>\n",
      "    </table>\n",
      "    <p>Портал Проза.ру предоставляет авторам возможность свободной публикации своих литературных произведений в сети Интернет на основании <a href=\"https://o.proza.ru/dogovor\">пользовательского договора</a>. Все авторские права на произведения принадлежат авторам и охраняются <a href=\"https://o.proza.ru/pravo\">законом</a>. Перепечатка произведений возможна только с согласия его автора, к которому вы можете обратиться на его авторской странице. Ответственность за тексты произведений авторы несут самостоятельно на основании <a href=\"https://o.proza.ru/pravila\">правил публикации</a> и <a href=\"https://o.proza.ru/pravo\">законодательства Российской Федерации</a>. Данные пользователей обрабатываются на основании <a href=\"https://o.proza.ru/policy\">Политики обработки персональных данных</a>. Вы также можете посмотреть более подробную <a href=\"https://o.proza.ru/\">информацию о портале</a> и <a href=\"/help/\">связаться с администрацией</a>.</p>\n",
      "    <p>Ежедневная аудитория портала Проза.ру &ndash; порядка 100 тысяч посетителей, которые в общей сумме просматривают более полумиллиона страниц по данным счетчика посещаемости, который расположен справа от этого текста. В каждой графе указано по две цифры: количество просмотров и количество посетителей.</p>\n",
      "    <p>&copy; Все права принадлежат авторам, 2000-2022. &nbsp; Портал работает под эгидой <a href=\"https://rossp.ru/\" target=\"_blank\">Российского союза писателей</a>. <span style=\"color:#F00000\">18+</span></p>\n",
      "  </div>\n",
      "\n",
      "<!-- Yandex.Metrika counter -->\n",
      "<script type=\"text/javascript\" >\n",
      "   (function(m,e,t,r,i,k,a){m[i]=m[i]||function(){(m[i].a=m[i].a||[]).push(arguments)};\n",
      "   m[i].l=1*new Date();k=e.createElement(t),a=e.getElementsByTagName(t)[0],k.async=1,k.src=r,a.parentNode.insertBefore(k,a)})\n",
      "   (window, document, \"script\", \"https://mc.yandex.ru/metrika/tag.js\", \"ym\");\n",
      "\n",
      "   ym(548884, \"init\", {\n",
      "        clickmap:true,\n",
      "        trackLinks:true,\n",
      "        accurateTrackBounce:true,\n",
      "        webvisor:true\n",
      "   });\n",
      "</script>\n",
      "<noscript><div><img src=\"https://mc.yandex.ru/watch/548884\" style=\"position:absolute; left:-9999px;\" alt=\"\" /></div></noscript>\n",
      "<!-- /Yandex.Metrika counter -->\n",
      "\n",
      "\n",
      "<script type=\"text/javascript\">\n",
      "var gaJsHost = ((\"https:\" == document.location.protocol) ? \"https://ssl.\" : \"http://www.\");\n",
      "document.write(unescape(\"%3Cscript src='\" + gaJsHost + \"google-analytics.com/ga.js' type='text/javascript'%3E%3C/script%3E\"));\n",
      "</script>\n",
      "<script type=\"text/javascript\">\n",
      "try {\n",
      "var pageTracker = _gat._getTracker(\"UA-12103366-1\");\n",
      "pageTracker._trackPageview();\n",
      "} catch(err) {}</script>\n",
      "\n",
      "\n",
      "<script type=\"text/javascript\">\n",
      "if((self.parent&&!(self.parent===self))&&(self.parent.frames.length!=0)){self.parent.location=document.location}\n",
      "</script>\n",
      "\n",
      "</div>\n",
      "\n",
      "</body>\n",
      "</html>\n",
      "\n"
     ]
    }
   ],
   "source": [
    "fid = urllib.request.urlopen('https://proza.ru/2012/11/30/1362') \n",
    "webpage = fid.read().decode('cp1251')\n",
    "print(webpage)"
   ]
  },
  {
   "cell_type": "markdown",
   "metadata": {},
   "source": [
    "Действительно: тут лежат наши тексты. Возможно, они еще где-нибудь лежат (poem?), это тоже можно проверить. Ну предположим, что мы все проверили и убедились, что страницы с текстами произведений - это, очевидно, адреса в формате r'\\d{4}/\\d\\d/\\d\\d/.*' = '1234/56/78/123...'\n",
    "\n",
    "Давайте попробуем допилить нашу тестовую функцию таким образом, чтобы она дополнительно проверяла, не является ли просматриваемая страница текстовой, и добавляла ее в отдельный список. "
   ]
  },
  {
   "cell_type": "code",
   "execution_count": 46,
   "metadata": {},
   "outputs": [],
   "source": [
    "texts = []"
   ]
  },
  {
   "cell_type": "code",
   "execution_count": 47,
   "metadata": {},
   "outputs": [],
   "source": [
    "def looklinks(page, viewed, texts):\n",
    "    \"\"\"Тестовая функция для просмотра всех ссылок на странице и добавления текстов\"\"\"\n",
    "    print(page)\n",
    "    fid = urllib.request.urlopen(page) \n",
    "    webpage = fid.read().decode('cp1251')\n",
    "    viewed.add(page)\n",
    "    if re.match(r'https://proza.ru/\\d{4}/\\d\\d/\\d\\d/.*', page):\n",
    "        texts.append(webpage)\n",
    "        print(f'text for {page} added!')\n",
    "    soup = bs(webpage, 'html.parser') \n",
    "    links = []\n",
    "    for link in soup.find_all('a', attrs={'href': re.compile(r'^/.+')}):\n",
    "        l = 'https://proza.ru' + link.get('href')\n",
    "        if l not in viewed:\n",
    "            links.append(l)\n",
    "    if links:\n",
    "        for link in links:\n",
    "            sleep(1)  # чтоб нас случайно не заблочили как робота\n",
    "            looklinks(link, viewed, texts)\n",
    "    else:\n",
    "        return "
   ]
  },
  {
   "cell_type": "markdown",
   "metadata": {},
   "source": [
    "Потестим нашу функцию для какого-нибудь конкретного автора:"
   ]
  },
  {
   "cell_type": "code",
   "execution_count": 48,
   "metadata": {},
   "outputs": [
    {
     "name": "stdout",
     "output_type": "stream",
     "text": [
      "https://proza.ru/avtor/evgeny1951mai\n",
      "https://proza.ru/rec_writer.html?evgeny1951mai\n",
      "https://proza.ru/board/list.html?rec_writer=evgeny1951mai&list=short\n",
      "https://proza.ru/board/list.html?rec_writer=evgeny1951mai\n",
      "https://proza.ru/2020/10/03/928\n",
      "text for https://proza.ru/2020/10/03/928 added!\n",
      "https://proza.ru/avtor/victorlev\n",
      "https://proza.ru/login/messages.html?victorlev\n",
      "https://proza.ru/recommend.html?victorlev\n",
      "https://proza.ru/rec_author.html?victorlev\n",
      "https://proza.ru/board/list.html?rec_author=victorlev&list=short\n",
      "https://proza.ru/board/list.html?rec_author=victorlev\n",
      "https://proza.ru/rec.html?2022/10/09/657\n",
      "https://proza.ru/complain.html?rec_2022/10/09/657\n",
      "https://proza.ru/login/profile.html?blacklist\n",
      "https://proza.ru/addnotes.html?2022/10/09/657\n",
      "https://proza.ru/cgi-bin/reg.pl\n",
      "https://proza.ru/about/dogovor.html\n",
      "https://proza.ru/about/pravo/\n",
      "https://proza.ru/about/pravo/gk70.html#1265\n",
      "https://proza.ru/about/pravo/\n",
      "https://proza.ru/about/pravo/\n",
      "https://proza.ru/about/feedback.html\n",
      "https://proza.ru/about/feedback.html\n",
      "https://proza.ru/comments.html?2020/10/03/928\n",
      "https://proza.ru/board/list.html?rec_text=2020/10/03/928&list=short\n",
      "https://proza.ru/board/list.html?rec_text=2020/10/03/928\n",
      "https://proza.ru/avtor/gkbard\n",
      "https://proza.ru/login/messages.html?gkbard\n",
      "https://proza.ru/recommend.html?gkbard\n",
      "https://proza.ru/rec_author.html?gkbard\n",
      "https://proza.ru/board/list.html?rec_author=gkbard&list=short\n",
      "https://proza.ru/board/list.html?rec_author=gkbard\n",
      "https://proza.ru/2014/10/14/883\n",
      "text for https://proza.ru/2014/10/14/883 added!\n",
      "https://proza.ru/readers.html?2014/10/14/883\n",
      "https://proza.ru/avtor/3mark\n",
      "https://proza.ru/login/messages.html?3mark\n",
      "https://proza.ru/recommend.html?3mark\n",
      "https://proza.ru/rec_author.html?3mark\n",
      "https://proza.ru/board/list.html?rec_author=3mark&list=short\n",
      "https://proza.ru/board/list.html?rec_author=3mark\n",
      "https://proza.ru/2022/08/29/934\n",
      "text for https://proza.ru/2022/08/29/934 added!\n",
      "https://proza.ru/readers.html?2022/08/29/934\n",
      "https://proza.ru/avtor/amarasov\n",
      "https://proza.ru/login/messages.html?amarasov\n",
      "https://proza.ru/recommend.html?amarasov\n",
      "https://proza.ru/rec_author.html?amarasov\n",
      "https://proza.ru/board/list.html?rec_author=amarasov&list=short\n",
      "https://proza.ru/board/list.html?rec_author=amarasov\n",
      "https://proza.ru/2017/06/03/841\n",
      "text for https://proza.ru/2017/06/03/841 added!\n",
      "https://proza.ru/readers.html?2017/06/03/841\n",
      "https://proza.ru/readers.html?2017/06/03/841&start=20\n",
      "https://proza.ru/readers.html?2017/06/03/841&start=0\n",
      "https://proza.ru/readers.html?2017/06/03/841&start=40\n",
      "https://proza.ru/readers.html?2017/06/03/841&start=60\n",
      "https://proza.ru/readers.html?2017/06/03/841&start=80\n",
      "https://proza.ru/readers.html?amarasov\n",
      "https://proza.ru/2017/06/03/839\n",
      "text for https://proza.ru/2017/06/03/839 added!\n",
      "https://proza.ru/readers.html?2017/06/03/839\n",
      "https://proza.ru/readers.html?2017/06/03/839&start=20\n"
     ]
    },
    {
     "ename": "KeyboardInterrupt",
     "evalue": "",
     "output_type": "error",
     "traceback": [
      "\u001b[1;31m---------------------------------------------------------------------------\u001b[0m",
      "\u001b[1;31mKeyboardInterrupt\u001b[0m                         Traceback (most recent call last)",
      "\u001b[1;32m~\\AppData\\Local\\Temp/ipykernel_7540/1143366098.py\u001b[0m in \u001b[0;36m<module>\u001b[1;34m\u001b[0m\n\u001b[0;32m      1\u001b[0m \u001b[0mstart\u001b[0m \u001b[1;33m=\u001b[0m \u001b[1;34m'https://proza.ru/avtor/evgeny1951mai'\u001b[0m\u001b[1;33m\u001b[0m\u001b[1;33m\u001b[0m\u001b[0m\n\u001b[1;32m----> 2\u001b[1;33m \u001b[0mlooklinks\u001b[0m\u001b[1;33m(\u001b[0m\u001b[0mstart\u001b[0m\u001b[1;33m,\u001b[0m \u001b[0mviewedlinks\u001b[0m\u001b[1;33m,\u001b[0m \u001b[0mtexts\u001b[0m\u001b[1;33m)\u001b[0m\u001b[1;33m\u001b[0m\u001b[1;33m\u001b[0m\u001b[0m\n\u001b[0m",
      "\u001b[1;32m~\\AppData\\Local\\Temp/ipykernel_7540/134241545.py\u001b[0m in \u001b[0;36mlooklinks\u001b[1;34m(page, viewed, texts)\u001b[0m\n\u001b[0;32m     17\u001b[0m         \u001b[1;32mfor\u001b[0m \u001b[0mlink\u001b[0m \u001b[1;32min\u001b[0m \u001b[0mlinks\u001b[0m\u001b[1;33m:\u001b[0m\u001b[1;33m\u001b[0m\u001b[1;33m\u001b[0m\u001b[0m\n\u001b[0;32m     18\u001b[0m             \u001b[0msleep\u001b[0m\u001b[1;33m(\u001b[0m\u001b[1;36m1\u001b[0m\u001b[1;33m)\u001b[0m  \u001b[1;31m# чтоб нас случайно не заблочили как робота\u001b[0m\u001b[1;33m\u001b[0m\u001b[1;33m\u001b[0m\u001b[0m\n\u001b[1;32m---> 19\u001b[1;33m             \u001b[0mlooklinks\u001b[0m\u001b[1;33m(\u001b[0m\u001b[0mlink\u001b[0m\u001b[1;33m,\u001b[0m \u001b[0mviewed\u001b[0m\u001b[1;33m,\u001b[0m \u001b[0mtexts\u001b[0m\u001b[1;33m)\u001b[0m\u001b[1;33m\u001b[0m\u001b[1;33m\u001b[0m\u001b[0m\n\u001b[0m\u001b[0;32m     20\u001b[0m     \u001b[1;32melse\u001b[0m\u001b[1;33m:\u001b[0m\u001b[1;33m\u001b[0m\u001b[1;33m\u001b[0m\u001b[0m\n\u001b[0;32m     21\u001b[0m         \u001b[1;32mreturn\u001b[0m\u001b[1;33m\u001b[0m\u001b[1;33m\u001b[0m\u001b[0m\n",
      "\u001b[1;32m~\\AppData\\Local\\Temp/ipykernel_7540/134241545.py\u001b[0m in \u001b[0;36mlooklinks\u001b[1;34m(page, viewed, texts)\u001b[0m\n\u001b[0;32m     17\u001b[0m         \u001b[1;32mfor\u001b[0m \u001b[0mlink\u001b[0m \u001b[1;32min\u001b[0m \u001b[0mlinks\u001b[0m\u001b[1;33m:\u001b[0m\u001b[1;33m\u001b[0m\u001b[1;33m\u001b[0m\u001b[0m\n\u001b[0;32m     18\u001b[0m             \u001b[0msleep\u001b[0m\u001b[1;33m(\u001b[0m\u001b[1;36m1\u001b[0m\u001b[1;33m)\u001b[0m  \u001b[1;31m# чтоб нас случайно не заблочили как робота\u001b[0m\u001b[1;33m\u001b[0m\u001b[1;33m\u001b[0m\u001b[0m\n\u001b[1;32m---> 19\u001b[1;33m             \u001b[0mlooklinks\u001b[0m\u001b[1;33m(\u001b[0m\u001b[0mlink\u001b[0m\u001b[1;33m,\u001b[0m \u001b[0mviewed\u001b[0m\u001b[1;33m,\u001b[0m \u001b[0mtexts\u001b[0m\u001b[1;33m)\u001b[0m\u001b[1;33m\u001b[0m\u001b[1;33m\u001b[0m\u001b[0m\n\u001b[0m\u001b[0;32m     20\u001b[0m     \u001b[1;32melse\u001b[0m\u001b[1;33m:\u001b[0m\u001b[1;33m\u001b[0m\u001b[1;33m\u001b[0m\u001b[0m\n\u001b[0;32m     21\u001b[0m         \u001b[1;32mreturn\u001b[0m\u001b[1;33m\u001b[0m\u001b[1;33m\u001b[0m\u001b[0m\n",
      "\u001b[1;32m~\\AppData\\Local\\Temp/ipykernel_7540/134241545.py\u001b[0m in \u001b[0;36mlooklinks\u001b[1;34m(page, viewed, texts)\u001b[0m\n\u001b[0;32m     17\u001b[0m         \u001b[1;32mfor\u001b[0m \u001b[0mlink\u001b[0m \u001b[1;32min\u001b[0m \u001b[0mlinks\u001b[0m\u001b[1;33m:\u001b[0m\u001b[1;33m\u001b[0m\u001b[1;33m\u001b[0m\u001b[0m\n\u001b[0;32m     18\u001b[0m             \u001b[0msleep\u001b[0m\u001b[1;33m(\u001b[0m\u001b[1;36m1\u001b[0m\u001b[1;33m)\u001b[0m  \u001b[1;31m# чтоб нас случайно не заблочили как робота\u001b[0m\u001b[1;33m\u001b[0m\u001b[1;33m\u001b[0m\u001b[0m\n\u001b[1;32m---> 19\u001b[1;33m             \u001b[0mlooklinks\u001b[0m\u001b[1;33m(\u001b[0m\u001b[0mlink\u001b[0m\u001b[1;33m,\u001b[0m \u001b[0mviewed\u001b[0m\u001b[1;33m,\u001b[0m \u001b[0mtexts\u001b[0m\u001b[1;33m)\u001b[0m\u001b[1;33m\u001b[0m\u001b[1;33m\u001b[0m\u001b[0m\n\u001b[0m\u001b[0;32m     20\u001b[0m     \u001b[1;32melse\u001b[0m\u001b[1;33m:\u001b[0m\u001b[1;33m\u001b[0m\u001b[1;33m\u001b[0m\u001b[0m\n\u001b[0;32m     21\u001b[0m         \u001b[1;32mreturn\u001b[0m\u001b[1;33m\u001b[0m\u001b[1;33m\u001b[0m\u001b[0m\n",
      "\u001b[1;32m~\\AppData\\Local\\Temp/ipykernel_7540/134241545.py\u001b[0m in \u001b[0;36mlooklinks\u001b[1;34m(page, viewed, texts)\u001b[0m\n\u001b[0;32m     17\u001b[0m         \u001b[1;32mfor\u001b[0m \u001b[0mlink\u001b[0m \u001b[1;32min\u001b[0m \u001b[0mlinks\u001b[0m\u001b[1;33m:\u001b[0m\u001b[1;33m\u001b[0m\u001b[1;33m\u001b[0m\u001b[0m\n\u001b[0;32m     18\u001b[0m             \u001b[0msleep\u001b[0m\u001b[1;33m(\u001b[0m\u001b[1;36m1\u001b[0m\u001b[1;33m)\u001b[0m  \u001b[1;31m# чтоб нас случайно не заблочили как робота\u001b[0m\u001b[1;33m\u001b[0m\u001b[1;33m\u001b[0m\u001b[0m\n\u001b[1;32m---> 19\u001b[1;33m             \u001b[0mlooklinks\u001b[0m\u001b[1;33m(\u001b[0m\u001b[0mlink\u001b[0m\u001b[1;33m,\u001b[0m \u001b[0mviewed\u001b[0m\u001b[1;33m,\u001b[0m \u001b[0mtexts\u001b[0m\u001b[1;33m)\u001b[0m\u001b[1;33m\u001b[0m\u001b[1;33m\u001b[0m\u001b[0m\n\u001b[0m\u001b[0;32m     20\u001b[0m     \u001b[1;32melse\u001b[0m\u001b[1;33m:\u001b[0m\u001b[1;33m\u001b[0m\u001b[1;33m\u001b[0m\u001b[0m\n\u001b[0;32m     21\u001b[0m         \u001b[1;32mreturn\u001b[0m\u001b[1;33m\u001b[0m\u001b[1;33m\u001b[0m\u001b[0m\n",
      "\u001b[1;32m~\\AppData\\Local\\Temp/ipykernel_7540/134241545.py\u001b[0m in \u001b[0;36mlooklinks\u001b[1;34m(page, viewed, texts)\u001b[0m\n\u001b[0;32m     17\u001b[0m         \u001b[1;32mfor\u001b[0m \u001b[0mlink\u001b[0m \u001b[1;32min\u001b[0m \u001b[0mlinks\u001b[0m\u001b[1;33m:\u001b[0m\u001b[1;33m\u001b[0m\u001b[1;33m\u001b[0m\u001b[0m\n\u001b[0;32m     18\u001b[0m             \u001b[0msleep\u001b[0m\u001b[1;33m(\u001b[0m\u001b[1;36m1\u001b[0m\u001b[1;33m)\u001b[0m  \u001b[1;31m# чтоб нас случайно не заблочили как робота\u001b[0m\u001b[1;33m\u001b[0m\u001b[1;33m\u001b[0m\u001b[0m\n\u001b[1;32m---> 19\u001b[1;33m             \u001b[0mlooklinks\u001b[0m\u001b[1;33m(\u001b[0m\u001b[0mlink\u001b[0m\u001b[1;33m,\u001b[0m \u001b[0mviewed\u001b[0m\u001b[1;33m,\u001b[0m \u001b[0mtexts\u001b[0m\u001b[1;33m)\u001b[0m\u001b[1;33m\u001b[0m\u001b[1;33m\u001b[0m\u001b[0m\n\u001b[0m\u001b[0;32m     20\u001b[0m     \u001b[1;32melse\u001b[0m\u001b[1;33m:\u001b[0m\u001b[1;33m\u001b[0m\u001b[1;33m\u001b[0m\u001b[0m\n\u001b[0;32m     21\u001b[0m         \u001b[1;32mreturn\u001b[0m\u001b[1;33m\u001b[0m\u001b[1;33m\u001b[0m\u001b[0m\n",
      "\u001b[1;32m~\\AppData\\Local\\Temp/ipykernel_7540/134241545.py\u001b[0m in \u001b[0;36mlooklinks\u001b[1;34m(page, viewed, texts)\u001b[0m\n\u001b[0;32m     17\u001b[0m         \u001b[1;32mfor\u001b[0m \u001b[0mlink\u001b[0m \u001b[1;32min\u001b[0m \u001b[0mlinks\u001b[0m\u001b[1;33m:\u001b[0m\u001b[1;33m\u001b[0m\u001b[1;33m\u001b[0m\u001b[0m\n\u001b[0;32m     18\u001b[0m             \u001b[0msleep\u001b[0m\u001b[1;33m(\u001b[0m\u001b[1;36m1\u001b[0m\u001b[1;33m)\u001b[0m  \u001b[1;31m# чтоб нас случайно не заблочили как робота\u001b[0m\u001b[1;33m\u001b[0m\u001b[1;33m\u001b[0m\u001b[0m\n\u001b[1;32m---> 19\u001b[1;33m             \u001b[0mlooklinks\u001b[0m\u001b[1;33m(\u001b[0m\u001b[0mlink\u001b[0m\u001b[1;33m,\u001b[0m \u001b[0mviewed\u001b[0m\u001b[1;33m,\u001b[0m \u001b[0mtexts\u001b[0m\u001b[1;33m)\u001b[0m\u001b[1;33m\u001b[0m\u001b[1;33m\u001b[0m\u001b[0m\n\u001b[0m\u001b[0;32m     20\u001b[0m     \u001b[1;32melse\u001b[0m\u001b[1;33m:\u001b[0m\u001b[1;33m\u001b[0m\u001b[1;33m\u001b[0m\u001b[0m\n\u001b[0;32m     21\u001b[0m         \u001b[1;32mreturn\u001b[0m\u001b[1;33m\u001b[0m\u001b[1;33m\u001b[0m\u001b[0m\n",
      "\u001b[1;32m~\\AppData\\Local\\Temp/ipykernel_7540/134241545.py\u001b[0m in \u001b[0;36mlooklinks\u001b[1;34m(page, viewed, texts)\u001b[0m\n\u001b[0;32m     17\u001b[0m         \u001b[1;32mfor\u001b[0m \u001b[0mlink\u001b[0m \u001b[1;32min\u001b[0m \u001b[0mlinks\u001b[0m\u001b[1;33m:\u001b[0m\u001b[1;33m\u001b[0m\u001b[1;33m\u001b[0m\u001b[0m\n\u001b[0;32m     18\u001b[0m             \u001b[0msleep\u001b[0m\u001b[1;33m(\u001b[0m\u001b[1;36m1\u001b[0m\u001b[1;33m)\u001b[0m  \u001b[1;31m# чтоб нас случайно не заблочили как робота\u001b[0m\u001b[1;33m\u001b[0m\u001b[1;33m\u001b[0m\u001b[0m\n\u001b[1;32m---> 19\u001b[1;33m             \u001b[0mlooklinks\u001b[0m\u001b[1;33m(\u001b[0m\u001b[0mlink\u001b[0m\u001b[1;33m,\u001b[0m \u001b[0mviewed\u001b[0m\u001b[1;33m,\u001b[0m \u001b[0mtexts\u001b[0m\u001b[1;33m)\u001b[0m\u001b[1;33m\u001b[0m\u001b[1;33m\u001b[0m\u001b[0m\n\u001b[0m\u001b[0;32m     20\u001b[0m     \u001b[1;32melse\u001b[0m\u001b[1;33m:\u001b[0m\u001b[1;33m\u001b[0m\u001b[1;33m\u001b[0m\u001b[0m\n\u001b[0;32m     21\u001b[0m         \u001b[1;32mreturn\u001b[0m\u001b[1;33m\u001b[0m\u001b[1;33m\u001b[0m\u001b[0m\n",
      "\u001b[1;32m~\\AppData\\Local\\Temp/ipykernel_7540/134241545.py\u001b[0m in \u001b[0;36mlooklinks\u001b[1;34m(page, viewed, texts)\u001b[0m\n\u001b[0;32m     17\u001b[0m         \u001b[1;32mfor\u001b[0m \u001b[0mlink\u001b[0m \u001b[1;32min\u001b[0m \u001b[0mlinks\u001b[0m\u001b[1;33m:\u001b[0m\u001b[1;33m\u001b[0m\u001b[1;33m\u001b[0m\u001b[0m\n\u001b[0;32m     18\u001b[0m             \u001b[0msleep\u001b[0m\u001b[1;33m(\u001b[0m\u001b[1;36m1\u001b[0m\u001b[1;33m)\u001b[0m  \u001b[1;31m# чтоб нас случайно не заблочили как робота\u001b[0m\u001b[1;33m\u001b[0m\u001b[1;33m\u001b[0m\u001b[0m\n\u001b[1;32m---> 19\u001b[1;33m             \u001b[0mlooklinks\u001b[0m\u001b[1;33m(\u001b[0m\u001b[0mlink\u001b[0m\u001b[1;33m,\u001b[0m \u001b[0mviewed\u001b[0m\u001b[1;33m,\u001b[0m \u001b[0mtexts\u001b[0m\u001b[1;33m)\u001b[0m\u001b[1;33m\u001b[0m\u001b[1;33m\u001b[0m\u001b[0m\n\u001b[0m\u001b[0;32m     20\u001b[0m     \u001b[1;32melse\u001b[0m\u001b[1;33m:\u001b[0m\u001b[1;33m\u001b[0m\u001b[1;33m\u001b[0m\u001b[0m\n\u001b[0;32m     21\u001b[0m         \u001b[1;32mreturn\u001b[0m\u001b[1;33m\u001b[0m\u001b[1;33m\u001b[0m\u001b[0m\n",
      "\u001b[1;32m~\\AppData\\Local\\Temp/ipykernel_7540/134241545.py\u001b[0m in \u001b[0;36mlooklinks\u001b[1;34m(page, viewed, texts)\u001b[0m\n\u001b[0;32m     17\u001b[0m         \u001b[1;32mfor\u001b[0m \u001b[0mlink\u001b[0m \u001b[1;32min\u001b[0m \u001b[0mlinks\u001b[0m\u001b[1;33m:\u001b[0m\u001b[1;33m\u001b[0m\u001b[1;33m\u001b[0m\u001b[0m\n\u001b[0;32m     18\u001b[0m             \u001b[0msleep\u001b[0m\u001b[1;33m(\u001b[0m\u001b[1;36m1\u001b[0m\u001b[1;33m)\u001b[0m  \u001b[1;31m# чтоб нас случайно не заблочили как робота\u001b[0m\u001b[1;33m\u001b[0m\u001b[1;33m\u001b[0m\u001b[0m\n\u001b[1;32m---> 19\u001b[1;33m             \u001b[0mlooklinks\u001b[0m\u001b[1;33m(\u001b[0m\u001b[0mlink\u001b[0m\u001b[1;33m,\u001b[0m \u001b[0mviewed\u001b[0m\u001b[1;33m,\u001b[0m \u001b[0mtexts\u001b[0m\u001b[1;33m)\u001b[0m\u001b[1;33m\u001b[0m\u001b[1;33m\u001b[0m\u001b[0m\n\u001b[0m\u001b[0;32m     20\u001b[0m     \u001b[1;32melse\u001b[0m\u001b[1;33m:\u001b[0m\u001b[1;33m\u001b[0m\u001b[1;33m\u001b[0m\u001b[0m\n\u001b[0;32m     21\u001b[0m         \u001b[1;32mreturn\u001b[0m\u001b[1;33m\u001b[0m\u001b[1;33m\u001b[0m\u001b[0m\n",
      "\u001b[1;32m~\\AppData\\Local\\Temp/ipykernel_7540/134241545.py\u001b[0m in \u001b[0;36mlooklinks\u001b[1;34m(page, viewed, texts)\u001b[0m\n\u001b[0;32m     17\u001b[0m         \u001b[1;32mfor\u001b[0m \u001b[0mlink\u001b[0m \u001b[1;32min\u001b[0m \u001b[0mlinks\u001b[0m\u001b[1;33m:\u001b[0m\u001b[1;33m\u001b[0m\u001b[1;33m\u001b[0m\u001b[0m\n\u001b[0;32m     18\u001b[0m             \u001b[0msleep\u001b[0m\u001b[1;33m(\u001b[0m\u001b[1;36m1\u001b[0m\u001b[1;33m)\u001b[0m  \u001b[1;31m# чтоб нас случайно не заблочили как робота\u001b[0m\u001b[1;33m\u001b[0m\u001b[1;33m\u001b[0m\u001b[0m\n\u001b[1;32m---> 19\u001b[1;33m             \u001b[0mlooklinks\u001b[0m\u001b[1;33m(\u001b[0m\u001b[0mlink\u001b[0m\u001b[1;33m,\u001b[0m \u001b[0mviewed\u001b[0m\u001b[1;33m,\u001b[0m \u001b[0mtexts\u001b[0m\u001b[1;33m)\u001b[0m\u001b[1;33m\u001b[0m\u001b[1;33m\u001b[0m\u001b[0m\n\u001b[0m\u001b[0;32m     20\u001b[0m     \u001b[1;32melse\u001b[0m\u001b[1;33m:\u001b[0m\u001b[1;33m\u001b[0m\u001b[1;33m\u001b[0m\u001b[0m\n\u001b[0;32m     21\u001b[0m         \u001b[1;32mreturn\u001b[0m\u001b[1;33m\u001b[0m\u001b[1;33m\u001b[0m\u001b[0m\n",
      "\u001b[1;32m~\\AppData\\Local\\Temp/ipykernel_7540/134241545.py\u001b[0m in \u001b[0;36mlooklinks\u001b[1;34m(page, viewed, texts)\u001b[0m\n\u001b[0;32m     17\u001b[0m         \u001b[1;32mfor\u001b[0m \u001b[0mlink\u001b[0m \u001b[1;32min\u001b[0m \u001b[0mlinks\u001b[0m\u001b[1;33m:\u001b[0m\u001b[1;33m\u001b[0m\u001b[1;33m\u001b[0m\u001b[0m\n\u001b[0;32m     18\u001b[0m             \u001b[0msleep\u001b[0m\u001b[1;33m(\u001b[0m\u001b[1;36m1\u001b[0m\u001b[1;33m)\u001b[0m  \u001b[1;31m# чтоб нас случайно не заблочили как робота\u001b[0m\u001b[1;33m\u001b[0m\u001b[1;33m\u001b[0m\u001b[0m\n\u001b[1;32m---> 19\u001b[1;33m             \u001b[0mlooklinks\u001b[0m\u001b[1;33m(\u001b[0m\u001b[0mlink\u001b[0m\u001b[1;33m,\u001b[0m \u001b[0mviewed\u001b[0m\u001b[1;33m,\u001b[0m \u001b[0mtexts\u001b[0m\u001b[1;33m)\u001b[0m\u001b[1;33m\u001b[0m\u001b[1;33m\u001b[0m\u001b[0m\n\u001b[0m\u001b[0;32m     20\u001b[0m     \u001b[1;32melse\u001b[0m\u001b[1;33m:\u001b[0m\u001b[1;33m\u001b[0m\u001b[1;33m\u001b[0m\u001b[0m\n\u001b[0;32m     21\u001b[0m         \u001b[1;32mreturn\u001b[0m\u001b[1;33m\u001b[0m\u001b[1;33m\u001b[0m\u001b[0m\n",
      "\u001b[1;32m~\\AppData\\Local\\Temp/ipykernel_7540/134241545.py\u001b[0m in \u001b[0;36mlooklinks\u001b[1;34m(page, viewed, texts)\u001b[0m\n\u001b[0;32m     17\u001b[0m         \u001b[1;32mfor\u001b[0m \u001b[0mlink\u001b[0m \u001b[1;32min\u001b[0m \u001b[0mlinks\u001b[0m\u001b[1;33m:\u001b[0m\u001b[1;33m\u001b[0m\u001b[1;33m\u001b[0m\u001b[0m\n\u001b[0;32m     18\u001b[0m             \u001b[0msleep\u001b[0m\u001b[1;33m(\u001b[0m\u001b[1;36m1\u001b[0m\u001b[1;33m)\u001b[0m  \u001b[1;31m# чтоб нас случайно не заблочили как робота\u001b[0m\u001b[1;33m\u001b[0m\u001b[1;33m\u001b[0m\u001b[0m\n\u001b[1;32m---> 19\u001b[1;33m             \u001b[0mlooklinks\u001b[0m\u001b[1;33m(\u001b[0m\u001b[0mlink\u001b[0m\u001b[1;33m,\u001b[0m \u001b[0mviewed\u001b[0m\u001b[1;33m,\u001b[0m \u001b[0mtexts\u001b[0m\u001b[1;33m)\u001b[0m\u001b[1;33m\u001b[0m\u001b[1;33m\u001b[0m\u001b[0m\n\u001b[0m\u001b[0;32m     20\u001b[0m     \u001b[1;32melse\u001b[0m\u001b[1;33m:\u001b[0m\u001b[1;33m\u001b[0m\u001b[1;33m\u001b[0m\u001b[0m\n\u001b[0;32m     21\u001b[0m         \u001b[1;32mreturn\u001b[0m\u001b[1;33m\u001b[0m\u001b[1;33m\u001b[0m\u001b[0m\n",
      "\u001b[1;32m~\\AppData\\Local\\Temp/ipykernel_7540/134241545.py\u001b[0m in \u001b[0;36mlooklinks\u001b[1;34m(page, viewed, texts)\u001b[0m\n\u001b[0;32m     17\u001b[0m         \u001b[1;32mfor\u001b[0m \u001b[0mlink\u001b[0m \u001b[1;32min\u001b[0m \u001b[0mlinks\u001b[0m\u001b[1;33m:\u001b[0m\u001b[1;33m\u001b[0m\u001b[1;33m\u001b[0m\u001b[0m\n\u001b[0;32m     18\u001b[0m             \u001b[0msleep\u001b[0m\u001b[1;33m(\u001b[0m\u001b[1;36m1\u001b[0m\u001b[1;33m)\u001b[0m  \u001b[1;31m# чтоб нас случайно не заблочили как робота\u001b[0m\u001b[1;33m\u001b[0m\u001b[1;33m\u001b[0m\u001b[0m\n\u001b[1;32m---> 19\u001b[1;33m             \u001b[0mlooklinks\u001b[0m\u001b[1;33m(\u001b[0m\u001b[0mlink\u001b[0m\u001b[1;33m,\u001b[0m \u001b[0mviewed\u001b[0m\u001b[1;33m,\u001b[0m \u001b[0mtexts\u001b[0m\u001b[1;33m)\u001b[0m\u001b[1;33m\u001b[0m\u001b[1;33m\u001b[0m\u001b[0m\n\u001b[0m\u001b[0;32m     20\u001b[0m     \u001b[1;32melse\u001b[0m\u001b[1;33m:\u001b[0m\u001b[1;33m\u001b[0m\u001b[1;33m\u001b[0m\u001b[0m\n\u001b[0;32m     21\u001b[0m         \u001b[1;32mreturn\u001b[0m\u001b[1;33m\u001b[0m\u001b[1;33m\u001b[0m\u001b[0m\n",
      "\u001b[1;32m~\\AppData\\Local\\Temp/ipykernel_7540/134241545.py\u001b[0m in \u001b[0;36mlooklinks\u001b[1;34m(page, viewed, texts)\u001b[0m\n\u001b[0;32m     17\u001b[0m         \u001b[1;32mfor\u001b[0m \u001b[0mlink\u001b[0m \u001b[1;32min\u001b[0m \u001b[0mlinks\u001b[0m\u001b[1;33m:\u001b[0m\u001b[1;33m\u001b[0m\u001b[1;33m\u001b[0m\u001b[0m\n\u001b[0;32m     18\u001b[0m             \u001b[0msleep\u001b[0m\u001b[1;33m(\u001b[0m\u001b[1;36m1\u001b[0m\u001b[1;33m)\u001b[0m  \u001b[1;31m# чтоб нас случайно не заблочили как робота\u001b[0m\u001b[1;33m\u001b[0m\u001b[1;33m\u001b[0m\u001b[0m\n\u001b[1;32m---> 19\u001b[1;33m             \u001b[0mlooklinks\u001b[0m\u001b[1;33m(\u001b[0m\u001b[0mlink\u001b[0m\u001b[1;33m,\u001b[0m \u001b[0mviewed\u001b[0m\u001b[1;33m,\u001b[0m \u001b[0mtexts\u001b[0m\u001b[1;33m)\u001b[0m\u001b[1;33m\u001b[0m\u001b[1;33m\u001b[0m\u001b[0m\n\u001b[0m\u001b[0;32m     20\u001b[0m     \u001b[1;32melse\u001b[0m\u001b[1;33m:\u001b[0m\u001b[1;33m\u001b[0m\u001b[1;33m\u001b[0m\u001b[0m\n\u001b[0;32m     21\u001b[0m         \u001b[1;32mreturn\u001b[0m\u001b[1;33m\u001b[0m\u001b[1;33m\u001b[0m\u001b[0m\n",
      "\u001b[1;32m~\\AppData\\Local\\Temp/ipykernel_7540/134241545.py\u001b[0m in \u001b[0;36mlooklinks\u001b[1;34m(page, viewed, texts)\u001b[0m\n\u001b[0;32m     17\u001b[0m         \u001b[1;32mfor\u001b[0m \u001b[0mlink\u001b[0m \u001b[1;32min\u001b[0m \u001b[0mlinks\u001b[0m\u001b[1;33m:\u001b[0m\u001b[1;33m\u001b[0m\u001b[1;33m\u001b[0m\u001b[0m\n\u001b[0;32m     18\u001b[0m             \u001b[0msleep\u001b[0m\u001b[1;33m(\u001b[0m\u001b[1;36m1\u001b[0m\u001b[1;33m)\u001b[0m  \u001b[1;31m# чтоб нас случайно не заблочили как робота\u001b[0m\u001b[1;33m\u001b[0m\u001b[1;33m\u001b[0m\u001b[0m\n\u001b[1;32m---> 19\u001b[1;33m             \u001b[0mlooklinks\u001b[0m\u001b[1;33m(\u001b[0m\u001b[0mlink\u001b[0m\u001b[1;33m,\u001b[0m \u001b[0mviewed\u001b[0m\u001b[1;33m,\u001b[0m \u001b[0mtexts\u001b[0m\u001b[1;33m)\u001b[0m\u001b[1;33m\u001b[0m\u001b[1;33m\u001b[0m\u001b[0m\n\u001b[0m\u001b[0;32m     20\u001b[0m     \u001b[1;32melse\u001b[0m\u001b[1;33m:\u001b[0m\u001b[1;33m\u001b[0m\u001b[1;33m\u001b[0m\u001b[0m\n\u001b[0;32m     21\u001b[0m         \u001b[1;32mreturn\u001b[0m\u001b[1;33m\u001b[0m\u001b[1;33m\u001b[0m\u001b[0m\n",
      "\u001b[1;32m~\\AppData\\Local\\Temp/ipykernel_7540/134241545.py\u001b[0m in \u001b[0;36mlooklinks\u001b[1;34m(page, viewed, texts)\u001b[0m\n\u001b[0;32m     17\u001b[0m         \u001b[1;32mfor\u001b[0m \u001b[0mlink\u001b[0m \u001b[1;32min\u001b[0m \u001b[0mlinks\u001b[0m\u001b[1;33m:\u001b[0m\u001b[1;33m\u001b[0m\u001b[1;33m\u001b[0m\u001b[0m\n\u001b[0;32m     18\u001b[0m             \u001b[0msleep\u001b[0m\u001b[1;33m(\u001b[0m\u001b[1;36m1\u001b[0m\u001b[1;33m)\u001b[0m  \u001b[1;31m# чтоб нас случайно не заблочили как робота\u001b[0m\u001b[1;33m\u001b[0m\u001b[1;33m\u001b[0m\u001b[0m\n\u001b[1;32m---> 19\u001b[1;33m             \u001b[0mlooklinks\u001b[0m\u001b[1;33m(\u001b[0m\u001b[0mlink\u001b[0m\u001b[1;33m,\u001b[0m \u001b[0mviewed\u001b[0m\u001b[1;33m,\u001b[0m \u001b[0mtexts\u001b[0m\u001b[1;33m)\u001b[0m\u001b[1;33m\u001b[0m\u001b[1;33m\u001b[0m\u001b[0m\n\u001b[0m\u001b[0;32m     20\u001b[0m     \u001b[1;32melse\u001b[0m\u001b[1;33m:\u001b[0m\u001b[1;33m\u001b[0m\u001b[1;33m\u001b[0m\u001b[0m\n\u001b[0;32m     21\u001b[0m         \u001b[1;32mreturn\u001b[0m\u001b[1;33m\u001b[0m\u001b[1;33m\u001b[0m\u001b[0m\n",
      "\u001b[1;32m~\\AppData\\Local\\Temp/ipykernel_7540/134241545.py\u001b[0m in \u001b[0;36mlooklinks\u001b[1;34m(page, viewed, texts)\u001b[0m\n\u001b[0;32m     17\u001b[0m         \u001b[1;32mfor\u001b[0m \u001b[0mlink\u001b[0m \u001b[1;32min\u001b[0m \u001b[0mlinks\u001b[0m\u001b[1;33m:\u001b[0m\u001b[1;33m\u001b[0m\u001b[1;33m\u001b[0m\u001b[0m\n\u001b[0;32m     18\u001b[0m             \u001b[0msleep\u001b[0m\u001b[1;33m(\u001b[0m\u001b[1;36m1\u001b[0m\u001b[1;33m)\u001b[0m  \u001b[1;31m# чтоб нас случайно не заблочили как робота\u001b[0m\u001b[1;33m\u001b[0m\u001b[1;33m\u001b[0m\u001b[0m\n\u001b[1;32m---> 19\u001b[1;33m             \u001b[0mlooklinks\u001b[0m\u001b[1;33m(\u001b[0m\u001b[0mlink\u001b[0m\u001b[1;33m,\u001b[0m \u001b[0mviewed\u001b[0m\u001b[1;33m,\u001b[0m \u001b[0mtexts\u001b[0m\u001b[1;33m)\u001b[0m\u001b[1;33m\u001b[0m\u001b[1;33m\u001b[0m\u001b[0m\n\u001b[0m\u001b[0;32m     20\u001b[0m     \u001b[1;32melse\u001b[0m\u001b[1;33m:\u001b[0m\u001b[1;33m\u001b[0m\u001b[1;33m\u001b[0m\u001b[0m\n\u001b[0;32m     21\u001b[0m         \u001b[1;32mreturn\u001b[0m\u001b[1;33m\u001b[0m\u001b[1;33m\u001b[0m\u001b[0m\n",
      "\u001b[1;32m~\\AppData\\Local\\Temp/ipykernel_7540/134241545.py\u001b[0m in \u001b[0;36mlooklinks\u001b[1;34m(page, viewed, texts)\u001b[0m\n\u001b[0;32m     17\u001b[0m         \u001b[1;32mfor\u001b[0m \u001b[0mlink\u001b[0m \u001b[1;32min\u001b[0m \u001b[0mlinks\u001b[0m\u001b[1;33m:\u001b[0m\u001b[1;33m\u001b[0m\u001b[1;33m\u001b[0m\u001b[0m\n\u001b[0;32m     18\u001b[0m             \u001b[0msleep\u001b[0m\u001b[1;33m(\u001b[0m\u001b[1;36m1\u001b[0m\u001b[1;33m)\u001b[0m  \u001b[1;31m# чтоб нас случайно не заблочили как робота\u001b[0m\u001b[1;33m\u001b[0m\u001b[1;33m\u001b[0m\u001b[0m\n\u001b[1;32m---> 19\u001b[1;33m             \u001b[0mlooklinks\u001b[0m\u001b[1;33m(\u001b[0m\u001b[0mlink\u001b[0m\u001b[1;33m,\u001b[0m \u001b[0mviewed\u001b[0m\u001b[1;33m,\u001b[0m \u001b[0mtexts\u001b[0m\u001b[1;33m)\u001b[0m\u001b[1;33m\u001b[0m\u001b[1;33m\u001b[0m\u001b[0m\n\u001b[0m\u001b[0;32m     20\u001b[0m     \u001b[1;32melse\u001b[0m\u001b[1;33m:\u001b[0m\u001b[1;33m\u001b[0m\u001b[1;33m\u001b[0m\u001b[0m\n\u001b[0;32m     21\u001b[0m         \u001b[1;32mreturn\u001b[0m\u001b[1;33m\u001b[0m\u001b[1;33m\u001b[0m\u001b[0m\n",
      "\u001b[1;32m~\\AppData\\Local\\Temp/ipykernel_7540/134241545.py\u001b[0m in \u001b[0;36mlooklinks\u001b[1;34m(page, viewed, texts)\u001b[0m\n\u001b[0;32m     17\u001b[0m         \u001b[1;32mfor\u001b[0m \u001b[0mlink\u001b[0m \u001b[1;32min\u001b[0m \u001b[0mlinks\u001b[0m\u001b[1;33m:\u001b[0m\u001b[1;33m\u001b[0m\u001b[1;33m\u001b[0m\u001b[0m\n\u001b[0;32m     18\u001b[0m             \u001b[0msleep\u001b[0m\u001b[1;33m(\u001b[0m\u001b[1;36m1\u001b[0m\u001b[1;33m)\u001b[0m  \u001b[1;31m# чтоб нас случайно не заблочили как робота\u001b[0m\u001b[1;33m\u001b[0m\u001b[1;33m\u001b[0m\u001b[0m\n\u001b[1;32m---> 19\u001b[1;33m             \u001b[0mlooklinks\u001b[0m\u001b[1;33m(\u001b[0m\u001b[0mlink\u001b[0m\u001b[1;33m,\u001b[0m \u001b[0mviewed\u001b[0m\u001b[1;33m,\u001b[0m \u001b[0mtexts\u001b[0m\u001b[1;33m)\u001b[0m\u001b[1;33m\u001b[0m\u001b[1;33m\u001b[0m\u001b[0m\n\u001b[0m\u001b[0;32m     20\u001b[0m     \u001b[1;32melse\u001b[0m\u001b[1;33m:\u001b[0m\u001b[1;33m\u001b[0m\u001b[1;33m\u001b[0m\u001b[0m\n\u001b[0;32m     21\u001b[0m         \u001b[1;32mreturn\u001b[0m\u001b[1;33m\u001b[0m\u001b[1;33m\u001b[0m\u001b[0m\n",
      "\u001b[1;32m~\\AppData\\Local\\Temp/ipykernel_7540/134241545.py\u001b[0m in \u001b[0;36mlooklinks\u001b[1;34m(page, viewed, texts)\u001b[0m\n\u001b[0;32m     17\u001b[0m         \u001b[1;32mfor\u001b[0m \u001b[0mlink\u001b[0m \u001b[1;32min\u001b[0m \u001b[0mlinks\u001b[0m\u001b[1;33m:\u001b[0m\u001b[1;33m\u001b[0m\u001b[1;33m\u001b[0m\u001b[0m\n\u001b[0;32m     18\u001b[0m             \u001b[0msleep\u001b[0m\u001b[1;33m(\u001b[0m\u001b[1;36m1\u001b[0m\u001b[1;33m)\u001b[0m  \u001b[1;31m# чтоб нас случайно не заблочили как робота\u001b[0m\u001b[1;33m\u001b[0m\u001b[1;33m\u001b[0m\u001b[0m\n\u001b[1;32m---> 19\u001b[1;33m             \u001b[0mlooklinks\u001b[0m\u001b[1;33m(\u001b[0m\u001b[0mlink\u001b[0m\u001b[1;33m,\u001b[0m \u001b[0mviewed\u001b[0m\u001b[1;33m,\u001b[0m \u001b[0mtexts\u001b[0m\u001b[1;33m)\u001b[0m\u001b[1;33m\u001b[0m\u001b[1;33m\u001b[0m\u001b[0m\n\u001b[0m\u001b[0;32m     20\u001b[0m     \u001b[1;32melse\u001b[0m\u001b[1;33m:\u001b[0m\u001b[1;33m\u001b[0m\u001b[1;33m\u001b[0m\u001b[0m\n\u001b[0;32m     21\u001b[0m         \u001b[1;32mreturn\u001b[0m\u001b[1;33m\u001b[0m\u001b[1;33m\u001b[0m\u001b[0m\n",
      "\u001b[1;32m~\\AppData\\Local\\Temp/ipykernel_7540/134241545.py\u001b[0m in \u001b[0;36mlooklinks\u001b[1;34m(page, viewed, texts)\u001b[0m\n\u001b[0;32m     17\u001b[0m         \u001b[1;32mfor\u001b[0m \u001b[0mlink\u001b[0m \u001b[1;32min\u001b[0m \u001b[0mlinks\u001b[0m\u001b[1;33m:\u001b[0m\u001b[1;33m\u001b[0m\u001b[1;33m\u001b[0m\u001b[0m\n\u001b[0;32m     18\u001b[0m             \u001b[0msleep\u001b[0m\u001b[1;33m(\u001b[0m\u001b[1;36m1\u001b[0m\u001b[1;33m)\u001b[0m  \u001b[1;31m# чтоб нас случайно не заблочили как робота\u001b[0m\u001b[1;33m\u001b[0m\u001b[1;33m\u001b[0m\u001b[0m\n\u001b[1;32m---> 19\u001b[1;33m             \u001b[0mlooklinks\u001b[0m\u001b[1;33m(\u001b[0m\u001b[0mlink\u001b[0m\u001b[1;33m,\u001b[0m \u001b[0mviewed\u001b[0m\u001b[1;33m,\u001b[0m \u001b[0mtexts\u001b[0m\u001b[1;33m)\u001b[0m\u001b[1;33m\u001b[0m\u001b[1;33m\u001b[0m\u001b[0m\n\u001b[0m\u001b[0;32m     20\u001b[0m     \u001b[1;32melse\u001b[0m\u001b[1;33m:\u001b[0m\u001b[1;33m\u001b[0m\u001b[1;33m\u001b[0m\u001b[0m\n\u001b[0;32m     21\u001b[0m         \u001b[1;32mreturn\u001b[0m\u001b[1;33m\u001b[0m\u001b[1;33m\u001b[0m\u001b[0m\n",
      "\u001b[1;32m~\\AppData\\Local\\Temp/ipykernel_7540/134241545.py\u001b[0m in \u001b[0;36mlooklinks\u001b[1;34m(page, viewed, texts)\u001b[0m\n\u001b[0;32m     17\u001b[0m         \u001b[1;32mfor\u001b[0m \u001b[0mlink\u001b[0m \u001b[1;32min\u001b[0m \u001b[0mlinks\u001b[0m\u001b[1;33m:\u001b[0m\u001b[1;33m\u001b[0m\u001b[1;33m\u001b[0m\u001b[0m\n\u001b[0;32m     18\u001b[0m             \u001b[0msleep\u001b[0m\u001b[1;33m(\u001b[0m\u001b[1;36m1\u001b[0m\u001b[1;33m)\u001b[0m  \u001b[1;31m# чтоб нас случайно не заблочили как робота\u001b[0m\u001b[1;33m\u001b[0m\u001b[1;33m\u001b[0m\u001b[0m\n\u001b[1;32m---> 19\u001b[1;33m             \u001b[0mlooklinks\u001b[0m\u001b[1;33m(\u001b[0m\u001b[0mlink\u001b[0m\u001b[1;33m,\u001b[0m \u001b[0mviewed\u001b[0m\u001b[1;33m,\u001b[0m \u001b[0mtexts\u001b[0m\u001b[1;33m)\u001b[0m\u001b[1;33m\u001b[0m\u001b[1;33m\u001b[0m\u001b[0m\n\u001b[0m\u001b[0;32m     20\u001b[0m     \u001b[1;32melse\u001b[0m\u001b[1;33m:\u001b[0m\u001b[1;33m\u001b[0m\u001b[1;33m\u001b[0m\u001b[0m\n\u001b[0;32m     21\u001b[0m         \u001b[1;32mreturn\u001b[0m\u001b[1;33m\u001b[0m\u001b[1;33m\u001b[0m\u001b[0m\n",
      "\u001b[1;32m~\\AppData\\Local\\Temp/ipykernel_7540/134241545.py\u001b[0m in \u001b[0;36mlooklinks\u001b[1;34m(page, viewed, texts)\u001b[0m\n\u001b[0;32m     17\u001b[0m         \u001b[1;32mfor\u001b[0m \u001b[0mlink\u001b[0m \u001b[1;32min\u001b[0m \u001b[0mlinks\u001b[0m\u001b[1;33m:\u001b[0m\u001b[1;33m\u001b[0m\u001b[1;33m\u001b[0m\u001b[0m\n\u001b[0;32m     18\u001b[0m             \u001b[0msleep\u001b[0m\u001b[1;33m(\u001b[0m\u001b[1;36m1\u001b[0m\u001b[1;33m)\u001b[0m  \u001b[1;31m# чтоб нас случайно не заблочили как робота\u001b[0m\u001b[1;33m\u001b[0m\u001b[1;33m\u001b[0m\u001b[0m\n\u001b[1;32m---> 19\u001b[1;33m             \u001b[0mlooklinks\u001b[0m\u001b[1;33m(\u001b[0m\u001b[0mlink\u001b[0m\u001b[1;33m,\u001b[0m \u001b[0mviewed\u001b[0m\u001b[1;33m,\u001b[0m \u001b[0mtexts\u001b[0m\u001b[1;33m)\u001b[0m\u001b[1;33m\u001b[0m\u001b[1;33m\u001b[0m\u001b[0m\n\u001b[0m\u001b[0;32m     20\u001b[0m     \u001b[1;32melse\u001b[0m\u001b[1;33m:\u001b[0m\u001b[1;33m\u001b[0m\u001b[1;33m\u001b[0m\u001b[0m\n\u001b[0;32m     21\u001b[0m         \u001b[1;32mreturn\u001b[0m\u001b[1;33m\u001b[0m\u001b[1;33m\u001b[0m\u001b[0m\n",
      "\u001b[1;32m~\\AppData\\Local\\Temp/ipykernel_7540/134241545.py\u001b[0m in \u001b[0;36mlooklinks\u001b[1;34m(page, viewed, texts)\u001b[0m\n\u001b[0;32m     17\u001b[0m         \u001b[1;32mfor\u001b[0m \u001b[0mlink\u001b[0m \u001b[1;32min\u001b[0m \u001b[0mlinks\u001b[0m\u001b[1;33m:\u001b[0m\u001b[1;33m\u001b[0m\u001b[1;33m\u001b[0m\u001b[0m\n\u001b[0;32m     18\u001b[0m             \u001b[0msleep\u001b[0m\u001b[1;33m(\u001b[0m\u001b[1;36m1\u001b[0m\u001b[1;33m)\u001b[0m  \u001b[1;31m# чтоб нас случайно не заблочили как робота\u001b[0m\u001b[1;33m\u001b[0m\u001b[1;33m\u001b[0m\u001b[0m\n\u001b[1;32m---> 19\u001b[1;33m             \u001b[0mlooklinks\u001b[0m\u001b[1;33m(\u001b[0m\u001b[0mlink\u001b[0m\u001b[1;33m,\u001b[0m \u001b[0mviewed\u001b[0m\u001b[1;33m,\u001b[0m \u001b[0mtexts\u001b[0m\u001b[1;33m)\u001b[0m\u001b[1;33m\u001b[0m\u001b[1;33m\u001b[0m\u001b[0m\n\u001b[0m\u001b[0;32m     20\u001b[0m     \u001b[1;32melse\u001b[0m\u001b[1;33m:\u001b[0m\u001b[1;33m\u001b[0m\u001b[1;33m\u001b[0m\u001b[0m\n\u001b[0;32m     21\u001b[0m         \u001b[1;32mreturn\u001b[0m\u001b[1;33m\u001b[0m\u001b[1;33m\u001b[0m\u001b[0m\n",
      "\u001b[1;32m~\\AppData\\Local\\Temp/ipykernel_7540/134241545.py\u001b[0m in \u001b[0;36mlooklinks\u001b[1;34m(page, viewed, texts)\u001b[0m\n\u001b[0;32m     17\u001b[0m         \u001b[1;32mfor\u001b[0m \u001b[0mlink\u001b[0m \u001b[1;32min\u001b[0m \u001b[0mlinks\u001b[0m\u001b[1;33m:\u001b[0m\u001b[1;33m\u001b[0m\u001b[1;33m\u001b[0m\u001b[0m\n\u001b[0;32m     18\u001b[0m             \u001b[0msleep\u001b[0m\u001b[1;33m(\u001b[0m\u001b[1;36m1\u001b[0m\u001b[1;33m)\u001b[0m  \u001b[1;31m# чтоб нас случайно не заблочили как робота\u001b[0m\u001b[1;33m\u001b[0m\u001b[1;33m\u001b[0m\u001b[0m\n\u001b[1;32m---> 19\u001b[1;33m             \u001b[0mlooklinks\u001b[0m\u001b[1;33m(\u001b[0m\u001b[0mlink\u001b[0m\u001b[1;33m,\u001b[0m \u001b[0mviewed\u001b[0m\u001b[1;33m,\u001b[0m \u001b[0mtexts\u001b[0m\u001b[1;33m)\u001b[0m\u001b[1;33m\u001b[0m\u001b[1;33m\u001b[0m\u001b[0m\n\u001b[0m\u001b[0;32m     20\u001b[0m     \u001b[1;32melse\u001b[0m\u001b[1;33m:\u001b[0m\u001b[1;33m\u001b[0m\u001b[1;33m\u001b[0m\u001b[0m\n\u001b[0;32m     21\u001b[0m         \u001b[1;32mreturn\u001b[0m\u001b[1;33m\u001b[0m\u001b[1;33m\u001b[0m\u001b[0m\n",
      "\u001b[1;32m~\\AppData\\Local\\Temp/ipykernel_7540/134241545.py\u001b[0m in \u001b[0;36mlooklinks\u001b[1;34m(page, viewed, texts)\u001b[0m\n\u001b[0;32m     17\u001b[0m         \u001b[1;32mfor\u001b[0m \u001b[0mlink\u001b[0m \u001b[1;32min\u001b[0m \u001b[0mlinks\u001b[0m\u001b[1;33m:\u001b[0m\u001b[1;33m\u001b[0m\u001b[1;33m\u001b[0m\u001b[0m\n\u001b[0;32m     18\u001b[0m             \u001b[0msleep\u001b[0m\u001b[1;33m(\u001b[0m\u001b[1;36m1\u001b[0m\u001b[1;33m)\u001b[0m  \u001b[1;31m# чтоб нас случайно не заблочили как робота\u001b[0m\u001b[1;33m\u001b[0m\u001b[1;33m\u001b[0m\u001b[0m\n\u001b[1;32m---> 19\u001b[1;33m             \u001b[0mlooklinks\u001b[0m\u001b[1;33m(\u001b[0m\u001b[0mlink\u001b[0m\u001b[1;33m,\u001b[0m \u001b[0mviewed\u001b[0m\u001b[1;33m,\u001b[0m \u001b[0mtexts\u001b[0m\u001b[1;33m)\u001b[0m\u001b[1;33m\u001b[0m\u001b[1;33m\u001b[0m\u001b[0m\n\u001b[0m\u001b[0;32m     20\u001b[0m     \u001b[1;32melse\u001b[0m\u001b[1;33m:\u001b[0m\u001b[1;33m\u001b[0m\u001b[1;33m\u001b[0m\u001b[0m\n\u001b[0;32m     21\u001b[0m         \u001b[1;32mreturn\u001b[0m\u001b[1;33m\u001b[0m\u001b[1;33m\u001b[0m\u001b[0m\n",
      "\u001b[1;32m~\\AppData\\Local\\Temp/ipykernel_7540/134241545.py\u001b[0m in \u001b[0;36mlooklinks\u001b[1;34m(page, viewed, texts)\u001b[0m\n\u001b[0;32m     17\u001b[0m         \u001b[1;32mfor\u001b[0m \u001b[0mlink\u001b[0m \u001b[1;32min\u001b[0m \u001b[0mlinks\u001b[0m\u001b[1;33m:\u001b[0m\u001b[1;33m\u001b[0m\u001b[1;33m\u001b[0m\u001b[0m\n\u001b[0;32m     18\u001b[0m             \u001b[0msleep\u001b[0m\u001b[1;33m(\u001b[0m\u001b[1;36m1\u001b[0m\u001b[1;33m)\u001b[0m  \u001b[1;31m# чтоб нас случайно не заблочили как робота\u001b[0m\u001b[1;33m\u001b[0m\u001b[1;33m\u001b[0m\u001b[0m\n\u001b[1;32m---> 19\u001b[1;33m             \u001b[0mlooklinks\u001b[0m\u001b[1;33m(\u001b[0m\u001b[0mlink\u001b[0m\u001b[1;33m,\u001b[0m \u001b[0mviewed\u001b[0m\u001b[1;33m,\u001b[0m \u001b[0mtexts\u001b[0m\u001b[1;33m)\u001b[0m\u001b[1;33m\u001b[0m\u001b[1;33m\u001b[0m\u001b[0m\n\u001b[0m\u001b[0;32m     20\u001b[0m     \u001b[1;32melse\u001b[0m\u001b[1;33m:\u001b[0m\u001b[1;33m\u001b[0m\u001b[1;33m\u001b[0m\u001b[0m\n\u001b[0;32m     21\u001b[0m         \u001b[1;32mreturn\u001b[0m\u001b[1;33m\u001b[0m\u001b[1;33m\u001b[0m\u001b[0m\n",
      "\u001b[1;32m~\\AppData\\Local\\Temp/ipykernel_7540/134241545.py\u001b[0m in \u001b[0;36mlooklinks\u001b[1;34m(page, viewed, texts)\u001b[0m\n\u001b[0;32m     17\u001b[0m         \u001b[1;32mfor\u001b[0m \u001b[0mlink\u001b[0m \u001b[1;32min\u001b[0m \u001b[0mlinks\u001b[0m\u001b[1;33m:\u001b[0m\u001b[1;33m\u001b[0m\u001b[1;33m\u001b[0m\u001b[0m\n\u001b[0;32m     18\u001b[0m             \u001b[0msleep\u001b[0m\u001b[1;33m(\u001b[0m\u001b[1;36m1\u001b[0m\u001b[1;33m)\u001b[0m  \u001b[1;31m# чтоб нас случайно не заблочили как робота\u001b[0m\u001b[1;33m\u001b[0m\u001b[1;33m\u001b[0m\u001b[0m\n\u001b[1;32m---> 19\u001b[1;33m             \u001b[0mlooklinks\u001b[0m\u001b[1;33m(\u001b[0m\u001b[0mlink\u001b[0m\u001b[1;33m,\u001b[0m \u001b[0mviewed\u001b[0m\u001b[1;33m,\u001b[0m \u001b[0mtexts\u001b[0m\u001b[1;33m)\u001b[0m\u001b[1;33m\u001b[0m\u001b[1;33m\u001b[0m\u001b[0m\n\u001b[0m\u001b[0;32m     20\u001b[0m     \u001b[1;32melse\u001b[0m\u001b[1;33m:\u001b[0m\u001b[1;33m\u001b[0m\u001b[1;33m\u001b[0m\u001b[0m\n\u001b[0;32m     21\u001b[0m         \u001b[1;32mreturn\u001b[0m\u001b[1;33m\u001b[0m\u001b[1;33m\u001b[0m\u001b[0m\n",
      "\u001b[1;32m~\\AppData\\Local\\Temp/ipykernel_7540/134241545.py\u001b[0m in \u001b[0;36mlooklinks\u001b[1;34m(page, viewed, texts)\u001b[0m\n\u001b[0;32m     17\u001b[0m         \u001b[1;32mfor\u001b[0m \u001b[0mlink\u001b[0m \u001b[1;32min\u001b[0m \u001b[0mlinks\u001b[0m\u001b[1;33m:\u001b[0m\u001b[1;33m\u001b[0m\u001b[1;33m\u001b[0m\u001b[0m\n\u001b[0;32m     18\u001b[0m             \u001b[0msleep\u001b[0m\u001b[1;33m(\u001b[0m\u001b[1;36m1\u001b[0m\u001b[1;33m)\u001b[0m  \u001b[1;31m# чтоб нас случайно не заблочили как робота\u001b[0m\u001b[1;33m\u001b[0m\u001b[1;33m\u001b[0m\u001b[0m\n\u001b[1;32m---> 19\u001b[1;33m             \u001b[0mlooklinks\u001b[0m\u001b[1;33m(\u001b[0m\u001b[0mlink\u001b[0m\u001b[1;33m,\u001b[0m \u001b[0mviewed\u001b[0m\u001b[1;33m,\u001b[0m \u001b[0mtexts\u001b[0m\u001b[1;33m)\u001b[0m\u001b[1;33m\u001b[0m\u001b[1;33m\u001b[0m\u001b[0m\n\u001b[0m\u001b[0;32m     20\u001b[0m     \u001b[1;32melse\u001b[0m\u001b[1;33m:\u001b[0m\u001b[1;33m\u001b[0m\u001b[1;33m\u001b[0m\u001b[0m\n\u001b[0;32m     21\u001b[0m         \u001b[1;32mreturn\u001b[0m\u001b[1;33m\u001b[0m\u001b[1;33m\u001b[0m\u001b[0m\n",
      "\u001b[1;32m~\\AppData\\Local\\Temp/ipykernel_7540/134241545.py\u001b[0m in \u001b[0;36mlooklinks\u001b[1;34m(page, viewed, texts)\u001b[0m\n\u001b[0;32m     17\u001b[0m         \u001b[1;32mfor\u001b[0m \u001b[0mlink\u001b[0m \u001b[1;32min\u001b[0m \u001b[0mlinks\u001b[0m\u001b[1;33m:\u001b[0m\u001b[1;33m\u001b[0m\u001b[1;33m\u001b[0m\u001b[0m\n\u001b[0;32m     18\u001b[0m             \u001b[0msleep\u001b[0m\u001b[1;33m(\u001b[0m\u001b[1;36m1\u001b[0m\u001b[1;33m)\u001b[0m  \u001b[1;31m# чтоб нас случайно не заблочили как робота\u001b[0m\u001b[1;33m\u001b[0m\u001b[1;33m\u001b[0m\u001b[0m\n\u001b[1;32m---> 19\u001b[1;33m             \u001b[0mlooklinks\u001b[0m\u001b[1;33m(\u001b[0m\u001b[0mlink\u001b[0m\u001b[1;33m,\u001b[0m \u001b[0mviewed\u001b[0m\u001b[1;33m,\u001b[0m \u001b[0mtexts\u001b[0m\u001b[1;33m)\u001b[0m\u001b[1;33m\u001b[0m\u001b[1;33m\u001b[0m\u001b[0m\n\u001b[0m\u001b[0;32m     20\u001b[0m     \u001b[1;32melse\u001b[0m\u001b[1;33m:\u001b[0m\u001b[1;33m\u001b[0m\u001b[1;33m\u001b[0m\u001b[0m\n\u001b[0;32m     21\u001b[0m         \u001b[1;32mreturn\u001b[0m\u001b[1;33m\u001b[0m\u001b[1;33m\u001b[0m\u001b[0m\n",
      "\u001b[1;32m~\\AppData\\Local\\Temp/ipykernel_7540/134241545.py\u001b[0m in \u001b[0;36mlooklinks\u001b[1;34m(page, viewed, texts)\u001b[0m\n\u001b[0;32m     17\u001b[0m         \u001b[1;32mfor\u001b[0m \u001b[0mlink\u001b[0m \u001b[1;32min\u001b[0m \u001b[0mlinks\u001b[0m\u001b[1;33m:\u001b[0m\u001b[1;33m\u001b[0m\u001b[1;33m\u001b[0m\u001b[0m\n\u001b[0;32m     18\u001b[0m             \u001b[0msleep\u001b[0m\u001b[1;33m(\u001b[0m\u001b[1;36m1\u001b[0m\u001b[1;33m)\u001b[0m  \u001b[1;31m# чтоб нас случайно не заблочили как робота\u001b[0m\u001b[1;33m\u001b[0m\u001b[1;33m\u001b[0m\u001b[0m\n\u001b[1;32m---> 19\u001b[1;33m             \u001b[0mlooklinks\u001b[0m\u001b[1;33m(\u001b[0m\u001b[0mlink\u001b[0m\u001b[1;33m,\u001b[0m \u001b[0mviewed\u001b[0m\u001b[1;33m,\u001b[0m \u001b[0mtexts\u001b[0m\u001b[1;33m)\u001b[0m\u001b[1;33m\u001b[0m\u001b[1;33m\u001b[0m\u001b[0m\n\u001b[0m\u001b[0;32m     20\u001b[0m     \u001b[1;32melse\u001b[0m\u001b[1;33m:\u001b[0m\u001b[1;33m\u001b[0m\u001b[1;33m\u001b[0m\u001b[0m\n\u001b[0;32m     21\u001b[0m         \u001b[1;32mreturn\u001b[0m\u001b[1;33m\u001b[0m\u001b[1;33m\u001b[0m\u001b[0m\n",
      "\u001b[1;32m~\\AppData\\Local\\Temp/ipykernel_7540/134241545.py\u001b[0m in \u001b[0;36mlooklinks\u001b[1;34m(page, viewed, texts)\u001b[0m\n\u001b[0;32m     17\u001b[0m         \u001b[1;32mfor\u001b[0m \u001b[0mlink\u001b[0m \u001b[1;32min\u001b[0m \u001b[0mlinks\u001b[0m\u001b[1;33m:\u001b[0m\u001b[1;33m\u001b[0m\u001b[1;33m\u001b[0m\u001b[0m\n\u001b[0;32m     18\u001b[0m             \u001b[0msleep\u001b[0m\u001b[1;33m(\u001b[0m\u001b[1;36m1\u001b[0m\u001b[1;33m)\u001b[0m  \u001b[1;31m# чтоб нас случайно не заблочили как робота\u001b[0m\u001b[1;33m\u001b[0m\u001b[1;33m\u001b[0m\u001b[0m\n\u001b[1;32m---> 19\u001b[1;33m             \u001b[0mlooklinks\u001b[0m\u001b[1;33m(\u001b[0m\u001b[0mlink\u001b[0m\u001b[1;33m,\u001b[0m \u001b[0mviewed\u001b[0m\u001b[1;33m,\u001b[0m \u001b[0mtexts\u001b[0m\u001b[1;33m)\u001b[0m\u001b[1;33m\u001b[0m\u001b[1;33m\u001b[0m\u001b[0m\n\u001b[0m\u001b[0;32m     20\u001b[0m     \u001b[1;32melse\u001b[0m\u001b[1;33m:\u001b[0m\u001b[1;33m\u001b[0m\u001b[1;33m\u001b[0m\u001b[0m\n\u001b[0;32m     21\u001b[0m         \u001b[1;32mreturn\u001b[0m\u001b[1;33m\u001b[0m\u001b[1;33m\u001b[0m\u001b[0m\n",
      "\u001b[1;32m~\\AppData\\Local\\Temp/ipykernel_7540/134241545.py\u001b[0m in \u001b[0;36mlooklinks\u001b[1;34m(page, viewed, texts)\u001b[0m\n\u001b[0;32m     17\u001b[0m         \u001b[1;32mfor\u001b[0m \u001b[0mlink\u001b[0m \u001b[1;32min\u001b[0m \u001b[0mlinks\u001b[0m\u001b[1;33m:\u001b[0m\u001b[1;33m\u001b[0m\u001b[1;33m\u001b[0m\u001b[0m\n\u001b[0;32m     18\u001b[0m             \u001b[0msleep\u001b[0m\u001b[1;33m(\u001b[0m\u001b[1;36m1\u001b[0m\u001b[1;33m)\u001b[0m  \u001b[1;31m# чтоб нас случайно не заблочили как робота\u001b[0m\u001b[1;33m\u001b[0m\u001b[1;33m\u001b[0m\u001b[0m\n\u001b[1;32m---> 19\u001b[1;33m             \u001b[0mlooklinks\u001b[0m\u001b[1;33m(\u001b[0m\u001b[0mlink\u001b[0m\u001b[1;33m,\u001b[0m \u001b[0mviewed\u001b[0m\u001b[1;33m,\u001b[0m \u001b[0mtexts\u001b[0m\u001b[1;33m)\u001b[0m\u001b[1;33m\u001b[0m\u001b[1;33m\u001b[0m\u001b[0m\n\u001b[0m\u001b[0;32m     20\u001b[0m     \u001b[1;32melse\u001b[0m\u001b[1;33m:\u001b[0m\u001b[1;33m\u001b[0m\u001b[1;33m\u001b[0m\u001b[0m\n\u001b[0;32m     21\u001b[0m         \u001b[1;32mreturn\u001b[0m\u001b[1;33m\u001b[0m\u001b[1;33m\u001b[0m\u001b[0m\n",
      "\u001b[1;32m~\\AppData\\Local\\Temp/ipykernel_7540/134241545.py\u001b[0m in \u001b[0;36mlooklinks\u001b[1;34m(page, viewed, texts)\u001b[0m\n\u001b[0;32m     17\u001b[0m         \u001b[1;32mfor\u001b[0m \u001b[0mlink\u001b[0m \u001b[1;32min\u001b[0m \u001b[0mlinks\u001b[0m\u001b[1;33m:\u001b[0m\u001b[1;33m\u001b[0m\u001b[1;33m\u001b[0m\u001b[0m\n\u001b[0;32m     18\u001b[0m             \u001b[0msleep\u001b[0m\u001b[1;33m(\u001b[0m\u001b[1;36m1\u001b[0m\u001b[1;33m)\u001b[0m  \u001b[1;31m# чтоб нас случайно не заблочили как робота\u001b[0m\u001b[1;33m\u001b[0m\u001b[1;33m\u001b[0m\u001b[0m\n\u001b[1;32m---> 19\u001b[1;33m             \u001b[0mlooklinks\u001b[0m\u001b[1;33m(\u001b[0m\u001b[0mlink\u001b[0m\u001b[1;33m,\u001b[0m \u001b[0mviewed\u001b[0m\u001b[1;33m,\u001b[0m \u001b[0mtexts\u001b[0m\u001b[1;33m)\u001b[0m\u001b[1;33m\u001b[0m\u001b[1;33m\u001b[0m\u001b[0m\n\u001b[0m\u001b[0;32m     20\u001b[0m     \u001b[1;32melse\u001b[0m\u001b[1;33m:\u001b[0m\u001b[1;33m\u001b[0m\u001b[1;33m\u001b[0m\u001b[0m\n\u001b[0;32m     21\u001b[0m         \u001b[1;32mreturn\u001b[0m\u001b[1;33m\u001b[0m\u001b[1;33m\u001b[0m\u001b[0m\n",
      "\u001b[1;32m~\\AppData\\Local\\Temp/ipykernel_7540/134241545.py\u001b[0m in \u001b[0;36mlooklinks\u001b[1;34m(page, viewed, texts)\u001b[0m\n\u001b[0;32m     17\u001b[0m         \u001b[1;32mfor\u001b[0m \u001b[0mlink\u001b[0m \u001b[1;32min\u001b[0m \u001b[0mlinks\u001b[0m\u001b[1;33m:\u001b[0m\u001b[1;33m\u001b[0m\u001b[1;33m\u001b[0m\u001b[0m\n\u001b[0;32m     18\u001b[0m             \u001b[0msleep\u001b[0m\u001b[1;33m(\u001b[0m\u001b[1;36m1\u001b[0m\u001b[1;33m)\u001b[0m  \u001b[1;31m# чтоб нас случайно не заблочили как робота\u001b[0m\u001b[1;33m\u001b[0m\u001b[1;33m\u001b[0m\u001b[0m\n\u001b[1;32m---> 19\u001b[1;33m             \u001b[0mlooklinks\u001b[0m\u001b[1;33m(\u001b[0m\u001b[0mlink\u001b[0m\u001b[1;33m,\u001b[0m \u001b[0mviewed\u001b[0m\u001b[1;33m,\u001b[0m \u001b[0mtexts\u001b[0m\u001b[1;33m)\u001b[0m\u001b[1;33m\u001b[0m\u001b[1;33m\u001b[0m\u001b[0m\n\u001b[0m\u001b[0;32m     20\u001b[0m     \u001b[1;32melse\u001b[0m\u001b[1;33m:\u001b[0m\u001b[1;33m\u001b[0m\u001b[1;33m\u001b[0m\u001b[0m\n\u001b[0;32m     21\u001b[0m         \u001b[1;32mreturn\u001b[0m\u001b[1;33m\u001b[0m\u001b[1;33m\u001b[0m\u001b[0m\n",
      "\u001b[1;32m~\\AppData\\Local\\Temp/ipykernel_7540/134241545.py\u001b[0m in \u001b[0;36mlooklinks\u001b[1;34m(page, viewed, texts)\u001b[0m\n\u001b[0;32m     17\u001b[0m         \u001b[1;32mfor\u001b[0m \u001b[0mlink\u001b[0m \u001b[1;32min\u001b[0m \u001b[0mlinks\u001b[0m\u001b[1;33m:\u001b[0m\u001b[1;33m\u001b[0m\u001b[1;33m\u001b[0m\u001b[0m\n\u001b[0;32m     18\u001b[0m             \u001b[0msleep\u001b[0m\u001b[1;33m(\u001b[0m\u001b[1;36m1\u001b[0m\u001b[1;33m)\u001b[0m  \u001b[1;31m# чтоб нас случайно не заблочили как робота\u001b[0m\u001b[1;33m\u001b[0m\u001b[1;33m\u001b[0m\u001b[0m\n\u001b[1;32m---> 19\u001b[1;33m             \u001b[0mlooklinks\u001b[0m\u001b[1;33m(\u001b[0m\u001b[0mlink\u001b[0m\u001b[1;33m,\u001b[0m \u001b[0mviewed\u001b[0m\u001b[1;33m,\u001b[0m \u001b[0mtexts\u001b[0m\u001b[1;33m)\u001b[0m\u001b[1;33m\u001b[0m\u001b[1;33m\u001b[0m\u001b[0m\n\u001b[0m\u001b[0;32m     20\u001b[0m     \u001b[1;32melse\u001b[0m\u001b[1;33m:\u001b[0m\u001b[1;33m\u001b[0m\u001b[1;33m\u001b[0m\u001b[0m\n\u001b[0;32m     21\u001b[0m         \u001b[1;32mreturn\u001b[0m\u001b[1;33m\u001b[0m\u001b[1;33m\u001b[0m\u001b[0m\n",
      "\u001b[1;32m~\\AppData\\Local\\Temp/ipykernel_7540/134241545.py\u001b[0m in \u001b[0;36mlooklinks\u001b[1;34m(page, viewed, texts)\u001b[0m\n\u001b[0;32m     17\u001b[0m         \u001b[1;32mfor\u001b[0m \u001b[0mlink\u001b[0m \u001b[1;32min\u001b[0m \u001b[0mlinks\u001b[0m\u001b[1;33m:\u001b[0m\u001b[1;33m\u001b[0m\u001b[1;33m\u001b[0m\u001b[0m\n\u001b[0;32m     18\u001b[0m             \u001b[0msleep\u001b[0m\u001b[1;33m(\u001b[0m\u001b[1;36m1\u001b[0m\u001b[1;33m)\u001b[0m  \u001b[1;31m# чтоб нас случайно не заблочили как робота\u001b[0m\u001b[1;33m\u001b[0m\u001b[1;33m\u001b[0m\u001b[0m\n\u001b[1;32m---> 19\u001b[1;33m             \u001b[0mlooklinks\u001b[0m\u001b[1;33m(\u001b[0m\u001b[0mlink\u001b[0m\u001b[1;33m,\u001b[0m \u001b[0mviewed\u001b[0m\u001b[1;33m,\u001b[0m \u001b[0mtexts\u001b[0m\u001b[1;33m)\u001b[0m\u001b[1;33m\u001b[0m\u001b[1;33m\u001b[0m\u001b[0m\n\u001b[0m\u001b[0;32m     20\u001b[0m     \u001b[1;32melse\u001b[0m\u001b[1;33m:\u001b[0m\u001b[1;33m\u001b[0m\u001b[1;33m\u001b[0m\u001b[0m\n\u001b[0;32m     21\u001b[0m         \u001b[1;32mreturn\u001b[0m\u001b[1;33m\u001b[0m\u001b[1;33m\u001b[0m\u001b[0m\n",
      "\u001b[1;32m~\\AppData\\Local\\Temp/ipykernel_7540/134241545.py\u001b[0m in \u001b[0;36mlooklinks\u001b[1;34m(page, viewed, texts)\u001b[0m\n\u001b[0;32m     17\u001b[0m         \u001b[1;32mfor\u001b[0m \u001b[0mlink\u001b[0m \u001b[1;32min\u001b[0m \u001b[0mlinks\u001b[0m\u001b[1;33m:\u001b[0m\u001b[1;33m\u001b[0m\u001b[1;33m\u001b[0m\u001b[0m\n\u001b[0;32m     18\u001b[0m             \u001b[0msleep\u001b[0m\u001b[1;33m(\u001b[0m\u001b[1;36m1\u001b[0m\u001b[1;33m)\u001b[0m  \u001b[1;31m# чтоб нас случайно не заблочили как робота\u001b[0m\u001b[1;33m\u001b[0m\u001b[1;33m\u001b[0m\u001b[0m\n\u001b[1;32m---> 19\u001b[1;33m             \u001b[0mlooklinks\u001b[0m\u001b[1;33m(\u001b[0m\u001b[0mlink\u001b[0m\u001b[1;33m,\u001b[0m \u001b[0mviewed\u001b[0m\u001b[1;33m,\u001b[0m \u001b[0mtexts\u001b[0m\u001b[1;33m)\u001b[0m\u001b[1;33m\u001b[0m\u001b[1;33m\u001b[0m\u001b[0m\n\u001b[0m\u001b[0;32m     20\u001b[0m     \u001b[1;32melse\u001b[0m\u001b[1;33m:\u001b[0m\u001b[1;33m\u001b[0m\u001b[1;33m\u001b[0m\u001b[0m\n\u001b[0;32m     21\u001b[0m         \u001b[1;32mreturn\u001b[0m\u001b[1;33m\u001b[0m\u001b[1;33m\u001b[0m\u001b[0m\n",
      "\u001b[1;32m~\\AppData\\Local\\Temp/ipykernel_7540/134241545.py\u001b[0m in \u001b[0;36mlooklinks\u001b[1;34m(page, viewed, texts)\u001b[0m\n\u001b[0;32m     17\u001b[0m         \u001b[1;32mfor\u001b[0m \u001b[0mlink\u001b[0m \u001b[1;32min\u001b[0m \u001b[0mlinks\u001b[0m\u001b[1;33m:\u001b[0m\u001b[1;33m\u001b[0m\u001b[1;33m\u001b[0m\u001b[0m\n\u001b[0;32m     18\u001b[0m             \u001b[0msleep\u001b[0m\u001b[1;33m(\u001b[0m\u001b[1;36m1\u001b[0m\u001b[1;33m)\u001b[0m  \u001b[1;31m# чтоб нас случайно не заблочили как робота\u001b[0m\u001b[1;33m\u001b[0m\u001b[1;33m\u001b[0m\u001b[0m\n\u001b[1;32m---> 19\u001b[1;33m             \u001b[0mlooklinks\u001b[0m\u001b[1;33m(\u001b[0m\u001b[0mlink\u001b[0m\u001b[1;33m,\u001b[0m \u001b[0mviewed\u001b[0m\u001b[1;33m,\u001b[0m \u001b[0mtexts\u001b[0m\u001b[1;33m)\u001b[0m\u001b[1;33m\u001b[0m\u001b[1;33m\u001b[0m\u001b[0m\n\u001b[0m\u001b[0;32m     20\u001b[0m     \u001b[1;32melse\u001b[0m\u001b[1;33m:\u001b[0m\u001b[1;33m\u001b[0m\u001b[1;33m\u001b[0m\u001b[0m\n\u001b[0;32m     21\u001b[0m         \u001b[1;32mreturn\u001b[0m\u001b[1;33m\u001b[0m\u001b[1;33m\u001b[0m\u001b[0m\n",
      "\u001b[1;32m~\\AppData\\Local\\Temp/ipykernel_7540/134241545.py\u001b[0m in \u001b[0;36mlooklinks\u001b[1;34m(page, viewed, texts)\u001b[0m\n\u001b[0;32m     16\u001b[0m     \u001b[1;32mif\u001b[0m \u001b[0mlinks\u001b[0m\u001b[1;33m:\u001b[0m\u001b[1;33m\u001b[0m\u001b[1;33m\u001b[0m\u001b[0m\n\u001b[0;32m     17\u001b[0m         \u001b[1;32mfor\u001b[0m \u001b[0mlink\u001b[0m \u001b[1;32min\u001b[0m \u001b[0mlinks\u001b[0m\u001b[1;33m:\u001b[0m\u001b[1;33m\u001b[0m\u001b[1;33m\u001b[0m\u001b[0m\n\u001b[1;32m---> 18\u001b[1;33m             \u001b[0msleep\u001b[0m\u001b[1;33m(\u001b[0m\u001b[1;36m1\u001b[0m\u001b[1;33m)\u001b[0m  \u001b[1;31m# чтоб нас случайно не заблочили как робота\u001b[0m\u001b[1;33m\u001b[0m\u001b[1;33m\u001b[0m\u001b[0m\n\u001b[0m\u001b[0;32m     19\u001b[0m             \u001b[0mlooklinks\u001b[0m\u001b[1;33m(\u001b[0m\u001b[0mlink\u001b[0m\u001b[1;33m,\u001b[0m \u001b[0mviewed\u001b[0m\u001b[1;33m,\u001b[0m \u001b[0mtexts\u001b[0m\u001b[1;33m)\u001b[0m\u001b[1;33m\u001b[0m\u001b[1;33m\u001b[0m\u001b[0m\n\u001b[0;32m     20\u001b[0m     \u001b[1;32melse\u001b[0m\u001b[1;33m:\u001b[0m\u001b[1;33m\u001b[0m\u001b[1;33m\u001b[0m\u001b[0m\n",
      "\u001b[1;31mKeyboardInterrupt\u001b[0m: "
     ]
    }
   ],
   "source": [
    "start = 'https://proza.ru/avtor/evgeny1951mai'\n",
    "looklinks(start, viewedlinks, texts)\n"
   ]
  },
  {
   "cell_type": "code",
   "execution_count": null,
   "metadata": {},
   "outputs": [],
   "source": [
    "texts"
   ]
  },
  {
   "cell_type": "markdown",
   "metadata": {},
   "source": [
    "Видим, что все работает и что наш скрейпер, как ему и полагается, ползает со страницы на страницу и рано или поздно выкачает всю прозу, если мы не установим какой-нибудь лимит, например:"
   ]
  },
  {
   "cell_type": "code",
   "execution_count": null,
   "metadata": {},
   "outputs": [],
   "source": [
    "def looklinks(page, viewed, texts, N=10):\n",
    "    \"\"\"Тестовая функция для просмотра всех ссылок на странице и добавления текстов\"\"\"\n",
    "    if len(texts) > N:  # N - число текстов, которое мы хотим выкачать\n",
    "        return\n",
    "    print(page)\n",
    "    fid = urllib.request.urlopen(page) \n",
    "    webpage = fid.read().decode('cp1251')\n",
    "    viewed.add(page)\n",
    "    if re.match(r'https://proza.ru/\\d{4}/\\d\\d/\\d\\d/.*', page):\n",
    "        texts.append(webpage)\n",
    "        print(f'text for {page} added!')\n",
    "    soup = bs(webpage, 'html.parser') \n",
    "    links = []\n",
    "    for link in soup.find_all('a', attrs={'href': re.compile(r'^/.+')}):\n",
    "        l = 'https://proza.ru' + link.get('href')\n",
    "        if l not in viewed:\n",
    "            links.append(l)\n",
    "    if links:\n",
    "        for link in links:\n",
    "            sleep(1)  # чтоб нас случайно не заблочили как робота\n",
    "            looklinks(link, viewed, texts)\n",
    "    else:\n",
    "        return "
   ]
  },
  {
   "cell_type": "markdown",
   "metadata": {},
   "source": [
    "Отлично, дело за малым: вытащить собственно тексты из html-разметки :) И метаинформацию о них: заголовок, автора и дату публикации. \n",
    "\n",
    "Заголовок, очевидно, лежит в самом html, это:\n",
    "\n",
    "        <title>Моё деревенское счастье. Предисловие (Александр Алексеевич Кочевник) / Проза.ру</title> \n",
    "\n",
    "Автор тоже есть, он зашит в заголовке: r'(.+?) \\((.+?)\\) / Проза.ру'\n",
    "\n",
    "Ну а дату можно из ссылки страницы извлечь, мы уже выяснили, что эти ссылки нумеруются датами. Следовательно:"
   ]
  },
  {
   "cell_type": "code",
   "execution_count": 78,
   "metadata": {},
   "outputs": [],
   "source": [
    "def looklinks(page, viewed, texts, N=10):\n",
    "    \"\"\"Тестовая функция для просмотра всех ссылок на странице и добавления текстов\"\"\"\n",
    "    print(page)\n",
    "    fid = urllib.request.urlopen(page) \n",
    "    webpage = fid.read().decode('cp1251')\n",
    "    viewed.add(page)\n",
    "    soup = bs(webpage, 'html.parser') \n",
    "    # вот наш кусочек, который будет отвечать за добавление всего в итоговый список текстов:\n",
    "    if re.match(r'https://proza.ru/\\d{4}/\\d\\d/\\d\\d/.*', page):\n",
    "        ta = re.search(r'(.+?) \\((.+?)\\) / Проза.ру', soup.title.string) # расчленяем заголовок на автора и название с помощью групп в регулярках\n",
    "        if ta:\n",
    "            title = ta.group(1)\n",
    "            author = ta.group(2)\n",
    "        else:\n",
    "            # а вдруг мы где-то накосячили с регуляркой\n",
    "            title = 'Unknown'\n",
    "            author = 'Unknown'\n",
    "        year = re.search(r'https://proza.ru/(\\d{4}/\\d\\d/\\d\\d)/.*', page).group(1) # получаем год с помощью группы\n",
    "        text = '\\n'.join((elem.text for elem in soup.find_all(\"div\", {\"class\": \"text\"})))  # собираем все возможные сегменты класса \"текст\" с помощью bs4\n",
    "        texts.append({'title': title, 'author': author, 'year': year, 'text': text})\n",
    "        print(f'text for {page} added!')\n",
    "    links = []\n",
    "    for link in soup.find_all('a', attrs={'href': re.compile(r'^/.+')}):\n",
    "        l = 'https://proza.ru' + link.get('href')\n",
    "        if l not in viewed:\n",
    "            links.append(l)\n",
    "    if links:\n",
    "        for link in links:\n",
    "            if re.search('board|login|help|topic|type|about', link): # мы, вероятно, не хотим бесконечно лазать по внутренностям не интересующих нас разделов\n",
    "                continue\n",
    "            if len(texts) > N:  # N - число текстов, которое мы хотим выкачать\n",
    "                return\n",
    "            sleep(0.5)  # чтоб нас случайно не заблочили как робота\n",
    "            looklinks(link, viewed, texts, N)\n",
    "    else:\n",
    "        return "
   ]
  },
  {
   "cell_type": "code",
   "execution_count": 79,
   "metadata": {},
   "outputs": [],
   "source": [
    "viewedlinks = set('https://proza.ru/') # для чистоты эксперимента обнулим наш список просмотренного\n",
    "texts = [] # и список текстов"
   ]
  },
  {
   "cell_type": "code",
   "execution_count": 80,
   "metadata": {},
   "outputs": [
    {
     "name": "stdout",
     "output_type": "stream",
     "text": [
      "https://proza.ru/avtor/evgeny1951mai\n",
      "https://proza.ru/authors/\n",
      "https://proza.ru/poems/\n",
      "https://proza.ru/search.html\n",
      "https://proza.ru/reg.html\n",
      "https://proza.ru/texts/list.html\n",
      "https://proza.ru/rating.html\n",
      "https://proza.ru/2022/10/08/972\n",
      "text for https://proza.ru/2022/10/08/972 added!\n",
      "https://proza.ru/avtor/aleksandra34\n",
      "https://proza.ru/recommend.html?aleksandra34\n",
      "https://proza.ru/authors/password.html\n",
      "https://proza.ru/rec_author.html?aleksandra34\n",
      "https://proza.ru/avtor/ksark\n",
      "https://proza.ru/recommend.html?ksark\n",
      "https://proza.ru/rec_author.html?ksark\n",
      "https://proza.ru/2022/09/24/1382\n",
      "text for https://proza.ru/2022/09/24/1382 added!\n",
      "https://proza.ru/readers.html?2022/09/24/1382\n",
      "https://proza.ru/avtor/victorlev\n",
      "https://proza.ru/recommend.html?victorlev\n",
      "https://proza.ru/rec_author.html?victorlev\n",
      "https://proza.ru/2020/10/03/928\n",
      "text for https://proza.ru/2020/10/03/928 added!\n",
      "https://proza.ru/readers.html?2020/10/03/928\n",
      "https://proza.ru/avtor/dianakor\n",
      "https://proza.ru/recommend.html?dianakor\n",
      "https://proza.ru/rec_author.html?dianakor\n",
      "https://proza.ru/2022/09/17/1695\n",
      "text for https://proza.ru/2022/09/17/1695 added!\n",
      "https://proza.ru/readers.html?2022/09/17/1695\n",
      "https://proza.ru/avtor/alexoven\n",
      "https://proza.ru/recommend.html?alexoven\n",
      "https://proza.ru/rec_author.html?alexoven\n",
      "https://proza.ru/2022/09/30/104\n",
      "text for https://proza.ru/2022/09/30/104 added!\n",
      "https://proza.ru/readers.html?2022/09/30/104\n",
      "https://proza.ru/avtor/1705001793101b\n",
      "https://proza.ru/recommend.html?1705001793101b\n",
      "https://proza.ru/rec_author.html?1705001793101b\n",
      "https://proza.ru/2022/01/25/29\n",
      "text for https://proza.ru/2022/01/25/29 added!\n",
      "https://proza.ru/readers.html?2022/01/25/29\n",
      "https://proza.ru/avtor/victorl\n",
      "https://proza.ru/recommend.html?victorl\n",
      "https://proza.ru/rec_author.html?victorl\n",
      "https://proza.ru/2018/07/04/881\n",
      "text for https://proza.ru/2018/07/04/881 added!\n",
      "https://proza.ru/readers.html?2018/07/04/881\n",
      "https://proza.ru/addrec.html?2018/07/04/881\n",
      "https://proza.ru/cgi-bin/reg.pl\n",
      "https://proza.ru/avtor/vpasternak38\n",
      "https://proza.ru/recommend.html?vpasternak38\n",
      "https://proza.ru/rec_author.html?vpasternak38\n",
      "https://proza.ru/2021/12/08/1957\n",
      "text for https://proza.ru/2021/12/08/1957 added!\n",
      "https://proza.ru/readers.html?2021/12/08/1957\n",
      "https://proza.ru/addrec.html?2021/12/08/1957\n",
      "https://proza.ru/readers.html?vpasternak38\n",
      "https://proza.ru/avtor/zh123yandexru\n",
      "https://proza.ru/recommend.html?zh123yandexru\n",
      "https://proza.ru/rec_author.html?zh123yandexru\n",
      "https://proza.ru/2022/01/24/671\n",
      "text for https://proza.ru/2022/01/24/671 added!\n",
      "https://proza.ru/readers.html?2022/01/24/671\n",
      "https://proza.ru/avtor/kps127320\n",
      "https://proza.ru/recommend.html?kps127320\n",
      "https://proza.ru/rec_author.html?kps127320\n",
      "https://proza.ru/2010/06/12/538\n",
      "text for https://proza.ru/2010/06/12/538 added!\n",
      "https://proza.ru/readers.html?2010/06/12/538\n",
      "https://proza.ru/avtor/fkmafhjvtj\n",
      "https://proza.ru/recommend.html?fkmafhjvtj\n",
      "https://proza.ru/rec_author.html?fkmafhjvtj\n",
      "https://proza.ru/2022/10/09/872\n",
      "text for https://proza.ru/2022/10/09/872 added!\n"
     ]
    }
   ],
   "source": [
    "start = 'https://proza.ru/avtor/evgeny1951mai' # начнем с того же дяденьки, но укажем, что нам нужно только 10 текстов: мы потестить\n",
    "looklinks(start, viewedlinks, texts, 10)"
   ]
  },
  {
   "cell_type": "code",
   "execution_count": null,
   "metadata": {},
   "outputs": [],
   "source": [
    "texts"
   ]
  },
  {
   "cell_type": "markdown",
   "metadata": {},
   "source": [
    "Ну вот и все! осталось для красоты только переписать этот код на классах и в .py....... "
   ]
  }
 ],
 "metadata": {
  "kernelspec": {
   "display_name": "Python 3.8.10 64-bit",
   "language": "python",
   "name": "python3"
  },
  "language_info": {
   "codemirror_mode": {
    "name": "ipython",
    "version": 3
   },
   "file_extension": ".py",
   "mimetype": "text/x-python",
   "name": "python",
   "nbconvert_exporter": "python",
   "pygments_lexer": "ipython3",
   "version": "3.8.10"
  },
  "orig_nbformat": 4,
  "vscode": {
   "interpreter": {
    "hash": "6eb9e1cf2af2cf6251f1c932a803c6b2f25b1e2cfa2de873853bae064510a498"
   }
  }
 },
 "nbformat": 4,
 "nbformat_minor": 2
}
