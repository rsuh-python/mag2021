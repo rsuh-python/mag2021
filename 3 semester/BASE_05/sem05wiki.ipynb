{
 "cells": [
  {
   "cell_type": "markdown",
   "metadata": {},
   "source": [
    "Самый простой и удобный парсер:\n",
    "\n",
    "pip install wiki-dump-reader\n",
    "\n",
    "Работает с дампами википедии. https://dumps.wikimedia.org/ "
   ]
  },
  {
   "cell_type": "code",
   "execution_count": null,
   "metadata": {},
   "outputs": [],
   "source": [
    "from wiki_dump_reader import Cleaner, iterate\n",
    "\n",
    "path = input()\n",
    "cleaner = Cleaner()\n",
    "i = 0\n",
    "test = open('textwiki.txt', 'w', encoding='utf8')\n",
    "for title, text in iterate(path):\n",
    "    if i > 10:\n",
    "        break\n",
    "    text = cleaner.clean_text(text)\n",
    "    cleaned_text, links = cleaner.build_links(text)\n",
    "    i += 1\n",
    "    print(f'text: {cleaned_text}\\n___\\nLinks: {links}', file=test)\n",
    "test.close()"
   ]
  },
  {
   "cell_type": "markdown",
   "metadata": {},
   "source": [
    "Также есть интерфейс Википедии для прямой работы с сайтом: \n",
    "\n",
    "pip install wikipedia-api"
   ]
  },
  {
   "cell_type": "code",
   "execution_count": null,
   "metadata": {},
   "outputs": [],
   "source": [
    "import wikipediaapi"
   ]
  },
  {
   "cell_type": "code",
   "execution_count": null,
   "metadata": {},
   "outputs": [],
   "source": [
    "# Получаем одиночную страницу\n",
    "wiki_wiki = wikipediaapi.Wikipedia('en')\n",
    "page_py = wiki_wiki.page('Python_(programming_language)')"
   ]
  },
  {
   "cell_type": "code",
   "execution_count": null,
   "metadata": {},
   "outputs": [],
   "source": [
    "# проверяем, существует ли вообще такая:\n",
    "\n",
    "page_py = wiki_wiki.page('Python_(programming_language)')\n",
    "print(f\"Page - Exists: {page_py.exists()}\")\n",
    "# Page - Exists: True\n",
    "\n",
    "page_missing = wiki_wiki.page('NonExistingPageWithStrangeName')\n",
    "print(f\"Page - Exists: {page_missing.exists()}\")\n",
    "# Page - Exists: False"
   ]
  },
  {
   "cell_type": "code",
   "execution_count": null,
   "metadata": {},
   "outputs": [],
   "source": [
    "# выводим информацию о странице:\n",
    "print(page_py.title)\n",
    "print(page_py.summary[0:60])"
   ]
  },
  {
   "cell_type": "code",
   "execution_count": null,
   "metadata": {},
   "outputs": [],
   "source": [
    "# как получать полный текст страницы:\n",
    "\n",
    "wiki_wiki = wikipediaapi.Wikipedia(\n",
    "        language='en',\n",
    "        extract_format=wikipediaapi.ExtractFormat.WIKI\n",
    ")\n",
    "\n",
    "p_wiki = wiki_wiki.page(\"Test 1\")\n",
    "print(p_wiki.text)\n",
    "\n",
    "\n",
    "wiki_html = wikipediaapi.Wikipedia(\n",
    "        language='en',\n",
    "        extract_format=wikipediaapi.ExtractFormat.HTML\n",
    ")\n",
    "p_html = wiki_html.page(\"Test 1\")\n",
    "print(p_html.text)"
   ]
  },
  {
   "cell_type": "code",
   "execution_count": null,
   "metadata": {},
   "outputs": [],
   "source": [
    "# как получить отдельные секции страницы:\n",
    "\n",
    "def print_sections(sections, level=0):\n",
    "    for s in sections:\n",
    "        print(f\"{level + 1}: {s.title} - {s.text[0:40]}\")\n",
    "        print_sections(s.sections, level + 1)\n",
    "\n",
    "print_sections(page_py.sections)"
   ]
  },
  {
   "cell_type": "code",
   "execution_count": null,
   "metadata": {},
   "outputs": [],
   "source": [
    "# как получить ссылки на эту же страницу на других языках:\n",
    "\n",
    "def print_langlinks(page):\n",
    "    langlinks = page.langlinks\n",
    "    for k in sorted(langlinks.keys()):\n",
    "        v = langlinks[k]\n",
    "        print(f\"{k}: {v.language} - {v.title}: {v.fullurl}\")\n",
    "\n",
    "print_langlinks(page_py)"
   ]
  },
  {
   "cell_type": "code",
   "execution_count": null,
   "metadata": {},
   "outputs": [],
   "source": [
    "# как получить ссылки на странице:\n",
    "\n",
    "def print_links(page):\n",
    "    links = page.links\n",
    "    for title in sorted(links.keys()):\n",
    "        print(f\"{title}: {links[title]}\")\n",
    "\n",
    "print_links(page_py)"
   ]
  },
  {
   "cell_type": "code",
   "execution_count": null,
   "metadata": {},
   "outputs": [],
   "source": [
    "# Как получить категории страницы:\n",
    "\n",
    "def print_categories(page):\n",
    "    categories = page.categories\n",
    "    for title in sorted(categories.keys()):\n",
    "        print(f\"{title}: {categories[title]}\")\n",
    "\n",
    "\n",
    "print(\"Categories\")\n",
    "print_categories(page_py)"
   ]
  },
  {
   "cell_type": "code",
   "execution_count": null,
   "metadata": {},
   "outputs": [],
   "source": [
    "# как получить все страницы в категории:\n",
    "\n",
    "def print_categorymembers(categorymembers, level=0, max_level=1):\n",
    "    for c in categorymembers.values():\n",
    "        print(f\"{level + 1}: {c.title} (ns: c.ns)\")\n",
    "        if c.ns == wikipediaapi.Namespace.CATEGORY and level < max_level:\n",
    "            print_categorymembers(c.categorymembers, level=level + 1, max_level=max_level)\n",
    "\n",
    "\n",
    "cat = wiki_wiki.page(\"Category:Physics\")\n",
    "print(\"Category members: Category:Physics\")\n",
    "print_categorymembers(cat.categorymembers)"
   ]
  }
 ],
 "metadata": {
  "kernelspec": {
   "display_name": "Python 3.8.10 64-bit",
   "language": "python",
   "name": "python3"
  },
  "language_info": {
   "name": "python",
   "version": "3.8.10"
  },
  "orig_nbformat": 4,
  "vscode": {
   "interpreter": {
    "hash": "6eb9e1cf2af2cf6251f1c932a803c6b2f25b1e2cfa2de873853bae064510a498"
   }
  }
 },
 "nbformat": 4,
 "nbformat_minor": 2
}
