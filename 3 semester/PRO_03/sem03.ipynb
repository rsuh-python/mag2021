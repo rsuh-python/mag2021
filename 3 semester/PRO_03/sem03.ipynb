{
 "cells": [
  {
   "cell_type": "markdown",
   "id": "17ccd59c-3d08-413f-9039-778e2faf18d5",
   "metadata": {},
   "source": [
    "## Инкапсуляция. Статические методы и методы классов. super()"
   ]
  },
  {
   "cell_type": "markdown",
   "id": "0d2d0fe0-28ed-46ea-845d-808338308771",
   "metadata": {},
   "source": [
    "#### Задача 1. \n",
    "\n",
    "Напишем класс - имитацию класса Token в spacy: у класса должен быть определенный набор атрибутов, создавать новые нельзя. По умолчанию все атрибуты, кроме text, устанавливаются в None, у класса есть методы для установления этих атрибутов (обычные методы экземпляра). "
   ]
  },
  {
   "cell_type": "code",
   "execution_count": null,
   "id": "92ed34c5-60be-47ce-96c1-2512b902fd1b",
   "metadata": {},
   "outputs": [],
   "source": [
    "# your code here"
   ]
  },
  {
   "cell_type": "markdown",
   "id": "7b19b674-d6e9-43b6-aa09-fef693c67e8b",
   "metadata": {},
   "source": [
    "#### Задача 2. \n",
    "\n",
    "Напишем класс-лемматизатор. Класс Token должен иметь атрибут lemma и свойство этого атрибута; метод setname должен принимать объект морфопарсера (можно взять рнн или пайморфи) и использовать его внутри себя, чтобы морфопарсер вернул лемму; getname либо возвращает лемму, либо пишет, что разбор отсутствует. "
   ]
  },
  {
   "cell_type": "code",
   "execution_count": null,
   "id": "df614087-74ce-439b-85af-b271c279d95a",
   "metadata": {},
   "outputs": [],
   "source": [
    "# your code here"
   ]
  },
  {
   "cell_type": "markdown",
   "id": "750ef4f3-9a32-414f-94d4-d8d4602f3843",
   "metadata": {},
   "source": [
    "#### Задача 3. \n",
    "\n",
    "Перепишем задачу 2 с полноценным дескриптором Lemmatize."
   ]
  },
  {
   "cell_type": "code",
   "execution_count": null,
   "id": "f5a7a7fb-3ffd-4031-ba7c-8a897e8480c6",
   "metadata": {},
   "outputs": [],
   "source": [
    "# your code here"
   ]
  },
  {
   "cell_type": "markdown",
   "id": "52b3db1a-93da-4646-9509-69aa0d387c56",
   "metadata": {},
   "source": [
    "#### Задача 4. \n",
    "\n",
    "Напишите класс \"пациент\", у которого есть устанавливаемые атрибуты \"диагноз\" и \"температура\". Атрибут \"температура\" должен устанавливаться таким образом, чтобы пользователь не мог установить нереалистичное значение типа 15, даже используя синтаксис Patient.temperature = 15. "
   ]
  },
  {
   "cell_type": "code",
   "execution_count": null,
   "id": "3062f408-a846-4b1b-ba00-eac9d2a8413a",
   "metadata": {},
   "outputs": [],
   "source": [
    "# your code here"
   ]
  },
  {
   "cell_type": "markdown",
   "id": "7c240cd2-f4bc-4c49-ac80-b1a3bc43c588",
   "metadata": {},
   "source": [
    "#### Задача 5. \n",
    "\n",
    "Вернемся к нашему классу Token (первому) и добавим ему метод для подсчета количества созданных токенов. Реализуйте два варианта: через статические методы и методы класса. "
   ]
  },
  {
   "cell_type": "code",
   "execution_count": null,
   "id": "23eb5784-bcb0-43d0-af6d-a9e86f71baae",
   "metadata": {},
   "outputs": [],
   "source": [
    "# your code here"
   ]
  }
 ],
 "metadata": {
  "kernelspec": {
   "display_name": "Python 3 (ipykernel)",
   "language": "python",
   "name": "python3"
  },
  "language_info": {
   "codemirror_mode": {
    "name": "ipython",
    "version": 3
   },
   "file_extension": ".py",
   "mimetype": "text/x-python",
   "name": "python",
   "nbconvert_exporter": "python",
   "pygments_lexer": "ipython3",
   "version": "3.9.12"
  }
 },
 "nbformat": 4,
 "nbformat_minor": 5
}
