{
 "cells": [
  {
   "cell_type": "code",
   "execution_count": 11,
   "id": "4756f384-c2c6-4ed8-a820-9d66a6a0c7d3",
   "metadata": {},
   "outputs": [],
   "source": [
    "class A:\n",
    "    \"\"\"my doc\"\"\"\n",
    "    count = 0\n",
    "    \n",
    "    def __init__(self):\n",
    "        A.count += 1\n",
    "        self.attr = 0\n",
    "    \n",
    "    def __del__(self):\n",
    "        A.count -= 1"
   ]
  },
  {
   "cell_type": "code",
   "execution_count": 12,
   "id": "0c1d6430-c601-4097-b89e-f4e83a4ca424",
   "metadata": {},
   "outputs": [
    {
     "data": {
      "text/plain": [
       "1"
      ]
     },
     "execution_count": 12,
     "metadata": {},
     "output_type": "execute_result"
    }
   ],
   "source": [
    "a = A()\n",
    "b = A()\n",
    "\n",
    "A.count"
   ]
  },
  {
   "cell_type": "code",
   "execution_count": null,
   "id": "7d1427c4-56e0-4086-93f8-de44f380b457",
   "metadata": {},
   "outputs": [],
   "source": [
    "class B:\n",
    "    def __setattr__(self, attr, value):\n",
    "        if value > 0:\n",
    "            self.__dict__[attr] = value\n",
    "        else:\n",
    "            ..."
   ]
  },
  {
   "cell_type": "code",
   "execution_count": 13,
   "id": "89d23474-25cf-48a0-baa8-e78a71f7b847",
   "metadata": {},
   "outputs": [
    {
     "data": {
      "text/plain": [
       "{'attr': 0}"
      ]
     },
     "execution_count": 13,
     "metadata": {},
     "output_type": "execute_result"
    }
   ],
   "source": [
    "a.__dict__"
   ]
  },
  {
   "cell_type": "code",
   "execution_count": 14,
   "id": "479ac9a6-8573-48d3-9b24-bf825251bc09",
   "metadata": {},
   "outputs": [],
   "source": [
    "d = dict()"
   ]
  },
  {
   "cell_type": "code",
   "execution_count": 15,
   "id": "2a758f8b-c8e6-42b3-afcc-fe5d37fefe5b",
   "metadata": {},
   "outputs": [],
   "source": [
    "d[1] = 'a'"
   ]
  },
  {
   "cell_type": "code",
   "execution_count": 16,
   "id": "67372022-cd71-43f2-a42a-b31ca22a7553",
   "metadata": {},
   "outputs": [
    {
     "data": {
      "text/plain": [
       "{1: 'a'}"
      ]
     },
     "execution_count": 16,
     "metadata": {},
     "output_type": "execute_result"
    }
   ],
   "source": [
    "d"
   ]
  },
  {
   "cell_type": "code",
   "execution_count": 17,
   "id": "12baae77-83a1-4515-a8ae-079139c9f992",
   "metadata": {},
   "outputs": [],
   "source": [
    "a.attr1 = 1"
   ]
  },
  {
   "cell_type": "code",
   "execution_count": 18,
   "id": "e769633c-8f29-427d-a50a-22b611cc4325",
   "metadata": {},
   "outputs": [
    {
     "data": {
      "text/plain": [
       "{'attr': 0, 'attr1': 1}"
      ]
     },
     "execution_count": 18,
     "metadata": {},
     "output_type": "execute_result"
    }
   ],
   "source": [
    "a.__dict__"
   ]
  },
  {
   "cell_type": "code",
   "execution_count": 19,
   "id": "0a6b45aa-d439-44db-9548-d25f7f16a0f3",
   "metadata": {},
   "outputs": [],
   "source": [
    "class Slots:\n",
    "    __slots__ = ['a', 'b']\n",
    "    def __init__(self):\n",
    "        self.a = 1\n",
    "        self.b = 2\n",
    "        \n",
    "class NoSlots:\n",
    "    def __init__(self):\n",
    "        self.a = 1\n",
    "        self.b = 2"
   ]
  },
  {
   "cell_type": "code",
   "execution_count": 20,
   "id": "f8b6b447-d633-4b89-ba95-1685f1488414",
   "metadata": {},
   "outputs": [],
   "source": [
    "s = Slots()\n",
    "ns = NoSlots()"
   ]
  },
  {
   "cell_type": "code",
   "execution_count": 21,
   "id": "49270a58-cd07-402b-9e3d-14c5831f0596",
   "metadata": {},
   "outputs": [
    {
     "data": {
      "text/plain": [
       "{'a': 1, 'b': 2}"
      ]
     },
     "execution_count": 21,
     "metadata": {},
     "output_type": "execute_result"
    }
   ],
   "source": [
    "ns.__dict__"
   ]
  },
  {
   "cell_type": "code",
   "execution_count": 35,
   "id": "70c2ac43-2c5e-4823-aee9-b6c0d87c5c37",
   "metadata": {},
   "outputs": [],
   "source": [
    "class Slots:\n",
    "    __slots__ = ('a',)\n",
    "    \n",
    "class NoSlots:\n",
    "    pass\n",
    "\n",
    "def get_set_delete(obj):\n",
    "    obj.a = 1\n",
    "    obj.a\n",
    "    del obj.a"
   ]
  },
  {
   "cell_type": "code",
   "execution_count": 36,
   "id": "31c24f47-a6bf-4045-9009-09e0565720e1",
   "metadata": {},
   "outputs": [],
   "source": [
    "s = Slots()\n",
    "ns = NoSlots()"
   ]
  },
  {
   "cell_type": "code",
   "execution_count": 37,
   "id": "55df22ca-299c-4369-bf65-44f1c6bf34c2",
   "metadata": {},
   "outputs": [
    {
     "name": "stdout",
     "output_type": "stream",
     "text": [
      "89.8 ns ± 0.0728 ns per loop (mean ± std. dev. of 7 runs, 10,000,000 loops each)\n"
     ]
    }
   ],
   "source": [
    "%timeit get_set_delete(s)"
   ]
  },
  {
   "cell_type": "code",
   "execution_count": 38,
   "id": "6c3b652c-5dda-4ad2-8c25-a9dd8a1ea935",
   "metadata": {},
   "outputs": [
    {
     "name": "stdout",
     "output_type": "stream",
     "text": [
      "101 ns ± 1.21 ns per loop (mean ± std. dev. of 7 runs, 10,000,000 loops each)\n"
     ]
    }
   ],
   "source": [
    "%timeit get_set_delete(ns)"
   ]
  },
  {
   "cell_type": "code",
   "execution_count": null,
   "id": "10db9841-de35-4c17-9831-7ee201634a54",
   "metadata": {},
   "outputs": [],
   "source": [
    "class SlotsChild(Slots):\n",
    "    __slots__ = (...)"
   ]
  },
  {
   "cell_type": "code",
   "execution_count": null,
   "id": "9a80f738-dbe7-4dea-9b95-9f02c69c69e0",
   "metadata": {},
   "outputs": [],
   "source": [
    "# __getattr__ __setattr__ "
   ]
  },
  {
   "cell_type": "code",
   "execution_count": 43,
   "id": "31426e8a-8051-4462-a145-7f1b187967d0",
   "metadata": {},
   "outputs": [],
   "source": [
    "class B:\n",
    "    def __init__(self):\n",
    "        self.a = 1\n",
    "    def __getattr__(self, attr):\n",
    "        print('get attr')"
   ]
  },
  {
   "cell_type": "code",
   "execution_count": 44,
   "id": "0ff39916-b591-4981-8937-cde1fb73bcdb",
   "metadata": {},
   "outputs": [],
   "source": [
    "b = B()"
   ]
  },
  {
   "cell_type": "code",
   "execution_count": null,
   "id": "81f414b4-3c05-40fc-b80c-72bcd6c9f98f",
   "metadata": {},
   "outputs": [],
   "source": [
    "class Token:\n",
    "    __slots__ = ...\n",
    "    def __init__(self, text):\n",
    "        self.... = ...\n",
    "\n",
    "    def set_pos(self):\n",
    "        ...\n",
    "        "
   ]
  },
  {
   "cell_type": "code",
   "execution_count": null,
   "id": "cbc27edc-1fa4-4eb7-bb35-9024ecead683",
   "metadata": {},
   "outputs": [],
   "source": [
    "t = Token('word')\n",
    "t.set_pos()"
   ]
  },
  {
   "cell_type": "code",
   "execution_count": null,
   "id": "f96cdafd-296c-48a0-a9ef-b18c25983073",
   "metadata": {},
   "outputs": [],
   "source": [
    "property()"
   ]
  },
  {
   "cell_type": "code",
   "execution_count": 71,
   "id": "6f9c6787-2787-4525-a560-9e4a580febff",
   "metadata": {},
   "outputs": [],
   "source": [
    "class Person:\n",
    "    def __init__(self):\n",
    "        self.__name = ''\n",
    "        \n",
    "    def setname(self, name):\n",
    "        if name.isalpha():\n",
    "            self.__name = name\n",
    "    \n",
    "    def getname(self):\n",
    "        print('getting name')\n",
    "        return self.__name\n",
    "    \n",
    "    def delname(self):\n",
    "        print('deleting name')\n",
    "        del self.__name\n",
    "    name = property(getname, setname, delname)  # property(get, set, del, doc)"
   ]
  },
  {
   "cell_type": "code",
   "execution_count": 72,
   "id": "ac637f53-42a6-4433-91ef-a0dc5a632bc5",
   "metadata": {},
   "outputs": [],
   "source": [
    "p = Person()"
   ]
  },
  {
   "cell_type": "code",
   "execution_count": 73,
   "id": "04e3caa6-9c4b-44bf-847e-dadceae75251",
   "metadata": {},
   "outputs": [],
   "source": [
    "p.name = 'Vasya'"
   ]
  },
  {
   "cell_type": "code",
   "execution_count": 74,
   "id": "ff321682-d93e-4e3d-a83c-838d5e2eca59",
   "metadata": {},
   "outputs": [
    {
     "name": "stdout",
     "output_type": "stream",
     "text": [
      "getting name\n"
     ]
    },
    {
     "data": {
      "text/plain": [
       "'Vasya'"
      ]
     },
     "execution_count": 74,
     "metadata": {},
     "output_type": "execute_result"
    }
   ],
   "source": [
    "p.name"
   ]
  },
  {
   "cell_type": "code",
   "execution_count": 75,
   "id": "357c09c4-ceca-4b65-bd59-9377217aed9e",
   "metadata": {},
   "outputs": [
    {
     "ename": "AttributeError",
     "evalue": "can't delete attribute",
     "output_type": "error",
     "traceback": [
      "\u001b[0;31m---------------------------------------------------------------------------\u001b[0m",
      "\u001b[0;31mAttributeError\u001b[0m                            Traceback (most recent call last)",
      "Input \u001b[0;32mIn [75]\u001b[0m, in \u001b[0;36m<cell line: 1>\u001b[0;34m()\u001b[0m\n\u001b[0;32m----> 1\u001b[0m \u001b[38;5;28;01mdel\u001b[39;00m p\u001b[38;5;241m.\u001b[39mname\n",
      "\u001b[0;31mAttributeError\u001b[0m: can't delete attribute"
     ]
    }
   ],
   "source": [
    "del p.name"
   ]
  },
  {
   "cell_type": "code",
   "execution_count": null,
   "id": "be13afd7-eb04-4a13-ace5-d708ffd31f79",
   "metadata": {},
   "outputs": [],
   "source": [
    "import pymorphy2\n",
    "\n",
    "class Token:\n",
    "    def __init__(self, text):\n",
    "        self.text = text\n",
    "        self.__lemma = None\n",
    "        \n",
    "    def setlemma(self, parser):\n",
    "        parser.parse(self.text)\n",
    "        \n",
    "parse = pymorphy2.MorphAnalyzer()\n",
    "t.lemma = parser"
   ]
  },
  {
   "cell_type": "code",
   "execution_count": null,
   "id": "ed870ae9-9f8f-4aac-afcb-4fde46ba7c77",
   "metadata": {},
   "outputs": [],
   "source": [
    "# __getattribute__ __setattribute__ - все\n",
    "# __getattr__ __setattr__ - только неопределенные "
   ]
  },
  {
   "cell_type": "markdown",
   "id": "8198fa3c-66e9-4280-9d8c-04e38f6cccaa",
   "metadata": {},
   "source": [
    "    __get__(self, obj, type=None)\n",
    "    __set__(self, obj, value)\n",
    "    __delete__(self, obj)\n",
    "    __set_name__(self, owner, name)"
   ]
  },
  {
   "cell_type": "code",
   "execution_count": 99,
   "id": "7cec097c-d519-48d5-b663-caf88a9a4bb1",
   "metadata": {},
   "outputs": [],
   "source": [
    "class Verbose:\n",
    "    \"\"\"Descriptor class\"\"\"\n",
    "    def __get__(self, obj, type=None):\n",
    "        if hasattr(obj, 'attr'):\n",
    "            return obj.attr\n",
    "        return 42\n",
    "    \n",
    "    def __set__(self, obj, value):\n",
    "        obj.attr = value\n",
    "    \n",
    "    # def __delete__(self, obj):\n",
    "    #     pass\n",
    "    \n",
    "class A:\n",
    "    attribute = Verbose()"
   ]
  },
  {
   "cell_type": "code",
   "execution_count": 100,
   "id": "9d2ab446-6477-499c-9209-52b76a09b369",
   "metadata": {},
   "outputs": [],
   "source": [
    "a = A()"
   ]
  },
  {
   "cell_type": "code",
   "execution_count": 96,
   "id": "f58be250-d878-4956-b9ad-30d37eaa63c6",
   "metadata": {},
   "outputs": [],
   "source": [
    "a.attribute = 3  # A.attribute(self) => Verbose.__set__(attribute, a, 3)"
   ]
  },
  {
   "cell_type": "code",
   "execution_count": 101,
   "id": "e04e92be-f48d-487f-a228-33ec2253e83c",
   "metadata": {},
   "outputs": [
    {
     "data": {
      "text/plain": [
       "42"
      ]
     },
     "execution_count": 101,
     "metadata": {},
     "output_type": "execute_result"
    }
   ],
   "source": [
    "a.attribute"
   ]
  },
  {
   "cell_type": "code",
   "execution_count": 98,
   "id": "30dd7b3e-93d9-4b9b-a4e0-593868fce2a4",
   "metadata": {},
   "outputs": [
    {
     "data": {
      "text/plain": [
       "{'attr': 3}"
      ]
     },
     "execution_count": 98,
     "metadata": {},
     "output_type": "execute_result"
    }
   ],
   "source": [
    "a.__dict__"
   ]
  },
  {
   "cell_type": "code",
   "execution_count": 114,
   "id": "61a6e1d4-0381-4968-898b-f09ec7d3c380",
   "metadata": {},
   "outputs": [],
   "source": [
    "class Temperature:\n",
    "    \"\"\"descriptor\"\"\"\n",
    "    def __get__(self, person, type=None):\n",
    "        if hasattr(person, 'temp'):\n",
    "            return person.temp\n",
    "        raise AttributeError\n",
    "    \n",
    "    def __set__(self, person, value):\n",
    "        if 30 <= value <= 42:\n",
    "            person.temp = value\n",
    "        else:\n",
    "            print('Can\\'t set!')\n",
    "\n",
    "class Person:\n",
    "    temperature = Temperature()"
   ]
  },
  {
   "cell_type": "code",
   "execution_count": 115,
   "id": "c12343d5-cb20-40b8-8333-9ab26ff86302",
   "metadata": {},
   "outputs": [],
   "source": [
    "vasya = Person()"
   ]
  },
  {
   "cell_type": "code",
   "execution_count": 116,
   "id": "0c7d3972-36e1-4013-bd92-adf052a303d0",
   "metadata": {},
   "outputs": [
    {
     "name": "stdout",
     "output_type": "stream",
     "text": [
      "Can't set!\n"
     ]
    }
   ],
   "source": [
    "vasya.temperature = 43"
   ]
  },
  {
   "cell_type": "code",
   "execution_count": 117,
   "id": "b78a3ab1-1eda-4e47-b753-ea012cd1138b",
   "metadata": {},
   "outputs": [],
   "source": [
    "vasya.temperature = 36"
   ]
  },
  {
   "cell_type": "code",
   "execution_count": 118,
   "id": "c7b8dedd-f45d-4ade-b445-13dcf0b39b6a",
   "metadata": {},
   "outputs": [],
   "source": [
    "class A:\n",
    "    count = 0\n",
    "    def __init__(self):\n",
    "        A.count += 1\n",
    "    def print_count():\n",
    "        print(A.count)"
   ]
  },
  {
   "cell_type": "code",
   "execution_count": 119,
   "id": "4c727788-61ba-49d9-96ee-d4a0f7188809",
   "metadata": {},
   "outputs": [],
   "source": [
    "a = A()"
   ]
  },
  {
   "cell_type": "code",
   "execution_count": 121,
   "id": "98a085da-050c-4b8a-a67b-8101372163fc",
   "metadata": {},
   "outputs": [
    {
     "name": "stdout",
     "output_type": "stream",
     "text": [
      "1\n"
     ]
    }
   ],
   "source": [
    "A.print_count()"
   ]
  },
  {
   "cell_type": "code",
   "execution_count": null,
   "id": "1626cb23-1434-4805-b88b-5c2c534261b6",
   "metadata": {},
   "outputs": [],
   "source": [
    "import math\n",
    "\n",
    "def pizza_area(r):\n",
    "    ...\n",
    "\n",
    "class Pizza:\n",
    "    def __init__(self, ingr):\n",
    "        self.ingr = ingr\n",
    "        \n",
    "    def area(self, r):\n",
    "        print(math.pi * r ** 2)"
   ]
  },
  {
   "cell_type": "code",
   "execution_count": 122,
   "id": "99dabee9-2d8a-40e6-aead-b3447ba7f112",
   "metadata": {},
   "outputs": [],
   "source": [
    "class Methods:\n",
    "    def instancemeth(self, x):\n",
    "        print(self, x)\n",
    "    @staticmethod\n",
    "    def staticmeth(x):\n",
    "        print(x)\n",
    "    def classmeth(cls, x):\n",
    "        print(cls, x)\n",
    "    # staticmeth = staticmethod(staticmeth)\n",
    "    classmeth = classmethod(classmeth)"
   ]
  },
  {
   "cell_type": "code",
   "execution_count": 123,
   "id": "5e11a0ea-fcaf-47e1-ad73-62057294c071",
   "metadata": {},
   "outputs": [],
   "source": [
    "a = Methods()"
   ]
  },
  {
   "cell_type": "code",
   "execution_count": 124,
   "id": "f614fe8c-0b2a-485a-8e7a-f37aa0b18622",
   "metadata": {},
   "outputs": [
    {
     "name": "stdout",
     "output_type": "stream",
     "text": [
      "<__main__.Methods object at 0x7f53ec249880> 5\n"
     ]
    }
   ],
   "source": [
    "a.instancemeth(5)"
   ]
  },
  {
   "cell_type": "code",
   "execution_count": 125,
   "id": "4870a573-1fe3-4206-9f51-c78541ea6031",
   "metadata": {},
   "outputs": [
    {
     "name": "stdout",
     "output_type": "stream",
     "text": [
      "5\n"
     ]
    }
   ],
   "source": [
    "a.staticmeth(5)"
   ]
  },
  {
   "cell_type": "code",
   "execution_count": 126,
   "id": "3f97281c-d005-4688-a06c-0c298386bb0a",
   "metadata": {},
   "outputs": [
    {
     "name": "stdout",
     "output_type": "stream",
     "text": [
      "<class '__main__.Methods'> 5\n"
     ]
    }
   ],
   "source": [
    "a.classmeth(5)"
   ]
  },
  {
   "cell_type": "code",
   "execution_count": null,
   "id": "43528ede-6cee-483f-b6fa-fe0343960b10",
   "metadata": {},
   "outputs": [],
   "source": [
    "class B(A):\n",
    "    def __init__(self):\n",
    "        A.__init__(self)\n",
    "        super().__init__()\n",
    "        super(B, self).__init__()  # A.__init__()\n",
    "        \n",
    "class C(B):\n",
    "    def __init__(self):\n",
    "        super(C, self).__init__()  # B.__init__()\n",
    "        super(B, self).__init__()  # A.__init__()"
   ]
  }
 ],
 "metadata": {
  "kernelspec": {
   "display_name": "Python 3 (ipykernel)",
   "language": "python",
   "name": "python3"
  },
  "language_info": {
   "codemirror_mode": {
    "name": "ipython",
    "version": 3
   },
   "file_extension": ".py",
   "mimetype": "text/x-python",
   "name": "python",
   "nbconvert_exporter": "python",
   "pygments_lexer": "ipython3",
   "version": "3.9.12"
  }
 },
 "nbformat": 4,
 "nbformat_minor": 5
}
