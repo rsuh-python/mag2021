{
 "cells": [
  {
   "cell_type": "markdown",
   "id": "9afd9ebf-47f9-4b70-acf4-59875bfced9b",
   "metadata": {},
   "source": [
    "## Механизмы инкапсуляции. Статические методы и методы классов. "
   ]
  },
  {
   "cell_type": "markdown",
   "id": "8e99ee6e-f571-4ff9-b369-0895fbe21f62",
   "metadata": {},
   "source": [
    "Инкапсуляция в ООП - это сокрытие внутреннего устройства класса от внешних пользователей для того, чтобы взаимодействовать с экземплярами класса можно было только через интерфейс (методы). В питоне готовых инструментов для инкапсуляции, в отличие от объектно-ориентированных языков типа Java, нет, но есть средства их реализации. \n",
    "\n",
    "Прежде чем разбираться с тем, как это делается, давайте уясним себе, когда может пригодиться инкапсуляция. Наши с вами классы пока довольно простые, но в реальной жизни класс может быть устроен сложным образом, и у него могут быть какие-то внутренние переменные и методы, которые вызываются в нем самом для обеспечения его работы и не должны вызываться извне сами по себе, чтобы ничего не поломалось. Условно говоря, если у нас есть автомобиль, его водитель, если только он не инженер-автомеханик, не должен иметь возможности вручную заставлять двигаться форсунки или чего-нибудь в этом роде, у водителя должен быть руль, газ, тормоз и коробка передач. Если неопытный водитель полезет копаться в моторе, он рискует все поломать. \n",
    "\n",
    "Также специальные средства работы с атрибутами классов позволяют, например, проверять их значения на корректность, прежде чем присваивать, выполнять логгирование (вести логи) и т.п. "
   ]
  },
  {
   "cell_type": "markdown",
   "id": "ddadeb58-f153-40bc-9b93-a0345260b0a6",
   "metadata": {},
   "source": [
    "Скрывать атрибуты в питоне можно несколькими разными способами, часть которых мы уже рассмотрели. \n",
    "\n",
    "1. Использование псевдозакрытых атрибутов \\_\\_: к этим атрибутам можно обращаться извне, но сам факт наличия подчеркивания как бы намекает, что этого лучше не делать. \n",
    "2. Перегрузка методов \\_\\_getattr\\_\\_ & \\_\\_setattr\\_\\_.\n",
    "\n",
    "Также можно использовать слоты. Что это такое? "
   ]
  },
  {
   "cell_type": "markdown",
   "id": "9a895d93-8f26-4284-b3b9-c4f8d17111aa",
   "metadata": {},
   "source": [
    "Обычно атрибуты у класса хранятся в специальном внутреннем словарике \\_\\_dict\\_\\_: такой словарик есть как у самого класса (статические атрибуты), так и у его экземпляров (динамические атрибуты). Словарь - он и в Африке словарь, мы можем в него в любой момент добавить новый атрибут, присвоив ему значение, а можем перезаписать имеющиеся (или удалить). Словарь в памяти хранится таким образом, чтобы можно было его расширять, у него нет фиксированного объема памяти. \n",
    "\n",
    "Атрибут \\_\\_slots\\_\\_ - это альтернатива словарю, если мы его объявляем, то словаря у нашего класса уже не будет. Он обычно объявляется на верхнем уровне определения класса, и в нем в виде списка или кортежа перечисляются атрибуты, которые нашему классу иметь дозволено:"
   ]
  },
  {
   "cell_type": "code",
   "execution_count": null,
   "id": "f7223f71-c141-4203-a1f9-b67f0ab23b09",
   "metadata": {},
   "outputs": [],
   "source": [
    "class Slots:\n",
    "    __slots__ = ('a', 'b')\n",
    "    def __init__(self, a, b):\n",
    "        self.a = a\n",
    "        self.b = b"
   ]
  },
  {
   "cell_type": "markdown",
   "id": "f5d662f5-fdf2-478f-b49f-50653076504d",
   "metadata": {},
   "source": [
    "Экземпляру такого класса нельзя будет создать новый атрибут, как бы мы ни хотели, а еще они гораздо быстрее работают, потому что у слотов заранее ограниченная (и известная) память. Мы с вами это тестили на занятии:"
   ]
  },
  {
   "cell_type": "code",
   "execution_count": 35,
   "id": "f94d1a76-e5c2-48bd-8799-adc2bd95f6a4",
   "metadata": {},
   "outputs": [],
   "source": [
    "class Slots:\n",
    "    __slots__ = ('a',)\n",
    "    \n",
    "class NoSlots:\n",
    "    pass\n",
    "\n",
    "def get_set_delete(obj):\n",
    "    obj.a = 1\n",
    "    obj.a\n",
    "    del obj.a"
   ]
  },
  {
   "cell_type": "code",
   "execution_count": 36,
   "id": "0cc241ca-3835-4597-939f-0e608a537777",
   "metadata": {},
   "outputs": [],
   "source": [
    "s = Slots()\n",
    "ns = NoSlots()"
   ]
  },
  {
   "cell_type": "code",
   "execution_count": 37,
   "id": "f1452570-3b6e-4f20-9f9f-d82ed931b7bb",
   "metadata": {},
   "outputs": [
    {
     "name": "stdout",
     "output_type": "stream",
     "text": [
      "89.8 ns ± 0.0728 ns per loop (mean ± std. dev. of 7 runs, 10,000,000 loops each)\n"
     ]
    }
   ],
   "source": [
    "%timeit get_set_delete(s)"
   ]
  },
  {
   "cell_type": "code",
   "execution_count": 38,
   "id": "cac18d26-2878-465c-a9b8-5de553b03ff5",
   "metadata": {},
   "outputs": [
    {
     "name": "stdout",
     "output_type": "stream",
     "text": [
      "101 ns ± 1.21 ns per loop (mean ± std. dev. of 7 runs, 10,000,000 loops each)\n"
     ]
    }
   ],
   "source": [
    "%timeit get_set_delete(ns)"
   ]
  },
  {
   "cell_type": "markdown",
   "id": "ea35d670-fde9-41c5-85ca-5207f1d3efbc",
   "metadata": {},
   "source": [
    "Проблемы возникают при наследовании от таких классов. Если мы наследуемся от класса со слотами, то его дочерний класс все равно может получить словарь \\_\\_dict\\_\\_, и тогда весь смысл использования слотов пойдет насмарку. Следовательно, в дочернем классе тоже нужно обязательно прописывать слоты, тогда они сложатся со слотами родительского класса. \n",
    "\n",
    "А вот если мы хотим наследоваться сразу от двух классов со слотами, то не выйдет: "
   ]
  },
  {
   "cell_type": "code",
   "execution_count": 2,
   "id": "9bb257aa-1bc8-4b4f-aba8-4989d662a020",
   "metadata": {},
   "outputs": [
    {
     "ename": "TypeError",
     "evalue": "multiple bases have instance lay-out conflict",
     "output_type": "error",
     "traceback": [
      "\u001b[0;31m---------------------------------------------------------------------------\u001b[0m",
      "\u001b[0;31mTypeError\u001b[0m                                 Traceback (most recent call last)",
      "Input \u001b[0;32mIn [2]\u001b[0m, in \u001b[0;36m<cell line: 7>\u001b[0;34m()\u001b[0m\n\u001b[1;32m      4\u001b[0m \u001b[38;5;28;01mclass\u001b[39;00m \u001b[38;5;21;01mBaseTwo\u001b[39;00m:\n\u001b[1;32m      5\u001b[0m     \u001b[38;5;18m__slots__\u001b[39m \u001b[38;5;241m=\u001b[39m (\u001b[38;5;124m'\u001b[39m\u001b[38;5;124mparam2\u001b[39m\u001b[38;5;124m'\u001b[39m,)\n\u001b[0;32m----> 7\u001b[0m \u001b[38;5;28;01mclass\u001b[39;00m \u001b[38;5;21;01mChild\u001b[39;00m(BaseOne, BaseTwo):\n\u001b[1;32m      8\u001b[0m     \u001b[38;5;18m__slots__\u001b[39m \u001b[38;5;241m=\u001b[39m ()\n",
      "\u001b[0;31mTypeError\u001b[0m: multiple bases have instance lay-out conflict"
     ]
    }
   ],
   "source": [
    "class BaseOne:\n",
    "    __slots__ = ('param',)\n",
    "    \n",
    "class BaseTwo:\n",
    "    __slots__ = ('param2',)\n",
    "\n",
    "class Child(BaseOne, BaseTwo):\n",
    "    __slots__ = ()"
   ]
  },
  {
   "cell_type": "markdown",
   "id": "97e28fe1-7259-499e-a2cd-ab4f297325aa",
   "metadata": {},
   "source": [
    "Обойти этот конфликт можно с помощью использования абстрактных классов. \n",
    "\n",
    "Основная мораль такова:\n",
    "\n",
    "- Без переменной словаря dict экземплярам нельзя назначить атрибуты, не указанные в определении slots. Так можно ограничить создание левых атрибутов. \n",
    "- Атрибуты slots, объявленные в родительских классах, доступны в дочерних классах. Однако дочерние классы получат dict, если они не переопределяют slots. \n",
    "- Если класс определяет слот, также определенный в базовом классе, переменная экземпляра, определенная слотом базового класса, недоступна. Это приводит к неоднозначному поведению программы (не указывайте одинаковые атрибуты в классе-родителе и классе-ребенке). \n",
    "- Атрибуту slots может быть назначен любой нестроковый итерируемый объект. Могут использоваться словари, а значениям, соответствующим каждому ключу, может быть присвоено особое значение. \n",
    "- Множественное наследование от классов, которые оба имеют слоты, невозможно без абстрактных классов. \n",
    "- Слоты в подклассах бессмысленны, если их нет в суперклассе\n",
    "- И наоборот. \n",
    "- Слоты реализуют атрибуты экземпляров, которые физически не хранятся в словарях пространств имен экземпляров и основаны на понятии дескрипторов атрибутов уровня класса. \n",
    "- Слоты работают быстрее словарей!"
   ]
  },
  {
   "cell_type": "markdown",
   "id": "e01445ee-2f2d-4c5d-bde8-d1af59a4b299",
   "metadata": {},
   "source": [
    "Далее рассмотрим переопределение нескольких магических методов:\n",
    "\n",
    "    __setattr__ & __getattr__\n",
    "    __setattribute & __getattribute__\n",
    "    __set__, __get__, __delete__\n",
    "  "
   ]
  },
  {
   "cell_type": "markdown",
   "id": "3e649524-51a4-4e45-b44e-67b66f70915b",
   "metadata": {},
   "source": [
    "#### Свойства (properties)"
   ]
  },
  {
   "cell_type": "markdown",
   "id": "b7a336f0-d22a-4903-b288-f352e1a6c81d",
   "metadata": {},
   "source": [
    "Мы с вами пользовались для делегирования переопределением методов \\_\\_setattr\\_\\_ & \\_\\_getattr\\_\\_. Эти методы вызываются только тогда, когда мы обращаемся к атрибуту экземпляра, которого у него нет. Например:"
   ]
  },
  {
   "cell_type": "code",
   "execution_count": 3,
   "id": "bba3a764-1626-4ebe-99ae-74e14a8d84dc",
   "metadata": {},
   "outputs": [],
   "source": [
    "class A:\n",
    "    def __init__(self, a):\n",
    "        self.a = a\n",
    "    def __getattr__(self, attr):\n",
    "        print('getattr')"
   ]
  },
  {
   "cell_type": "code",
   "execution_count": 4,
   "id": "b11647ac-0177-43a9-9b4d-1e63119291ff",
   "metadata": {},
   "outputs": [
    {
     "data": {
      "text/plain": [
       "1"
      ]
     },
     "execution_count": 4,
     "metadata": {},
     "output_type": "execute_result"
    }
   ],
   "source": [
    "a = A(1)\n",
    "a.a # обращаемся к атрибуту, который есть"
   ]
  },
  {
   "cell_type": "code",
   "execution_count": 5,
   "id": "8ed00e4c-ff81-461d-b541-78874c983565",
   "metadata": {},
   "outputs": [
    {
     "name": "stdout",
     "output_type": "stream",
     "text": [
      "getattr\n"
     ]
    }
   ],
   "source": [
    "a.b  # обращаемся к атрибуту, которого нет"
   ]
  },
  {
   "cell_type": "markdown",
   "id": "ecb41639-e956-40d5-8407-b7b429ff6491",
   "metadata": {},
   "source": [
    "Нужно быть осторожнее с этими методами, потому что если их неаккуратно переопределить, можно уйти в бесконечный цикл: если мы напишем в getattr getattr(self, attr), уйдем в рекурсию, можете проверить. \n",
    "\n",
    "Еще осторожнее нужно быть с методами \\_\\_getattribute\\_\\_ & \\_\\_setattribute\\_\\_, которые делают то же самое, но для всех атрибутов вообще, существуют они или нет. "
   ]
  },
  {
   "cell_type": "markdown",
   "id": "4892ed9d-4818-4b9a-89c3-1fe109a0ed39",
   "metadata": {},
   "source": [
    "Если же нам нужно переопределить способ обращения к какому-то атрибуту класса (например, добавить проверку при присваивании), можно воспользоваться встроенной функцией property, которая обеспечивает интерфейс для атрибутов экземпляра класса. Сам метод принимает четыре аргумента:\n",
    "\n",
    "    property(get, set, del, doc)\n",
    "    \n",
    "Как правило, если вы используете этот метод, вы точно захотите передать ему get, а дальше по убыванию: doc передается реже всего. Ни один из них по сути не обязательный, но get, наверное, хотелось бы передавать. \n",
    "\n",
    "Как это все реализуется:"
   ]
  },
  {
   "cell_type": "code",
   "execution_count": 71,
   "id": "b9457080-3697-46c9-9029-8ce7644bc047",
   "metadata": {},
   "outputs": [],
   "source": [
    "class Person:\n",
    "    def __init__(self):\n",
    "        self.__name = ''\n",
    "        \n",
    "    def getname(self):\n",
    "        print('getting name')\n",
    "        return self.__name\n",
    "        \n",
    "    def setname(self, name):\n",
    "        if name.isalpha():\n",
    "            self.__name = name\n",
    "    \n",
    "    def delname(self):\n",
    "        print('deleting name')\n",
    "        del self.__name\n",
    "    name = property(getname, setname, delname)  # property(get, set, del, doc)"
   ]
  },
  {
   "cell_type": "code",
   "execution_count": 72,
   "id": "0e5228e8-ce94-4b14-b818-ee3c68d1ee75",
   "metadata": {},
   "outputs": [],
   "source": [
    "p = Person()"
   ]
  },
  {
   "cell_type": "code",
   "execution_count": 73,
   "id": "444f9421-0e97-4111-a474-721c11f9f87e",
   "metadata": {},
   "outputs": [],
   "source": [
    "p.name = 'Vasya'"
   ]
  },
  {
   "cell_type": "code",
   "execution_count": 74,
   "id": "fe3a3e5d-1b8a-4894-9f6a-ee89553c279c",
   "metadata": {},
   "outputs": [
    {
     "name": "stdout",
     "output_type": "stream",
     "text": [
      "getting name\n"
     ]
    },
    {
     "data": {
      "text/plain": [
       "'Vasya'"
      ]
     },
     "execution_count": 74,
     "metadata": {},
     "output_type": "execute_result"
    }
   ],
   "source": [
    "p.name"
   ]
  },
  {
   "cell_type": "markdown",
   "id": "cc841453-dd1e-462e-811e-230867c5f9bb",
   "metadata": {},
   "source": [
    "В каком порядке я определяю функции getname, setname & delname (а также как я их называю - можно называть их как угодно), неважно: важно только, в каком порядке я их передаю в метод property. \n",
    "\n",
    "Переменная name находится на верхнем уровне определения класса, на одном уровне с определениями методов. Но при этом сам атрибут name (точнее говоря, \\_\\_name) будет принадлежать конкретному экземпляру. Мы самому классу приписали свойство, которое теперь будет взаимодействовать со всеми его экземплярами, устанавливая им внутренний атрибут \\_\\_name. Это надо четко себе уяснить: name - не атрибут экземпляра. Это атрибут класса, который хранит в себе *дескриптор*. А дескриптор - это объект, который управляет внутренним атрибутом \\_\\_name. \n",
    "\n",
    "Да:  property - это разновидность дескриптора вообще. Давайте посмотрим про дескрипторы. "
   ]
  },
  {
   "cell_type": "markdown",
   "id": "9a428b66-bb0e-45e8-9dcd-01043dc50e7c",
   "metadata": {},
   "source": [
    "#### Дескрипторы"
   ]
  },
  {
   "cell_type": "markdown",
   "id": "40e493df-7652-46a1-bffd-7902918bac2d",
   "metadata": {},
   "source": [
    "Дескриптор - это такой объект питона, который имплементирует метод протокола дескриптора. Что такое протокол дескриптора? (descriptor protocol) Это то, каким образом питон работает с атрибутами объектов (классов или экземпляров). Мы с атрибутами что можем делать:\n",
    "\n",
    "- Запрашивать их значение (\\_\\_get\\_\\_)\n",
    "- Устанавливать их значение (\\_\\_set\\_\\_)\n",
    "- Удалять их (\\_\\_delete\\_\\_)\n",
    "- и устанавливать им имя и объект-хозяина (\\_\\_set\\_name\\_\\_)\n",
    "\n",
    "Все эти вещи и переопределяет дескриптор, чтобы можно было их делать каким-нибудь особенным образом. Дескрипторы бывают двух видов: data & non-data. Первый переопределяет метод \\_\\_set\\_\\_, а второй нет. \n",
    "\n",
    "Итак, как это все выглядит:"
   ]
  },
  {
   "cell_type": "code",
   "execution_count": 114,
   "id": "475489ae-0b8c-43b1-8f18-f05fd42f7066",
   "metadata": {},
   "outputs": [],
   "source": [
    "class Temperature:\n",
    "    \"\"\"descriptor\"\"\"\n",
    "    def __get__(self, person, type=None):\n",
    "        if hasattr(person, 'temp'):\n",
    "            return person.temp\n",
    "        raise AttributeError\n",
    "    \n",
    "    def __set__(self, person, value):\n",
    "        if 30 <= value <= 42:\n",
    "            person.temp = value\n",
    "        else:\n",
    "            print('Can\\'t set!')\n",
    "\n",
    "class Person:\n",
    "    temperature = Temperature()"
   ]
  },
  {
   "cell_type": "code",
   "execution_count": 115,
   "id": "8f997bed-0f14-49a1-a5ea-3cb7281596a2",
   "metadata": {},
   "outputs": [],
   "source": [
    "vasya = Person()"
   ]
  },
  {
   "cell_type": "code",
   "execution_count": 116,
   "id": "ee0a4332-8996-4855-82e3-8ce727735065",
   "metadata": {},
   "outputs": [
    {
     "name": "stdout",
     "output_type": "stream",
     "text": [
      "Can't set!\n"
     ]
    }
   ],
   "source": [
    "vasya.temperature = 43"
   ]
  },
  {
   "cell_type": "code",
   "execution_count": 117,
   "id": "1114570c-92ca-408b-b7e5-098de319c237",
   "metadata": {},
   "outputs": [],
   "source": [
    "vasya.temperature = 36"
   ]
  },
  {
   "cell_type": "markdown",
   "id": "88d6fda0-389f-45af-8075-0e0ed203289c",
   "metadata": {},
   "source": [
    "Дескриптор - это **отдельный класс**. Это и имеется в виду, когда мы говорим \"объект\". Когда мы определяем класс Person, у него заводим его статический атрибут, в который помещаем конкретный экземпляр класса \"дескриптор\". Теперь, когда мы будем писать vasya.temperature, мы на самом деле обращаемся к дескриптору, а не к атрибуту с целочисленным значением! А дескриптор уже вызывает нужные методы. То есть, что происходит, если совсем подробно:\n",
    "\n",
    "    vasya = Person()  \n",
    "    # у васи, как у экземпляра класса, образуется атрибут Temperature(), \n",
    "    то есть, создается конкретный объект-дескриптор. Никаких динамических атрибутов у васи нет!\n",
    "    \n",
    "    vasya.temperature \n",
    "    # мы обращаемся к дескриптору! У него в этот момент неявным образом вызывается метод __get__, который принимает что? \n",
    "    Сам экземпляр дескриптора (self), объект person = vasya, type, он же owner - это класс (мы можем его не передавать). \n",
    "    \n",
    "    vasya.temperature = 36\n",
    "    # мы опять обращаемся к дескриптору, но оператор присваивания заставляет вызваться метод __set__, который принимает опять\n",
    "    сам экземпляр дескриптора, объект vasya и значение 36. Именно поэтому пишем person.temp = value: мы записываем значение уже в реальный динамический атрибут. \n",
    "    \n",
    "    del vasya.temperature \n",
    "    # должен был бы вызвать метод __delete__, но мы его не определили. "
   ]
  },
  {
   "cell_type": "markdown",
   "id": "ae99e898-5b22-4bfa-b22a-008beb286a50",
   "metadata": {},
   "source": [
    "Дескрипторы, как и более простой их вариант property, обычно используются с синтаксисом декораторов (скоро посмотрим). Нужны они все для того же самого: для проверок, логов и всяческого разнообразного контроля над атрибутами, а еще чтоб жизнь малиной не казалась. :)"
   ]
  },
  {
   "cell_type": "markdown",
   "id": "ce141f89-32da-4bad-b848-7875d2cf1c81",
   "metadata": {},
   "source": [
    "#### Статические методы и методы класса"
   ]
  },
  {
   "cell_type": "markdown",
   "id": "b7f92858-3306-4b9f-91e1-b27d47e2f858",
   "metadata": {},
   "source": [
    "Статические методы не принимают экземпляр класса: собственно говоря, эти методы могли бы существовать как отдельные функции, но часто их удобно запихивать в класс, чтобы а) не импортировать из модуля кучу имен б) лучшая структура программы в) переопределять их при наследовании!\n",
    "\n",
    "Методы класса вместо экземпляра принимают сам класс. \n",
    "\n",
    "Допустим, у нас есть класс \"Пицца\", у которого хотим сделать метод, чтобы вычислять тупо площадь пиццы по ее диаметру: при этом начинка пиццы, которая нам важна для других методов, здесь не играет роли. Можно это сделать отдельной функцией:"
   ]
  },
  {
   "cell_type": "code",
   "execution_count": 10,
   "id": "b6552098-8b3f-45d7-90f3-965bc0fe2be6",
   "metadata": {},
   "outputs": [],
   "source": [
    "import math\n",
    "\n",
    "def pizza_area(d):\n",
    "    return math.pi * (d / 2) ** 2\n",
    "\n",
    "class Pizza:\n",
    "    def __init__(self, *ingrs):\n",
    "        self.ingredients = ingrs\n",
    "    \n",
    "    def price(self):\n",
    "        return len(self.ingredients)  # это, конечно, глупость, но мне лень писать адекватно :)"
   ]
  },
  {
   "cell_type": "markdown",
   "id": "8620ceb4-6006-4fb0-b77c-a20d258c267b",
   "metadata": {},
   "source": [
    "В таком варианте, если мы захотим импортировать класс \"Пицца\" в другой скрипт, придется импортировать и функцию вместе с ним. Хочется включить метод в класс:"
   ]
  },
  {
   "cell_type": "code",
   "execution_count": 11,
   "id": "f47f5f0d-c460-47d1-986a-365c5903a499",
   "metadata": {},
   "outputs": [],
   "source": [
    "class Pizza:\n",
    "    def __init__(self, *ingrs):\n",
    "        self.ingredients = ingrs\n",
    "    \n",
    "    def price(self):\n",
    "        return len(self.ingredients)  \n",
    "    \n",
    "    def pizza_area(d):\n",
    "        return math.pi * (d / 2) ** 2"
   ]
  },
  {
   "cell_type": "markdown",
   "id": "de22c3c0-7c8f-4402-881d-e50e78661b19",
   "metadata": {},
   "source": [
    "Такой код не будет работать:"
   ]
  },
  {
   "cell_type": "code",
   "execution_count": 8,
   "id": "8c801827-45a0-4d71-9017-89b60fcfccaa",
   "metadata": {},
   "outputs": [
    {
     "ename": "TypeError",
     "evalue": "pizza_area() takes 1 positional argument but 2 were given",
     "output_type": "error",
     "traceback": [
      "\u001b[0;31m---------------------------------------------------------------------------\u001b[0m",
      "\u001b[0;31mTypeError\u001b[0m                                 Traceback (most recent call last)",
      "Input \u001b[0;32mIn [8]\u001b[0m, in \u001b[0;36m<cell line: 2>\u001b[0;34m()\u001b[0m\n\u001b[1;32m      1\u001b[0m pizza \u001b[38;5;241m=\u001b[39m Pizza(\u001b[38;5;124m'\u001b[39m\u001b[38;5;124mcheese\u001b[39m\u001b[38;5;124m'\u001b[39m, \u001b[38;5;124m'\u001b[39m\u001b[38;5;124msausage\u001b[39m\u001b[38;5;124m'\u001b[39m, \u001b[38;5;124m'\u001b[39m\u001b[38;5;124molives\u001b[39m\u001b[38;5;124m'\u001b[39m)\n\u001b[0;32m----> 2\u001b[0m \u001b[43mpizza\u001b[49m\u001b[38;5;241;43m.\u001b[39;49m\u001b[43mpizza_area\u001b[49m\u001b[43m(\u001b[49m\u001b[38;5;241;43m30\u001b[39;49m\u001b[43m)\u001b[49m\n",
      "\u001b[0;31mTypeError\u001b[0m: pizza_area() takes 1 positional argument but 2 were given"
     ]
    }
   ],
   "source": [
    "pizza = Pizza('cheese', 'sausage', 'olives')\n",
    "pizza.pizza_area(30)"
   ]
  },
  {
   "cell_type": "markdown",
   "id": "132aa9ca-f5df-4915-b1ef-bdcb299b095e",
   "metadata": {},
   "source": [
    "Будет работать такой:"
   ]
  },
  {
   "cell_type": "code",
   "execution_count": 12,
   "id": "3d026a80-7627-424f-93b4-6f086afc63c3",
   "metadata": {},
   "outputs": [
    {
     "data": {
      "text/plain": [
       "706.8583470577034"
      ]
     },
     "execution_count": 12,
     "metadata": {},
     "output_type": "execute_result"
    }
   ],
   "source": [
    "Pizza.pizza_area(30)"
   ]
  },
  {
   "cell_type": "markdown",
   "id": "2789695c-112e-4192-9e17-ce2beb8a1da2",
   "metadata": {},
   "source": [
    "Но, кстати говоря, во 2 питоне и такой не сработает (сейчас никто не пользуется 2 питоном, но мало ли...)\n",
    "\n",
    "Тут-то и можно использовать статические методы:"
   ]
  },
  {
   "cell_type": "code",
   "execution_count": 13,
   "id": "5e8c5c1e-f603-47c8-bbad-f66b81587dd1",
   "metadata": {},
   "outputs": [],
   "source": [
    "class Pizza:\n",
    "    def __init__(self, *ingrs):\n",
    "        self.ingredients = ingrs\n",
    "    \n",
    "    def price(self):\n",
    "        return len(self.ingredients)  \n",
    "    \n",
    "    def pizza_area(d):\n",
    "        return math.pi * (d / 2) ** 2\n",
    "    pizza_area = staticmethod(pizza_area)"
   ]
  },
  {
   "cell_type": "code",
   "execution_count": 14,
   "id": "5ed762f3-b907-4c64-a43c-ecd0b62981c3",
   "metadata": {},
   "outputs": [
    {
     "data": {
      "text/plain": [
       "706.8583470577034"
      ]
     },
     "execution_count": 14,
     "metadata": {},
     "output_type": "execute_result"
    }
   ],
   "source": [
    "pizza = Pizza('cheese', 'sausage', 'olives')\n",
    "pizza.pizza_area(30)"
   ]
  },
  {
   "cell_type": "markdown",
   "id": "f645a836-ed4b-4a0d-bc2f-01d36982179a",
   "metadata": {},
   "source": [
    "Ура, все заработало и так. Теперь мы можем как хотим обращаться к нашему статическому методу, и возможно, с точки зрения логики будет правильно обращаться к нему все равно от экземпляра. \n",
    "\n",
    "Метод класса работает примерно так же, только еще принимает аргумент - ссылочку на сам класс. Можно устроить этакое:"
   ]
  },
  {
   "cell_type": "code",
   "execution_count": 15,
   "id": "33d24f29-af94-433a-bb86-a4930f92f9e3",
   "metadata": {},
   "outputs": [],
   "source": [
    "class Pizza:\n",
    "    def __init__(self, *ingrs):\n",
    "        self.ingredients = ingrs\n",
    "    \n",
    "    def price(self):\n",
    "        return len(self.ingredients)  \n",
    "    \n",
    "    def pizza_area(cls, d):\n",
    "        return f'{cls.__name__}: {math.pi * (d / 2) ** 2}'\n",
    "    pizza_area = classmethod(pizza_area)"
   ]
  },
  {
   "cell_type": "code",
   "execution_count": 16,
   "id": "90a1f217-b0d8-4656-b9f4-2e5b330bf9d5",
   "metadata": {},
   "outputs": [
    {
     "data": {
      "text/plain": [
       "'Pizza: 706.8583470577034'"
      ]
     },
     "execution_count": 16,
     "metadata": {},
     "output_type": "execute_result"
    }
   ],
   "source": [
    "pizza = Pizza('cheese', 'sausage', 'olives')\n",
    "pizza.pizza_area(30)"
   ]
  },
  {
   "cell_type": "markdown",
   "id": "f75be1d2-c33a-4e4a-b8e2-247150ad3d88",
   "metadata": {},
   "source": [
    "Про super() и подробнее про дескрипторы еще поговорим на следующем занятии. "
   ]
  },
  {
   "cell_type": "markdown",
   "id": "2ba0666d-83fe-4110-8053-6a61855e93c5",
   "metadata": {},
   "source": [
    "Кто хочет разобраться получше, вот некоторые ссылки на материалы, которые я использовала:\n",
    "\n",
    "- Ну во-первых, Лутц (т. II)\n",
    "- [Про слоты](https://habr.com/ru/post/686220/)\n",
    "- [Про дескрипторы](https://towardsdatascience.com/python-descriptors-and-how-to-use-them-5167d506af84)\n",
    "- [Статические методы и методы класса + пицца](https://realpython.com/instance-class-and-static-methods-demystified/)"
   ]
  },
  {
   "cell_type": "markdown",
   "id": "6a79e3de-746f-48f9-93cf-224969c8df70",
   "metadata": {},
   "source": [
    "Если увидите синтаксис с @ - это как раз синтаксис с декораторами, на практике обычно используют именно его, но нам с вами нужно понимать, что за ним скрывается. "
   ]
  }
 ],
 "metadata": {
  "kernelspec": {
   "display_name": "Python 3 (ipykernel)",
   "language": "python",
   "name": "python3"
  },
  "language_info": {
   "codemirror_mode": {
    "name": "ipython",
    "version": 3
   },
   "file_extension": ".py",
   "mimetype": "text/x-python",
   "name": "python",
   "nbconvert_exporter": "python",
   "pygments_lexer": "ipython3",
   "version": "3.9.12"
  }
 },
 "nbformat": 4,
 "nbformat_minor": 5
}
