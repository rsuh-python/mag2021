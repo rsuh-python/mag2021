{
 "cells": [
  {
   "cell_type": "markdown",
   "id": "a348763d-319f-4a0a-a2b5-5a50a169505f",
   "metadata": {},
   "source": [
    "### PANDAS"
   ]
  },
  {
   "cell_type": "markdown",
   "id": "8cdd1147-d7eb-402e-9818-7475aba59114",
   "metadata": {},
   "source": [
    "#### Задача 1.\n",
    "\n",
    "В папке семинара лежит файл weights_heights.csv. Считайте этот файл с помощью pandas. Посмотрите его содержимое: какие в нем есть колонки, сколько в нем записей, есть ли в нем пропуски. Посчитайте средние значения по колонкам. "
   ]
  },
  {
   "cell_type": "code",
   "execution_count": null,
   "id": "8ba25156-7cd8-4316-b9ba-832a9a8381e8",
   "metadata": {},
   "outputs": [],
   "source": [
    "# your code here"
   ]
  },
  {
   "cell_type": "markdown",
   "id": "2b26a012-f088-4db4-ab0c-ecf620ffd743",
   "metadata": {
    "tags": []
   },
   "source": [
    "#### Задача 2. \n",
    "\n",
    "Откройте файл titanic.csv с помощью pandas. Изучите его: какие у него есть колонки, сколько записей и какие. Используйте метод describe() или info(). Удалите все пустые ячейки. Посмотрите, какие уникальные значения есть в колонке Pclass. "
   ]
  },
  {
   "cell_type": "code",
   "execution_count": null,
   "id": "c0648378-fc46-4fd1-ba23-9709efc1c426",
   "metadata": {},
   "outputs": [],
   "source": [
    "# your code here"
   ]
  },
  {
   "cell_type": "markdown",
   "id": "3748e944-0593-4dac-a789-3c517b464dd5",
   "metadata": {},
   "source": [
    "#### Задача 3. \n",
    "\n",
    "Давайте заменим данные о поле пассажиров на цифровые. С помощью метода apply() замените все Female на 0, а Male на 1 (или наоборот, как хотите). "
   ]
  },
  {
   "cell_type": "code",
   "execution_count": null,
   "id": "beef9cef-67c6-4140-9edf-905deee0187d",
   "metadata": {},
   "outputs": [],
   "source": [
    "# your code here"
   ]
  },
  {
   "cell_type": "markdown",
   "id": "f0e75286-9f54-4838-bdab-bb372bfaec79",
   "metadata": {},
   "source": [
    "#### Задача 4. \n",
    "\n",
    "Сделайте разбор любого небольшого текста в формате UD, преобразуйте его в табличку Pandas и сохраните в Excel."
   ]
  },
  {
   "cell_type": "code",
   "execution_count": null,
   "id": "151c0600-7ef0-445a-9379-15fb775b9048",
   "metadata": {},
   "outputs": [],
   "source": [
    "# your code here"
   ]
  },
  {
   "cell_type": "markdown",
   "id": "147b1e51-b8d9-431d-830d-f2536867f340",
   "metadata": {},
   "source": [
    "#### Задача 5. (2 балла!)\n",
    "\n",
    "Оцените, сколько пассажиров первого и третьего класса выжило. Подсказка: чтобы посчитать долю выживших, очевидно, нужно разделить количество выживших пассажиров данного класса на общее количество пассажиров. Поскольку значения колонки Survived - 0 или 1, то их среднее на самом деле даст как раз количество выживших (единицы сложатся, а ноли не повлияют) на общее количество. "
   ]
  },
  {
   "cell_type": "code",
   "execution_count": null,
   "id": "40834db0-7eeb-40aa-a576-65c0b2190666",
   "metadata": {},
   "outputs": [],
   "source": [
    "# your code here"
   ]
  }
 ],
 "metadata": {
  "kernelspec": {
   "display_name": "Python 3 (ipykernel)",
   "language": "python",
   "name": "python3"
  },
  "language_info": {
   "codemirror_mode": {
    "name": "ipython",
    "version": 3
   },
   "file_extension": ".py",
   "mimetype": "text/x-python",
   "name": "python",
   "nbconvert_exporter": "python",
   "pygments_lexer": "ipython3",
   "version": "3.9.12"
  }
 },
 "nbformat": 4,
 "nbformat_minor": 5
}
