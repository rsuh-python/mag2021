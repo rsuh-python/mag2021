{
 "cells": [
  {
   "cell_type": "markdown",
   "id": "03432524-06d8-4fa5-a96d-1dd2602dc73c",
   "metadata": {},
   "source": [
    "### Повторение"
   ]
  },
  {
   "cell_type": "markdown",
   "id": "94f90ce5-c116-4078-9472-edf3ff764f84",
   "metadata": {},
   "source": [
    "#### Задача 1. \n",
    "\n",
    "Напишите функцию scramble: функция принимает на вход две строчки и должна проверить, чтобы из букв первой строки можно было составить вторую строку. Например, если у нас s1 = 'javascript', а s2 = 'java', то функция должна вернуть True. То же самое касательно варианта s1 = 'абырвалг' и s2 = 'главрыба', то есть, 1) вторая строка не обязательно содержит все буквы из первой, но если во второй строке две буквы \"с\", а в первой только одна, то должно быть False 2) буквы могут быть в любом порядке. "
   ]
  },
  {
   "cell_type": "code",
   "execution_count": null,
   "id": "f48c7cbf-64fa-47bb-8c1e-190ff274b156",
   "metadata": {},
   "outputs": [],
   "source": [
    "# your code here"
   ]
  },
  {
   "cell_type": "markdown",
   "id": "4085165a-1baa-4972-86fd-e159241f84e8",
   "metadata": {},
   "source": [
    "#### Задача 2. \n",
    "\n",
    "Правильные скобки. На вход подается строка, которая содержит только и исключительно скобки трех видов: круглые, квадратные и фигурные. Например, '{[([({})])]}'. Ваша задача - написать функцию, которая бы проверяла правильность последовательности скобок и возвращала True или False. Примеры правильных и неправильных строк:\n",
    "\n",
    "    '[(])' = False\n",
    "    ')[](' = False\n",
    "    '{[()]}' = True"
   ]
  },
  {
   "cell_type": "code",
   "execution_count": null,
   "id": "f5a9ac29-6d9d-41b9-b5cb-3decce80f1dc",
   "metadata": {},
   "outputs": [],
   "source": [
    "# your code here"
   ]
  },
  {
   "cell_type": "markdown",
   "id": "03454a26-b47e-440f-8f82-9ad76f471033",
   "metadata": {},
   "source": [
    "#### Задача 3.\n",
    "\n",
    "Напишите программу, которая считывает содержимое (любого) текстового файла, разбивает его содержимое на слова, приводит их к леммам и составляет частотный словарь. Постройте график для десяти самых частотных слов с помощью библиотеки matplotlib."
   ]
  },
  {
   "cell_type": "code",
   "execution_count": null,
   "id": "7bba6138-04c3-4a2d-907b-b77c5a53204f",
   "metadata": {},
   "outputs": [],
   "source": [
    "# your code here"
   ]
  },
  {
   "cell_type": "markdown",
   "id": "bb16a2cf-3bf8-44ee-bd12-9d9cde4f1ede",
   "metadata": {},
   "source": [
    "#### Задача 4. \n",
    "\n",
    "Постройте деревья зависимостей (любым известным вам способом) для любых трех выбранных вами предложений. Парсер тоже можно использовать любой, какой помните."
   ]
  },
  {
   "cell_type": "code",
   "execution_count": null,
   "id": "e70e4ddd-95f4-4a0d-af18-4089ab4a33ba",
   "metadata": {},
   "outputs": [],
   "source": [
    "# your code here"
   ]
  },
  {
   "cell_type": "markdown",
   "id": "a3f76d6e-901e-446f-9075-18de347e86cd",
   "metadata": {},
   "source": [
    "#### Задача 5. \n",
    "\n",
    "Возьмите любой текстовый файл и попробуйте поискать в нем редупликации вида \"X-то X\". Нас устроит все, похожее на \"дурак-то он дурак\", \"красивая-то красивая\": между словами с повтором может что-то быть, как в первом примере, а может ничего не быть. Подумайте сами, насколько далеко могут отстоять друг от друга повторяющиеся слова. "
   ]
  },
  {
   "cell_type": "code",
   "execution_count": null,
   "id": "3dc15ac2-93ea-497a-a898-2b0b5809cfd5",
   "metadata": {},
   "outputs": [],
   "source": [
    "# your code here"
   ]
  },
  {
   "cell_type": "markdown",
   "id": "7baf1831-2f6b-4ec1-9a54-4da466132393",
   "metadata": {},
   "source": [
    "#### Задача 6. \n",
    "\n",
    "А теперь очень похожий квест, но с глаголами: ищем конструкции вида \"сделать я сделал\", \"пойти он пошел\". Очевидно, что здесь пригодится какая-нибудь лемматизация. "
   ]
  },
  {
   "cell_type": "code",
   "execution_count": null,
   "id": "4f2bffb2-8985-4f48-9a63-065e3ab55a53",
   "metadata": {},
   "outputs": [],
   "source": [
    "# your code here"
   ]
  }
 ],
 "metadata": {
  "kernelspec": {
   "display_name": "Python 3 (ipykernel)",
   "language": "python",
   "name": "python3"
  },
  "language_info": {
   "codemirror_mode": {
    "name": "ipython",
    "version": 3
   },
   "file_extension": ".py",
   "mimetype": "text/x-python",
   "name": "python",
   "nbconvert_exporter": "python",
   "pygments_lexer": "ipython3",
   "version": "3.9.12"
  }
 },
 "nbformat": 4,
 "nbformat_minor": 5
}
