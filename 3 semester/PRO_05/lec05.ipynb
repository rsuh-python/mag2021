{
 "cells": [
  {
   "cell_type": "markdown",
   "id": "8dab125e-eafa-4e28-9da0-7c39a29665bb",
   "metadata": {},
   "source": [
    "## Декораторы, метаклассы, абстрактные классы"
   ]
  },
  {
   "cell_type": "markdown",
   "id": "75cc7cf4-6cba-4b7c-9ef9-13c2433aab04",
   "metadata": {},
   "source": [
    "Декораторы - это объекты, которые дополняют определения функций или классов. Они задают специальные режимы работы для простых функций и методов классов путем их помещения в добавочный уровень логики, реализованный как еще одна функция, которая обычно называется метафункцией. \n",
    "\n",
    "Декораторы классов дополняют определения классов. Они делают то же самое для классов, добавляя поддержку управления целыми объектами и их интерфейсами. Часто пересекаются в ролях с метаклассами. \n",
    "\n",
    "Соответственно, декораторы бывают:\n",
    "\n",
    "    а). классов или функций\n",
    "    б). сами либо классы, либо функции\n",
    "    \n",
    "Синтаксически декоратор выглядит как:\n",
    "\n",
    "    @декоратор\n",
    "    def | class"
   ]
  },
  {
   "cell_type": "markdown",
   "id": "555b6241-f8be-4be6-bc35-39f4f913215b",
   "metadata": {},
   "source": [
    "**Известные нам вещи в декораторах**\n",
    "\n",
    "Во-первых, декораторный синтаксис поддерживает property:"
   ]
  },
  {
   "cell_type": "code",
   "execution_count": null,
   "id": "d248989f-0e98-4af0-aadf-5c8da310e00b",
   "metadata": {},
   "outputs": [],
   "source": [
    "class Person:\n",
    "    def __init__(self):\n",
    "        self.__name = ''\n",
    "    \n",
    "    @property\n",
    "    def name(self):\n",
    "        return self.__name\n",
    "    \n",
    "    @name.setter\n",
    "    def name(self, val):\n",
    "        self.__name = val\n",
    "        \n",
    "    @name.deleter\n",
    "    def name(self):\n",
    "        del self.__name"
   ]
  },
  {
   "cell_type": "markdown",
   "id": "97e322dc-1708-4cf8-aed0-32bc123becd2",
   "metadata": {},
   "source": [
    "А во-вторых, статические методы и методы классов:"
   ]
  },
  {
   "cell_type": "code",
   "execution_count": null,
   "id": "c76535a4-3c20-47fa-bb37-e2dbcdddcac3",
   "metadata": {},
   "outputs": [],
   "source": [
    "class Person:\n",
    "    def __init__(self):\n",
    "        self.__name = ''\n",
    "    \n",
    "    @property\n",
    "    def name(self):\n",
    "        return self.__name\n",
    "    \n",
    "    @name.setter\n",
    "    def name(self, val):\n",
    "        self.__name = val\n",
    "        \n",
    "    @name.deleter\n",
    "    def name(self):\n",
    "        del self.__name"
   ]
  },
  {
   "cell_type": "markdown",
   "id": "66651917-881c-4014-ac57-51b222ad71e4",
   "metadata": {},
   "source": [
    "Вообще все вещи, которые вы используете в виде:\n",
    "\n",
    "    func = mything(func)\n",
    "\n",
    "могут использоваться с синтаксисом декораторов, например, вспомните ipywidgets и интерактивные штуки к графикам. "
   ]
  },
  {
   "cell_type": "markdown",
   "id": "ceb01031-10c0-4d8a-b05e-55e7f82bd0c7",
   "metadata": {},
   "source": [
    "#### Декораторы функций\n",
    "\n",
    "Прежде чем приступим к декораторам, следует вспомнить, что функция в питоне - это точно такой же объект, который может сам быть аргументом другой функции, и его можно возвращать. Получается, что любую функцию можно чем-нибудь дополнить:"
   ]
  },
  {
   "cell_type": "code",
   "execution_count": 2,
   "id": "6ad3dfd6-50e5-4c95-8fca-2d485c6e5326",
   "metadata": {},
   "outputs": [
    {
     "name": "stdout",
     "output_type": "stream",
     "text": [
      "Я ничего не делаю...\n",
      "Я возвращаю неизменную функцию func\n",
      "Вот мои аргументы: 1 2\n"
     ]
    }
   ],
   "source": [
    "def metafunc(func):\n",
    "    print('Я ничего не делаю...')\n",
    "    def inner_func(x, y):\n",
    "        print('Я возвращаю неизменную функцию', func.__name__)\n",
    "        return func(x, y)\n",
    "    return inner_func\n",
    "\n",
    "def func(x, y):\n",
    "    print('Вот мои аргументы:', x, y)\n",
    "    \n",
    "func = metafunc(func)\n",
    "\n",
    "func(1, 2)"
   ]
  },
  {
   "cell_type": "markdown",
   "id": "2f37528c-2645-4f27-aca7-c1e4b784f0ca",
   "metadata": {},
   "source": [
    "Для чего нам обязательно приходится прописывать эту внутреннюю функцию? А чтобы получить доступ к нашим аргументам: попробуйте написать metafunc без нее. Получится:\n",
    "\n",
    "    def metafunc(func):\n",
    "        return func(???)\n",
    "        \n",
    "Откуда взять x, y? Мы можем только завести их во внутренней определяемой функции. Обратите внимание, что эти внутренние x, y никак практически не связаны с теми x, y, что мы задали в определении func: нам никто не запретит назвать их по-другому и даже передать их другое количество, но с другим количеством возникнут проблемы. Что реально происходит?\n",
    "\n",
    "- metafunc принимает объект func, который сам по себе ничего не делает, он объект (мы его не вызываем). \n",
    "- Внутри у metafunc создается новый объект, тоже функция, который тоже ничего не делает, но принимает такое же количество параметров, как и исходная функция func, и вызывает ее внутри себя, чтобы вернуть ее результат. Должен вызывать, точнее говоря, когда мы его самого вызовем. \n",
    "- Содержимое переменной func перезаписывается этой новой функцией inner_func, которую мы вернули в metafunc. То есть, metafunc - это создатель функции, а inner_func добавляет какие-то действия к вызову func. "
   ]
  },
  {
   "cell_type": "markdown",
   "id": "b62ebd36-7734-4f0b-991a-018a9eadd47d",
   "metadata": {},
   "source": [
    "Таким образом, в декораторе metafunc мы переопределяем нашу функцию, добавляя к ней чего-нибудь. Для чего это нужно? Как раз в таких случаях, когда нам нужно добавить подобную логику к куче разных функций и мы не хотим ее копипастить (а еще эти функции хотим использовать иногда и без этой логики). \n",
    "\n",
    "Таким образом, наш декоратор для проверки деления на ноль может приписываться к самым разным функциям, где такое деление используется. "
   ]
  },
  {
   "cell_type": "code",
   "execution_count": 6,
   "id": "e9606069-a6ef-4353-9c32-50d1e00f1c01",
   "metadata": {},
   "outputs": [],
   "source": [
    "# closure, замыкание\n",
    "\n",
    "def guard_zero(operate):\n",
    "    def inner(x, y):  \n",
    "        if y == 0:\n",
    "            print('Cannot divide by zero')\n",
    "            return\n",
    "        return operate(x, y)\n",
    "    return inner\n",
    "\n",
    "@guard_zero\n",
    "def true_divide(x, y):\n",
    "    return x / y\n",
    "\n",
    "@guard_zero\n",
    "def divide(x, y):\n",
    "    return x // y"
   ]
  },
  {
   "cell_type": "markdown",
   "id": "c189a930-6777-4dbe-ac36-d597ab0d10f1",
   "metadata": {},
   "source": [
    "**Вложенные декораторы**\n",
    "\n",
    "Иногда (редко) нам может захотеться написать такой декоратор, который будет принимать какие-то параметры, то есть, по сути, создать фабрику декораторов, которая будет их штамповать наподобие такой штуки:"
   ]
  },
  {
   "cell_type": "code",
   "execution_count": null,
   "id": "0a612949-f813-4854-9b2a-51e88c158333",
   "metadata": {},
   "outputs": [],
   "source": [
    "def func_factory(k, b):\n",
    "    return lambda x: k * x + b"
   ]
  },
  {
   "cell_type": "markdown",
   "id": "6fecba8f-e4a2-4f49-8743-37fc74cb6d20",
   "metadata": {},
   "source": [
    "Функция func_factory сама по себе ничего не делает, но штампует функции для описания прямых линий с самыми разными коэффициентами. \n",
    "\n",
    "Фабрика декораторов будет делать то же самое. Давайте сразу рассмотрим рабочий пример, какой у нас был на семинаре:"
   ]
  },
  {
   "cell_type": "code",
   "execution_count": 18,
   "id": "20630aea-dec6-41e6-8853-636e229a9cfd",
   "metadata": {},
   "outputs": [
    {
     "name": "stdout",
     "output_type": "stream",
     "text": [
      "Decorator for concatenation\n",
      "Decorator for summation\n"
     ]
    }
   ],
   "source": [
    "def decodedecorator(dataType, message1, message2):\n",
    "    '''это фабрика декораторов, верхний уровень. Она штампует декораторы для проверки на тип данных'''\n",
    "    def decorator(func):\n",
    "        '''это шаблон будущего декоратора: у него меняются его k и b - сообщение об ошибке и тип данных'''\n",
    "        print(message1)\n",
    "        def wrapper(*args, **kwargs):\n",
    "            print(message2)\n",
    "            if all([type(arg) == dataType for arg in args]):   # all = все True, any = хотя бы одно True type(arg) == tuple for arg in args\n",
    "                return func(*args, **kwargs)\n",
    "            return \"Invalid input\"\n",
    "        return wrapper\n",
    "    return decorator\n",
    "\n",
    "# передавая тип данных \"строка\", мы проверяем аргументы нашей функции stringJoin на строковость\n",
    "@decodedecorator(str, \"Decorator for concatenation\", \"stringJoin started...\")\n",
    "def stringJoin(*args):\n",
    "    res = ''\n",
    "    for arg in args:\n",
    "        res += arg\n",
    "    return res\n",
    "\n",
    "# а здесь, наоборот, на интовость\n",
    "@decodedecorator(int, \"Decorator for summation\", \"summation started...\")\n",
    "def summation(*args):\n",
    "    res = 0\n",
    "    for arg in args:\n",
    "        res += arg\n",
    "    return res"
   ]
  },
  {
   "cell_type": "code",
   "execution_count": 20,
   "id": "ecde7b54-28d4-4015-9174-eee09c48294d",
   "metadata": {},
   "outputs": [
    {
     "name": "stdout",
     "output_type": "stream",
     "text": [
      "stringJoin started...\n"
     ]
    },
    {
     "data": {
      "text/plain": [
       "'123'"
      ]
     },
     "execution_count": 20,
     "metadata": {},
     "output_type": "execute_result"
    }
   ],
   "source": [
    "stringJoin('1', '2', '3')"
   ]
  },
  {
   "cell_type": "code",
   "execution_count": 21,
   "id": "b8275dc3-e50c-4d67-a632-55679daa47cc",
   "metadata": {},
   "outputs": [
    {
     "name": "stdout",
     "output_type": "stream",
     "text": [
      "summation started...\n"
     ]
    },
    {
     "data": {
      "text/plain": [
       "6"
      ]
     },
     "execution_count": 21,
     "metadata": {},
     "output_type": "execute_result"
    }
   ],
   "source": [
    "summation(1, 2, 3)"
   ]
  },
  {
   "cell_type": "markdown",
   "id": "2c12ab38-a35f-4d07-998d-a2094e24e362",
   "metadata": {},
   "source": [
    "Получается, нам не нужно писать два отдельных декоратора для проверки на строки и на инты: profit! "
   ]
  },
  {
   "cell_type": "markdown",
   "id": "230f1239-df53-4a29-80ad-5f54a3c32901",
   "metadata": {},
   "source": [
    "**Декораторы-классы**\n",
    "\n",
    "Декоратор может выглядеть и как класс, тогда основную нагрузку несет его метод \\_\\_call\\_\\_, а какие-то данные могут храниться в атрибутах. "
   ]
  },
  {
   "cell_type": "code",
   "execution_count": 23,
   "id": "8f1861ab-c02e-410b-977c-b11ced5f7350",
   "metadata": {},
   "outputs": [],
   "source": [
    "class tracer:\n",
    "    '''декоратор-класс для функции'''\n",
    "    def __init__(self, func):\n",
    "        self.calls = 0\n",
    "        self.func = func\n",
    "        \n",
    "    def __call__(self, *args):\n",
    "        self.calls += 1\n",
    "        print(f'# of calls: {self.calls}, function: {self.func.__name__}')\n",
    "        return self.func(*args)\n",
    "    \n",
    "@tracer\n",
    "def func(a, b, c):\n",
    "    print(a, b, c)\n",
    "    \n",
    "# func = tracer(func)"
   ]
  },
  {
   "cell_type": "code",
   "execution_count": 26,
   "id": "f554d47f-4d0c-43ab-a44a-6ccffdc9d655",
   "metadata": {},
   "outputs": [
    {
     "name": "stdout",
     "output_type": "stream",
     "text": [
      "# of calls: 3, function: func\n",
      "1 6 3\n"
     ]
    }
   ],
   "source": [
    "func(1, 6, 3)"
   ]
  },
  {
   "cell_type": "markdown",
   "id": "09616af3-bffb-4d44-b8bb-7baac13db6b6",
   "metadata": {},
   "source": [
    "То есть, по сути, когда мы его используем, в переменную с именем нашей функции func на самом деле кладется экземпляр класса tracer, который и будет вызываться вместо функции. "
   ]
  },
  {
   "cell_type": "markdown",
   "id": "41d5b41b-4821-4cbb-845c-e054bc57e11d",
   "metadata": {},
   "source": [
    "#### Декораторы классов\n",
    "\n",
    "По сути, делаем мы все то же самое. Для чего они могут быть нужны? Ну например, мы хотим, чтобы в каждую единицу времени существовал только один экземпляр нашего класса. Декоратор способен перехватывать вызовы имени класса при создании объектов, поэтому самое время его применить (код взят из учебника Лутца):"
   ]
  },
  {
   "cell_type": "code",
   "execution_count": 3,
   "id": "7323623c-fb52-4d9c-9484-d56484bd2f58",
   "metadata": {},
   "outputs": [
    {
     "name": "stdout",
     "output_type": "stream",
     "text": [
      "Вася Вася\n"
     ]
    }
   ],
   "source": [
    "instances = {}\n",
    "\n",
    "def singleton(aClass):\n",
    "    def onCall(*args, **kwargs):\n",
    "        if aClass not in instances:\n",
    "            # если мы еще не создавали такой объект\n",
    "            instances[aClass] = aClass(*args, **kwargs)\n",
    "        # а если создавали, то вернем уже созданный\n",
    "        return instances[aClass]\n",
    "    return onCall\n",
    "\n",
    "@singleton\n",
    "class Person:\n",
    "    def __init__(self, name):\n",
    "        self.name = name\n",
    "        \n",
    "@singleton\n",
    "class Tokenizer:\n",
    "    def __init__(self):\n",
    "        self.tokens = []\n",
    "        \n",
    "p = Person('Вася')\n",
    "f = Person('Петя')\n",
    "print(p.name, f.name)"
   ]
  },
  {
   "cell_type": "markdown",
   "id": "a48c9acb-90f2-43bf-9564-31eff5449823",
   "metadata": {},
   "source": [
    "В действительности, когда мы пишем Person('Петя'), вызывается не конструктор класса, а функция onCall, которая и возвращает нам уже существующий объект. Класс Tokenizer() я не задействовала, но причина не желать создавать много экземпляров классов одновременно может быть понятной: если в атрибутах класса содержится гигантский список..."
   ]
  },
  {
   "cell_type": "markdown",
   "id": "0a699c15-24b7-4a33-8782-0187aaea0bec",
   "metadata": {},
   "source": [
    "**Декоратор dataclass**\n",
    "\n",
    "Это вообще отличная вещь, о которой советую просто почитать [статью на хабре](https://habr.com/ru/post/415829/). Примеры я брала оттуда. "
   ]
  },
  {
   "cell_type": "markdown",
   "id": "6d184b93-c92d-4780-99d5-d0d1015b162b",
   "metadata": {},
   "source": [
    "#### Метаклассы\n",
    "\n",
    "Метаклассы - это такие объекты, которые переопределяют механизм создания самих классов. Они могут пригождаться для разработки API-интерфейсов и инструментов, простым же смертным обычно не нужны. \n",
    "\n",
    "Во-первых, какие инструменты для разработки инструментов мы с вами уже знаем:\n",
    "\n",
    "- атрибуты и инструменты интроспекции: \\_\\_dict\\_\\_, \\_\\_slots\\_\\_, \\_\\_class\\_\\_ и подобные. \n",
    "- методы перегрузки операций\n",
    "- методы перехвата доступа к атрибутам\n",
    "- свойства классов (property)\n",
    "- дескрипторы атрибутов классов\n",
    "- декораторы функций и классов, дополняющие логику оных"
   ]
  },
  {
   "cell_type": "markdown",
   "id": "623c2529-63b5-4ddc-a3e9-ffc55b5885fa",
   "metadata": {},
   "source": [
    "Метаклассы - продолжают декораторы, они тоже позволяют вставлять логику, оборачивающую наш объект класса. Механизм метаклассов сильно напоминает декораторы классов, но не привязывает имя класса к результату, возвращенному вызываемым объектом декоратора, а взамен поручает процедуру создания самого класса специализированной логике. То есть, если мы используем метакласс, он будет добавлять какие-нибудь фишечки на этап создания экземпляра класса. "
   ]
  },
  {
   "cell_type": "markdown",
   "id": "8075d762-432d-4fee-9d32-837372c57a65",
   "metadata": {},
   "source": [
    "Что вообще такое метакласс?\n",
    "\n",
    "Мы с вами знаем, что все типы данных в питоне относятся к какому-нибудь классу, например, все числа - это класс int, и так далее. Все классы на самом деле тоже относятся к какому-то классу, ведь это же тоже объекты? Этот класс в питоне называется type, и он же является метаклассом. Мы можем создавать классы с его помощью:"
   ]
  },
  {
   "cell_type": "code",
   "execution_count": 62,
   "id": "5465185f-a6eb-4a50-8960-aca1c0728839",
   "metadata": {},
   "outputs": [],
   "source": [
    "class A: pass\n",
    "\n",
    "a = A()\n",
    "a.a = 'a'"
   ]
  },
  {
   "cell_type": "code",
   "execution_count": 65,
   "id": "59509e36-d110-4572-93b9-064a84645172",
   "metadata": {},
   "outputs": [
    {
     "data": {
      "text/plain": [
       "type"
      ]
     },
     "execution_count": 65,
     "metadata": {},
     "output_type": "execute_result"
    }
   ],
   "source": [
    "type(A)"
   ]
  },
  {
   "cell_type": "code",
   "execution_count": 66,
   "id": "69e5d3bd-5ea0-4037-9161-29446a8bab08",
   "metadata": {},
   "outputs": [],
   "source": [
    "A = type('A', (), {})  \n",
    "# class A(B):\n",
    "# __bases__\n",
    "# \n",
    "\n",
    "class B(A, C):\n",
    "    def __init__(self):\n",
    "        for base in B.__bases__:\n",
    "            base.__init__(self)"
   ]
  },
  {
   "cell_type": "code",
   "execution_count": 67,
   "id": "99988d41-1461-40b9-b929-069ac7ea98f4",
   "metadata": {},
   "outputs": [
    {
     "data": {
      "text/plain": [
       "__main__.A"
      ]
     },
     "execution_count": 67,
     "metadata": {},
     "output_type": "execute_result"
    }
   ],
   "source": [
    "A"
   ]
  },
  {
   "cell_type": "code",
   "execution_count": 74,
   "id": "8be39269-4931-49d7-91b8-95f0f02f3218",
   "metadata": {},
   "outputs": [],
   "source": [
    "B = type('B', (A,), {'b': ''})"
   ]
  },
  {
   "cell_type": "code",
   "execution_count": 75,
   "id": "c2dc3c18-000f-4532-86cb-1a69b478975f",
   "metadata": {},
   "outputs": [
    {
     "data": {
      "text/plain": [
       "__main__.B"
      ]
     },
     "execution_count": 75,
     "metadata": {},
     "output_type": "execute_result"
    }
   ],
   "source": [
    "B"
   ]
  },
  {
   "cell_type": "code",
   "execution_count": 71,
   "id": "a7dbfafb-c7bb-4803-9e1d-8a61afd346bf",
   "metadata": {},
   "outputs": [],
   "source": [
    "b = B()"
   ]
  },
  {
   "cell_type": "code",
   "execution_count": 77,
   "id": "e1f1492f-c5d8-4d74-8b6e-3e6f2aeacd9a",
   "metadata": {},
   "outputs": [
    {
     "data": {
      "text/plain": [
       "''"
      ]
     },
     "execution_count": 77,
     "metadata": {},
     "output_type": "execute_result"
    }
   ],
   "source": [
    "B.b"
   ]
  },
  {
   "cell_type": "markdown",
   "id": "acdf6a2c-9bf4-43af-bfb1-28387eec17b9",
   "metadata": {},
   "source": [
    "Таким образом, type принимает имя для класса, кортеж из его классов-родителей и словарь из его атрибутов со значениями. \n",
    "\n",
    "Получается, у класса type есть магический метод \\_\\_call\\_\\_, который и срабатывает, когда мы создаем экземпляр класса, который сам является экземпляром type. Внутри себя \\_\\_call\\_\\_ вызывает соответственно \\_\\_new\\_\\_ и \\_\\_init\\_\\_. Это все мы можем переопределить при создании метакласса. "
   ]
  },
  {
   "cell_type": "code",
   "execution_count": 78,
   "id": "04458ae4-0484-46d2-a0a1-4c391e73c8c8",
   "metadata": {},
   "outputs": [],
   "source": [
    "class Meta(type):\n",
    "    def __new__(cls, name, bases, dct):\n",
    "        x = super().__new__(cls, name, bases, dct)\n",
    "        x.attr = 100\n",
    "        return x"
   ]
  },
  {
   "cell_type": "code",
   "execution_count": 79,
   "id": "3ea708e1-909f-4d1c-8ea1-2ae48b6c1da8",
   "metadata": {},
   "outputs": [],
   "source": [
    "class Foo(metaclass=Meta): pass"
   ]
  },
  {
   "cell_type": "code",
   "execution_count": 80,
   "id": "b4fff0b2-810c-42f3-8d03-bf7867696e3c",
   "metadata": {},
   "outputs": [
    {
     "data": {
      "text/plain": [
       "mappingproxy({'__module__': '__main__',\n",
       "              '__dict__': <attribute '__dict__' of 'Foo' objects>,\n",
       "              '__weakref__': <attribute '__weakref__' of 'Foo' objects>,\n",
       "              '__doc__': None,\n",
       "              'attr': 100})"
      ]
     },
     "execution_count": 80,
     "metadata": {},
     "output_type": "execute_result"
    }
   ],
   "source": [
    "Foo.__dict__"
   ]
  },
  {
   "cell_type": "markdown",
   "id": "8ea60c6c-8baa-4ab4-bb26-91267ac4c539",
   "metadata": {},
   "source": [
    "Таким образом, любые классы, метаклассом которых является класс Meta, будут автоматически при создании получать атрибут attr со значением 100. Разумеется, обычно на практике если используют метаклассы, пишут гораздо более сложные вещи. \n",
    "\n",
    "Для чего нам с вами про это вообще говорить? Ну, больше знать - не меньше знать :), а еще в какой-то момент вы можете  обнаружить, что для вашей задачи как раз нужен метакласс. Ну и наконец, это позволяет еще глубже вникнуть в нутро питона и разобраться с его классами. "
   ]
  },
  {
   "cell_type": "markdown",
   "id": "37bb109c-583d-44df-ab76-d9c1b9a447e7",
   "metadata": {},
   "source": [
    "#### Абстрактные классы и методы\n",
    "\n",
    "Абстрактный класс - это своего рода шаблон для классов, которые будут от него наследовать. Основное отличие абстрактного класса (и абстрактных методов) в том, что нельзя создавать экземпляры этого класса (и с такими методами). Обычно они используются для большей структуризации кода. Самый наглядный, пожалуй, пример - это с животными. У нас нет в природе экземпляра класса \"животное\", который бы не относился ни к одному из его подклассов (кошка, собака и т.п.). "
   ]
  },
  {
   "cell_type": "code",
   "execution_count": 81,
   "id": "aeac8c86-9c12-4b74-80c6-84bb95a12a1f",
   "metadata": {},
   "outputs": [],
   "source": [
    "from abc import ABC, abstractmethod"
   ]
  },
  {
   "cell_type": "code",
   "execution_count": 86,
   "id": "6a916a76-4cc6-4d48-bf61-10f880c3b12f",
   "metadata": {},
   "outputs": [],
   "source": [
    "class Animal(ABC):\n",
    "    \n",
    "    @abstractmethod\n",
    "    def move(self):\n",
    "        pass\n",
    "    \n",
    "    @abstractmethod\n",
    "    def speak(self):\n",
    "        pass\n",
    "    \n",
    "class Cat(Animal):\n",
    "    def move(self):\n",
    "        print('I walk')\n",
    "    def speak(self):\n",
    "        print('miaouw')\n",
    "        \n",
    "class Fish(Animal):\n",
    "    def move(self):\n",
    "        print('I swim')\n",
    "    def speak(self):\n",
    "        print('...')"
   ]
  },
  {
   "cell_type": "code",
   "execution_count": 83,
   "id": "929641ef-112b-42bf-9bfc-4b3d622e1b1f",
   "metadata": {},
   "outputs": [
    {
     "ename": "TypeError",
     "evalue": "Can't instantiate abstract class Animal with abstract methods move, speak",
     "output_type": "error",
     "traceback": [
      "\u001b[0;31m---------------------------------------------------------------------------\u001b[0m",
      "\u001b[0;31mTypeError\u001b[0m                                 Traceback (most recent call last)",
      "Input \u001b[0;32mIn [83]\u001b[0m, in \u001b[0;36m<cell line: 1>\u001b[0;34m()\u001b[0m\n\u001b[0;32m----> 1\u001b[0m a \u001b[38;5;241m=\u001b[39m \u001b[43mAnimal\u001b[49m\u001b[43m(\u001b[49m\u001b[43m)\u001b[49m\n",
      "\u001b[0;31mTypeError\u001b[0m: Can't instantiate abstract class Animal with abstract methods move, speak"
     ]
    }
   ],
   "source": [
    "a = Animal()"
   ]
  },
  {
   "cell_type": "code",
   "execution_count": 87,
   "id": "1b1b079b-e17c-4f6b-b89a-12ca098d7ebb",
   "metadata": {},
   "outputs": [
    {
     "ename": "TypeError",
     "evalue": "Can't instantiate abstract class Cat with abstract method speak",
     "output_type": "error",
     "traceback": [
      "\u001b[0;31m---------------------------------------------------------------------------\u001b[0m",
      "\u001b[0;31mTypeError\u001b[0m                                 Traceback (most recent call last)",
      "Input \u001b[0;32mIn [87]\u001b[0m, in \u001b[0;36m<cell line: 1>\u001b[0;34m()\u001b[0m\n\u001b[0;32m----> 1\u001b[0m c \u001b[38;5;241m=\u001b[39m \u001b[43mCat\u001b[49m\u001b[43m(\u001b[49m\u001b[43m)\u001b[49m\n",
      "\u001b[0;31mTypeError\u001b[0m: Can't instantiate abstract class Cat with abstract method speak"
     ]
    }
   ],
   "source": [
    "c = Cat()"
   ]
  },
  {
   "cell_type": "code",
   "execution_count": 85,
   "id": "a4b21c89-4f67-4b5b-bedf-6f4fffcc6759",
   "metadata": {},
   "outputs": [
    {
     "name": "stdout",
     "output_type": "stream",
     "text": [
      "I walk\n"
     ]
    }
   ],
   "source": [
    "c.move()"
   ]
  },
  {
   "cell_type": "markdown",
   "id": "ec4eda47-0a59-4ecd-a955-8bba55127570",
   "metadata": {},
   "source": [
    "Абстрактные классы и методы ровно это и иллюстрируют. Абстрактный класс \"животное\" не позволяет создать свой конкретный экземпляр, а у классов-наследников мы обязаны переопределить все методы абстрактного класса, потому что абстрактные методы не могут быть у конкретных классов. \n",
    "\n",
    "Существует также декоратор @absctractproperty, его я не показала, но идея там та же. "
   ]
  }
 ],
 "metadata": {
  "kernelspec": {
   "display_name": "Python 3 (ipykernel)",
   "language": "python",
   "name": "python3"
  },
  "language_info": {
   "codemirror_mode": {
    "name": "ipython",
    "version": 3
   },
   "file_extension": ".py",
   "mimetype": "text/x-python",
   "name": "python",
   "nbconvert_exporter": "python",
   "pygments_lexer": "ipython3",
   "version": "3.9.12"
  }
 },
 "nbformat": 4,
 "nbformat_minor": 5
}
