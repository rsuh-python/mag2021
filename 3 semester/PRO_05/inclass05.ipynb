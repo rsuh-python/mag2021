{
 "cells": [
  {
   "cell_type": "code",
   "execution_count": null,
   "id": "32e2945a-9e77-44d0-a341-b76697213347",
   "metadata": {},
   "outputs": [],
   "source": [
    "# closure\n",
    "\n",
    "def ext(func):\n",
    "    def inner(x, y):\n",
    "        if y == 0:\n",
    "            print('Cannot divide by zero')\n",
    "            return\n",
    "        return func(x, y)\n",
    "    \n",
    "def func(x, y):\n",
    "    return x / y\n",
    "\n"
   ]
  },
  {
   "cell_type": "code",
   "execution_count": null,
   "id": "76c03a3e-217e-4c64-8cdf-a6efee00d76d",
   "metadata": {},
   "outputs": [],
   "source": [
    "class A:\n",
    "    @staticmethod\n",
    "    def staticmeth(x):\n",
    "        return x\n",
    "    \n",
    "    @classmethod\n",
    "    ...\n",
    "    \n",
    "class A:\n",
    "    def staticmeth(x):\n",
    "        return x\n",
    "    staticmeth = staticmethod(staticmeth)"
   ]
  },
  {
   "cell_type": "code",
   "execution_count": 1,
   "id": "2151ce2c-916a-4761-aaf5-d18a8e6dd82f",
   "metadata": {
    "tags": []
   },
   "outputs": [],
   "source": [
    "class Person:\n",
    "    def __init__(self):\n",
    "        self.__name = ''\n",
    "    \n",
    "    @property\n",
    "    def name(self):\n",
    "        return self.__name\n",
    "    \n",
    "    @name.setter\n",
    "    def name(self, val):\n",
    "        self.__name = val\n",
    "        \n",
    "    @name.deleter\n",
    "    def name(self):\n",
    "        del self.__name"
   ]
  },
  {
   "cell_type": "code",
   "execution_count": 2,
   "id": "5cf0ce16-2142-4c50-ad34-b27cb6ab93bb",
   "metadata": {},
   "outputs": [],
   "source": [
    "p = Person()"
   ]
  },
  {
   "cell_type": "code",
   "execution_count": 3,
   "id": "fe1ef114-82e5-44c7-b795-d0173887bfc8",
   "metadata": {},
   "outputs": [
    {
     "data": {
      "text/plain": [
       "''"
      ]
     },
     "execution_count": 3,
     "metadata": {},
     "output_type": "execute_result"
    }
   ],
   "source": [
    "p.name"
   ]
  },
  {
   "cell_type": "code",
   "execution_count": 4,
   "id": "501b73a2-636f-4bdf-8663-b3e838ffe227",
   "metadata": {},
   "outputs": [],
   "source": [
    "p.name = 'Vasya'"
   ]
  },
  {
   "cell_type": "code",
   "execution_count": 6,
   "id": "5fe1480e-be58-4d86-8c0d-409c164a3f74",
   "metadata": {},
   "outputs": [],
   "source": [
    "# closure, замыкание\n",
    "\n",
    "def guard_zero(operate):\n",
    "    def inner(x, y):  \n",
    "        if y == 0:\n",
    "            print('Cannot divide by zero')\n",
    "            return\n",
    "        return operate(x, y)\n",
    "    return inner"
   ]
  },
  {
   "cell_type": "code",
   "execution_count": 8,
   "id": "ee26348f-8bf9-4644-a647-3c34d97ec5fc",
   "metadata": {},
   "outputs": [],
   "source": [
    "def true_divide(x, y):\n",
    "    return x / y\n",
    "\n",
    "def divide(x, y):\n",
    "    return x // y\n",
    "\n",
    "divide = guard_zero(divide)\n",
    "true_divide = guard_zero(true_divide)"
   ]
  },
  {
   "cell_type": "code",
   "execution_count": 13,
   "id": "3f55b2cf-b17d-467d-91c3-9e8443e7aa3e",
   "metadata": {},
   "outputs": [
    {
     "name": "stdout",
     "output_type": "stream",
     "text": [
      "Cannot divide by zero\n"
     ]
    }
   ],
   "source": [
    "divide(8, 0)"
   ]
  },
  {
   "cell_type": "code",
   "execution_count": 11,
   "id": "d2ba3a41-7118-4152-ab46-2ffea5593545",
   "metadata": {},
   "outputs": [],
   "source": [
    "@guard_zero\n",
    "def true_divide(x, y):\n",
    "    return x / y\n",
    "\n",
    "@guard_zero\n",
    "def divide(x, y):\n",
    "    return x // y"
   ]
  },
  {
   "cell_type": "code",
   "execution_count": null,
   "id": "1e873326-ce58-49cf-9082-f760af9e210a",
   "metadata": {},
   "outputs": [],
   "source": [
    "def decorator(func):\n",
    "    print()\n",
    "    def wrapped(*args, **kwargs):\n",
    "        print('do something')\n",
    "        result = func(*args, **kwargs)\n",
    "        return result\n",
    "    return wrapped\n",
    "\n",
    "@decorator\n",
    "def myfunc(a, b):\n",
    "    print(a + b)"
   ]
  },
  {
   "cell_type": "code",
   "execution_count": null,
   "id": "999f8791-e670-4385-a6af-886fd8c48165",
   "metadata": {},
   "outputs": [],
   "source": [
    "def funcs(k, b):\n",
    "    return lambda k * x + b"
   ]
  },
  {
   "cell_type": "code",
   "execution_count": null,
   "id": "98526f32-93b9-4968-8a5e-9feef1b05d08",
   "metadata": {},
   "outputs": [],
   "source": [
    "def func(x):\n",
    "    return 2 * x + 3"
   ]
  },
  {
   "cell_type": "code",
   "execution_count": null,
   "id": "c6dd6ea7-c937-48fc-882f-56ec03b128ba",
   "metadata": {},
   "outputs": [],
   "source": [
    "func(3)"
   ]
  },
  {
   "cell_type": "code",
   "execution_count": null,
   "id": "4ee1f154-3aa9-4739-9363-25d54b225cd2",
   "metadata": {},
   "outputs": [],
   "source": [
    "myfunc = decorator(myfunc) => wrapped(myfunc)\n",
    "\n",
    "myfunc()"
   ]
  },
  {
   "cell_type": "code",
   "execution_count": 16,
   "id": "0537b0b1-9a5a-4d0d-ae13-4110f1288d40",
   "metadata": {},
   "outputs": [],
   "source": [
    "def decodeco(arg1, arg2, arg3):  # decorator of decorators\n",
    "    def wrap(f):  # f = myfunc\n",
    "        print('Inside wrap')\n",
    "        def wrapped_f(*args):  # args = func(args)\n",
    "            print('Inside wrapped f')\n",
    "            print(*args)\n",
    "            print(arg1, arg2, arg3)\n",
    "            f(*args)\n",
    "            print('After')\n",
    "        return wrapped_f\n",
    "    return wrap"
   ]
  },
  {
   "cell_type": "code",
   "execution_count": 17,
   "id": "7476b8dd-fc6a-4e83-b884-c7f4e72b3037",
   "metadata": {},
   "outputs": [
    {
     "name": "stdout",
     "output_type": "stream",
     "text": [
      "Inside wrap\n",
      "Inside wrapped f\n",
      "this is a decorator\n",
      "1 2 3\n",
      "this is a decorator\n",
      "After\n"
     ]
    }
   ],
   "source": [
    "@decodeco(1, 2, 3)\n",
    "def myfunc(a1, a2, a3, a4):\n",
    "    print(a1, a2, a3, a4)\n",
    "    \n",
    "myfunc('this', 'is', 'a', 'decorator')"
   ]
  },
  {
   "cell_type": "code",
   "execution_count": 18,
   "id": "93fa208b-e637-4bea-a17b-2103d9e956ba",
   "metadata": {},
   "outputs": [
    {
     "name": "stdout",
     "output_type": "stream",
     "text": [
      "Decorator for concatenation\n",
      "Decorator for summation\n"
     ]
    }
   ],
   "source": [
    "def decodedecorator(dataType, message1, message2):\n",
    "    def decorator(func):\n",
    "        print(message1)\n",
    "        def wrapper(*args, **kwargs):\n",
    "            print(message2)\n",
    "            if all([type(arg) == dataType for arg in args]):   # all = все True, any = хотя бы одно True type(arg) == tuple for arg in args\n",
    "                return func(*args, **kwargs)\n",
    "            return \"Invalid input\"\n",
    "        return wrapper\n",
    "    return decorator\n",
    "\n",
    "@decodedecorator(str, \"Decorator for concatenation\", \"stringJoin started...\")\n",
    "def stringJoin(*args):\n",
    "    res = ''\n",
    "    for arg in args:\n",
    "        res += arg\n",
    "    return res\n",
    "\n",
    "@decodedecorator(int, \"Decorator for summation\", \"summation started...\")\n",
    "def summation(*args):\n",
    "    res = 0\n",
    "    for arg in args:\n",
    "        res += arg\n",
    "    return res"
   ]
  },
  {
   "cell_type": "code",
   "execution_count": 20,
   "id": "22dc2f85-98da-4aa4-b0b5-f3f3e76dfbc9",
   "metadata": {},
   "outputs": [
    {
     "name": "stdout",
     "output_type": "stream",
     "text": [
      "stringJoin started...\n"
     ]
    },
    {
     "data": {
      "text/plain": [
       "'123'"
      ]
     },
     "execution_count": 20,
     "metadata": {},
     "output_type": "execute_result"
    }
   ],
   "source": [
    "stringJoin('1', '2', '3')"
   ]
  },
  {
   "cell_type": "code",
   "execution_count": 21,
   "id": "6593613f-0a16-42b6-8d62-dc6aa8e629e7",
   "metadata": {},
   "outputs": [
    {
     "name": "stdout",
     "output_type": "stream",
     "text": [
      "summation started...\n"
     ]
    },
    {
     "data": {
      "text/plain": [
       "6"
      ]
     },
     "execution_count": 21,
     "metadata": {},
     "output_type": "execute_result"
    }
   ],
   "source": [
    "summation(1, 2, 3)"
   ]
  },
  {
   "cell_type": "code",
   "execution_count": 22,
   "id": "52811c60-8232-4d28-983b-969a43d1cdbd",
   "metadata": {},
   "outputs": [
    {
     "name": "stdout",
     "output_type": "stream",
     "text": [
      "stringJoin started...\n"
     ]
    },
    {
     "data": {
      "text/plain": [
       "'Invalid input'"
      ]
     },
     "execution_count": 22,
     "metadata": {},
     "output_type": "execute_result"
    }
   ],
   "source": [
    "stringJoin(1, 2, 3)"
   ]
  },
  {
   "cell_type": "code",
   "execution_count": 23,
   "id": "7af5da34-1318-448a-897b-a41ce30be072",
   "metadata": {},
   "outputs": [],
   "source": [
    "class tracer:\n",
    "    '''декоратор-класс для функции'''\n",
    "    def __init__(self, func):\n",
    "        self.calls = 0\n",
    "        self.func = func\n",
    "        \n",
    "    def __call__(self, *args):\n",
    "        self.calls += 1\n",
    "        print(f'# of calls: {self.calls}, function: {self.func.__name__}')\n",
    "        return self.func(*args)\n",
    "    \n",
    "@tracer\n",
    "def func(a, b, c):\n",
    "    print(a, b, c)\n",
    "    \n",
    "# func = tracer(func)"
   ]
  },
  {
   "cell_type": "code",
   "execution_count": 26,
   "id": "70539b83-4db6-499f-bbd5-0c4ecceee4ee",
   "metadata": {},
   "outputs": [
    {
     "name": "stdout",
     "output_type": "stream",
     "text": [
      "# of calls: 3, function: func\n",
      "1 6 3\n"
     ]
    }
   ],
   "source": [
    "func(1, 6, 3)"
   ]
  },
  {
   "cell_type": "code",
   "execution_count": 27,
   "id": "07fd29ae-d74c-4356-8e7c-10001d84f49c",
   "metadata": {},
   "outputs": [],
   "source": [
    "def decorator(aClass):\n",
    "    aClass.instances = 0\n",
    "    return aClass\n",
    "\n",
    "@decorator\n",
    "class A: pass\n",
    "\n",
    "a = A()"
   ]
  },
  {
   "cell_type": "code",
   "execution_count": 28,
   "id": "8e863570-31c2-486b-8677-49d97791e3ab",
   "metadata": {},
   "outputs": [
    {
     "data": {
      "text/plain": [
       "0"
      ]
     },
     "execution_count": 28,
     "metadata": {},
     "output_type": "execute_result"
    }
   ],
   "source": [
    "a.instances"
   ]
  },
  {
   "cell_type": "code",
   "execution_count": 56,
   "id": "312cbb9e-5e36-426e-8475-803e43677726",
   "metadata": {},
   "outputs": [],
   "source": [
    "from dataclasses import dataclass, make_dataclass, field"
   ]
  },
  {
   "cell_type": "code",
   "execution_count": 47,
   "id": "7954433d-2d4f-465f-80b3-cfaddbde59cb",
   "metadata": {},
   "outputs": [],
   "source": [
    "@dataclass(frozen=True)\n",
    "class Book:\n",
    "    title: str = 'Unknown'\n",
    "    author: str = 'Unknown'"
   ]
  },
  {
   "cell_type": "code",
   "execution_count": null,
   "id": "b3a4d91c-1b38-47fc-ae62-12ff434af224",
   "metadata": {},
   "outputs": [],
   "source": [
    "class Book:\n",
    "    def __init__(self, title, author):\n",
    "        self.title = title\n",
    "        self.author = author\n",
    "        \n",
    "    def __str__(self):\n",
    "        pass\n",
    "    \n",
    "    def __repr__(self):\n",
    "        pass"
   ]
  },
  {
   "cell_type": "code",
   "execution_count": 48,
   "id": "73e8779d-b4bf-48b9-bd5b-cd647c87a477",
   "metadata": {},
   "outputs": [],
   "source": [
    "b = Book()"
   ]
  },
  {
   "cell_type": "code",
   "execution_count": 49,
   "id": "926c8b74-21a7-4c8e-8fea-856413fc995e",
   "metadata": {},
   "outputs": [
    {
     "name": "stdout",
     "output_type": "stream",
     "text": [
      "Book(title='Unknown', author='Unknown')\n"
     ]
    }
   ],
   "source": [
    "print(b)"
   ]
  },
  {
   "cell_type": "code",
   "execution_count": 50,
   "id": "7a3e7b29-f3ae-489e-a418-e83b322a1606",
   "metadata": {},
   "outputs": [
    {
     "ename": "FrozenInstanceError",
     "evalue": "cannot assign to field 'title'",
     "output_type": "error",
     "traceback": [
      "\u001b[0;31m---------------------------------------------------------------------------\u001b[0m",
      "\u001b[0;31mFrozenInstanceError\u001b[0m                       Traceback (most recent call last)",
      "Input \u001b[0;32mIn [50]\u001b[0m, in \u001b[0;36m<cell line: 1>\u001b[0;34m()\u001b[0m\n\u001b[0;32m----> 1\u001b[0m b\u001b[38;5;241m.\u001b[39mtitle \u001b[38;5;241m=\u001b[39m \u001b[38;5;124m'\u001b[39m\u001b[38;5;124masc\u001b[39m\u001b[38;5;124m'\u001b[39m\n",
      "File \u001b[0;32m<string>:4\u001b[0m, in \u001b[0;36m__setattr__\u001b[0;34m(self, name, value)\u001b[0m\n",
      "\u001b[0;31mFrozenInstanceError\u001b[0m: cannot assign to field 'title'"
     ]
    }
   ],
   "source": [
    "b.title = 'asc'"
   ]
  },
  {
   "cell_type": "code",
   "execution_count": 34,
   "id": "63418b35-2977-49a9-98fc-8e40fdb1e8b7",
   "metadata": {},
   "outputs": [
    {
     "data": {
      "text/plain": [
       "'qwe'"
      ]
     },
     "execution_count": 34,
     "metadata": {},
     "output_type": "execute_result"
    }
   ],
   "source": [
    "b.title"
   ]
  },
  {
   "cell_type": "code",
   "execution_count": 37,
   "id": "927d4c30-a096-42eb-b5ba-8853ee0b77d7",
   "metadata": {},
   "outputs": [],
   "source": [
    "Book = make_dataclass(\"Book\", ['title', 'author'])"
   ]
  },
  {
   "cell_type": "code",
   "execution_count": 52,
   "id": "b444b756-aae8-4c7a-9abb-5b430af3ff2e",
   "metadata": {},
   "outputs": [],
   "source": [
    "shelf1 = Bookshelf([1, 2])"
   ]
  },
  {
   "cell_type": "code",
   "execution_count": 53,
   "id": "aac8192b-7eda-4557-8883-7354e88c7e83",
   "metadata": {},
   "outputs": [],
   "source": [
    "shelf2 = Bookshelf([3, 4])"
   ]
  },
  {
   "cell_type": "code",
   "execution_count": 54,
   "id": "6c213c3c-4550-43ed-b7e3-42dd452bd14f",
   "metadata": {},
   "outputs": [
    {
     "data": {
      "text/plain": [
       "Bookshelf(books=[1, 2])"
      ]
     },
     "execution_count": 54,
     "metadata": {},
     "output_type": "execute_result"
    }
   ],
   "source": [
    "shelf1"
   ]
  },
  {
   "cell_type": "code",
   "execution_count": 58,
   "id": "01ff9549-c658-4656-b61d-654f53f92236",
   "metadata": {},
   "outputs": [],
   "source": [
    "l = [(1, 2), (3, 4)]"
   ]
  },
  {
   "cell_type": "code",
   "execution_count": null,
   "id": "79dd2f71-5d60-442f-8ad9-dbb1166750e2",
   "metadata": {},
   "outputs": [],
   "source": [
    "func(1, 2) => 1 + 2\n",
    "func((1, 2), (3, 4), (5, 6)) => [1 + 2, 3 + 4, 5 + 6]"
   ]
  },
  {
   "cell_type": "code",
   "execution_count": 61,
   "id": "815151a3-f99d-45fa-99ff-afeba87e877a",
   "metadata": {},
   "outputs": [
    {
     "data": {
      "text/plain": [
       "True"
      ]
     },
     "execution_count": 61,
     "metadata": {},
     "output_type": "execute_result"
    }
   ],
   "source": [
    "args = ((1, 2), (3, 4), (5, 6))\n",
    "all(type(arg) == tuple for arg in args)"
   ]
  },
  {
   "cell_type": "code",
   "execution_count": 62,
   "id": "d8b32a3e-606a-4f0d-93e9-1ed860a5556f",
   "metadata": {},
   "outputs": [],
   "source": [
    "class A: pass\n",
    "\n",
    "a = A()\n",
    "a.a = 'a'"
   ]
  },
  {
   "cell_type": "code",
   "execution_count": 65,
   "id": "3120f9c3-f9a4-4425-af70-5fcfe2c57c38",
   "metadata": {},
   "outputs": [
    {
     "data": {
      "text/plain": [
       "type"
      ]
     },
     "execution_count": 65,
     "metadata": {},
     "output_type": "execute_result"
    }
   ],
   "source": [
    "type(A)"
   ]
  },
  {
   "cell_type": "code",
   "execution_count": 66,
   "id": "424a8ce0-52f1-4a9e-b27f-13ea025ca87d",
   "metadata": {},
   "outputs": [],
   "source": [
    "A = type('A', (), {})  \n",
    "# class A(B):\n",
    "# __bases__\n",
    "# \n",
    "\n",
    "class B(A, C):\n",
    "    def __init__(self):\n",
    "        for base in B.__bases__:\n",
    "            base.__init__(self)"
   ]
  },
  {
   "cell_type": "code",
   "execution_count": 67,
   "id": "7e4b2549-c92b-4c49-8f1b-6c7c37ae2a8a",
   "metadata": {},
   "outputs": [
    {
     "data": {
      "text/plain": [
       "__main__.A"
      ]
     },
     "execution_count": 67,
     "metadata": {},
     "output_type": "execute_result"
    }
   ],
   "source": [
    "A"
   ]
  },
  {
   "cell_type": "code",
   "execution_count": 74,
   "id": "6a98f32f-5e0d-4671-bb1b-1e157e058df4",
   "metadata": {},
   "outputs": [],
   "source": [
    "B = type('B', (A,), {'b': ''})"
   ]
  },
  {
   "cell_type": "code",
   "execution_count": 75,
   "id": "317f14b4-05c1-4a90-b956-1b9489899194",
   "metadata": {},
   "outputs": [
    {
     "data": {
      "text/plain": [
       "__main__.B"
      ]
     },
     "execution_count": 75,
     "metadata": {},
     "output_type": "execute_result"
    }
   ],
   "source": [
    "B"
   ]
  },
  {
   "cell_type": "code",
   "execution_count": 71,
   "id": "df1fae8a-966e-425d-a252-e7a9e342ef35",
   "metadata": {},
   "outputs": [],
   "source": [
    "b = B()"
   ]
  },
  {
   "cell_type": "code",
   "execution_count": 77,
   "id": "2d06f1d4-dd2f-463d-bb4f-cded39dd44c3",
   "metadata": {},
   "outputs": [
    {
     "data": {
      "text/plain": [
       "''"
      ]
     },
     "execution_count": 77,
     "metadata": {},
     "output_type": "execute_result"
    }
   ],
   "source": [
    "B.b"
   ]
  },
  {
   "cell_type": "code",
   "execution_count": null,
   "id": "9f25aea7-2b6a-4314-9941-20cdd3f93f25",
   "metadata": {},
   "outputs": [],
   "source": [
    "# __call__\n",
    "b = B() # __call__ (type)\n",
    "# __new__\n",
    "# __init__"
   ]
  },
  {
   "cell_type": "code",
   "execution_count": 78,
   "id": "bd5f8e83-ec6e-4a87-b21a-b5d5bee6d41e",
   "metadata": {},
   "outputs": [],
   "source": [
    "class Meta(type):\n",
    "    def __new__(cls, name, bases, dct):\n",
    "        x = super().__new__(cls, name, bases, dct)\n",
    "        x.attr = 100\n",
    "        return x"
   ]
  },
  {
   "cell_type": "code",
   "execution_count": 79,
   "id": "25bd85ab-6e3d-4da6-a63f-ba28f2461182",
   "metadata": {},
   "outputs": [],
   "source": [
    "class Foo(metaclass=Meta): pass"
   ]
  },
  {
   "cell_type": "code",
   "execution_count": 80,
   "id": "ca0406fa-7002-4644-9480-ad1bd566d82d",
   "metadata": {},
   "outputs": [
    {
     "data": {
      "text/plain": [
       "mappingproxy({'__module__': '__main__',\n",
       "              '__dict__': <attribute '__dict__' of 'Foo' objects>,\n",
       "              '__weakref__': <attribute '__weakref__' of 'Foo' objects>,\n",
       "              '__doc__': None,\n",
       "              'attr': 100})"
      ]
     },
     "execution_count": 80,
     "metadata": {},
     "output_type": "execute_result"
    }
   ],
   "source": [
    "Foo.__dict__"
   ]
  },
  {
   "cell_type": "code",
   "execution_count": null,
   "id": "3ec6c18d-da7b-4724-94cd-975eee7f01d8",
   "metadata": {},
   "outputs": [],
   "source": [
    "class Animal: pass\n",
    "\n",
    "class Cat(Animal): pass\n",
    "\n"
   ]
  },
  {
   "cell_type": "code",
   "execution_count": 81,
   "id": "d2e5b4a4-3cb4-4653-8b2a-035a0beddeba",
   "metadata": {},
   "outputs": [],
   "source": [
    "from abc import ABC, abstractmethod"
   ]
  },
  {
   "cell_type": "code",
   "execution_count": 86,
   "id": "b89aff3c-ce05-40ca-9bae-fac3754b53c6",
   "metadata": {},
   "outputs": [],
   "source": [
    "class Animal(ABC):\n",
    "    \n",
    "    @abstractmethod\n",
    "    def move(self):\n",
    "        pass\n",
    "    \n",
    "    @abstractmethod\n",
    "    def speak(self):\n",
    "        pass\n",
    "    \n",
    "class Cat(Animal):\n",
    "    def move(self):\n",
    "        print('I walk')\n",
    "    def speak(self):\n",
    "        print('miaouw')\n",
    "        \n",
    "class Fish(Animal):\n",
    "    def move(self):\n",
    "        print('I swim')\n",
    "    def speak(self):\n",
    "        print('...')"
   ]
  },
  {
   "cell_type": "code",
   "execution_count": 83,
   "id": "33b18b8b-19ae-40e7-b575-d6f86d84128f",
   "metadata": {},
   "outputs": [
    {
     "ename": "TypeError",
     "evalue": "Can't instantiate abstract class Animal with abstract methods move, speak",
     "output_type": "error",
     "traceback": [
      "\u001b[0;31m---------------------------------------------------------------------------\u001b[0m",
      "\u001b[0;31mTypeError\u001b[0m                                 Traceback (most recent call last)",
      "Input \u001b[0;32mIn [83]\u001b[0m, in \u001b[0;36m<cell line: 1>\u001b[0;34m()\u001b[0m\n\u001b[0;32m----> 1\u001b[0m a \u001b[38;5;241m=\u001b[39m \u001b[43mAnimal\u001b[49m\u001b[43m(\u001b[49m\u001b[43m)\u001b[49m\n",
      "\u001b[0;31mTypeError\u001b[0m: Can't instantiate abstract class Animal with abstract methods move, speak"
     ]
    }
   ],
   "source": [
    "a = Animal()"
   ]
  },
  {
   "cell_type": "code",
   "execution_count": 87,
   "id": "2a4b18f0-7bf1-42e0-9176-d0f5ca1d2542",
   "metadata": {},
   "outputs": [
    {
     "ename": "TypeError",
     "evalue": "Can't instantiate abstract class Cat with abstract method speak",
     "output_type": "error",
     "traceback": [
      "\u001b[0;31m---------------------------------------------------------------------------\u001b[0m",
      "\u001b[0;31mTypeError\u001b[0m                                 Traceback (most recent call last)",
      "Input \u001b[0;32mIn [87]\u001b[0m, in \u001b[0;36m<cell line: 1>\u001b[0;34m()\u001b[0m\n\u001b[0;32m----> 1\u001b[0m c \u001b[38;5;241m=\u001b[39m \u001b[43mCat\u001b[49m\u001b[43m(\u001b[49m\u001b[43m)\u001b[49m\n",
      "\u001b[0;31mTypeError\u001b[0m: Can't instantiate abstract class Cat with abstract method speak"
     ]
    }
   ],
   "source": [
    "c = Cat()"
   ]
  },
  {
   "cell_type": "code",
   "execution_count": 85,
   "id": "0cd3bd79-eaff-422f-93a9-fa109f38a3be",
   "metadata": {},
   "outputs": [
    {
     "name": "stdout",
     "output_type": "stream",
     "text": [
      "I walk\n"
     ]
    }
   ],
   "source": [
    "c.move()"
   ]
  },
  {
   "cell_type": "code",
   "execution_count": 90,
   "id": "6e2bb056-f1cb-4ffb-9a84-8589f3db9425",
   "metadata": {},
   "outputs": [
    {
     "name": "stdout",
     "output_type": "stream",
     "text": [
      "(1, 4) (2, 5) (3, 6)\n"
     ]
    }
   ],
   "source": [
    "a = (1, 2, 3)\n",
    "b = (4, 5, 6)\n",
    "c = list(zip(a, b))\n",
    "print(*c)"
   ]
  },
  {
   "cell_type": "code",
   "execution_count": null,
   "id": "f01d5859-49a6-4061-b82d-e343dcd0ad0c",
   "metadata": {},
   "outputs": [],
   "source": []
  }
 ],
 "metadata": {
  "kernelspec": {
   "display_name": "Python 3 (ipykernel)",
   "language": "python",
   "name": "python3"
  },
  "language_info": {
   "codemirror_mode": {
    "name": "ipython",
    "version": 3
   },
   "file_extension": ".py",
   "mimetype": "text/x-python",
   "name": "python",
   "nbconvert_exporter": "python",
   "pygments_lexer": "ipython3",
   "version": "3.9.12"
  }
 },
 "nbformat": 4,
 "nbformat_minor": 5
}
