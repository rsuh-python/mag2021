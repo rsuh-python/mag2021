{
 "cells": [
  {
   "cell_type": "markdown",
   "id": "d915d0f8-1496-42cf-9b8c-8198f13f8c89",
   "metadata": {},
   "source": [
    "#### Задача 1. \n",
    "\n",
    "Перепишем код про температуру у человека с декоратором property."
   ]
  },
  {
   "cell_type": "code",
   "execution_count": null,
   "id": "21e9ec0a-a22c-4756-887b-4acd79c4cfd5",
   "metadata": {},
   "outputs": [],
   "source": [
    "#your code here"
   ]
  },
  {
   "cell_type": "markdown",
   "id": "dd2ac1e8-c936-47e1-9a1b-5617cb9792c0",
   "metadata": {},
   "source": [
    "#### Задача 2. \n",
    "\n",
    "Допустим, у нас есть функция, которая возвращает сумму своих аргументов. Напишите декоратор, который будет позволять такой функции складывать попарно элементы в кортежах, которые передаются списком, то есть, список [(1, 2), (3, 4)] вернет [3, 7]."
   ]
  },
  {
   "cell_type": "code",
   "execution_count": null,
   "id": "ac58caf5-6658-40c0-a25a-2c0441687d80",
   "metadata": {},
   "outputs": [],
   "source": [
    "#your code here"
   ]
  },
  {
   "cell_type": "markdown",
   "id": "f675ff3b-6cee-45d2-8663-99dfc66a1241",
   "metadata": {},
   "source": [
    "#### Задача 3. (\\*)\n",
    "\n",
    "Расширьте декоратор таким образом, чтобы а) элементов в кортеже могло быть сколько угодно и они суммировались все б) декоратор был рекурсивным и умел отыскивать самые вложенные кортежи/списки и складывать их элементы, например: \n",
    "[[1, 2], [3, 4]], [[3, 4]] = 17\n",
    "При этом вложенные числа должны быть все на одном уровне (то есть, не может оказаться, чтобы в списке был и список, и число). "
   ]
  },
  {
   "cell_type": "code",
   "execution_count": null,
   "id": "10da31d3-a499-4995-9866-0beb72bb57e3",
   "metadata": {},
   "outputs": [],
   "source": [
    "#your code here"
   ]
  },
  {
   "cell_type": "markdown",
   "id": "7c3f5b85-5d69-4f24-a0a6-2e4e29525b1c",
   "metadata": {},
   "source": [
    "#### Задача 4. \n",
    "\n",
    "Перепишите класс Token с использованием декоратора dataclass."
   ]
  }
 ],
 "metadata": {
  "kernelspec": {
   "display_name": "Python 3 (ipykernel)",
   "language": "python",
   "name": "python3"
  },
  "language_info": {
   "codemirror_mode": {
    "name": "ipython",
    "version": 3
   },
   "file_extension": ".py",
   "mimetype": "text/x-python",
   "name": "python",
   "nbconvert_exporter": "python",
   "pygments_lexer": "ipython3",
   "version": "3.9.12"
  }
 },
 "nbformat": 4,
 "nbformat_minor": 5
}
