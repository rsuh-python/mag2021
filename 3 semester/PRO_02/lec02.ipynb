{
 "cells": [
  {
   "cell_type": "markdown",
   "id": "24ea2d2e-7ba5-42bc-a1b0-d7acd8a11341",
   "metadata": {},
   "source": [
    "## Наследование. Множественное наследование. MRO. Композиция. Делегирование. Псевдозакрытые атрибуты классов"
   ]
  },
  {
   "cell_type": "markdown",
   "id": "0eb521f1-cc6e-47a5-9351-490d1f9b44b2",
   "metadata": {},
   "source": [
    "### Множественное наследование и MRO"
   ]
  },
  {
   "cell_type": "markdown",
   "id": "a628399a-13f7-4043-af19-19f1bb149e58",
   "metadata": {},
   "source": [
    "Множественное наследование (подмешивание классов) - когда класс-ребенок имеет больше одного класса-родителя. В таком случае наследуются все методы и атрибуты суперклассов. "
   ]
  },
  {
   "cell_type": "code",
   "execution_count": 96,
   "id": "4049e4d2-bed2-4207-8ae8-3cd6bff1d318",
   "metadata": {
    "executionInfo": {
     "elapsed": 2,
     "status": "ok",
     "timestamp": 1663854618075,
     "user": {
      "displayName": "Alexandra Ivoylova",
      "userId": "06069991353189522669"
     },
     "user_tz": -180
    },
    "id": "I4kaGZ6XPRfq"
   },
   "outputs": [],
   "source": [
    "class Employee:\n",
    "    '''Общий класс-родитель (дедушка)'''\n",
    "  def __init__(self, name, surname):\n",
    "    self.name = name\n",
    "    self.surname = surname\n",
    "    self.__salary = 350  # _Employee__salary\n",
    "    self.bankaccount = 0\n",
    "\n",
    "  def work(self, *args):\n",
    "    raise NotImplementedError\n",
    "\n",
    "class Linguist(Employee):\n",
    "    '''Класс-мама'''\n",
    "  def __init__(self, name, surname):\n",
    "    Employee.__init__(self, name, surname)\n",
    "    self.__salary = self._Employee__salary * 1.5\n",
    "    self.publications = []\n",
    "    \n",
    "  def work(self, hours, name_of_publ):\n",
    "    print('Working...')\n",
    "    sleep(hours)\n",
    "    self.bankaccount += self.salary * hours\n",
    "    self.publications.append(name_of_publ)\n",
    "    print(f'{self.name} {self.surname} has published a paper {name_of_publ} in Voprosy Yazykoznaniya')\n",
    "\n",
    "  def readlingpapers(self, lingpaper):\n",
    "    print('Reading...')\n",
    "    sleep(len(lingpaper) // 10)\n",
    "    print(f'{self.name} {self.surname} has read {lingpaper}')\n",
    "\n",
    "class Programmer(Employee):\n",
    "    '''Класс-папа'''\n",
    "  def __init__(self, name, surname):\n",
    "    Employee.__init__(self, name, surname)\n",
    "    self.__salary *= self._Employee__salary * 2.5\n",
    "    self.projects = []\n",
    "\n",
    "  def work(self, hours, name_of_project):\n",
    "    print('Working...')\n",
    "    sleep(hours)\n",
    "    self.bankaccount += self.salary * hours\n",
    "    self.projects.append(name_of_project)\n",
    "    print(f'{self.name} {self.surname} has committed a repo {name_of_project} to GitHub')\n",
    "\n",
    "  def learnpython(self, hours):\n",
    "    print('Studying...')\n",
    "    sleep(hours)\n",
    "    print(f'{self.name} {self.surname} has learned a bit of Python')"
   ]
  },
  {
   "cell_type": "code",
   "execution_count": 82,
   "id": "bc1c9b42-b33c-4792-992f-99647e419277",
   "metadata": {
    "executionInfo": {
     "elapsed": 349,
     "status": "ok",
     "timestamp": 1663854247360,
     "user": {
      "displayName": "Alexandra Ivoylova",
      "userId": "06069991353189522669"
     },
     "user_tz": -180
    },
    "id": "oAiY5voVRBZ3"
   },
   "outputs": [],
   "source": [
    "class ComputerLinguist(Linguist, Programmer):\n",
    "    '''Наследуемся одновременно от лингвиста и от программиста'''\n",
    "  def __init__(self, name, surname):\n",
    "    Linguist.__init__(self, name, surname)  # явным образом вызываем init класса \"лингвист\"\n",
    "    Programmer.__init__(self, name, surname)\n",
    "    self.salary *= 0.9\n",
    "\n",
    "  def work(self, hours, name_of_paper_with_code):\n",
    "    print('Working...')\n",
    "    sleep(hours)\n",
    "    self.publications.append(name_of_paper_with_code)\n",
    "    self.projects.append(name_of_paper_with_code)\n",
    "    self.bankaccount += self.salary * hours\n",
    "    print(f'{self.name} {self.surname} has published {name_of_paper_with_code} in ACL Papers')"
   ]
  },
  {
   "cell_type": "markdown",
   "id": "c9fac0ec-72e1-4d82-8bdb-34c1bfbe67d7",
   "metadata": {},
   "source": [
    "При таком раскладе, если мы вдруг не определили бы у класса-ребенка метод work, а у обоих классов-родителей он был, питон пошел бы искать у того класса, который мы в скобках написали первым. \n",
    "\n",
    "![Image](https://media.geeksforgeeks.org/wp-content/uploads/220px-diamond_inheritance-svg.png)\n",
    "\n",
    "Эта вещь и называется Method Resolution Order = MRO. Когда мы вызываем какой-нибудь метод класса, питон попросту ищет такой метод в пространстве имен сперва самого этого класса, потом, если не находит, то у класса-родителя, от которого наследуем первым, а если у него нет, то у его родителя, и так далее. \n",
    "\n",
    "Что касается динамических атрибутов, то если есть одноименные, то все решает порядок вызовов init: кого последним вызвали, того и зарплата. "
   ]
  },
  {
   "cell_type": "markdown",
   "id": "1a958bc4-59fb-4545-bb79-92494d7fb0f0",
   "metadata": {},
   "source": [
    "### Композиция и делегирование"
   ]
  },
  {
   "cell_type": "markdown",
   "id": "c768a9fb-89ba-45ab-a11d-31940485e3a8",
   "metadata": {},
   "source": [
    "Другой способ сочетать классы при проектировании программы - композиция. Это когда мы вкладываем экземпляры классов в другие классы и вызываем их методы внутри определения класса. "
   ]
  },
  {
   "cell_type": "code",
   "execution_count": 65,
   "id": "140b745b-08d1-49db-946e-beda3d376479",
   "metadata": {
    "executionInfo": {
     "elapsed": 231,
     "status": "ok",
     "timestamp": 1663853219334,
     "user": {
      "displayName": "Alexandra Ivoylova",
      "userId": "06069991353189522669"
     },
     "user_tz": -180
    },
    "id": "d3cByX6GUSK2"
   },
   "outputs": [],
   "source": [
    "class Employee:\n",
    "    '''Класс общего назначения'''\n",
    "  def __init__(self, name, surname):\n",
    "    self.name = name\n",
    "    self.surname = surname\n",
    "    self.salary = 350\n",
    "    self.bankaccount = 0\n",
    "\n",
    "  def work(self, *args):\n",
    "    raise NotImplementedError\n",
    "\n",
    "  def sleep(self, message):\n",
    "    print(message)\n",
    "\n",
    "class Linguist:\n",
    "  def __init__(self, name, surname, salary_coef):\n",
    "    self.employee = Employee(name, surname)  # создаем экземпляр класса Employee и складываем его в атрибут класса Лингвист. \n",
    "    self.employee.salary *= salary_coef  # у самого лингвиста при этом нет атрибутов, кроме employee, поэтому если нам нужна зарплата, обращаемся напрямую к атрибутам employee\n",
    "  \n",
    "  def work(self, hours):\n",
    "    print('Working...')\n",
    "    sleep(hours)\n",
    "    self.employee.bankaccount += hours * self.employee.salary\n",
    "\n",
    "  def sleep(self, message):\n",
    "    self.employee.sleep(message)  # делегирование\n",
    "\n",
    "  def __getattr__(self, attr):\n",
    "    '''А чтобы можно было обращаться к атрибутам вложенного класса, приходится делегировать'''\n",
    "    print(f'{attr} is called')\n",
    "    return getattr(self.employee, attr) # встроенная функция \n",
    "\n",
    "  def __setattr__(self, attr, value):\n",
    "    print(f'trying to set attr {attr}')\n",
    "    self.__dict__[attr] = value"
   ]
  },
  {
   "cell_type": "markdown",
   "id": "c7a83d2b-48a8-44e0-a164-202dd9e90f87",
   "metadata": {},
   "source": [
    "Магические методы \\_\\_getattr\\_\\_ и \\_\\_setattr\\_\\_ вызываются, когда мы обращаемся к неопределенному (не существующему) атрибуту через точку. То есть, когда они вызываются в этом конкретном случае: у класса Linguist есть только один атрибут - employee. Если мы к нему обратимся, эти методы не сработают. Но если мы обратимся к атрибуту name, которого у Лингвиста нет, потому что он есть только у вложенного экземпляра класса Employee, то вызовется метод \\_\\_getattr\\_\\_, а тут-то мы и перенаправим на атрибут вложенного экземпляра. \n",
    "\n",
    "Это и называется делегирование. В примере выше оно происходит в методах sleep, getattr & setattr."
   ]
  },
  {
   "cell_type": "markdown",
   "id": "ac958ab8-7803-4549-a639-0a5d5b016d87",
   "metadata": {},
   "source": [
    "Почему нам приходится таким странным образом переопределять setattr? Потому что если мы напишем просто \n",
    "\n",
    "    def __setattr__(self, attr, value):\n",
    "        self.attr = value\n",
    "        \n",
    "Возникнет рекурсия: точка опять вызовет этот же метод. Кстати говоря, зациклить можно и getattr, если переопределить его для получения атрибутов этого же класса. \n",
    "\n",
    "Поэтому мы идем обходным путем и используем встроенный атрибут класса \\_\\_dict\\_\\_. Что это за атрибуты такие? Это специальные зарезервированные атрибуты, некоторые из них по умолчанию у любого класса появляются, некоторые обычно появляются, но могут нет (\\_\\_dict\\_\\_ как раз может не быть). Этот самый \\_\\_dict\\_\\_ - это действительно всего лишь обычнейший словарь, где в качестве ключей хранятся имена атрибутов, а в значениях, собственно, их значения. \n",
    "\n",
    "У класса есть еще парочка полезных атрибутов, например, \\_\\_class\\_\\_ возвращает ссылку из экземпляра на класс. В этой ссылке содержится имя класса \\_\\_name\\_\\_ и последовательность \\_\\_bases\\_\\_, в которой лежат классы-родители. "
   ]
  },
  {
   "cell_type": "code",
   "execution_count": 73,
   "id": "558fca24-05cc-4a7e-8a93-29181615e864",
   "metadata": {
    "executionInfo": {
     "elapsed": 283,
     "status": "ok",
     "timestamp": 1663853446601,
     "user": {
      "displayName": "Alexandra Ivoylova",
      "userId": "06069991353189522669"
     },
     "user_tz": -180
    },
    "id": "wn0IsOAaYjdc"
   },
   "outputs": [],
   "source": [
    "class Employee:\n",
    "  def __init__(self, name, surname):\n",
    "    self.name = name\n",
    "    self.surname = surname\n",
    "    self.salary = 350\n",
    "    self.bankaccount = 0\n",
    "\n",
    "  def work(self, *args):\n",
    "    raise NotImplementedError\n",
    "\n",
    "  def __repr__(self):\n",
    "    return f\"{self.__class__.__name__}('{self.name}', '{self.surname}')\"  # так с помощью этих атрибутов можно определить метод repr, чтобы меньше хардкодить"
   ]
  },
  {
   "cell_type": "code",
   "execution_count": null,
   "id": "696ccdae-9494-4885-8905-a59bc3d38356",
   "metadata": {},
   "outputs": [],
   "source": [
    "class ComputerLinguist(Linguist, Programmer):\n",
    "    '''Наследуемся одновременно от лингвиста и от программиста'''\n",
    "  def __init__(self, name, surname):\n",
    "    for base in self.__class__.__bases__:\n",
    "        base.__init__(self, name, surname)\n",
    "    # Альтернатива закомментированному коду\n",
    "    # Linguist.__init__(self, name, surname)  # явным образом вызываем init класса \"лингвист\"\n",
    "    # Programmer.__init__(self, name, surname)\n",
    "    self.salary *= 0.9"
   ]
  },
  {
   "cell_type": "markdown",
   "id": "5f0c3837-cda6-447a-ac7b-ee138b086232",
   "metadata": {},
   "source": [
    "Композиция выглядит более громоздкой и сложной, чем наследование, но у нее есть свои области применения. Обычно композиция + делегирование используется, когда нам нужен какой-нибудь класс-контролер, который сам по себе ничего не делает, но, например, следит за состоянием другого класса. Можно логировать (выводить логи про каждый пшик), например, если в переопределенных методах getattr & setattr прописать какие-нибудь принты, можно отслеживать обращения к атрибутам. \n",
    "\n",
    "Композиция также позволяет агрегировать экземпляры другого класса:"
   ]
  },
  {
   "cell_type": "code",
   "execution_count": 76,
   "id": "9b21a237-e4e2-4d03-9aa9-8637b48d8850",
   "metadata": {
    "executionInfo": {
     "elapsed": 246,
     "status": "ok",
     "timestamp": 1663853769026,
     "user": {
      "displayName": "Alexandra Ivoylova",
      "userId": "06069991353189522669"
     },
     "user_tz": -180
    },
    "id": "XccIh3nkZymd"
   },
   "outputs": [],
   "source": [
    "class ARD:\n",
    "    '''отдел Advanced Research & Development '''\n",
    "  def __init__(self, *args):\n",
    "    self.members = list(args)  # куча лингвистов\n",
    "\n",
    "  def add_member(self, linguist):\n",
    "    self.members.append(linguist)\n",
    "\n",
    "  def raise_salary(self, coef):\n",
    "    '''массово всему отделу повышаем зарплатку'''\n",
    "    for linguist in self.members:\n",
    "      linguist.salary *= coef\n",
    "\n",
    "  def workEveryone(self, hour):\n",
    "    '''или гоним работать лентяев'''\n",
    "    for linguist in self.members:\n",
    "      linguist.work(hour)"
   ]
  },
  {
   "cell_type": "markdown",
   "id": "c78b59db-68d5-41c7-8efd-195358355fcf",
   "metadata": {},
   "source": [
    "Фишку с делегированием и переопределением getattr & setattr также ограниченно можно использовать для реализации инкапсуляции: закрыть доступ к атрибутам класса. \n",
    "\n",
    "Ну и вот пример класса-контроллера, который сам по себе ничего не делает, только следит за работой внутреннего класса:"
   ]
  },
  {
   "cell_type": "code",
   "execution_count": 80,
   "id": "7d12a99e-5bd3-470d-b5ea-ac71da4b246a",
   "metadata": {
    "executionInfo": {
     "elapsed": 272,
     "status": "ok",
     "timestamp": 1663854198823,
     "user": {
      "displayName": "Alexandra Ivoylova",
      "userId": "06069991353189522669"
     },
     "user_tz": -180
    },
    "id": "xwlhw1f8atGs"
   },
   "outputs": [],
   "source": [
    "class Wrapper:\n",
    "  def __init__(self, object):\n",
    "    self.wrapped = object\n",
    "  \n",
    "  def __getattr__(self, attr):\n",
    "    print(f'Big brother is watching you, here is your {attr}')\n",
    "    return getattr(self.wrapped, attr)"
   ]
  },
  {
   "cell_type": "code",
   "execution_count": 86,
   "id": "4fa4343c-81fe-436b-9893-9d11fcfabd9c",
   "metadata": {
    "executionInfo": {
     "elapsed": 272,
     "status": "ok",
     "timestamp": 1663854322512,
     "user": {
      "displayName": "Alexandra Ivoylova",
      "userId": "06069991353189522669"
     },
     "user_tz": -180
    },
    "id": "qemEw171cEpL"
   },
   "outputs": [],
   "source": [
    "w = Wrapper(gorbunova)"
   ]
  },
  {
   "cell_type": "code",
   "execution_count": 87,
   "id": "f1f24888-ab7b-4945-a17b-68f3993dedc5",
   "metadata": {
    "colab": {
     "base_uri": "https://localhost:8080/",
     "height": 53
    },
    "executionInfo": {
     "elapsed": 7,
     "status": "ok",
     "timestamp": 1663854324138,
     "user": {
      "displayName": "Alexandra Ivoylova",
      "userId": "06069991353189522669"
     },
     "user_tz": -180
    },
    "id": "gz7KZDnpcUyv",
    "outputId": "24c5e08b-5dac-4426-e524-07f3af59f951"
   },
   "outputs": [
    {
     "name": "stdout",
     "output_type": "stream",
     "text": [
      "Big brother is watching you, here is your name\n"
     ]
    },
    {
     "data": {
      "application/vnd.google.colaboratory.intrinsic+json": {
       "type": "string"
      },
      "text/plain": [
       "'Ira'"
      ]
     },
     "execution_count": 87,
     "metadata": {},
     "output_type": "execute_result"
    }
   ],
   "source": [
    "w.name"
   ]
  },
  {
   "cell_type": "markdown",
   "id": "51fbc273-ff49-43d7-a28d-47a60da3ad89",
   "metadata": {},
   "source": [
    "Похожим образом работают дескрипторы классов и декораторы. "
   ]
  },
  {
   "cell_type": "markdown",
   "id": "82368484-e66c-41ab-8d68-6d76ed4094ad",
   "metadata": {},
   "source": [
    "### Псевдозакрытые атрибуты классов"
   ]
  },
  {
   "cell_type": "markdown",
   "id": "1660b747-dbed-402a-9a1a-eb60544517a2",
   "metadata": {},
   "source": [
    "Напомню, в ООП есть такая концепция, как инкапсуляция: она о том, что мы должны иметь доступ к классу только через его интерфейс, а его внутренности должны быть от нас скрыты. Например, в объектно-ориентированном языке Java это реализуется с помощью операторов public & private:\n",
    "\n",
    "    public class tokenisation {\n",
    "        public static void main(String[] args) throws Exception\n",
    "        {\n",
    "            System.setProperty(\"file.encoding\", \"UTF-8\");\n",
    "            Scanner scan = new Scanner(System.in, \"UTF-8\");\n",
    "            final DecimalFormat df = new DecimalFormat(\"0.00\");\n",
    "\n",
    "            System.out.println(\"Enter file path:\");\n",
    "            String path = scan.nextLine();\n",
    "            File file = new File(path);\n",
    "\n",
    "            ArrayList<String> text = new ArrayList<String>();\n",
    "\n",
    "            Pattern pattern = Pattern.compile(\"[a-zА-Яа-яёЁ]+(-[a-zА-Яа-яёЁ]+)*\", Pattern.CASE_INSENSITIVE);\n",
    "\n",
    "            BufferedReader br = new BufferedReader(new FileReader(file));\n",
    "            String str;\n",
    "            while ((str = br.readLine()) != null) {\n",
    "                Matcher matcher = pattern.matcher(str);\n",
    "                while (matcher.find()) {\n",
    "                    String match = matcher.group();\n",
    "                    text.add(match);\n",
    "                }\n",
    "\n",
    "            }\n",
    "            br.close();\n",
    "            scan.close();\n",
    "\n",
    "            Set<String> unique = new HashSet<String>(text);\n",
    "\n",
    "            float lexdiv = (float)unique.size() / (float)text.size() * 100;\n",
    "\n",
    "            System.out.println(df.format(lexdiv));\n",
    "\n",
    "        }\n",
    "    }\n",
    "    \n",
    "Так выглядит код на этом языке. Можно заметить, что здесь встречается словечко public, которое сообщает, что этот класс и эту функцию можно вызывать из других мест. Если бы было private, то мы не имели бы доступа к этому объекту извне. \n",
    "\n",
    "У питона таких готовых инструментов нет, но можно закрывать атрибуты и имитировать инкапсуляцию разными способами. В частности, в питоне есть псевдозакрытые атрибуты: это скорее про конвенции, чем про синтаксис, но тем не менее. \n",
    "\n",
    "Если мы хотим сделать какой-то атрибут класса закрытым, то мы должны назвать его с двойным нижним подчеркиванием перед именем:\n",
    "\n",
    "    self.__salary\n",
    "    \n",
    "Тогда внутри класса мы можем к нему обращаться по этому имени, а вне тоже вообще-то можем, но тогда придется писать \\_Linguist\\_\\_salary, потому что такие атрибуты интерпретатор автоматически переименовывает при определении класса. Я на семинаре подло обращалась к этим закрытым атрибутам, но по идее, двойное подчеркивание сообщает, что так как раз делать не надо. "
   ]
  }
 ],
 "metadata": {
  "kernelspec": {
   "display_name": "Python 3 (ipykernel)",
   "language": "python",
   "name": "python3"
  },
  "language_info": {
   "codemirror_mode": {
    "name": "ipython",
    "version": 3
   },
   "file_extension": ".py",
   "mimetype": "text/x-python",
   "name": "python",
   "nbconvert_exporter": "python",
   "pygments_lexer": "ipython3",
   "version": "3.9.12"
  }
 },
 "nbformat": 4,
 "nbformat_minor": 5
}
