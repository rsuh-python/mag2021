{
 "cells": [
  {
   "cell_type": "code",
   "execution_count": 8,
   "metadata": {
    "executionInfo": {
     "elapsed": 267,
     "status": "ok",
     "timestamp": 1663850785383,
     "user": {
      "displayName": "Alexandra Ivoylova",
      "userId": "06069991353189522669"
     },
     "user_tz": -180
    },
    "id": "pN8YVhYmMcMC"
   },
   "outputs": [],
   "source": [
    "from time import sleep\n",
    "\n",
    "class Employee:\n",
    "  def __init__(self, name, surname):\n",
    "    self.name = name\n",
    "    self.surname = surname\n",
    "    self.salary = 350\n",
    "    self.bankaccount = 0\n",
    "\n",
    "  def work(self, *args):\n",
    "    raise NotImplementedError\n",
    "\n",
    "class Linguist(Employee):\n",
    "  def __init__(self, name, surname, salary_coef):\n",
    "    Employee.__init__(self, name, surname)\n",
    "    self.salary *= salary_coef\n",
    "    \n",
    "  def work(self, hours):\n",
    "    sleep(hours)\n",
    "    self.bankaccount += self.salary * hours\n",
    "\n",
    "class LinguistChef(Linguist):\n",
    "  def __init__(self, name, surname, salary_coef, staff):\n",
    "    Linguist.__init__(self, name, surname, salary_coef)\n",
    "    self.staff = staff\n",
    "\n",
    "  def hire_linguist(self, staffmember):\n",
    "    self.staff.add(staffmember)"
   ]
  },
  {
   "cell_type": "code",
   "execution_count": 2,
   "metadata": {
    "executionInfo": {
     "elapsed": 6,
     "status": "ok",
     "timestamp": 1663850712484,
     "user": {
      "displayName": "Alexandra Ivoylova",
      "userId": "06069991353189522669"
     },
     "user_tz": -180
    },
    "id": "AWC2d4b1Oqk9"
   },
   "outputs": [],
   "source": [
    "ivoylova = Linguist('Alexandra', 'Ivoylova', 1.5)"
   ]
  },
  {
   "cell_type": "code",
   "execution_count": 3,
   "metadata": {
    "executionInfo": {
     "elapsed": 2151,
     "status": "ok",
     "timestamp": 1663850725699,
     "user": {
      "displayName": "Alexandra Ivoylova",
      "userId": "06069991353189522669"
     },
     "user_tz": -180
    },
    "id": "5btV1GtdOweK"
   },
   "outputs": [],
   "source": [
    "ivoylova.work(2)"
   ]
  },
  {
   "cell_type": "code",
   "execution_count": 4,
   "metadata": {
    "colab": {
     "base_uri": "https://localhost:8080/"
    },
    "executionInfo": {
     "elapsed": 7,
     "status": "ok",
     "timestamp": 1663850732107,
     "user": {
      "displayName": "Alexandra Ivoylova",
      "userId": "06069991353189522669"
     },
     "user_tz": -180
    },
    "id": "e3D73fJ2OzVC",
    "outputId": "2cbc6964-bce0-44d4-c324-4949ecee233f"
   },
   "outputs": [
    {
     "data": {
      "text/plain": [
       "525.0"
      ]
     },
     "execution_count": 4,
     "metadata": {},
     "output_type": "execute_result"
    }
   ],
   "source": [
    "ivoylova.salary"
   ]
  },
  {
   "cell_type": "code",
   "execution_count": 5,
   "metadata": {
    "colab": {
     "base_uri": "https://localhost:8080/"
    },
    "executionInfo": {
     "elapsed": 7,
     "status": "ok",
     "timestamp": 1663850741704,
     "user": {
      "displayName": "Alexandra Ivoylova",
      "userId": "06069991353189522669"
     },
     "user_tz": -180
    },
    "id": "G7pJwXcdO1VK",
    "outputId": "13f574b5-3db5-441c-d595-476a9c813ee6"
   },
   "outputs": [
    {
     "data": {
      "text/plain": [
       "1050.0"
      ]
     },
     "execution_count": 5,
     "metadata": {},
     "output_type": "execute_result"
    }
   ],
   "source": [
    "ivoylova.bankaccount"
   ]
  },
  {
   "cell_type": "code",
   "execution_count": 10,
   "metadata": {
    "executionInfo": {
     "elapsed": 244,
     "status": "ok",
     "timestamp": 1663850793429,
     "user": {
      "displayName": "Alexandra Ivoylova",
      "userId": "06069991353189522669"
     },
     "user_tz": -180
    },
    "id": "C6jTrhNfO3yS"
   },
   "outputs": [],
   "source": [
    "testelets = LinguistChef('Yakov', 'Testelets', 2, {ivoylova})"
   ]
  },
  {
   "cell_type": "code",
   "execution_count": 11,
   "metadata": {
    "colab": {
     "base_uri": "https://localhost:8080/"
    },
    "executionInfo": {
     "elapsed": 8,
     "status": "ok",
     "timestamp": 1663850795401,
     "user": {
      "displayName": "Alexandra Ivoylova",
      "userId": "06069991353189522669"
     },
     "user_tz": -180
    },
    "id": "jLUFLPg9O-wD",
    "outputId": "6ab604da-1089-4154-b3ba-7d2d3aba815f"
   },
   "outputs": [
    {
     "data": {
      "text/plain": [
       "{<__main__.Linguist at 0x7f6165e56710>}"
      ]
     },
     "execution_count": 11,
     "metadata": {},
     "output_type": "execute_result"
    }
   ],
   "source": [
    "testelets.staff"
   ]
  },
  {
   "cell_type": "code",
   "execution_count": 12,
   "metadata": {
    "executionInfo": {
     "elapsed": 1335,
     "status": "ok",
     "timestamp": 1663850840629,
     "user": {
      "displayName": "Alexandra Ivoylova",
      "userId": "06069991353189522669"
     },
     "user_tz": -180
    },
    "id": "L766TfOvO__C"
   },
   "outputs": [],
   "source": [
    "testelets.work(1)"
   ]
  },
  {
   "cell_type": "code",
   "execution_count": 13,
   "metadata": {
    "colab": {
     "base_uri": "https://localhost:8080/"
    },
    "executionInfo": {
     "elapsed": 255,
     "status": "ok",
     "timestamp": 1663850847663,
     "user": {
      "displayName": "Alexandra Ivoylova",
      "userId": "06069991353189522669"
     },
     "user_tz": -180
    },
    "id": "EmR6xSWAPPn0",
    "outputId": "dbd3578b-b1b8-4285-b5e9-42b976492c6e"
   },
   "outputs": [
    {
     "data": {
      "text/plain": [
       "700"
      ]
     },
     "execution_count": 13,
     "metadata": {},
     "output_type": "execute_result"
    }
   ],
   "source": [
    "testelets.bankaccount"
   ]
  },
  {
   "cell_type": "code",
   "execution_count": 96,
   "metadata": {
    "executionInfo": {
     "elapsed": 2,
     "status": "ok",
     "timestamp": 1663854618075,
     "user": {
      "displayName": "Alexandra Ivoylova",
      "userId": "06069991353189522669"
     },
     "user_tz": -180
    },
    "id": "I4kaGZ6XPRfq"
   },
   "outputs": [],
   "source": [
    "class Employee:\n",
    "  def __init__(self, name, surname):\n",
    "    self.name = name\n",
    "    self.surname = surname\n",
    "    self.__salary = 350  # _Employee__salary\n",
    "    self.bankaccount = 0\n",
    "\n",
    "  def work(self, *args):\n",
    "    raise NotImplementedError\n",
    "\n",
    "class Linguist(Employee):\n",
    "  def __init__(self, name, surname):\n",
    "    Employee.__init__(self, name, surname)\n",
    "    self.__salary = self._Employee__salary * 1.5\n",
    "    self.publications = []\n",
    "    \n",
    "  def work(self, hours, name_of_publ):\n",
    "    print('Working...')\n",
    "    sleep(hours)\n",
    "    self.bankaccount += self.salary * hours\n",
    "    self.publications.append(name_of_publ)\n",
    "    print(f'{self.name} {self.surname} has published a paper {name_of_publ} in Voprosy Yazykoznaniya')\n",
    "\n",
    "  def readlingpapers(self, lingpaper):\n",
    "    print('Reading...')\n",
    "    sleep(len(lingpaper) // 10)\n",
    "    print(f'{self.name} {self.surname} has read {lingpaper}')\n",
    "\n",
    "class Programmer(Employee):\n",
    "  def __init__(self, name, surname):\n",
    "    Employee.__init__(self, name, surname)\n",
    "    self.__salary *= self._Employee__salary * 2.5\n",
    "    self.projects = []\n",
    "\n",
    "  def work(self, hours, name_of_project):\n",
    "    print('Working...')\n",
    "    sleep(hours)\n",
    "    self.bankaccount += self.salary * hours\n",
    "    self.projects.append(name_of_project)\n",
    "    print(f'{self.name} {self.surname} has committed a repo {name_of_project} to GitHub')\n",
    "\n",
    "  def learnpython(self, hours):\n",
    "    print('Studying...')\n",
    "    sleep(hours)\n",
    "    print(f'{self.name} {self.surname} has learned a bit of Python')"
   ]
  },
  {
   "cell_type": "code",
   "execution_count": 82,
   "metadata": {
    "executionInfo": {
     "elapsed": 349,
     "status": "ok",
     "timestamp": 1663854247360,
     "user": {
      "displayName": "Alexandra Ivoylova",
      "userId": "06069991353189522669"
     },
     "user_tz": -180
    },
    "id": "oAiY5voVRBZ3"
   },
   "outputs": [],
   "source": [
    "class ComputerLinguist(Linguist, Programmer):\n",
    "  def __init__(self, name, surname):\n",
    "    Linguist.__init__(self, name, surname)\n",
    "    Programmer.__init__(self, name, surname)\n",
    "    self.salary *= 0.9\n",
    "\n",
    "  def work(self, hours, name_of_paper_with_code):\n",
    "    print('Working...')\n",
    "    sleep(hours)\n",
    "    self.publications.append(name_of_paper_with_code)\n",
    "    self.projects.append(name_of_paper_with_code)\n",
    "    self.bankaccount += self.salary * hours\n",
    "    print(f'{self.name} {self.surname} has published {name_of_paper_with_code} in ACL Papers')"
   ]
  },
  {
   "cell_type": "code",
   "execution_count": 83,
   "metadata": {
    "executionInfo": {
     "elapsed": 284,
     "status": "ok",
     "timestamp": 1663854249950,
     "user": {
      "displayName": "Alexandra Ivoylova",
      "userId": "06069991353189522669"
     },
     "user_tz": -180
    },
    "id": "lwH6leijR49Y"
   },
   "outputs": [],
   "source": [
    "gorbunova = Linguist('Ira', 'Gorbunova')\n",
    "savelyev = Programmer('Misha', 'Savelyev')\n",
    "ivoylova = ComputerLinguist('Alexandra', 'Ivoylova')"
   ]
  },
  {
   "cell_type": "code",
   "execution_count": 97,
   "metadata": {
    "executionInfo": {
     "elapsed": 5,
     "status": "ok",
     "timestamp": 1663854621676,
     "user": {
      "displayName": "Alexandra Ivoylova",
      "userId": "06069991353189522669"
     },
     "user_tz": -180
    },
    "id": "0vp9TdqidD0H"
   },
   "outputs": [],
   "source": [
    "gorbunova = Linguist('Ira', 'Gorbunova')"
   ]
  },
  {
   "cell_type": "code",
   "execution_count": 98,
   "metadata": {
    "colab": {
     "base_uri": "https://localhost:8080/"
    },
    "executionInfo": {
     "elapsed": 7,
     "status": "ok",
     "timestamp": 1663854630293,
     "user": {
      "displayName": "Alexandra Ivoylova",
      "userId": "06069991353189522669"
     },
     "user_tz": -180
    },
    "id": "JIHGbimDSGVo",
    "outputId": "492c4412-7a30-4525-d66a-5148f1f61a05"
   },
   "outputs": [
    {
     "data": {
      "text/plain": [
       "{'name': 'Ira',\n",
       " 'surname': 'Gorbunova',\n",
       " '_Employee__salary': 350,\n",
       " 'bankaccount': 0,\n",
       " '_Linguist__salary': 525.0,\n",
       " 'publications': []}"
      ]
     },
     "execution_count": 98,
     "metadata": {},
     "output_type": "execute_result"
    }
   ],
   "source": [
    "gorbunova.__dict__"
   ]
  },
  {
   "cell_type": "code",
   "execution_count": 18,
   "metadata": {
    "colab": {
     "base_uri": "https://localhost:8080/"
    },
    "executionInfo": {
     "elapsed": 3,
     "status": "ok",
     "timestamp": 1663851600656,
     "user": {
      "displayName": "Alexandra Ivoylova",
      "userId": "06069991353189522669"
     },
     "user_tz": -180
    },
    "id": "fIr47oYbSHZq",
    "outputId": "c424532f-2534-4999-b04b-632e867b27c6"
   },
   "outputs": [
    {
     "data": {
      "text/plain": [
       "875.0"
      ]
     },
     "execution_count": 18,
     "metadata": {},
     "output_type": "execute_result"
    }
   ],
   "source": [
    "savelyev.salary"
   ]
  },
  {
   "cell_type": "code",
   "execution_count": 30,
   "metadata": {
    "colab": {
     "base_uri": "https://localhost:8080/"
    },
    "executionInfo": {
     "elapsed": 2123,
     "status": "ok",
     "timestamp": 1663851908721,
     "user": {
      "displayName": "Alexandra Ivoylova",
      "userId": "06069991353189522669"
     },
     "user_tz": -180
    },
    "id": "5cc5U0bcSJgr",
    "outputId": "63c0982a-c729-4668-ab8b-28ba77e75239"
   },
   "outputs": [
    {
     "name": "stdout",
     "output_type": "stream",
     "text": [
      "Working...\n",
      "Alexandra Ivoylova has published a paper Slavic NER in Voprosy Yazykoznaniya\n"
     ]
    }
   ],
   "source": [
    "ivoylova.work(2, 'Slavic NER')"
   ]
  },
  {
   "cell_type": "code",
   "execution_count": 27,
   "metadata": {
    "colab": {
     "base_uri": "https://localhost:8080/"
    },
    "executionInfo": {
     "elapsed": 2123,
     "status": "ok",
     "timestamp": 1663851879411,
     "user": {
      "displayName": "Alexandra Ivoylova",
      "userId": "06069991353189522669"
     },
     "user_tz": -180
    },
    "id": "yZh7jpanSLMy",
    "outputId": "964d0b72-feff-4afa-930e-e04be6266cf1"
   },
   "outputs": [
    {
     "name": "stdout",
     "output_type": "stream",
     "text": [
      "Studying...\n",
      "Alexandra Ivoylova has learned a bit of Python\n"
     ]
    }
   ],
   "source": [
    "ivoylova.learnpython(2)"
   ]
  },
  {
   "cell_type": "code",
   "execution_count": null,
   "metadata": {
    "id": "TK1drSIPSQUL"
   },
   "outputs": [],
   "source": [
    "# Method resolution order (MRO)  from bottom & from left\n",
    "\n",
    "# Employee\n",
    "# Linguist Programmer\n",
    "#   CL"
   ]
  },
  {
   "cell_type": "code",
   "execution_count": 65,
   "metadata": {
    "executionInfo": {
     "elapsed": 231,
     "status": "ok",
     "timestamp": 1663853219334,
     "user": {
      "displayName": "Alexandra Ivoylova",
      "userId": "06069991353189522669"
     },
     "user_tz": -180
    },
    "id": "d3cByX6GUSK2"
   },
   "outputs": [],
   "source": [
    "class Employee:\n",
    "  def __init__(self, name, surname):\n",
    "    self.name = name\n",
    "    self.surname = surname\n",
    "    self.salary = 350\n",
    "    self.bankaccount = 0\n",
    "\n",
    "  def work(self, *args):\n",
    "    raise NotImplementedError\n",
    "\n",
    "  def sleep(self, message):\n",
    "    print(message)\n",
    "\n",
    "class Linguist:\n",
    "  def __init__(self, name, surname, salary_coef):\n",
    "    self.employee = Employee(name, surname)\n",
    "    self.employee.salary *= salary_coef\n",
    "  \n",
    "  def work(self, hours):\n",
    "    print('Working...')\n",
    "    sleep(hours)\n",
    "    self.employee.bankaccount += hours * self.employee.salary\n",
    "\n",
    "  def sleep(self, message):\n",
    "    self.employee.sleep(message)  # делегирование\n",
    "\n",
    "  def __getattr__(self, attr):\n",
    "    print(f'{attr} is called')\n",
    "    return getattr(self.employee, attr)\n",
    "\n",
    "  def __setattr__(self, attr, value):\n",
    "    print(f'trying to set attr {attr}')\n",
    "    self.__dict__[attr] = value"
   ]
  },
  {
   "cell_type": "code",
   "execution_count": 66,
   "metadata": {
    "colab": {
     "base_uri": "https://localhost:8080/"
    },
    "executionInfo": {
     "elapsed": 380,
     "status": "ok",
     "timestamp": 1663853221639,
     "user": {
      "displayName": "Alexandra Ivoylova",
      "userId": "06069991353189522669"
     },
     "user_tz": -180
    },
    "id": "JpIeMze4U1-3",
    "outputId": "93a48e61-e19b-4d6a-9b83-901443886b6b"
   },
   "outputs": [
    {
     "name": "stdout",
     "output_type": "stream",
     "text": [
      "trying to set attr employee\n"
     ]
    }
   ],
   "source": [
    "ivoylova = Linguist('Alexandra', 'Ivoylova', 1.5)"
   ]
  },
  {
   "cell_type": "code",
   "execution_count": 43,
   "metadata": {
    "colab": {
     "base_uri": "https://localhost:8080/"
    },
    "executionInfo": {
     "elapsed": 1970,
     "status": "ok",
     "timestamp": 1663852642350,
     "user": {
      "displayName": "Alexandra Ivoylova",
      "userId": "06069991353189522669"
     },
     "user_tz": -180
    },
    "id": "f0jLJXYCU5oe",
    "outputId": "867d0aaa-41cc-466a-cae5-5fd37371e18c"
   },
   "outputs": [
    {
     "name": "stdout",
     "output_type": "stream",
     "text": [
      "Working...\n"
     ]
    }
   ],
   "source": [
    "ivoylova.work(2)"
   ]
  },
  {
   "cell_type": "code",
   "execution_count": 67,
   "metadata": {
    "colab": {
     "base_uri": "https://localhost:8080/"
    },
    "executionInfo": {
     "elapsed": 264,
     "status": "ok",
     "timestamp": 1663853228857,
     "user": {
      "displayName": "Alexandra Ivoylova",
      "userId": "06069991353189522669"
     },
     "user_tz": -180
    },
    "id": "e0PT3e8zVozq",
    "outputId": "a41d408b-ba97-4692-e42a-4aab86b9e1bf"
   },
   "outputs": [
    {
     "name": "stdout",
     "output_type": "stream",
     "text": [
      "trying to set attr age\n"
     ]
    }
   ],
   "source": [
    "ivoylova.age = 12"
   ]
  },
  {
   "cell_type": "code",
   "execution_count": 62,
   "metadata": {
    "colab": {
     "base_uri": "https://localhost:8080/"
    },
    "executionInfo": {
     "elapsed": 3,
     "status": "ok",
     "timestamp": 1663853185361,
     "user": {
      "displayName": "Alexandra Ivoylova",
      "userId": "06069991353189522669"
     },
     "user_tz": -180
    },
    "id": "K7usSCBGWnpy",
    "outputId": "22e09aa8-4879-4908-b6b9-ef9e93468f50"
   },
   "outputs": [
    {
     "data": {
      "text/plain": [
       "{'employee': <__main__.Employee at 0x7f61590a7950>, 'age': 12}"
      ]
     },
     "execution_count": 62,
     "metadata": {},
     "output_type": "execute_result"
    }
   ],
   "source": [
    "ivoylova.__dict__"
   ]
  },
  {
   "cell_type": "code",
   "execution_count": null,
   "metadata": {
    "id": "eB_6udoiWpx0"
   },
   "outputs": [],
   "source": [
    "dir(Linguist)"
   ]
  },
  {
   "cell_type": "code",
   "execution_count": 73,
   "metadata": {
    "executionInfo": {
     "elapsed": 283,
     "status": "ok",
     "timestamp": 1663853446601,
     "user": {
      "displayName": "Alexandra Ivoylova",
      "userId": "06069991353189522669"
     },
     "user_tz": -180
    },
    "id": "wn0IsOAaYjdc"
   },
   "outputs": [],
   "source": [
    "class Employee:\n",
    "  def __init__(self, name, surname):\n",
    "    self.name = name\n",
    "    self.surname = surname\n",
    "    self.salary = 350\n",
    "    self.bankaccount = 0\n",
    "\n",
    "  def work(self, *args):\n",
    "    raise NotImplementedError\n",
    "\n",
    "  def __repr__(self):\n",
    "    return f\"{self.__class__.__name__}('{self.name}', '{self.surname}')\""
   ]
  },
  {
   "cell_type": "code",
   "execution_count": 74,
   "metadata": {
    "executionInfo": {
     "elapsed": 5,
     "status": "ok",
     "timestamp": 1663853448265,
     "user": {
      "displayName": "Alexandra Ivoylova",
      "userId": "06069991353189522669"
     },
     "user_tz": -180
    },
    "id": "VH-YlSEKY-y5"
   },
   "outputs": [],
   "source": [
    "r = Employee('Bob', 'Jones')"
   ]
  },
  {
   "cell_type": "code",
   "execution_count": 75,
   "metadata": {
    "colab": {
     "base_uri": "https://localhost:8080/"
    },
    "executionInfo": {
     "elapsed": 5,
     "status": "ok",
     "timestamp": 1663853452158,
     "user": {
      "displayName": "Alexandra Ivoylova",
      "userId": "06069991353189522669"
     },
     "user_tz": -180
    },
    "id": "C1isulpjZCwg",
    "outputId": "2f9594a6-f05f-4509-de27-d31069f6fd8f"
   },
   "outputs": [
    {
     "data": {
      "text/plain": [
       "Employee('Bob', 'Jones')"
      ]
     },
     "execution_count": 75,
     "metadata": {},
     "output_type": "execute_result"
    }
   ],
   "source": [
    "r"
   ]
  },
  {
   "cell_type": "code",
   "execution_count": 76,
   "metadata": {
    "executionInfo": {
     "elapsed": 246,
     "status": "ok",
     "timestamp": 1663853769026,
     "user": {
      "displayName": "Alexandra Ivoylova",
      "userId": "06069991353189522669"
     },
     "user_tz": -180
    },
    "id": "XccIh3nkZymd"
   },
   "outputs": [],
   "source": [
    "class ARD:\n",
    "  def __init__(self, *args):\n",
    "    self.members = list(args)\n",
    "\n",
    "  def add_member(self, linguist):\n",
    "    self.members.append(linguist)\n",
    "\n",
    "  def raise_salary(self, coef):\n",
    "    for linguist in self.members:\n",
    "      linguist.salary *= coef\n",
    "\n",
    "  def workEveryone(self, hour):\n",
    "    for linguist in self.members:\n",
    "      linguist.work(hour)"
   ]
  },
  {
   "cell_type": "code",
   "execution_count": 77,
   "metadata": {
    "colab": {
     "base_uri": "https://localhost:8080/"
    },
    "executionInfo": {
     "elapsed": 258,
     "status": "ok",
     "timestamp": 1663853811959,
     "user": {
      "displayName": "Alexandra Ivoylova",
      "userId": "06069991353189522669"
     },
     "user_tz": -180
    },
    "id": "a5DEm-QTabSC",
    "outputId": "40ad5dee-b7f9-443d-a092-81858b9b2da0"
   },
   "outputs": [
    {
     "name": "stdout",
     "output_type": "stream",
     "text": [
      "trying to set attr employee\n"
     ]
    }
   ],
   "source": [
    "ard = ARD(ivoylova, Linguist('Yakov', 'Testelets', 2))"
   ]
  },
  {
   "cell_type": "code",
   "execution_count": 78,
   "metadata": {
    "colab": {
     "base_uri": "https://localhost:8080/"
    },
    "executionInfo": {
     "elapsed": 269,
     "status": "ok",
     "timestamp": 1663853832346,
     "user": {
      "displayName": "Alexandra Ivoylova",
      "userId": "06069991353189522669"
     },
     "user_tz": -180
    },
    "id": "QsWXhgv6aoOY",
    "outputId": "9bbdfaa6-4a1d-4af1-a1ab-bf3f1ab83f7d"
   },
   "outputs": [
    {
     "name": "stdout",
     "output_type": "stream",
     "text": [
      "salary is called\n",
      "trying to set attr salary\n",
      "salary is called\n",
      "trying to set attr salary\n"
     ]
    }
   ],
   "source": [
    "ard.raise_salary(1.1)"
   ]
  },
  {
   "cell_type": "code",
   "execution_count": 79,
   "metadata": {
    "colab": {
     "base_uri": "https://localhost:8080/"
    },
    "executionInfo": {
     "elapsed": 1035,
     "status": "ok",
     "timestamp": 1663853844678,
     "user": {
      "displayName": "Alexandra Ivoylova",
      "userId": "06069991353189522669"
     },
     "user_tz": -180
    },
    "id": "FK7YWZWTar7X",
    "outputId": "1124ad23-c63f-4e52-d9ca-8e8ab06f8eab"
   },
   "outputs": [
    {
     "data": {
      "text/plain": [
       "577.5"
      ]
     },
     "execution_count": 79,
     "metadata": {},
     "output_type": "execute_result"
    }
   ],
   "source": [
    "ivoylova.salary"
   ]
  },
  {
   "cell_type": "code",
   "execution_count": 80,
   "metadata": {
    "executionInfo": {
     "elapsed": 272,
     "status": "ok",
     "timestamp": 1663854198823,
     "user": {
      "displayName": "Alexandra Ivoylova",
      "userId": "06069991353189522669"
     },
     "user_tz": -180
    },
    "id": "xwlhw1f8atGs"
   },
   "outputs": [],
   "source": [
    "class Wrapper:\n",
    "  def __init__(self, object):\n",
    "    self.wrapped = object\n",
    "  \n",
    "  def __getattr__(self, attr):\n",
    "    print(f'Big brother is watching you, here is your {attr}')\n",
    "    return getattr(self.wrapped, attr)"
   ]
  },
  {
   "cell_type": "code",
   "execution_count": 86,
   "metadata": {
    "executionInfo": {
     "elapsed": 272,
     "status": "ok",
     "timestamp": 1663854322512,
     "user": {
      "displayName": "Alexandra Ivoylova",
      "userId": "06069991353189522669"
     },
     "user_tz": -180
    },
    "id": "qemEw171cEpL"
   },
   "outputs": [],
   "source": [
    "w = Wrapper(gorbunova)"
   ]
  },
  {
   "cell_type": "code",
   "execution_count": 87,
   "metadata": {
    "colab": {
     "base_uri": "https://localhost:8080/",
     "height": 53
    },
    "executionInfo": {
     "elapsed": 7,
     "status": "ok",
     "timestamp": 1663854324138,
     "user": {
      "displayName": "Alexandra Ivoylova",
      "userId": "06069991353189522669"
     },
     "user_tz": -180
    },
    "id": "gz7KZDnpcUyv",
    "outputId": "24c5e08b-5dac-4426-e524-07f3af59f951"
   },
   "outputs": [
    {
     "name": "stdout",
     "output_type": "stream",
     "text": [
      "Big brother is watching you, here is your name\n"
     ]
    },
    {
     "data": {
      "application/vnd.google.colaboratory.intrinsic+json": {
       "type": "string"
      },
      "text/plain": [
       "'Ira'"
      ]
     },
     "execution_count": 87,
     "metadata": {},
     "output_type": "execute_result"
    }
   ],
   "source": [
    "w.name"
   ]
  },
  {
   "cell_type": "code",
   "execution_count": null,
   "metadata": {
    "id": "pqaAQTIncVbv"
   },
   "outputs": [],
   "source": []
  },
  {
   "cell_type": "markdown",
   "metadata": {
    "id": "K-c92w_beIMZ"
   },
   "source": [
    "Один большой отдел (ARD)\n",
    "\n",
    "3 подотдела: лингвисты, программисты, комплинг\n",
    "\n",
    "боссы\n",
    "\n",
    "у всех своя зарплата и методы работы\n",
    "\n",
    "босс получает заказы и делегирует сотрудникам\n",
    "\n",
    "логгинг (сообщения)"
   ]
  }
 ],
 "metadata": {
  "colab": {
   "authorship_tag": "ABX9TyNI0sN8/o77imjKjp56v/BN",
   "provenance": []
  },
  "kernelspec": {
   "display_name": "Python 3 (ipykernel)",
   "language": "python",
   "name": "python3"
  },
  "language_info": {
   "codemirror_mode": {
    "name": "ipython",
    "version": 3
   },
   "file_extension": ".py",
   "mimetype": "text/x-python",
   "name": "python",
   "nbconvert_exporter": "python",
   "pygments_lexer": "ipython3",
   "version": "3.9.12"
  }
 },
 "nbformat": 4,
 "nbformat_minor": 4
}
